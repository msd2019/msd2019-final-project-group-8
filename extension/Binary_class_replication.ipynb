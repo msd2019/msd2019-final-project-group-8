{
  "nbformat": 4,
  "nbformat_minor": 0,
  "metadata": {
    "colab": {
      "name": "Final Replication MSD.ipynb",
      "version": "0.3.2",
      "provenance": [],
      "collapsed_sections": [],
      "toc_visible": true
    },
    "language_info": {
      "codemirror_mode": {
        "name": "ipython",
        "version": 3
      },
      "file_extension": ".py",
      "mimetype": "text/x-python",
      "name": "python",
      "nbconvert_exporter": "python",
      "pygments_lexer": "ipython3",
      "version": "3.6.8"
    },
    "kernelspec": {
      "name": "python3",
      "display_name": "Python 3"
    },
    "accelerator": "TPU"
  },
  "cells": [
    {
      "cell_type": "code",
      "metadata": {
        "colab_type": "code",
        "id": "_1ki86DaRVLa",
        "colab": {}
      },
      "source": [
        "import pandas as pd"
      ],
      "execution_count": 0,
      "outputs": []
    },
    {
      "cell_type": "code",
      "metadata": {
        "colab_type": "code",
        "id": "hlMuOnSbu087",
        "colab": {}
      },
      "source": [
        "import numpy as np"
      ],
      "execution_count": 0,
      "outputs": []
    },
    {
      "cell_type": "code",
      "metadata": {
        "colab_type": "code",
        "id": "aa8OgM7Ou2aD",
        "outputId": "8b82e176-f906-4096-b693-d0e095b667a6",
        "colab": {
          "base_uri": "https://localhost:8080/",
          "height": 124
        }
      },
      "source": [
        "!pip install vaderSentiment"
      ],
      "execution_count": 3,
      "outputs": [
        {
          "output_type": "stream",
          "text": [
            "Collecting vaderSentiment\n",
            "\u001b[?25l  Downloading https://files.pythonhosted.org/packages/86/9e/c53e1fc61aac5ee490a6ac5e21b1ac04e55a7c2aba647bb8411c9aadf24e/vaderSentiment-3.2.1-py2.py3-none-any.whl (125kB)\n",
            "\u001b[K     |████████████████████████████████| 133kB 3.6MB/s \n",
            "\u001b[?25hInstalling collected packages: vaderSentiment\n",
            "Successfully installed vaderSentiment-3.2.1\n"
          ],
          "name": "stdout"
        }
      ]
    },
    {
      "cell_type": "code",
      "metadata": {
        "colab_type": "code",
        "id": "hegsHcg9u392",
        "colab": {}
      },
      "source": [
        "from sklearn.feature_extraction.text import CountVectorizer\n",
        "from sklearn.model_selection import train_test_split\n",
        "from sklearn.pipeline import make_pipeline\n",
        "from sklearn.linear_model import LogisticRegression\n",
        "from sklearn.model_selection import cross_val_score\n",
        "from sklearn.model_selection import GridSearchCV\n",
        "from sklearn.feature_extraction.text import TfidfVectorizer, TfidfTransformer\n",
        "import nltk\n",
        "import gensim\n",
        "from nltk.tokenize import sent_tokenize, word_tokenize \n",
        "from vaderSentiment.vaderSentiment import SentimentIntensityAnalyzer\n",
        "from scipy.sparse import hstack\n",
        "from sklearn.metrics import average_precision_score\n",
        "from sklearn.metrics import roc_auc_score\n",
        "from nltk import word_tokenize,sent_tokenize\n",
        "from gensim import corpora\n",
        "from sklearn.pipeline import Pipeline\n",
        "from sklearn.model_selection import cross_val_predict\n",
        "import matplotlib.pyplot as plt\n"
      ],
      "execution_count": 0,
      "outputs": []
    },
    {
      "cell_type": "markdown",
      "metadata": {
        "id": "miu3Uz6RBND8",
        "colab_type": "text"
      },
      "source": [
        "##Loading the data\n",
        "Converting multi-class data to a binary class data. We want to know when a tweet is hate-speech or not, we merge the other two classes since offensive content isn't always hate speech. The report elaborates more upon the choice of classes."
      ]
    },
    {
      "cell_type": "code",
      "metadata": {
        "colab_type": "code",
        "id": "uVNqjc-ku6gb",
        "colab": {}
      },
      "source": [
        "df_train = pd.read_csv(\"/content/labeled_data.csv\")[[\"tweet\",\"class\"]]\n",
        "\n",
        "df_train.loc[df_train['class'] == 2, 'class'] = 1"
      ],
      "execution_count": 0,
      "outputs": []
    },
    {
      "cell_type": "code",
      "metadata": {
        "colab_type": "code",
        "id": "kQCg7uAXu9-m",
        "outputId": "d144e244-609d-4677-9dc8-09705bac2594",
        "colab": {
          "base_uri": "https://localhost:8080/",
          "height": 202
        }
      },
      "source": [
        "df_train.head()\n"
      ],
      "execution_count": 6,
      "outputs": [
        {
          "output_type": "execute_result",
          "data": {
            "text/html": [
              "<div>\n",
              "<style scoped>\n",
              "    .dataframe tbody tr th:only-of-type {\n",
              "        vertical-align: middle;\n",
              "    }\n",
              "\n",
              "    .dataframe tbody tr th {\n",
              "        vertical-align: top;\n",
              "    }\n",
              "\n",
              "    .dataframe thead th {\n",
              "        text-align: right;\n",
              "    }\n",
              "</style>\n",
              "<table border=\"1\" class=\"dataframe\">\n",
              "  <thead>\n",
              "    <tr style=\"text-align: right;\">\n",
              "      <th></th>\n",
              "      <th>tweet</th>\n",
              "      <th>class</th>\n",
              "    </tr>\n",
              "  </thead>\n",
              "  <tbody>\n",
              "    <tr>\n",
              "      <th>0</th>\n",
              "      <td>!!! RT @mayasolovely: As a woman you shouldn't...</td>\n",
              "      <td>1</td>\n",
              "    </tr>\n",
              "    <tr>\n",
              "      <th>1</th>\n",
              "      <td>!!!!! RT @mleew17: boy dats cold...tyga dwn ba...</td>\n",
              "      <td>1</td>\n",
              "    </tr>\n",
              "    <tr>\n",
              "      <th>2</th>\n",
              "      <td>!!!!!!! RT @UrKindOfBrand Dawg!!!! RT @80sbaby...</td>\n",
              "      <td>1</td>\n",
              "    </tr>\n",
              "    <tr>\n",
              "      <th>3</th>\n",
              "      <td>!!!!!!!!! RT @C_G_Anderson: @viva_based she lo...</td>\n",
              "      <td>1</td>\n",
              "    </tr>\n",
              "    <tr>\n",
              "      <th>4</th>\n",
              "      <td>!!!!!!!!!!!!! RT @ShenikaRoberts: The shit you...</td>\n",
              "      <td>1</td>\n",
              "    </tr>\n",
              "  </tbody>\n",
              "</table>\n",
              "</div>"
            ],
            "text/plain": [
              "                                               tweet  class\n",
              "0  !!! RT @mayasolovely: As a woman you shouldn't...      1\n",
              "1  !!!!! RT @mleew17: boy dats cold...tyga dwn ba...      1\n",
              "2  !!!!!!! RT @UrKindOfBrand Dawg!!!! RT @80sbaby...      1\n",
              "3  !!!!!!!!! RT @C_G_Anderson: @viva_based she lo...      1\n",
              "4  !!!!!!!!!!!!! RT @ShenikaRoberts: The shit you...      1"
            ]
          },
          "metadata": {
            "tags": []
          },
          "execution_count": 6
        }
      ]
    },
    {
      "cell_type": "markdown",
      "metadata": {
        "id": "1reFkDIsEEHY",
        "colab_type": "text"
      },
      "source": [
        "##Taking equal data points of all classes\n"
      ]
    },
    {
      "cell_type": "code",
      "metadata": {
        "colab_type": "code",
        "id": "WIvrCqm7vBSy",
        "outputId": "137186ff-5a3e-4824-cfcd-e7f72eb5b0bf",
        "colab": {
          "base_uri": "https://localhost:8080/",
          "height": 35
        }
      },
      "source": [
        "X_train = df_train[df_train['class']==0][\"tweet\"]\n",
        "X__train = df_train[df_train['class']==1][\"tweet\"][:1000]\n",
        "X_train = X_train.append(X__train)\n",
        "y_train = df_train[df_train['class']==0][\"class\"]\n",
        "y_train = y_train.append(df_train[df_train['class']==1][\"class\"][:1000])\n",
        "\n",
        "len(X_train)"
      ],
      "execution_count": 7,
      "outputs": [
        {
          "output_type": "execute_result",
          "data": {
            "text/plain": [
              "2430"
            ]
          },
          "metadata": {
            "tags": []
          },
          "execution_count": 7
        }
      ]
    },
    {
      "cell_type": "code",
      "metadata": {
        "colab_type": "code",
        "id": "4pYhf1IKvMKl",
        "outputId": "aaa7eddd-0108-4e24-a9a2-ec318ee930ee",
        "colab": {
          "base_uri": "https://localhost:8080/",
          "height": 35
        }
      },
      "source": [
        "len(y_train)"
      ],
      "execution_count": 8,
      "outputs": [
        {
          "output_type": "execute_result",
          "data": {
            "text/plain": [
              "2430"
            ]
          },
          "metadata": {
            "tags": []
          },
          "execution_count": 8
        }
      ]
    },
    {
      "cell_type": "markdown",
      "metadata": {
        "colab_type": "text",
        "id": "0LdKty67vRGS"
      },
      "source": [
        "##Baseline model\n",
        "We choose a simple straight forward Count vector based regression model to establish a baseline\n"
      ]
    },
    {
      "cell_type": "code",
      "metadata": {
        "colab_type": "code",
        "id": "QmSjWYwovQaZ",
        "outputId": "43cced37-cec9-4aad-d5a2-94994c354b15",
        "colab": {
          "base_uri": "https://localhost:8080/",
          "height": 280
        }
      },
      "source": [
        "pipe  =  make_pipeline(CountVectorizer(),LogisticRegression(solver=\"sag\"))\n",
        "print(\"Cross val score on baseline model\")\n",
        "pipe.fit(X_train,y_train)\n",
        "print(np.mean(cross_val_score(pipe,X_train,y_train,cv=5,scoring=\"roc_auc\")))"
      ],
      "execution_count": 9,
      "outputs": [
        {
          "output_type": "stream",
          "text": [
            "Cross val score on baseline model\n"
          ],
          "name": "stdout"
        },
        {
          "output_type": "stream",
          "text": [
            "/usr/local/lib/python3.6/dist-packages/sklearn/linear_model/sag.py:334: ConvergenceWarning: The max_iter was reached which means the coef_ did not converge\n",
            "  \"the coef_ did not converge\", ConvergenceWarning)\n",
            "/usr/local/lib/python3.6/dist-packages/sklearn/linear_model/sag.py:334: ConvergenceWarning: The max_iter was reached which means the coef_ did not converge\n",
            "  \"the coef_ did not converge\", ConvergenceWarning)\n",
            "/usr/local/lib/python3.6/dist-packages/sklearn/linear_model/sag.py:334: ConvergenceWarning: The max_iter was reached which means the coef_ did not converge\n",
            "  \"the coef_ did not converge\", ConvergenceWarning)\n",
            "/usr/local/lib/python3.6/dist-packages/sklearn/linear_model/sag.py:334: ConvergenceWarning: The max_iter was reached which means the coef_ did not converge\n",
            "  \"the coef_ did not converge\", ConvergenceWarning)\n"
          ],
          "name": "stderr"
        },
        {
          "output_type": "stream",
          "text": [
            "0.8547849650349649\n"
          ],
          "name": "stdout"
        },
        {
          "output_type": "stream",
          "text": [
            "/usr/local/lib/python3.6/dist-packages/sklearn/linear_model/sag.py:334: ConvergenceWarning: The max_iter was reached which means the coef_ did not converge\n",
            "  \"the coef_ did not converge\", ConvergenceWarning)\n",
            "/usr/local/lib/python3.6/dist-packages/sklearn/linear_model/sag.py:334: ConvergenceWarning: The max_iter was reached which means the coef_ did not converge\n",
            "  \"the coef_ did not converge\", ConvergenceWarning)\n"
          ],
          "name": "stderr"
        }
      ]
    },
    {
      "cell_type": "markdown",
      "metadata": {
        "colab_type": "text",
        "id": "_7CO-FUPvbwV"
      },
      "source": [
        "##Re-implementing the paper\n",
        "\n",
        "In this part, we follow the steps mentioned in the paper about how to replicate the paper. "
      ]
    },
    {
      "cell_type": "markdown",
      "metadata": {
        "colab_type": "text",
        "id": "b6YM7zSGv44u"
      },
      "source": [
        "1. Lowercase\n",
        "2. Stem\n",
        "3. bigram, unigram, trigram features, weighted by its tfidf\n",
        "4. POS tag\n",
        "5. FK Grade level\n",
        "6. FK reading ease score\n",
        "7. sentiment scores\n",
        "\n",
        "8. binary indicators for: hashtags, mentions, retweets, urls\n",
        "9. count indicatiors for :hashtags, mentions, retweets, urls\n",
        "10. number of characters\n",
        "11. numbers of words\n",
        "12. number of syllables\n",
        "\n"
      ]
    },
    {
      "cell_type": "code",
      "metadata": {
        "colab_type": "code",
        "id": "H_0b2hH3Q2oZ",
        "outputId": "464ef738-c58a-4271-da59-2dcfa01294f5",
        "colab": {
          "base_uri": "https://localhost:8080/",
          "height": 52
        }
      },
      "source": [
        "nltk.download(\"stopwords\")\n",
        "from nltk.stem.porter import *"
      ],
      "execution_count": 10,
      "outputs": [
        {
          "output_type": "stream",
          "text": [
            "[nltk_data] Downloading package stopwords to /root/nltk_data...\n",
            "[nltk_data]   Unzipping corpora/stopwords.zip.\n"
          ],
          "name": "stdout"
        }
      ]
    },
    {
      "cell_type": "code",
      "metadata": {
        "colab_type": "code",
        "id": "1P0chojPvYqx",
        "colab": {}
      },
      "source": [
        "stopwords=stopwords = nltk.corpus.stopwords.words(\"english\")\n",
        "\n",
        "other_exclusions = [\"#ff\", \"ff\", \"rt\",\"RT\"]\n",
        "stopwords.extend(other_exclusions)\n",
        "\n",
        "stemmer = PorterStemmer()\n",
        "\n",
        "def preprocess(text_string):\n",
        "    \n",
        "    #Lowercase string\n",
        "    text_string=text_string.lower()\n",
        "    space_pattern = '\\s+'\n",
        "    giant_url_regex = ('http[s]?://(?:[a-zA-Z]|[0-9]|[$-_@.&+]|'\n",
        "        '[!*\\(\\),]|(?:%[0-9a-fA-F][0-9a-fA-F]))+')\n",
        "    mention_regex = '@[\\w\\-]+'\n",
        "    hashtag_regex = '#[\\w\\-]+'\n",
        "    parsed_text = re.sub(space_pattern, ' ', text_string)\n",
        "    parsed_text = re.sub(giant_url_regex, 'URLHERE', parsed_text)\n",
        "    parsed_text = re.sub(mention_regex, 'MENTIONHERE', parsed_text)\n",
        "    parsed_text = re.sub(hashtag_regex, 'HASHTAGHERE', parsed_text)\n",
        "    \n",
        "    #Stem it\n",
        "    tweet = \" \".join(re.split(\"[^a-zA-Z]*\", parsed_text)).strip()\n",
        "    tokens = [stemmer.stem(t) for t in tweet.split()]\n",
        "    return tokens\n",
        "  \n",
        "  \n",
        "def pos_tag_seq(tokens):\n",
        "    tags = nltk.pos_tag(tokens)\n",
        "    tag_list = [x[1] for x in tags]\n",
        "    tag_str = \" \".join(tag_list)\n",
        "    return tag_str\n",
        "  \n",
        "  "
      ],
      "execution_count": 0,
      "outputs": []
    },
    {
      "cell_type": "code",
      "metadata": {
        "colab_type": "code",
        "id": "BIwfyzsh9dEO",
        "colab": {}
      },
      "source": [
        "def join_sent(l):\n",
        "  return \" \".join(l)"
      ],
      "execution_count": 0,
      "outputs": []
    },
    {
      "cell_type": "code",
      "metadata": {
        "colab_type": "code",
        "id": "5jKGjGcaTYI3",
        "colab": {}
      },
      "source": [
        "df_train=pd.DataFrame(X_train)"
      ],
      "execution_count": 0,
      "outputs": []
    },
    {
      "cell_type": "code",
      "metadata": {
        "colab_type": "code",
        "id": "hVkColl0Ti5-",
        "colab": {}
      },
      "source": [
        "df_train.columns=[\"tweet\"]"
      ],
      "execution_count": 0,
      "outputs": []
    },
    {
      "cell_type": "code",
      "metadata": {
        "colab_type": "code",
        "id": "XBtZY8XbTqXU",
        "outputId": "87c59ef0-eec2-4e30-e2d7-077366f4f886",
        "colab": {
          "base_uri": "https://localhost:8080/",
          "height": 202
        }
      },
      "source": [
        "df_train.head()"
      ],
      "execution_count": 15,
      "outputs": [
        {
          "output_type": "execute_result",
          "data": {
            "text/html": [
              "<div>\n",
              "<style scoped>\n",
              "    .dataframe tbody tr th:only-of-type {\n",
              "        vertical-align: middle;\n",
              "    }\n",
              "\n",
              "    .dataframe tbody tr th {\n",
              "        vertical-align: top;\n",
              "    }\n",
              "\n",
              "    .dataframe thead th {\n",
              "        text-align: right;\n",
              "    }\n",
              "</style>\n",
              "<table border=\"1\" class=\"dataframe\">\n",
              "  <thead>\n",
              "    <tr style=\"text-align: right;\">\n",
              "      <th></th>\n",
              "      <th>tweet</th>\n",
              "    </tr>\n",
              "  </thead>\n",
              "  <tbody>\n",
              "    <tr>\n",
              "      <th>85</th>\n",
              "      <td>\"@Blackman38Tide: @WhaleLookyHere @HowdyDowdy1...</td>\n",
              "    </tr>\n",
              "    <tr>\n",
              "      <th>89</th>\n",
              "      <td>\"@CB_Baby24: @white_thunduh alsarabsss\" hes a ...</td>\n",
              "    </tr>\n",
              "    <tr>\n",
              "      <th>110</th>\n",
              "      <td>\"@DevilGrimz: @VigxRArts you're fucking gay, b...</td>\n",
              "    </tr>\n",
              "    <tr>\n",
              "      <th>184</th>\n",
              "      <td>\"@MarkRoundtreeJr: LMFAOOOO I HATE BLACK PEOPL...</td>\n",
              "    </tr>\n",
              "    <tr>\n",
              "      <th>202</th>\n",
              "      <td>\"@NoChillPaz: \"At least I'm not a nigger\" http...</td>\n",
              "    </tr>\n",
              "  </tbody>\n",
              "</table>\n",
              "</div>"
            ],
            "text/plain": [
              "                                                 tweet\n",
              "85   \"@Blackman38Tide: @WhaleLookyHere @HowdyDowdy1...\n",
              "89   \"@CB_Baby24: @white_thunduh alsarabsss\" hes a ...\n",
              "110  \"@DevilGrimz: @VigxRArts you're fucking gay, b...\n",
              "184  \"@MarkRoundtreeJr: LMFAOOOO I HATE BLACK PEOPL...\n",
              "202  \"@NoChillPaz: \"At least I'm not a nigger\" http..."
            ]
          },
          "metadata": {
            "tags": []
          },
          "execution_count": 15
        }
      ]
    },
    {
      "cell_type": "code",
      "metadata": {
        "colab_type": "code",
        "id": "mfiVVPJEQqPu",
        "outputId": "d5bdb76a-092f-48e9-cda3-7d587cfd8679",
        "colab": {
          "base_uri": "https://localhost:8080/",
          "height": 52
        }
      },
      "source": [
        "s_train=df_train['tweet'].apply(preprocess)"
      ],
      "execution_count": 16,
      "outputs": [
        {
          "output_type": "stream",
          "text": [
            "/usr/lib/python3.6/re.py:212: FutureWarning: split() requires a non-empty pattern match.\n",
            "  return _compile(pattern, flags).split(string, maxsplit)\n"
          ],
          "name": "stderr"
        }
      ]
    },
    {
      "cell_type": "code",
      "metadata": {
        "colab_type": "code",
        "id": "TUI-yrgjAVXb",
        "colab": {}
      },
      "source": [
        "s_tr=s_train.apply(join_sent)"
      ],
      "execution_count": 0,
      "outputs": []
    },
    {
      "cell_type": "code",
      "metadata": {
        "colab_type": "code",
        "id": "ontO83dNTWqp",
        "outputId": "acae89ac-c35e-4375-e19b-57aa68475d0f",
        "colab": {
          "base_uri": "https://localhost:8080/",
          "height": 69
        }
      },
      "source": [
        "nltk.download('averaged_perceptron_tagger')\n",
        "t_tr=s_train.apply(pos_tag_seq)"
      ],
      "execution_count": 18,
      "outputs": [
        {
          "output_type": "stream",
          "text": [
            "[nltk_data] Downloading package averaged_perceptron_tagger to\n",
            "[nltk_data]     /root/nltk_data...\n",
            "[nltk_data]   Unzipping taggers/averaged_perceptron_tagger.zip.\n"
          ],
          "name": "stdout"
        }
      ]
    },
    {
      "cell_type": "code",
      "metadata": {
        "colab_type": "code",
        "id": "fU316-WsTNwT",
        "colab": {}
      },
      "source": [
        "vectorizer = TfidfVectorizer(\n",
        "    preprocessor=None,\n",
        "    lowercase=False,\n",
        "    ngram_range=(1, 3),\n",
        "    use_idf=True,\n",
        "    smooth_idf=False,\n",
        "    norm=None,\n",
        "    stop_words=stopwords,\n",
        "    decode_error='replace',\n",
        "    max_features=10000,\n",
        "    min_df=5,\n",
        "    max_df=0.75\n",
        "    )"
      ],
      "execution_count": 0,
      "outputs": []
    },
    {
      "cell_type": "code",
      "metadata": {
        "colab_type": "code",
        "id": "-UdkR9MG-_Vc",
        "colab": {}
      },
      "source": [
        "pos_vectorizer = TfidfVectorizer(\n",
        "    tokenizer=None,\n",
        "    lowercase=False,\n",
        "    preprocessor=None,\n",
        "    ngram_range=(1, 3),\n",
        "    stop_words=None,\n",
        "    use_idf=False,\n",
        "    smooth_idf=False,\n",
        "    norm=None,\n",
        "    decode_error='replace',\n",
        "    max_features=5000,\n",
        "    min_df=5,\n",
        "    max_df=0.75,\n",
        "    )"
      ],
      "execution_count": 0,
      "outputs": []
    },
    {
      "cell_type": "code",
      "metadata": {
        "colab_type": "code",
        "id": "GjIbAPqGZ6sR",
        "colab": {}
      },
      "source": [
        "tfidf_tr = vectorizer.fit_transform(s_tr).toarray()\n",
        "\n",
        "vocab = {v:i for i, v in enumerate(vectorizer.get_feature_names())}\n",
        "idf_vals = vectorizer.idf_\n",
        "idf_dict = {i:idf_vals[i] for i in vocab.values()}"
      ],
      "execution_count": 0,
      "outputs": []
    },
    {
      "cell_type": "code",
      "metadata": {
        "colab_type": "code",
        "id": "6ElfB-H5A4eh",
        "colab": {}
      },
      "source": [
        "pos_tr = pos_vectorizer.fit_transform(t_tr).toarray()\n",
        "\n",
        "pos_vocab = {v:i for i, v in enumerate(pos_vectorizer.get_feature_names())}"
      ],
      "execution_count": 0,
      "outputs": []
    },
    {
      "cell_type": "code",
      "metadata": {
        "colab_type": "code",
        "id": "kTxPJAbQBBwj",
        "colab": {}
      },
      "source": [
        "from vaderSentiment.vaderSentiment import SentimentIntensityAnalyzer as VS\n",
        "sentiment_analyzer = VS()\n"
      ],
      "execution_count": 0,
      "outputs": []
    },
    {
      "cell_type": "code",
      "metadata": {
        "colab_type": "code",
        "id": "FH9l_ymsBVsi",
        "colab": {}
      },
      "source": [
        "def get_sentiment(text):\n",
        "  sentiment = sentiment_analyzer.polarity_scores(text)\n",
        "  return sentiment\n",
        "\n",
        "#   return sentiment[\"neg\"], sentiment[\"pos\"], sentiment[\"neu\"]"
      ],
      "execution_count": 0,
      "outputs": []
    },
    {
      "cell_type": "code",
      "metadata": {
        "colab_type": "code",
        "id": "xkes6ZUlBdun",
        "colab": {}
      },
      "source": [
        "df_train[\"sent\"]=df_train[\"tweet\"].apply(get_sentiment) "
      ],
      "execution_count": 0,
      "outputs": []
    },
    {
      "cell_type": "code",
      "metadata": {
        "colab_type": "code",
        "id": "CGdJcLFjFdi2",
        "outputId": "86963c23-7c3b-4bed-ba46-c03e480a78cf",
        "colab": {
          "base_uri": "https://localhost:8080/",
          "height": 202
        }
      },
      "source": [
        "df_train.head()"
      ],
      "execution_count": 26,
      "outputs": [
        {
          "output_type": "execute_result",
          "data": {
            "text/html": [
              "<div>\n",
              "<style scoped>\n",
              "    .dataframe tbody tr th:only-of-type {\n",
              "        vertical-align: middle;\n",
              "    }\n",
              "\n",
              "    .dataframe tbody tr th {\n",
              "        vertical-align: top;\n",
              "    }\n",
              "\n",
              "    .dataframe thead th {\n",
              "        text-align: right;\n",
              "    }\n",
              "</style>\n",
              "<table border=\"1\" class=\"dataframe\">\n",
              "  <thead>\n",
              "    <tr style=\"text-align: right;\">\n",
              "      <th></th>\n",
              "      <th>tweet</th>\n",
              "      <th>sent</th>\n",
              "    </tr>\n",
              "  </thead>\n",
              "  <tbody>\n",
              "    <tr>\n",
              "      <th>85</th>\n",
              "      <td>\"@Blackman38Tide: @WhaleLookyHere @HowdyDowdy1...</td>\n",
              "      <td>{'neg': 0.0, 'neu': 1.0, 'pos': 0.0, 'compound...</td>\n",
              "    </tr>\n",
              "    <tr>\n",
              "      <th>89</th>\n",
              "      <td>\"@CB_Baby24: @white_thunduh alsarabsss\" hes a ...</td>\n",
              "      <td>{'neg': 0.187, 'neu': 0.813, 'pos': 0.0, 'comp...</td>\n",
              "    </tr>\n",
              "    <tr>\n",
              "      <th>110</th>\n",
              "      <td>\"@DevilGrimz: @VigxRArts you're fucking gay, b...</td>\n",
              "      <td>{'neg': 0.0, 'neu': 1.0, 'pos': 0.0, 'compound...</td>\n",
              "    </tr>\n",
              "    <tr>\n",
              "      <th>184</th>\n",
              "      <td>\"@MarkRoundtreeJr: LMFAOOOO I HATE BLACK PEOPL...</td>\n",
              "      <td>{'neg': 0.254, 'neu': 0.746, 'pos': 0.0, 'comp...</td>\n",
              "    </tr>\n",
              "    <tr>\n",
              "      <th>202</th>\n",
              "      <td>\"@NoChillPaz: \"At least I'm not a nigger\" http...</td>\n",
              "      <td>{'neg': 0.232, 'neu': 0.488, 'pos': 0.28, 'com...</td>\n",
              "    </tr>\n",
              "  </tbody>\n",
              "</table>\n",
              "</div>"
            ],
            "text/plain": [
              "                                                 tweet  \\\n",
              "85   \"@Blackman38Tide: @WhaleLookyHere @HowdyDowdy1...   \n",
              "89   \"@CB_Baby24: @white_thunduh alsarabsss\" hes a ...   \n",
              "110  \"@DevilGrimz: @VigxRArts you're fucking gay, b...   \n",
              "184  \"@MarkRoundtreeJr: LMFAOOOO I HATE BLACK PEOPL...   \n",
              "202  \"@NoChillPaz: \"At least I'm not a nigger\" http...   \n",
              "\n",
              "                                                  sent  \n",
              "85   {'neg': 0.0, 'neu': 1.0, 'pos': 0.0, 'compound...  \n",
              "89   {'neg': 0.187, 'neu': 0.813, 'pos': 0.0, 'comp...  \n",
              "110  {'neg': 0.0, 'neu': 1.0, 'pos': 0.0, 'compound...  \n",
              "184  {'neg': 0.254, 'neu': 0.746, 'pos': 0.0, 'comp...  \n",
              "202  {'neg': 0.232, 'neu': 0.488, 'pos': 0.28, 'com...  "
            ]
          },
          "metadata": {
            "tags": []
          },
          "execution_count": 26
        }
      ]
    },
    {
      "cell_type": "code",
      "metadata": {
        "colab_type": "code",
        "id": "P6OWYD3IGfEb",
        "colab": {}
      },
      "source": [
        "foo_tr = lambda x: pd.Series([x[\"pos\"],x[\"neg\"],x[\"neu\"]])\n",
        "rev_tr = df_train['sent'].apply(foo_tr)\n"
      ],
      "execution_count": 0,
      "outputs": []
    },
    {
      "cell_type": "code",
      "metadata": {
        "colab_type": "code",
        "id": "zK52xDCsHGo8",
        "colab": {}
      },
      "source": [
        "rev_tr.columns=[\"pos\",\"neg\",\"neu\"]"
      ],
      "execution_count": 0,
      "outputs": []
    },
    {
      "cell_type": "code",
      "metadata": {
        "colab_type": "code",
        "id": "COsKHAimHIxF",
        "outputId": "a1e5b02c-76e8-4eef-c03e-e0dfe1d5c7ac",
        "colab": {
          "base_uri": "https://localhost:8080/",
          "height": 202
        }
      },
      "source": [
        "rev_tr.head()"
      ],
      "execution_count": 29,
      "outputs": [
        {
          "output_type": "execute_result",
          "data": {
            "text/html": [
              "<div>\n",
              "<style scoped>\n",
              "    .dataframe tbody tr th:only-of-type {\n",
              "        vertical-align: middle;\n",
              "    }\n",
              "\n",
              "    .dataframe tbody tr th {\n",
              "        vertical-align: top;\n",
              "    }\n",
              "\n",
              "    .dataframe thead th {\n",
              "        text-align: right;\n",
              "    }\n",
              "</style>\n",
              "<table border=\"1\" class=\"dataframe\">\n",
              "  <thead>\n",
              "    <tr style=\"text-align: right;\">\n",
              "      <th></th>\n",
              "      <th>pos</th>\n",
              "      <th>neg</th>\n",
              "      <th>neu</th>\n",
              "    </tr>\n",
              "  </thead>\n",
              "  <tbody>\n",
              "    <tr>\n",
              "      <th>85</th>\n",
              "      <td>0.00</td>\n",
              "      <td>0.000</td>\n",
              "      <td>1.000</td>\n",
              "    </tr>\n",
              "    <tr>\n",
              "      <th>89</th>\n",
              "      <td>0.00</td>\n",
              "      <td>0.187</td>\n",
              "      <td>0.813</td>\n",
              "    </tr>\n",
              "    <tr>\n",
              "      <th>110</th>\n",
              "      <td>0.00</td>\n",
              "      <td>0.000</td>\n",
              "      <td>1.000</td>\n",
              "    </tr>\n",
              "    <tr>\n",
              "      <th>184</th>\n",
              "      <td>0.00</td>\n",
              "      <td>0.254</td>\n",
              "      <td>0.746</td>\n",
              "    </tr>\n",
              "    <tr>\n",
              "      <th>202</th>\n",
              "      <td>0.28</td>\n",
              "      <td>0.232</td>\n",
              "      <td>0.488</td>\n",
              "    </tr>\n",
              "  </tbody>\n",
              "</table>\n",
              "</div>"
            ],
            "text/plain": [
              "      pos    neg    neu\n",
              "85   0.00  0.000  1.000\n",
              "89   0.00  0.187  0.813\n",
              "110  0.00  0.000  1.000\n",
              "184  0.00  0.254  0.746\n",
              "202  0.28  0.232  0.488"
            ]
          },
          "metadata": {
            "tags": []
          },
          "execution_count": 29
        }
      ]
    },
    {
      "cell_type": "markdown",
      "metadata": {
        "colab_type": "text",
        "id": "cYafNXGvIIVt"
      },
      "source": [
        "##Binary count for URL https mentions etc "
      ]
    },
    {
      "cell_type": "code",
      "metadata": {
        "colab_type": "code",
        "id": "ck29bhNNIMwy",
        "colab": {}
      },
      "source": [
        "def return_cont(parsed_text):\n",
        "  return(parsed_text.count('urlher'),parsed_text.count('mentionher'),parsed_text.count('hashtagher'))"
      ],
      "execution_count": 0,
      "outputs": []
    },
    {
      "cell_type": "code",
      "metadata": {
        "colab_type": "code",
        "id": "oWSXyarzIb_P",
        "colab": {}
      },
      "source": [
        "df_train[\"counts\"]=s_tr.apply(return_cont) "
      ],
      "execution_count": 0,
      "outputs": []
    },
    {
      "cell_type": "code",
      "metadata": {
        "colab_type": "code",
        "id": "YLa-ctKSJOYT",
        "outputId": "93bddf55-2760-412a-c0d6-50f49ad3bf79",
        "colab": {
          "base_uri": "https://localhost:8080/",
          "height": 121
        }
      },
      "source": [
        "df_train[\"counts\"].head()"
      ],
      "execution_count": 32,
      "outputs": [
        {
          "output_type": "execute_result",
          "data": {
            "text/plain": [
              "85     (0, 3, 0)\n",
              "89     (0, 2, 0)\n",
              "110    (1, 2, 1)\n",
              "184    (1, 1, 0)\n",
              "202    (1, 1, 0)\n",
              "Name: counts, dtype: object"
            ]
          },
          "metadata": {
            "tags": []
          },
          "execution_count": 32
        }
      ]
    },
    {
      "cell_type": "code",
      "metadata": {
        "colab_type": "code",
        "id": "Ak7gCgImJQlS",
        "colab": {}
      },
      "source": [
        "foo = lambda x: pd.Series([x[0],x[1],x[2]])\n",
        "mention_counts_tr = df_train['counts'].apply(foo)\n"
      ],
      "execution_count": 0,
      "outputs": []
    },
    {
      "cell_type": "code",
      "metadata": {
        "colab_type": "code",
        "id": "f_cIuZXbJuIA",
        "outputId": "b488069e-609e-4271-8c9a-1d0951df7f49",
        "colab": {
          "base_uri": "https://localhost:8080/",
          "height": 202
        }
      },
      "source": [
        "mention_counts_tr.head()"
      ],
      "execution_count": 34,
      "outputs": [
        {
          "output_type": "execute_result",
          "data": {
            "text/html": [
              "<div>\n",
              "<style scoped>\n",
              "    .dataframe tbody tr th:only-of-type {\n",
              "        vertical-align: middle;\n",
              "    }\n",
              "\n",
              "    .dataframe tbody tr th {\n",
              "        vertical-align: top;\n",
              "    }\n",
              "\n",
              "    .dataframe thead th {\n",
              "        text-align: right;\n",
              "    }\n",
              "</style>\n",
              "<table border=\"1\" class=\"dataframe\">\n",
              "  <thead>\n",
              "    <tr style=\"text-align: right;\">\n",
              "      <th></th>\n",
              "      <th>0</th>\n",
              "      <th>1</th>\n",
              "      <th>2</th>\n",
              "    </tr>\n",
              "  </thead>\n",
              "  <tbody>\n",
              "    <tr>\n",
              "      <th>85</th>\n",
              "      <td>0</td>\n",
              "      <td>3</td>\n",
              "      <td>0</td>\n",
              "    </tr>\n",
              "    <tr>\n",
              "      <th>89</th>\n",
              "      <td>0</td>\n",
              "      <td>2</td>\n",
              "      <td>0</td>\n",
              "    </tr>\n",
              "    <tr>\n",
              "      <th>110</th>\n",
              "      <td>1</td>\n",
              "      <td>2</td>\n",
              "      <td>1</td>\n",
              "    </tr>\n",
              "    <tr>\n",
              "      <th>184</th>\n",
              "      <td>1</td>\n",
              "      <td>1</td>\n",
              "      <td>0</td>\n",
              "    </tr>\n",
              "    <tr>\n",
              "      <th>202</th>\n",
              "      <td>1</td>\n",
              "      <td>1</td>\n",
              "      <td>0</td>\n",
              "    </tr>\n",
              "  </tbody>\n",
              "</table>\n",
              "</div>"
            ],
            "text/plain": [
              "     0  1  2\n",
              "85   0  3  0\n",
              "89   0  2  0\n",
              "110  1  2  1\n",
              "184  1  1  0\n",
              "202  1  1  0"
            ]
          },
          "metadata": {
            "tags": []
          },
          "execution_count": 34
        }
      ]
    },
    {
      "cell_type": "markdown",
      "metadata": {
        "colab_type": "text",
        "id": "mSIJb-4oJx0-"
      },
      "source": [
        "##FKRA and Flesch and number of syllables etc"
      ]
    },
    {
      "cell_type": "code",
      "metadata": {
        "colab_type": "code",
        "id": "yxCy5UqgObNJ",
        "outputId": "67bba990-0df5-48cf-93aa-adbf38a16235",
        "colab": {
          "base_uri": "https://localhost:8080/",
          "height": 193
        }
      },
      "source": [
        "!pip install textstat\n",
        "from textstat.textstat import *"
      ],
      "execution_count": 35,
      "outputs": [
        {
          "output_type": "stream",
          "text": [
            "Collecting textstat\n",
            "  Downloading https://files.pythonhosted.org/packages/66/73/97bb64c89d6f2b24be6ad76007823e19b4c32ed4d484420b3ec6892ac440/textstat-0.5.6-py3-none-any.whl\n",
            "Collecting repoze.lru (from textstat)\n",
            "  Downloading https://files.pythonhosted.org/packages/b0/30/6cc0c95f0b59ad4b3b9163bff7cdcf793cc96fac64cf398ff26271f5cf5e/repoze.lru-0.7-py3-none-any.whl\n",
            "Collecting pyphen (from textstat)\n",
            "\u001b[?25l  Downloading https://files.pythonhosted.org/packages/15/82/08a3629dce8d1f3d91db843bb36d4d7db6b6269d5067259613a0d5c8a9db/Pyphen-0.9.5-py2.py3-none-any.whl (3.0MB)\n",
            "\u001b[K     |████████████████████████████████| 3.0MB 5.0MB/s \n",
            "\u001b[?25hInstalling collected packages: repoze.lru, pyphen, textstat\n",
            "Successfully installed pyphen-0.9.5 repoze.lru-0.7 textstat-0.5.6\n"
          ],
          "name": "stdout"
        }
      ]
    },
    {
      "cell_type": "code",
      "metadata": {
        "colab_type": "code",
        "id": "H1LY6enHJwdr",
        "colab": {}
      },
      "source": [
        "def get_other_features(text):\n",
        "    space_pattern = '\\s+'\n",
        "    giant_url_regex = ('http[s]?://(?:[a-zA-Z]|[0-9]|[$-_@.&+]|'\n",
        "        '[!*\\(\\),]|(?:%[0-9a-fA-F][0-9a-fA-F]))+')\n",
        "    mention_regex = '@[\\w\\-]+'\n",
        "    parsed_text = re.sub(space_pattern, ' ', text)\n",
        "    parsed_text = re.sub(giant_url_regex, '', parsed_text)\n",
        "    words = re.sub(mention_regex, '', parsed_text)\n",
        "    \n",
        "    syllables = textstat.syllable_count(words)\n",
        "    num_chars = sum(len(w) for w in words)\n",
        "    num_chars_total = len(text)\n",
        "    num_terms = len(text.split())\n",
        "    num_words = len(words.split())\n",
        "    avg_syl = round(float((syllables+0.001))/float(num_words+0.001),4)\n",
        "    num_unique_terms = len(set(words.split()))\n",
        "    \n",
        "    ###Modified FK grade, where avg words per sentence is just num words/1\n",
        "    FKRA = round(float(0.39 * float(num_words)/1.0) + float(11.8 * avg_syl) - 15.59,1)\n",
        "    ##Modified FRE score, where sentence fixed to 1\n",
        "    FRE = round(206.835 - 1.015*(float(num_words)/1.0) - (84.6*float(avg_syl)),2)\n",
        "    \n",
        "    features = [FKRA, FRE,syllables, avg_syl, num_chars, num_terms, num_words,\n",
        "                num_unique_terms]\n",
        "    return features\n",
        "    \n",
        "  "
      ],
      "execution_count": 0,
      "outputs": []
    },
    {
      "cell_type": "code",
      "metadata": {
        "colab_type": "code",
        "id": "Lq_5yJArONvX",
        "colab": {}
      },
      "source": [
        "other_feats_tr=df_train[\"tweet\"].apply(get_other_features)"
      ],
      "execution_count": 0,
      "outputs": []
    },
    {
      "cell_type": "code",
      "metadata": {
        "colab_type": "code",
        "id": "2jUZJA9-OSgq",
        "outputId": "888dcf04-dc32-405b-94a7-9a0b5c190597",
        "colab": {
          "base_uri": "https://localhost:8080/",
          "height": 121
        }
      },
      "source": [
        "other_feats_tr.head()"
      ],
      "execution_count": 38,
      "outputs": [
        {
          "output_type": "execute_result",
          "data": {
            "text/plain": [
              "85         [9.2, 34.62, 6, 1.9997, 18, 5, 3, 3]\n",
              "89        [6.8, 67.76, 18, 1.5, 59, 13, 12, 10]\n",
              "110    [9.1, 49.55, 19, 1.7272, 76, 13, 11, 11]\n",
              "184    [5.2, 84.46, 19, 1.2666, 78, 15, 15, 15]\n",
              "202        [2.3, 94.3, 11, 1.2222, 38, 9, 9, 9]\n",
              "Name: tweet, dtype: object"
            ]
          },
          "metadata": {
            "tags": []
          },
          "execution_count": 38
        }
      ]
    },
    {
      "cell_type": "code",
      "metadata": {
        "colab_type": "code",
        "id": "H-gNv_dIO1d2",
        "colab": {}
      },
      "source": [
        "other_features_names = [\"FKRA\", \"FRE\",\"num_syllables\", \"avg_syl_per_word\", \"num_chars\",\"num_terms\", \"num_words\", \"num_unique_words\"]"
      ],
      "execution_count": 0,
      "outputs": []
    },
    {
      "cell_type": "code",
      "metadata": {
        "colab_type": "code",
        "id": "G3VYN6oeWU6H",
        "colab": {}
      },
      "source": [
        "foo = lambda x: pd.Series(elem for elem in x)\n",
        "of_counts_tr = other_feats_tr.apply(foo)"
      ],
      "execution_count": 0,
      "outputs": []
    },
    {
      "cell_type": "code",
      "metadata": {
        "colab_type": "code",
        "id": "Rz-96sBOWlgK",
        "outputId": "f7451240-2845-48b5-cbbe-959a0971a09f",
        "colab": {
          "base_uri": "https://localhost:8080/",
          "height": 202
        }
      },
      "source": [
        "of_counts_tr.head()"
      ],
      "execution_count": 41,
      "outputs": [
        {
          "output_type": "execute_result",
          "data": {
            "text/html": [
              "<div>\n",
              "<style scoped>\n",
              "    .dataframe tbody tr th:only-of-type {\n",
              "        vertical-align: middle;\n",
              "    }\n",
              "\n",
              "    .dataframe tbody tr th {\n",
              "        vertical-align: top;\n",
              "    }\n",
              "\n",
              "    .dataframe thead th {\n",
              "        text-align: right;\n",
              "    }\n",
              "</style>\n",
              "<table border=\"1\" class=\"dataframe\">\n",
              "  <thead>\n",
              "    <tr style=\"text-align: right;\">\n",
              "      <th></th>\n",
              "      <th>0</th>\n",
              "      <th>1</th>\n",
              "      <th>2</th>\n",
              "      <th>3</th>\n",
              "      <th>4</th>\n",
              "      <th>5</th>\n",
              "      <th>6</th>\n",
              "      <th>7</th>\n",
              "    </tr>\n",
              "  </thead>\n",
              "  <tbody>\n",
              "    <tr>\n",
              "      <th>85</th>\n",
              "      <td>9.2</td>\n",
              "      <td>34.62</td>\n",
              "      <td>6.0</td>\n",
              "      <td>1.9997</td>\n",
              "      <td>18.0</td>\n",
              "      <td>5.0</td>\n",
              "      <td>3.0</td>\n",
              "      <td>3.0</td>\n",
              "    </tr>\n",
              "    <tr>\n",
              "      <th>89</th>\n",
              "      <td>6.8</td>\n",
              "      <td>67.76</td>\n",
              "      <td>18.0</td>\n",
              "      <td>1.5000</td>\n",
              "      <td>59.0</td>\n",
              "      <td>13.0</td>\n",
              "      <td>12.0</td>\n",
              "      <td>10.0</td>\n",
              "    </tr>\n",
              "    <tr>\n",
              "      <th>110</th>\n",
              "      <td>9.1</td>\n",
              "      <td>49.55</td>\n",
              "      <td>19.0</td>\n",
              "      <td>1.7272</td>\n",
              "      <td>76.0</td>\n",
              "      <td>13.0</td>\n",
              "      <td>11.0</td>\n",
              "      <td>11.0</td>\n",
              "    </tr>\n",
              "    <tr>\n",
              "      <th>184</th>\n",
              "      <td>5.2</td>\n",
              "      <td>84.46</td>\n",
              "      <td>19.0</td>\n",
              "      <td>1.2666</td>\n",
              "      <td>78.0</td>\n",
              "      <td>15.0</td>\n",
              "      <td>15.0</td>\n",
              "      <td>15.0</td>\n",
              "    </tr>\n",
              "    <tr>\n",
              "      <th>202</th>\n",
              "      <td>2.3</td>\n",
              "      <td>94.30</td>\n",
              "      <td>11.0</td>\n",
              "      <td>1.2222</td>\n",
              "      <td>38.0</td>\n",
              "      <td>9.0</td>\n",
              "      <td>9.0</td>\n",
              "      <td>9.0</td>\n",
              "    </tr>\n",
              "  </tbody>\n",
              "</table>\n",
              "</div>"
            ],
            "text/plain": [
              "       0      1     2       3     4     5     6     7\n",
              "85   9.2  34.62   6.0  1.9997  18.0   5.0   3.0   3.0\n",
              "89   6.8  67.76  18.0  1.5000  59.0  13.0  12.0  10.0\n",
              "110  9.1  49.55  19.0  1.7272  76.0  13.0  11.0  11.0\n",
              "184  5.2  84.46  19.0  1.2666  78.0  15.0  15.0  15.0\n",
              "202  2.3  94.30  11.0  1.2222  38.0   9.0   9.0   9.0"
            ]
          },
          "metadata": {
            "tags": []
          },
          "execution_count": 41
        }
      ]
    },
    {
      "cell_type": "code",
      "metadata": {
        "colab_type": "code",
        "id": "8N_fFXxtPzIu",
        "colab": {}
      },
      "source": [
        "of_counts_tr.columns=other_features_names"
      ],
      "execution_count": 0,
      "outputs": []
    },
    {
      "cell_type": "code",
      "metadata": {
        "colab_type": "code",
        "id": "yp8nF10nWDxv",
        "outputId": "9211dd94-c841-4f3e-8e82-46a184326ae0",
        "colab": {
          "base_uri": "https://localhost:8080/",
          "height": 202
        }
      },
      "source": [
        "of_counts_tr.head()"
      ],
      "execution_count": 43,
      "outputs": [
        {
          "output_type": "execute_result",
          "data": {
            "text/html": [
              "<div>\n",
              "<style scoped>\n",
              "    .dataframe tbody tr th:only-of-type {\n",
              "        vertical-align: middle;\n",
              "    }\n",
              "\n",
              "    .dataframe tbody tr th {\n",
              "        vertical-align: top;\n",
              "    }\n",
              "\n",
              "    .dataframe thead th {\n",
              "        text-align: right;\n",
              "    }\n",
              "</style>\n",
              "<table border=\"1\" class=\"dataframe\">\n",
              "  <thead>\n",
              "    <tr style=\"text-align: right;\">\n",
              "      <th></th>\n",
              "      <th>FKRA</th>\n",
              "      <th>FRE</th>\n",
              "      <th>num_syllables</th>\n",
              "      <th>avg_syl_per_word</th>\n",
              "      <th>num_chars</th>\n",
              "      <th>num_terms</th>\n",
              "      <th>num_words</th>\n",
              "      <th>num_unique_words</th>\n",
              "    </tr>\n",
              "  </thead>\n",
              "  <tbody>\n",
              "    <tr>\n",
              "      <th>85</th>\n",
              "      <td>9.2</td>\n",
              "      <td>34.62</td>\n",
              "      <td>6.0</td>\n",
              "      <td>1.9997</td>\n",
              "      <td>18.0</td>\n",
              "      <td>5.0</td>\n",
              "      <td>3.0</td>\n",
              "      <td>3.0</td>\n",
              "    </tr>\n",
              "    <tr>\n",
              "      <th>89</th>\n",
              "      <td>6.8</td>\n",
              "      <td>67.76</td>\n",
              "      <td>18.0</td>\n",
              "      <td>1.5000</td>\n",
              "      <td>59.0</td>\n",
              "      <td>13.0</td>\n",
              "      <td>12.0</td>\n",
              "      <td>10.0</td>\n",
              "    </tr>\n",
              "    <tr>\n",
              "      <th>110</th>\n",
              "      <td>9.1</td>\n",
              "      <td>49.55</td>\n",
              "      <td>19.0</td>\n",
              "      <td>1.7272</td>\n",
              "      <td>76.0</td>\n",
              "      <td>13.0</td>\n",
              "      <td>11.0</td>\n",
              "      <td>11.0</td>\n",
              "    </tr>\n",
              "    <tr>\n",
              "      <th>184</th>\n",
              "      <td>5.2</td>\n",
              "      <td>84.46</td>\n",
              "      <td>19.0</td>\n",
              "      <td>1.2666</td>\n",
              "      <td>78.0</td>\n",
              "      <td>15.0</td>\n",
              "      <td>15.0</td>\n",
              "      <td>15.0</td>\n",
              "    </tr>\n",
              "    <tr>\n",
              "      <th>202</th>\n",
              "      <td>2.3</td>\n",
              "      <td>94.30</td>\n",
              "      <td>11.0</td>\n",
              "      <td>1.2222</td>\n",
              "      <td>38.0</td>\n",
              "      <td>9.0</td>\n",
              "      <td>9.0</td>\n",
              "      <td>9.0</td>\n",
              "    </tr>\n",
              "  </tbody>\n",
              "</table>\n",
              "</div>"
            ],
            "text/plain": [
              "     FKRA    FRE  num_syllables  avg_syl_per_word  num_chars  num_terms  \\\n",
              "85    9.2  34.62            6.0            1.9997       18.0        5.0   \n",
              "89    6.8  67.76           18.0            1.5000       59.0       13.0   \n",
              "110   9.1  49.55           19.0            1.7272       76.0       13.0   \n",
              "184   5.2  84.46           19.0            1.2666       78.0       15.0   \n",
              "202   2.3  94.30           11.0            1.2222       38.0        9.0   \n",
              "\n",
              "     num_words  num_unique_words  \n",
              "85         3.0               3.0  \n",
              "89        12.0              10.0  \n",
              "110       11.0              11.0  \n",
              "184       15.0              15.0  \n",
              "202        9.0               9.0  "
            ]
          },
          "metadata": {
            "tags": []
          },
          "execution_count": 43
        }
      ]
    },
    {
      "cell_type": "code",
      "metadata": {
        "colab_type": "code",
        "id": "OLdSjcJ7P9SH",
        "outputId": "87e8be5c-995c-477d-98f3-e521fccd1252",
        "colab": {
          "base_uri": "https://localhost:8080/",
          "height": 1949
        }
      },
      "source": [
        "#Removing unnecessary columns\n",
        "df_train.drop([ \"sent\",\"counts\"], axis=1)"
      ],
      "execution_count": 44,
      "outputs": [
        {
          "output_type": "execute_result",
          "data": {
            "text/html": [
              "<div>\n",
              "<style scoped>\n",
              "    .dataframe tbody tr th:only-of-type {\n",
              "        vertical-align: middle;\n",
              "    }\n",
              "\n",
              "    .dataframe tbody tr th {\n",
              "        vertical-align: top;\n",
              "    }\n",
              "\n",
              "    .dataframe thead th {\n",
              "        text-align: right;\n",
              "    }\n",
              "</style>\n",
              "<table border=\"1\" class=\"dataframe\">\n",
              "  <thead>\n",
              "    <tr style=\"text-align: right;\">\n",
              "      <th></th>\n",
              "      <th>tweet</th>\n",
              "    </tr>\n",
              "  </thead>\n",
              "  <tbody>\n",
              "    <tr>\n",
              "      <th>85</th>\n",
              "      <td>\"@Blackman38Tide: @WhaleLookyHere @HowdyDowdy1...</td>\n",
              "    </tr>\n",
              "    <tr>\n",
              "      <th>89</th>\n",
              "      <td>\"@CB_Baby24: @white_thunduh alsarabsss\" hes a ...</td>\n",
              "    </tr>\n",
              "    <tr>\n",
              "      <th>110</th>\n",
              "      <td>\"@DevilGrimz: @VigxRArts you're fucking gay, b...</td>\n",
              "    </tr>\n",
              "    <tr>\n",
              "      <th>184</th>\n",
              "      <td>\"@MarkRoundtreeJr: LMFAOOOO I HATE BLACK PEOPL...</td>\n",
              "    </tr>\n",
              "    <tr>\n",
              "      <th>202</th>\n",
              "      <td>\"@NoChillPaz: \"At least I'm not a nigger\" http...</td>\n",
              "    </tr>\n",
              "    <tr>\n",
              "      <th>204</th>\n",
              "      <td>\"@NotoriousBM95: @_WhitePonyJr_ Ariza is a sna...</td>\n",
              "    </tr>\n",
              "    <tr>\n",
              "      <th>219</th>\n",
              "      <td>\"@RTNBA: Drakes new shoes that will be release...</td>\n",
              "    </tr>\n",
              "    <tr>\n",
              "      <th>260</th>\n",
              "      <td>\"@TheoMaxximus: #GerrysHalloweenParty http://t...</td>\n",
              "    </tr>\n",
              "    <tr>\n",
              "      <th>312</th>\n",
              "      <td>\"@ashlingwilde: @ItsNotAdam is bored supposed ...</td>\n",
              "    </tr>\n",
              "    <tr>\n",
              "      <th>315</th>\n",
              "      <td>\"@bigbootybishopp: @white_thunduh lassen cc , ...</td>\n",
              "    </tr>\n",
              "    <tr>\n",
              "      <th>349</th>\n",
              "      <td>\"@jayswaggkillah: Jackies a retard #blondeprob...</td>\n",
              "    </tr>\n",
              "    <tr>\n",
              "      <th>352</th>\n",
              "      <td>\"@jgabsss: Stacey Dash won &amp;#128166; http://t....</td>\n",
              "    </tr>\n",
              "    <tr>\n",
              "      <th>437</th>\n",
              "      <td>\"Don't worry about the nigga you see, worry ab...</td>\n",
              "    </tr>\n",
              "    <tr>\n",
              "      <th>459</th>\n",
              "      <td>\"Hey go look at that video of the man that fou...</td>\n",
              "    </tr>\n",
              "    <tr>\n",
              "      <th>519</th>\n",
              "      <td>\"Let's kill cracker babies!\". WTF did I just h...</td>\n",
              "    </tr>\n",
              "    <tr>\n",
              "      <th>526</th>\n",
              "      <td>\"My grandma used to call me a porch monkey all...</td>\n",
              "    </tr>\n",
              "    <tr>\n",
              "      <th>531</th>\n",
              "      <td>\"Nah its You @NoMeek_JustMilz: &amp;#128514;&amp;#1285...</td>\n",
              "    </tr>\n",
              "    <tr>\n",
              "      <th>540</th>\n",
              "      <td>\"Our people\". Now is the time for the Aryan ra...</td>\n",
              "    </tr>\n",
              "    <tr>\n",
              "      <th>565</th>\n",
              "      <td>\"These sour apple bitter bitches, I'm not fuck...</td>\n",
              "    </tr>\n",
              "    <tr>\n",
              "      <th>582</th>\n",
              "      <td>\"We hate niggers, we hate faggots and we hate ...</td>\n",
              "    </tr>\n",
              "    <tr>\n",
              "      <th>583</th>\n",
              "      <td>\"We're out here, and we're queer!\"\\n\" 2, 4, 6,...</td>\n",
              "    </tr>\n",
              "    <tr>\n",
              "      <th>587</th>\n",
              "      <td>\"Who the fuck you callin jiggaboo, nigga?!\"</td>\n",
              "    </tr>\n",
              "    <tr>\n",
              "      <th>588</th>\n",
              "      <td>\"Why people think gay marriage is okay is beyo...</td>\n",
              "    </tr>\n",
              "    <tr>\n",
              "      <th>603</th>\n",
              "      <td>\"You ain't gunna do shit spear chucker\"</td>\n",
              "    </tr>\n",
              "    <tr>\n",
              "      <th>614</th>\n",
              "      <td>\"You ol trout mouth ass bitch\" \\nDEEEEAAAADD</td>\n",
              "    </tr>\n",
              "    <tr>\n",
              "      <th>625</th>\n",
              "      <td>\"ayo i even kill handicapped and crippled bitc...</td>\n",
              "    </tr>\n",
              "    <tr>\n",
              "      <th>635</th>\n",
              "      <td>\"fuck you you pussy ass hater go suck a dick a...</td>\n",
              "    </tr>\n",
              "    <tr>\n",
              "      <th>646</th>\n",
              "      <td>\"on my way to fuck your bitch in the name of T...</td>\n",
              "    </tr>\n",
              "    <tr>\n",
              "      <th>647</th>\n",
              "      <td>\"poor whitey\" http://t.co/3UkKeyznz8</td>\n",
              "    </tr>\n",
              "    <tr>\n",
              "      <th>663</th>\n",
              "      <td>#AZmonsoon lot of rain, too bad it wasn't enou...</td>\n",
              "    </tr>\n",
              "    <tr>\n",
              "      <th>...</th>\n",
              "      <td>...</td>\n",
              "    </tr>\n",
              "    <tr>\n",
              "      <th>1027</th>\n",
              "      <td>&amp;#128543; &amp;#8220;@DubPeeWorld: So the new wave...</td>\n",
              "    </tr>\n",
              "    <tr>\n",
              "      <th>1028</th>\n",
              "      <td>&amp;#128553; cunt</td>\n",
              "    </tr>\n",
              "    <tr>\n",
              "      <th>1029</th>\n",
              "      <td>&amp;#128553; monkey mad</td>\n",
              "    </tr>\n",
              "    <tr>\n",
              "      <th>1030</th>\n",
              "      <td>&amp;#128553;&amp;#128514; RT @willieBEAMINN: @_VinChi...</td>\n",
              "    </tr>\n",
              "    <tr>\n",
              "      <th>1031</th>\n",
              "      <td>&amp;#128553;&amp;#128553;&amp;#128514; damn roaches got d...</td>\n",
              "    </tr>\n",
              "    <tr>\n",
              "      <th>1032</th>\n",
              "      <td>&amp;#128553;&amp;#128553;&amp;#128514;&amp;#128557;&amp;#128557; ...</td>\n",
              "    </tr>\n",
              "    <tr>\n",
              "      <th>1033</th>\n",
              "      <td>&amp;#128553;&amp;#128557; RT @Freegeezy17: My Co work...</td>\n",
              "    </tr>\n",
              "    <tr>\n",
              "      <th>1034</th>\n",
              "      <td>&amp;#128553;&amp;#128557; RT @KingHov1313: Fox8 got d...</td>\n",
              "    </tr>\n",
              "    <tr>\n",
              "      <th>1035</th>\n",
              "      <td>&amp;#128555;&amp;#128555;&amp;#128555;&amp;#128555;&amp;#128555;&amp;...</td>\n",
              "    </tr>\n",
              "    <tr>\n",
              "      <th>1036</th>\n",
              "      <td>&amp;#128555;ugly bitches get no love</td>\n",
              "    </tr>\n",
              "    <tr>\n",
              "      <th>1037</th>\n",
              "      <td>&amp;#128557; RT @KingHov1313: I be thinkin Errbod...</td>\n",
              "    </tr>\n",
              "    <tr>\n",
              "      <th>1038</th>\n",
              "      <td>&amp;#128557; RT @That_Mclovin: &amp;#8220;Yass bitch ...</td>\n",
              "    </tr>\n",
              "    <tr>\n",
              "      <th>1039</th>\n",
              "      <td>&amp;#128557; RT @TrashAssTweets: When you wake up...</td>\n",
              "    </tr>\n",
              "    <tr>\n",
              "      <th>1040</th>\n",
              "      <td>&amp;#128557; RT @red_daddy17: But wait if he got ...</td>\n",
              "    </tr>\n",
              "    <tr>\n",
              "      <th>1041</th>\n",
              "      <td>&amp;#128557;&amp;#128557; &amp;#8220;@_____AL: Y'all be t...</td>\n",
              "    </tr>\n",
              "    <tr>\n",
              "      <th>1042</th>\n",
              "      <td>&amp;#128557;&amp;#128557; RT @KingHorseDick: Welp RT ...</td>\n",
              "    </tr>\n",
              "    <tr>\n",
              "      <th>1043</th>\n",
              "      <td>&amp;#128557;&amp;#128557; RT @KingHov1313: Niggaz get...</td>\n",
              "    </tr>\n",
              "    <tr>\n",
              "      <th>1044</th>\n",
              "      <td>&amp;#128557;&amp;#128557;&amp;#128557; Foh RT @MizzCreme:...</td>\n",
              "    </tr>\n",
              "    <tr>\n",
              "      <th>1045</th>\n",
              "      <td>&amp;#128557;&amp;#128557;&amp;#128557; RT @EsckmoTrent: I...</td>\n",
              "    </tr>\n",
              "    <tr>\n",
              "      <th>1046</th>\n",
              "      <td>&amp;#128557;&amp;#128557;&amp;#128557; RT @VineForTheByrd...</td>\n",
              "    </tr>\n",
              "    <tr>\n",
              "      <th>1047</th>\n",
              "      <td>&amp;#128557;&amp;#128557;&amp;#128557; RT @tryna_be_famou...</td>\n",
              "    </tr>\n",
              "    <tr>\n",
              "      <th>1048</th>\n",
              "      <td>&amp;#128557;&amp;#128557;&amp;#128557;&amp;#128530; RT @KingH...</td>\n",
              "    </tr>\n",
              "    <tr>\n",
              "      <th>1049</th>\n",
              "      <td>&amp;#128557;&amp;#128557;&amp;#128557;&amp;#128557;&amp;#128557;&amp;...</td>\n",
              "    </tr>\n",
              "    <tr>\n",
              "      <th>1050</th>\n",
              "      <td>&amp;#128561;that bitch is from Moreno Valley........</td>\n",
              "    </tr>\n",
              "    <tr>\n",
              "      <th>1052</th>\n",
              "      <td>&amp;#128563; RT @Pr3ttyN33: &amp;#8220;@11wdNICK: I t...</td>\n",
              "    </tr>\n",
              "    <tr>\n",
              "      <th>1053</th>\n",
              "      <td>&amp;#128563; RT @UBoyRock17: &amp;#128557;&amp;#128557;&amp;#...</td>\n",
              "    </tr>\n",
              "    <tr>\n",
              "      <th>1054</th>\n",
              "      <td>&amp;#128563; RT @ariluvsall: Niccas y'all need li...</td>\n",
              "    </tr>\n",
              "    <tr>\n",
              "      <th>1055</th>\n",
              "      <td>&amp;#128563;&amp;#128563;&amp;#128563; RT @winterlove___:...</td>\n",
              "    </tr>\n",
              "    <tr>\n",
              "      <th>1056</th>\n",
              "      <td>&amp;#128563;Oh this bitch Midy must be crazy http...</td>\n",
              "    </tr>\n",
              "    <tr>\n",
              "      <th>1057</th>\n",
              "      <td>&amp;#128563;well damn.. RT @JackTheJokster: When ...</td>\n",
              "    </tr>\n",
              "  </tbody>\n",
              "</table>\n",
              "<p>2430 rows × 1 columns</p>\n",
              "</div>"
            ],
            "text/plain": [
              "                                                  tweet\n",
              "85    \"@Blackman38Tide: @WhaleLookyHere @HowdyDowdy1...\n",
              "89    \"@CB_Baby24: @white_thunduh alsarabsss\" hes a ...\n",
              "110   \"@DevilGrimz: @VigxRArts you're fucking gay, b...\n",
              "184   \"@MarkRoundtreeJr: LMFAOOOO I HATE BLACK PEOPL...\n",
              "202   \"@NoChillPaz: \"At least I'm not a nigger\" http...\n",
              "204   \"@NotoriousBM95: @_WhitePonyJr_ Ariza is a sna...\n",
              "219   \"@RTNBA: Drakes new shoes that will be release...\n",
              "260   \"@TheoMaxximus: #GerrysHalloweenParty http://t...\n",
              "312   \"@ashlingwilde: @ItsNotAdam is bored supposed ...\n",
              "315   \"@bigbootybishopp: @white_thunduh lassen cc , ...\n",
              "349   \"@jayswaggkillah: Jackies a retard #blondeprob...\n",
              "352   \"@jgabsss: Stacey Dash won &#128166; http://t....\n",
              "437   \"Don't worry about the nigga you see, worry ab...\n",
              "459   \"Hey go look at that video of the man that fou...\n",
              "519   \"Let's kill cracker babies!\". WTF did I just h...\n",
              "526   \"My grandma used to call me a porch monkey all...\n",
              "531   \"Nah its You @NoMeek_JustMilz: &#128514;&#1285...\n",
              "540   \"Our people\". Now is the time for the Aryan ra...\n",
              "565   \"These sour apple bitter bitches, I'm not fuck...\n",
              "582   \"We hate niggers, we hate faggots and we hate ...\n",
              "583   \"We're out here, and we're queer!\"\\n\" 2, 4, 6,...\n",
              "587         \"Who the fuck you callin jiggaboo, nigga?!\"\n",
              "588   \"Why people think gay marriage is okay is beyo...\n",
              "603             \"You ain't gunna do shit spear chucker\"\n",
              "614        \"You ol trout mouth ass bitch\" \\nDEEEEAAAADD\n",
              "625   \"ayo i even kill handicapped and crippled bitc...\n",
              "635   \"fuck you you pussy ass hater go suck a dick a...\n",
              "646   \"on my way to fuck your bitch in the name of T...\n",
              "647                \"poor whitey\" http://t.co/3UkKeyznz8\n",
              "663   #AZmonsoon lot of rain, too bad it wasn't enou...\n",
              "...                                                 ...\n",
              "1027  &#128543; &#8220;@DubPeeWorld: So the new wave...\n",
              "1028                                     &#128553; cunt\n",
              "1029                               &#128553; monkey mad\n",
              "1030  &#128553;&#128514; RT @willieBEAMINN: @_VinChi...\n",
              "1031  &#128553;&#128553;&#128514; damn roaches got d...\n",
              "1032  &#128553;&#128553;&#128514;&#128557;&#128557; ...\n",
              "1033  &#128553;&#128557; RT @Freegeezy17: My Co work...\n",
              "1034  &#128553;&#128557; RT @KingHov1313: Fox8 got d...\n",
              "1035  &#128555;&#128555;&#128555;&#128555;&#128555;&...\n",
              "1036                  &#128555;ugly bitches get no love\n",
              "1037  &#128557; RT @KingHov1313: I be thinkin Errbod...\n",
              "1038  &#128557; RT @That_Mclovin: &#8220;Yass bitch ...\n",
              "1039  &#128557; RT @TrashAssTweets: When you wake up...\n",
              "1040  &#128557; RT @red_daddy17: But wait if he got ...\n",
              "1041  &#128557;&#128557; &#8220;@_____AL: Y'all be t...\n",
              "1042  &#128557;&#128557; RT @KingHorseDick: Welp RT ...\n",
              "1043  &#128557;&#128557; RT @KingHov1313: Niggaz get...\n",
              "1044  &#128557;&#128557;&#128557; Foh RT @MizzCreme:...\n",
              "1045  &#128557;&#128557;&#128557; RT @EsckmoTrent: I...\n",
              "1046  &#128557;&#128557;&#128557; RT @VineForTheByrd...\n",
              "1047  &#128557;&#128557;&#128557; RT @tryna_be_famou...\n",
              "1048  &#128557;&#128557;&#128557;&#128530; RT @KingH...\n",
              "1049  &#128557;&#128557;&#128557;&#128557;&#128557;&...\n",
              "1050  &#128561;that bitch is from Moreno Valley........\n",
              "1052  &#128563; RT @Pr3ttyN33: &#8220;@11wdNICK: I t...\n",
              "1053  &#128563; RT @UBoyRock17: &#128557;&#128557;&#...\n",
              "1054  &#128563; RT @ariluvsall: Niccas y'all need li...\n",
              "1055  &#128563;&#128563;&#128563; RT @winterlove___:...\n",
              "1056  &#128563;Oh this bitch Midy must be crazy http...\n",
              "1057  &#128563;well damn.. RT @JackTheJokster: When ...\n",
              "\n",
              "[2430 rows x 1 columns]"
            ]
          },
          "metadata": {
            "tags": []
          },
          "execution_count": 44
        }
      ]
    },
    {
      "cell_type": "code",
      "metadata": {
        "colab_type": "code",
        "id": "tG1DiBDIhXVR",
        "outputId": "231bdb4f-cbb6-478b-e733-b4267403f577",
        "colab": {
          "base_uri": "https://localhost:8080/",
          "height": 104
        }
      },
      "source": [
        "#Confirming all dataframes have the same length\n",
        "for elem in [pd.DataFrame(tfidf_tr),pd.DataFrame(pos_tr),rev_tr,mention_counts_tr, of_counts_tr]:\n",
        "  print(len(elem))\n"
      ],
      "execution_count": 45,
      "outputs": [
        {
          "output_type": "stream",
          "text": [
            "2430\n",
            "2430\n",
            "2430\n",
            "2430\n",
            "2430\n"
          ],
          "name": "stdout"
        }
      ]
    },
    {
      "cell_type": "code",
      "metadata": {
        "colab_type": "code",
        "id": "ccGVS6tvQG8F",
        "colab": {}
      },
      "source": [
        "#Forming the final training dataset using the features\n",
        "x_train=np.concatenate([pd.DataFrame(tfidf_tr),pd.DataFrame(pos_tr),rev_tr,mention_counts_tr, of_counts_tr],axis=1 )\n",
        "x_train, x_test, y_train, y_test = train_test_split(x_train, y_train, test_size=0.2)\n"
      ],
      "execution_count": 0,
      "outputs": []
    },
    {
      "cell_type": "code",
      "metadata": {
        "colab_type": "code",
        "id": "wrsf_AxTSp4l",
        "outputId": "5deae92b-410b-4ff9-d6b1-acec064cd6f9",
        "colab": {
          "base_uri": "https://localhost:8080/",
          "height": 35
        }
      },
      "source": [
        "print(len(x_train), len(y_train))"
      ],
      "execution_count": 47,
      "outputs": [
        {
          "output_type": "stream",
          "text": [
            "1944 1944\n"
          ],
          "name": "stdout"
        }
      ]
    },
    {
      "cell_type": "code",
      "metadata": {
        "colab_type": "code",
        "id": "UEQQ0qlfoEAc",
        "colab": {}
      },
      "source": [
        "from sklearn.feature_selection import SelectFromModel\n",
        "from sklearn.linear_model import LogisticRegression\n",
        "from sklearn.feature_selection import SelectFromModel\n",
        "from sklearn.metrics import classification_report\n",
        "from sklearn.svm import LinearSVC,SVC\n",
        "from sklearn.model_selection import StratifiedKFold, GridSearchCV\n",
        "from sklearn.pipeline import Pipeline\n"
      ],
      "execution_count": 0,
      "outputs": []
    },
    {
      "cell_type": "markdown",
      "metadata": {
        "id": "ZFXK35z3CuZ3",
        "colab_type": "text"
      },
      "source": [
        "We run a grid search on SVC and LogisticRegression using various parameters.  "
      ]
    },
    {
      "cell_type": "code",
      "metadata": {
        "id": "E3cqsdr8ppVM",
        "colab_type": "code",
        "outputId": "f50d88d6-a0fa-4c21-b68b-657a402b54d1",
        "colab": {
          "base_uri": "https://localhost:8080/",
          "height": 2984
        }
      },
      "source": [
        "tuned_parameters = [{'kernel': ['rbf'], 'gamma': [1e-2,0.01, 10,100],\n",
        "                     'C': [1, 10, 100, 1000]},\n",
        "                    {'kernel': ['linear'], 'C': [0.1,0.01, 1, 10, 100]}]\n",
        "\n",
        "scores = ['precision', 'recall']\n",
        "\n",
        "for score in scores:\n",
        "    print(\"# Tuning hyper-parameters for %s\" % score)\n",
        "    print()\n",
        "    clf = GridSearchCV(SVC(), tuned_parameters, cv=5,\n",
        "                       scoring='%s_macro' % score)\n",
        "    clf.fit(x_train, y_train)\n",
        "\n",
        "    print(\"Best parameters set found on development set:\")\n",
        "    print()\n",
        "    print(clf.best_params_)\n",
        "    print()\n",
        "    print(\"Grid scores on development set:\")\n",
        "    print()\n",
        "    means = clf.cv_results_['mean_test_score']\n",
        "    stds = clf.cv_results_['std_test_score']\n",
        "    for mean, std, params in zip(means, stds, clf.cv_results_['params']):\n",
        "        print(\"%0.3f (+/-%0.03f) for %r\"\n",
        "              % (mean, std * 2, params))\n",
        "    print()\n",
        "\n",
        "    print(\"Detailed classification report:\")\n",
        "    print()\n",
        "    print(\"The model is trained on the full development set.\")\n",
        "    print(\"The scores are computed on the full evaluation set.\")\n",
        "    print()\n",
        "    y_true, y_pred = y_test, clf.predict(x_test)\n",
        "    print(classification_report(y_true, y_pred))\n",
        "    print()\n"
      ],
      "execution_count": 50,
      "outputs": [
        {
          "output_type": "stream",
          "text": [
            "# Tuning hyper-parameters for precision\n",
            "\n"
          ],
          "name": "stdout"
        },
        {
          "output_type": "stream",
          "text": [
            "/usr/local/lib/python3.6/dist-packages/sklearn/metrics/classification.py:1143: UndefinedMetricWarning: Precision is ill-defined and being set to 0.0 in labels with no predicted samples.\n",
            "  'precision', 'predicted', average, warn_for)\n",
            "/usr/local/lib/python3.6/dist-packages/sklearn/metrics/classification.py:1143: UndefinedMetricWarning: Precision is ill-defined and being set to 0.0 in labels with no predicted samples.\n",
            "  'precision', 'predicted', average, warn_for)\n",
            "/usr/local/lib/python3.6/dist-packages/sklearn/metrics/classification.py:1143: UndefinedMetricWarning: Precision is ill-defined and being set to 0.0 in labels with no predicted samples.\n",
            "  'precision', 'predicted', average, warn_for)\n",
            "/usr/local/lib/python3.6/dist-packages/sklearn/metrics/classification.py:1143: UndefinedMetricWarning: Precision is ill-defined and being set to 0.0 in labels with no predicted samples.\n",
            "  'precision', 'predicted', average, warn_for)\n",
            "/usr/local/lib/python3.6/dist-packages/sklearn/metrics/classification.py:1143: UndefinedMetricWarning: Precision is ill-defined and being set to 0.0 in labels with no predicted samples.\n",
            "  'precision', 'predicted', average, warn_for)\n",
            "/usr/local/lib/python3.6/dist-packages/sklearn/metrics/classification.py:1143: UndefinedMetricWarning: Precision is ill-defined and being set to 0.0 in labels with no predicted samples.\n",
            "  'precision', 'predicted', average, warn_for)\n",
            "/usr/local/lib/python3.6/dist-packages/sklearn/metrics/classification.py:1143: UndefinedMetricWarning: Precision is ill-defined and being set to 0.0 in labels with no predicted samples.\n",
            "  'precision', 'predicted', average, warn_for)\n",
            "/usr/local/lib/python3.6/dist-packages/sklearn/metrics/classification.py:1143: UndefinedMetricWarning: Precision is ill-defined and being set to 0.0 in labels with no predicted samples.\n",
            "  'precision', 'predicted', average, warn_for)\n",
            "/usr/local/lib/python3.6/dist-packages/sklearn/metrics/classification.py:1143: UndefinedMetricWarning: Precision is ill-defined and being set to 0.0 in labels with no predicted samples.\n",
            "  'precision', 'predicted', average, warn_for)\n",
            "/usr/local/lib/python3.6/dist-packages/sklearn/metrics/classification.py:1143: UndefinedMetricWarning: Precision is ill-defined and being set to 0.0 in labels with no predicted samples.\n",
            "  'precision', 'predicted', average, warn_for)\n",
            "/usr/local/lib/python3.6/dist-packages/sklearn/metrics/classification.py:1143: UndefinedMetricWarning: Precision is ill-defined and being set to 0.0 in labels with no predicted samples.\n",
            "  'precision', 'predicted', average, warn_for)\n",
            "/usr/local/lib/python3.6/dist-packages/sklearn/metrics/classification.py:1143: UndefinedMetricWarning: Precision is ill-defined and being set to 0.0 in labels with no predicted samples.\n",
            "  'precision', 'predicted', average, warn_for)\n",
            "/usr/local/lib/python3.6/dist-packages/sklearn/metrics/classification.py:1143: UndefinedMetricWarning: Precision is ill-defined and being set to 0.0 in labels with no predicted samples.\n",
            "  'precision', 'predicted', average, warn_for)\n",
            "/usr/local/lib/python3.6/dist-packages/sklearn/metrics/classification.py:1143: UndefinedMetricWarning: Precision is ill-defined and being set to 0.0 in labels with no predicted samples.\n",
            "  'precision', 'predicted', average, warn_for)\n",
            "/usr/local/lib/python3.6/dist-packages/sklearn/metrics/classification.py:1143: UndefinedMetricWarning: Precision is ill-defined and being set to 0.0 in labels with no predicted samples.\n",
            "  'precision', 'predicted', average, warn_for)\n",
            "/usr/local/lib/python3.6/dist-packages/sklearn/metrics/classification.py:1143: UndefinedMetricWarning: Precision is ill-defined and being set to 0.0 in labels with no predicted samples.\n",
            "  'precision', 'predicted', average, warn_for)\n",
            "/usr/local/lib/python3.6/dist-packages/sklearn/metrics/classification.py:1143: UndefinedMetricWarning: Precision is ill-defined and being set to 0.0 in labels with no predicted samples.\n",
            "  'precision', 'predicted', average, warn_for)\n",
            "/usr/local/lib/python3.6/dist-packages/sklearn/metrics/classification.py:1143: UndefinedMetricWarning: Precision is ill-defined and being set to 0.0 in labels with no predicted samples.\n",
            "  'precision', 'predicted', average, warn_for)\n",
            "/usr/local/lib/python3.6/dist-packages/sklearn/metrics/classification.py:1143: UndefinedMetricWarning: Precision is ill-defined and being set to 0.0 in labels with no predicted samples.\n",
            "  'precision', 'predicted', average, warn_for)\n",
            "/usr/local/lib/python3.6/dist-packages/sklearn/metrics/classification.py:1143: UndefinedMetricWarning: Precision is ill-defined and being set to 0.0 in labels with no predicted samples.\n",
            "  'precision', 'predicted', average, warn_for)\n",
            "/usr/local/lib/python3.6/dist-packages/sklearn/metrics/classification.py:1143: UndefinedMetricWarning: Precision is ill-defined and being set to 0.0 in labels with no predicted samples.\n",
            "  'precision', 'predicted', average, warn_for)\n",
            "/usr/local/lib/python3.6/dist-packages/sklearn/metrics/classification.py:1143: UndefinedMetricWarning: Precision is ill-defined and being set to 0.0 in labels with no predicted samples.\n",
            "  'precision', 'predicted', average, warn_for)\n",
            "/usr/local/lib/python3.6/dist-packages/sklearn/metrics/classification.py:1143: UndefinedMetricWarning: Precision is ill-defined and being set to 0.0 in labels with no predicted samples.\n",
            "  'precision', 'predicted', average, warn_for)\n",
            "/usr/local/lib/python3.6/dist-packages/sklearn/metrics/classification.py:1143: UndefinedMetricWarning: Precision is ill-defined and being set to 0.0 in labels with no predicted samples.\n",
            "  'precision', 'predicted', average, warn_for)\n",
            "/usr/local/lib/python3.6/dist-packages/sklearn/metrics/classification.py:1143: UndefinedMetricWarning: Precision is ill-defined and being set to 0.0 in labels with no predicted samples.\n",
            "  'precision', 'predicted', average, warn_for)\n",
            "/usr/local/lib/python3.6/dist-packages/sklearn/metrics/classification.py:1143: UndefinedMetricWarning: Precision is ill-defined and being set to 0.0 in labels with no predicted samples.\n",
            "  'precision', 'predicted', average, warn_for)\n",
            "/usr/local/lib/python3.6/dist-packages/sklearn/metrics/classification.py:1143: UndefinedMetricWarning: Precision is ill-defined and being set to 0.0 in labels with no predicted samples.\n",
            "  'precision', 'predicted', average, warn_for)\n",
            "/usr/local/lib/python3.6/dist-packages/sklearn/metrics/classification.py:1143: UndefinedMetricWarning: Precision is ill-defined and being set to 0.0 in labels with no predicted samples.\n",
            "  'precision', 'predicted', average, warn_for)\n",
            "/usr/local/lib/python3.6/dist-packages/sklearn/metrics/classification.py:1143: UndefinedMetricWarning: Precision is ill-defined and being set to 0.0 in labels with no predicted samples.\n",
            "  'precision', 'predicted', average, warn_for)\n",
            "/usr/local/lib/python3.6/dist-packages/sklearn/metrics/classification.py:1143: UndefinedMetricWarning: Precision is ill-defined and being set to 0.0 in labels with no predicted samples.\n",
            "  'precision', 'predicted', average, warn_for)\n",
            "/usr/local/lib/python3.6/dist-packages/sklearn/metrics/classification.py:1143: UndefinedMetricWarning: Precision is ill-defined and being set to 0.0 in labels with no predicted samples.\n",
            "  'precision', 'predicted', average, warn_for)\n",
            "/usr/local/lib/python3.6/dist-packages/sklearn/metrics/classification.py:1143: UndefinedMetricWarning: Precision is ill-defined and being set to 0.0 in labels with no predicted samples.\n",
            "  'precision', 'predicted', average, warn_for)\n",
            "/usr/local/lib/python3.6/dist-packages/sklearn/metrics/classification.py:1143: UndefinedMetricWarning: Precision is ill-defined and being set to 0.0 in labels with no predicted samples.\n",
            "  'precision', 'predicted', average, warn_for)\n",
            "/usr/local/lib/python3.6/dist-packages/sklearn/metrics/classification.py:1143: UndefinedMetricWarning: Precision is ill-defined and being set to 0.0 in labels with no predicted samples.\n",
            "  'precision', 'predicted', average, warn_for)\n",
            "/usr/local/lib/python3.6/dist-packages/sklearn/metrics/classification.py:1143: UndefinedMetricWarning: Precision is ill-defined and being set to 0.0 in labels with no predicted samples.\n",
            "  'precision', 'predicted', average, warn_for)\n",
            "/usr/local/lib/python3.6/dist-packages/sklearn/metrics/classification.py:1143: UndefinedMetricWarning: Precision is ill-defined and being set to 0.0 in labels with no predicted samples.\n",
            "  'precision', 'predicted', average, warn_for)\n",
            "/usr/local/lib/python3.6/dist-packages/sklearn/metrics/classification.py:1143: UndefinedMetricWarning: Precision is ill-defined and being set to 0.0 in labels with no predicted samples.\n",
            "  'precision', 'predicted', average, warn_for)\n",
            "/usr/local/lib/python3.6/dist-packages/sklearn/metrics/classification.py:1143: UndefinedMetricWarning: Precision is ill-defined and being set to 0.0 in labels with no predicted samples.\n",
            "  'precision', 'predicted', average, warn_for)\n",
            "/usr/local/lib/python3.6/dist-packages/sklearn/metrics/classification.py:1143: UndefinedMetricWarning: Precision is ill-defined and being set to 0.0 in labels with no predicted samples.\n",
            "  'precision', 'predicted', average, warn_for)\n",
            "/usr/local/lib/python3.6/dist-packages/sklearn/metrics/classification.py:1143: UndefinedMetricWarning: Precision is ill-defined and being set to 0.0 in labels with no predicted samples.\n",
            "  'precision', 'predicted', average, warn_for)\n"
          ],
          "name": "stderr"
        },
        {
          "output_type": "stream",
          "text": [
            "Best parameters set found on development set:\n",
            "\n",
            "{'C': 0.01, 'kernel': 'linear'}\n",
            "\n",
            "Grid scores on development set:\n",
            "\n",
            "0.664 (+/-0.103) for {'C': 1, 'gamma': 0.01, 'kernel': 'rbf'}\n",
            "0.664 (+/-0.103) for {'C': 1, 'gamma': 0.01, 'kernel': 'rbf'}\n",
            "0.294 (+/-0.001) for {'C': 1, 'gamma': 10, 'kernel': 'rbf'}\n",
            "0.294 (+/-0.001) for {'C': 1, 'gamma': 100, 'kernel': 'rbf'}\n",
            "0.672 (+/-0.101) for {'C': 10, 'gamma': 0.01, 'kernel': 'rbf'}\n",
            "0.672 (+/-0.101) for {'C': 10, 'gamma': 0.01, 'kernel': 'rbf'}\n",
            "0.294 (+/-0.001) for {'C': 10, 'gamma': 10, 'kernel': 'rbf'}\n",
            "0.294 (+/-0.001) for {'C': 10, 'gamma': 100, 'kernel': 'rbf'}\n",
            "0.672 (+/-0.101) for {'C': 100, 'gamma': 0.01, 'kernel': 'rbf'}\n",
            "0.672 (+/-0.101) for {'C': 100, 'gamma': 0.01, 'kernel': 'rbf'}\n",
            "0.294 (+/-0.001) for {'C': 100, 'gamma': 10, 'kernel': 'rbf'}\n",
            "0.294 (+/-0.001) for {'C': 100, 'gamma': 100, 'kernel': 'rbf'}\n",
            "0.672 (+/-0.101) for {'C': 1000, 'gamma': 0.01, 'kernel': 'rbf'}\n",
            "0.672 (+/-0.101) for {'C': 1000, 'gamma': 0.01, 'kernel': 'rbf'}\n",
            "0.294 (+/-0.001) for {'C': 1000, 'gamma': 10, 'kernel': 'rbf'}\n",
            "0.294 (+/-0.001) for {'C': 1000, 'gamma': 100, 'kernel': 'rbf'}\n",
            "0.783 (+/-0.032) for {'C': 0.1, 'kernel': 'linear'}\n",
            "0.806 (+/-0.019) for {'C': 0.01, 'kernel': 'linear'}\n",
            "0.751 (+/-0.052) for {'C': 1, 'kernel': 'linear'}\n",
            "0.747 (+/-0.078) for {'C': 10, 'kernel': 'linear'}\n",
            "0.747 (+/-0.078) for {'C': 100, 'kernel': 'linear'}\n",
            "\n",
            "Detailed classification report:\n",
            "\n",
            "The model is trained on the full development set.\n",
            "The scores are computed on the full evaluation set.\n",
            "\n",
            "              precision    recall  f1-score   support\n",
            "\n",
            "           0       0.87      0.86      0.86       287\n",
            "           1       0.80      0.81      0.81       199\n",
            "\n",
            "   micro avg       0.84      0.84      0.84       486\n",
            "   macro avg       0.83      0.84      0.83       486\n",
            "weighted avg       0.84      0.84      0.84       486\n",
            "\n",
            "\n",
            "# Tuning hyper-parameters for recall\n",
            "\n",
            "Best parameters set found on development set:\n",
            "\n",
            "{'C': 0.01, 'kernel': 'linear'}\n",
            "\n",
            "Grid scores on development set:\n",
            "\n",
            "0.543 (+/-0.028) for {'C': 1, 'gamma': 0.01, 'kernel': 'rbf'}\n",
            "0.543 (+/-0.028) for {'C': 1, 'gamma': 0.01, 'kernel': 'rbf'}\n",
            "0.500 (+/-0.000) for {'C': 1, 'gamma': 10, 'kernel': 'rbf'}\n",
            "0.500 (+/-0.000) for {'C': 1, 'gamma': 100, 'kernel': 'rbf'}\n",
            "0.563 (+/-0.033) for {'C': 10, 'gamma': 0.01, 'kernel': 'rbf'}\n",
            "0.563 (+/-0.033) for {'C': 10, 'gamma': 0.01, 'kernel': 'rbf'}\n",
            "0.500 (+/-0.000) for {'C': 10, 'gamma': 10, 'kernel': 'rbf'}\n",
            "0.500 (+/-0.000) for {'C': 10, 'gamma': 100, 'kernel': 'rbf'}\n",
            "0.563 (+/-0.033) for {'C': 100, 'gamma': 0.01, 'kernel': 'rbf'}\n",
            "0.563 (+/-0.033) for {'C': 100, 'gamma': 0.01, 'kernel': 'rbf'}\n",
            "0.500 (+/-0.000) for {'C': 100, 'gamma': 10, 'kernel': 'rbf'}\n",
            "0.500 (+/-0.000) for {'C': 100, 'gamma': 100, 'kernel': 'rbf'}\n",
            "0.563 (+/-0.033) for {'C': 1000, 'gamma': 0.01, 'kernel': 'rbf'}\n",
            "0.563 (+/-0.033) for {'C': 1000, 'gamma': 0.01, 'kernel': 'rbf'}\n",
            "0.500 (+/-0.000) for {'C': 1000, 'gamma': 10, 'kernel': 'rbf'}\n",
            "0.500 (+/-0.000) for {'C': 1000, 'gamma': 100, 'kernel': 'rbf'}\n",
            "0.781 (+/-0.032) for {'C': 0.1, 'kernel': 'linear'}\n",
            "0.805 (+/-0.021) for {'C': 0.01, 'kernel': 'linear'}\n",
            "0.749 (+/-0.052) for {'C': 1, 'kernel': 'linear'}\n",
            "0.744 (+/-0.080) for {'C': 10, 'kernel': 'linear'}\n",
            "0.744 (+/-0.080) for {'C': 100, 'kernel': 'linear'}\n",
            "\n",
            "Detailed classification report:\n",
            "\n",
            "The model is trained on the full development set.\n",
            "The scores are computed on the full evaluation set.\n",
            "\n",
            "              precision    recall  f1-score   support\n",
            "\n",
            "           0       0.87      0.86      0.86       287\n",
            "           1       0.80      0.81      0.81       199\n",
            "\n",
            "   micro avg       0.84      0.84      0.84       486\n",
            "   macro avg       0.83      0.84      0.83       486\n",
            "weighted avg       0.84      0.84      0.84       486\n",
            "\n",
            "\n"
          ],
          "name": "stdout"
        }
      ]
    },
    {
      "cell_type": "code",
      "metadata": {
        "colab_type": "code",
        "id": "6JfBU_392ln8",
        "colab": {}
      },
      "source": [
        "scores = ['precision', 'recall']\n",
        "penalty = ['l1', 'l2']\n",
        "\n",
        "logistic = LogisticRegression()\n",
        "\n",
        "# Create regularization hyperparameter space\n",
        "C = np.logspace(0, 4, 10)\n",
        "\n",
        "# Create hyperparameter options\n",
        "hyperparameters = dict(C=C, penalty=penalty)\n",
        "\n",
        "for score in scores:\n",
        "    print(\"# Tuning hyper-parameters for %s\" % score)\n",
        "    print()\n",
        "    clf = GridSearchCV(logistic, hyperparameters, cv=5,\n",
        "                       scoring='%s_macro' % score)\n",
        "    clf.fit(x_train, y_train)\n",
        "\n",
        "    print(\"Best parameters set found on development set:\")\n",
        "    print()\n",
        "    print(clf.best_params_)\n",
        "    print()\n",
        "    print(\"Grid scores on development set:\")\n",
        "    print()\n",
        "    means = clf.cv_results_['mean_test_score']\n",
        "    stds = clf.cv_results_['std_test_score']\n",
        "    for mean, std, params in zip(means, stds, clf.cv_results_['params']):\n",
        "        print(\"%0.3f (+/-%0.03f) for %r\"\n",
        "              % (mean, std * 2, params))\n",
        "    print()\n",
        "\n",
        "    print(\"Detailed classification report:\")\n",
        "    print()\n",
        "    print(\"The model is trained on the full development set.\")\n",
        "    print(\"The scores are computed on the full evaluation set.\")\n",
        "    print()\n",
        "    y_true, y_pred = y_test, clf.predict(x_test)\n",
        "    print(classification_report(y_true, y_pred))\n",
        "    print()\n"
      ],
      "execution_count": 0,
      "outputs": []
    },
    {
      "cell_type": "markdown",
      "metadata": {
        "id": "4MDzGwjI3CKl",
        "colab_type": "text"
      },
      "source": [
        "## Chosing a model\n",
        "\n",
        "From the given models, we choose using an SVC with the parameters\n",
        "'C': 0.01, 'kernel': 'linear'\n",
        "This is because given the task of detecting hate speech requires that we maximize the amount of hate speech recognized from actual hate speech there exists. The cost of not recognizing hate speech is higher than the cost of recognizing false positives. Hence given a trade off, we chose to look for higher recall and hence settled on SVC model.\n",
        "The authors also did a similar thing."
      ]
    },
    {
      "cell_type": "code",
      "metadata": {
        "id": "UX-V_7hL415M",
        "colab_type": "code",
        "colab": {}
      },
      "source": [
        "model=SVC(class_weight='balanced',C=0.01, kernel='linear',probability=True)\n",
        "model.fit(x_train,y_train)\n",
        "y_preds=model.predict(x_train)\n",
        "report = classification_report( y_preds, y_train )"
      ],
      "execution_count": 0,
      "outputs": []
    },
    {
      "cell_type": "markdown",
      "metadata": {
        "id": "cbRCxH1-jIIb",
        "colab_type": "text"
      },
      "source": [
        "## Evaluating Model Performance\n",
        "\n",
        "\n",
        "\n",
        "**This section is divided into the following major parts :**\n",
        "- In-sample predictive performance\n",
        "- Out-of-sample predictive performance\n",
        "- Effects of statistical significance on Predictive Power\n",
        "\n",
        "Detailed explanations of the above parts follow."
      ]
    },
    {
      "cell_type": "markdown",
      "metadata": {
        "id": "kIfyT6mHjIIj",
        "colab_type": "text"
      },
      "source": [
        "### In-Sample Predictive Performance"
      ]
    },
    {
      "cell_type": "markdown",
      "metadata": {
        "id": "rKJBmILAjIIk",
        "colab_type": "text"
      },
      "source": [
        "We are interested in the training accuracy here, in other words the model is tested on data sampled from within the training set.\n",
        "\n",
        "Logistic Regression is used here to obtain the best performing features using the \"SelectFromModel\" function and the Linear SVC model is trained and tested for performance."
      ]
    },
    {
      "cell_type": "code",
      "metadata": {
        "id": "8_6RgU1HR0Qo",
        "colab_type": "code",
        "outputId": "5f61663c-e54c-43bb-95fc-0481a2d6f7c8",
        "colab": {
          "base_uri": "https://localhost:8080/",
          "height": 345
        }
      },
      "source": [
        "from sklearn.metrics import confusion_matrix\n",
        "import seaborn\n",
        "confusion_matrix = confusion_matrix(y_train,y_preds)\n",
        "matrix_proportions = np.zeros((2,2))\n",
        "for i in range(0,2):\n",
        "    matrix_proportions[i,:] = confusion_matrix[i,:]/float(confusion_matrix[i,:].sum())\n",
        "names=['Hate','Neither']\n",
        "confusion_df = pd.DataFrame(matrix_proportions, index=names,columns=names)\n",
        "plt.figure(figsize=(5,5))\n",
        "seaborn.heatmap(confusion_df,annot=True,annot_kws={\"size\": 12},cmap='gist_gray_r',cbar=False, square=True,fmt='.2f')\n",
        "plt.ylabel(r'True categories',fontsize=14)\n",
        "plt.xlabel(r'Predicted categories',fontsize=14)\n",
        "plt.tick_params(labelsize=12)\n"
      ],
      "execution_count": 52,
      "outputs": [
        {
          "output_type": "display_data",
          "data": {
            "image/png": "[encoded data removed]",
            "text/plain": [
              "<Figure size 360x360 with 1 Axes>"
            ]
          },
          "metadata": {
            "tags": []
          }
        }
      ]
    },
    {
      "cell_type": "code",
      "metadata": {
        "id": "rGOKRuU4RsMO",
        "colab_type": "code",
        "outputId": "f545f4e2-ff3a-4dca-8a8c-f1eed7f7bf9e",
        "colab": {
          "base_uri": "https://localhost:8080/",
          "height": 689
        }
      },
      "source": [
        "from pandas import read_csv\n",
        "from matplotlib import pyplot\n",
        "import pandas as pd\n",
        "# load results file\n",
        "results = pd.DataFrame()\n",
        "results['A'] = y_train\n",
        "results['B'] = y_preds\n",
        "# descriptive stats\n",
        "print(results.describe())\n",
        "# box and whisker plot\n",
        "results.boxplot()\n",
        "pyplot.show()\n",
        "# histogram\n",
        "results.hist()\n",
        "pyplot.show()"
      ],
      "execution_count": 53,
      "outputs": [
        {
          "output_type": "stream",
          "text": [
            "                 A            B\n",
            "count  1944.000000  1944.000000\n",
            "mean      0.412037     0.441872\n",
            "std       0.492328     0.496737\n",
            "min       0.000000     0.000000\n",
            "25%       0.000000     0.000000\n",
            "50%       0.000000     0.000000\n",
            "75%       1.000000     1.000000\n",
            "max       1.000000     1.000000\n"
          ],
          "name": "stdout"
        },
        {
          "output_type": "display_data",
          "data": {
            "image/png": "[encoded data removed]",
            "text/plain": [
              "<Figure size 432x288 with 1 Axes>"
            ]
          },
          "metadata": {
            "tags": []
          }
        },
        {
          "output_type": "display_data",
          "data": {
            "image/png": "[encoded data removed]",
            "text/plain": [
              "<Figure size 432x288 with 2 Axes>"
            ]
          },
          "metadata": {
            "tags": []
          }
        }
      ]
    },
    {
      "cell_type": "code",
      "metadata": {
        "id": "kQI8nvTyjII0",
        "colab_type": "code",
        "outputId": "8937a23f-4878-4ee7-c4ec-74d5f634326a",
        "colab": {
          "base_uri": "https://localhost:8080/",
          "height": 281
        }
      },
      "source": [
        "clf = Pipeline(steps=[('classifier', SVC(class_weight='balanced',C=0.01, kernel='linear',probability=True))])\n",
        "clf.fit(x_train,y_train)\n",
        "\n",
        "# {'C': 0.01, 'kernel': 'linear'}\n",
        "proba = cross_val_predict(clf, x_train,y_train, cv=5, method='predict_proba')\n",
        "from sklearn import metrics\n",
        "\n",
        "fpr, tpr, _ = metrics.roc_curve(y_train,  proba[::,1])\n",
        "auc = metrics.roc_auc_score(y_train, proba[::,1])\n",
        "plt.plot(fpr,tpr,label=\"data 1, auc=\"+str(auc))\n",
        "plt.legend(loc=4)\n",
        "plt.title('Model ROC curve')\n",
        "plt.show()"
      ],
      "execution_count": 54,
      "outputs": [
        {
          "output_type": "display_data",
          "data": {
            "image/png": "[encoded data removed]",
            "text/plain": [
              "<Figure size 432x288 with 1 Axes>"
            ]
          },
          "metadata": {
            "tags": []
          }
        }
      ]
    },
    {
      "cell_type": "markdown",
      "metadata": {
        "id": "kLo6YSIdjII3",
        "colab_type": "text"
      },
      "source": [
        "The ROC curve shows promising results, and an AUC of 0.87 was obtained. To give context, a model that randomly guessed the class (50-50 chance) would give a straight line ROC curve with an AUC of 0.5. The model performs significantly better.\n",
        "\n",
        "We will now investigate the these metrics (precision, recall and f1-scores) at the various threshold values ranging from 0 to 1."
      ]
    },
    {
      "cell_type": "code",
      "metadata": {
        "id": "afDVS7aBjII4",
        "colab_type": "code",
        "outputId": "d9fbd926-0337-448b-d5c5-10cc69045ac7",
        "colab": {
          "base_uri": "https://localhost:8080/",
          "height": 367
        }
      },
      "source": [
        "from sklearn.metrics import precision_recall_fscore_support as score\n",
        "\n",
        "thresh_range = list(np.arange(0,1,0.1))\n",
        "p_list = list()\n",
        "r_list = list()\n",
        "f_list = list()\n",
        "for threshold in thresh_range:\n",
        "    y_preds = np.where(model.predict_proba(x_train)[:,1] > threshold, 1, 0)\n",
        "    precision,recall,fscore,support=score(y_train,y_preds,average='macro')\n",
        "    p_list.append(precision)\n",
        "    r_list.append(recall)\n",
        "    f_list.append(fscore)\n",
        "plt.plot(thresh_range,p_list,label='precision')\n",
        "plt.plot(thresh_range,r_list,label='recall')\n",
        "plt.plot(thresh_range,f_list,label='fscore')\n",
        "plt.xlabel('Threshold probability (0-1)')\n",
        "plt.ylabel('Metric values (0-1)')\n",
        "plt.title('Precision, Recall and F-score wrt threshold')\n",
        "plt.legend()\n"
      ],
      "execution_count": 55,
      "outputs": [
        {
          "output_type": "stream",
          "text": [
            "/usr/local/lib/python3.6/dist-packages/sklearn/metrics/classification.py:1143: UndefinedMetricWarning: Precision and F-score are ill-defined and being set to 0.0 in labels with no predicted samples.\n",
            "  'precision', 'predicted', average, warn_for)\n"
          ],
          "name": "stderr"
        },
        {
          "output_type": "execute_result",
          "data": {
            "text/plain": [
              "<matplotlib.legend.Legend at 0x7f79bdfb79e8>"
            ]
          },
          "metadata": {
            "tags": []
          },
          "execution_count": 55
        },
        {
          "output_type": "display_data",
          "data": {
            "image/png": "[encoded data removed]",
            "text/plain": [
              "<Figure size 432x288 with 1 Axes>"
            ]
          },
          "metadata": {
            "tags": []
          }
        }
      ]
    },
    {
      "cell_type": "markdown",
      "metadata": {
        "id": "j8Eh5lx1jII6",
        "colab_type": "text"
      },
      "source": [
        "The above curves demonstrate the best threshold values for our metrics. For this model we obtain an optimum threshold in the (0.4,0.6) range as seen from the above plot. The precision and recall tend to follow very similar trends. Would be interesting to see the precision vs recall curve."
      ]
    },
    {
      "cell_type": "code",
      "metadata": {
        "id": "njx2do-DjII7",
        "colab_type": "code",
        "outputId": "834275e5-391e-4cf0-ed7a-7743dcac8e59",
        "colab": {
          "base_uri": "https://localhost:8080/",
          "height": 313
        }
      },
      "source": [
        "plt.plot(p_list,r_list)\n",
        "plt.title('Precision vs Recall curve for Linear SVC')\n",
        "plt.xlabel('Recall (0-1)')\n",
        "plt.ylabel('Precision (0-1)')\n"
      ],
      "execution_count": 56,
      "outputs": [
        {
          "output_type": "execute_result",
          "data": {
            "text/plain": [
              "Text(0, 0.5, 'Precision (0-1)')"
            ]
          },
          "metadata": {
            "tags": []
          },
          "execution_count": 56
        },
        {
          "output_type": "display_data",
          "data": {
            "image/png": "[encoded data removed]",
            "text/plain": [
              "<Figure size 432x288 with 1 Axes>"
            ]
          },
          "metadata": {
            "tags": []
          }
        }
      ]
    },
    {
      "cell_type": "markdown",
      "metadata": {
        "id": "c3xISxkfjII9",
        "colab_type": "text"
      },
      "source": [
        "Interesting many-one, non-bijective curve. Both metrics peak at the same time, and at a little less than 1.\n",
        "\n",
        "This concludes the In-sample performance evaluation. Now we will use a test dataset that isn't in-sample and see the difference in results."
      ]
    },
    {
      "cell_type": "markdown",
      "metadata": {
        "id": "JysKFj0JjII-",
        "colab_type": "text"
      },
      "source": [
        "### Out-of-sample Predictive Performance"
      ]
    },
    {
      "cell_type": "markdown",
      "metadata": {
        "id": "SIX4OG5RjII-",
        "colab_type": "text"
      },
      "source": [
        "Here we use new unseen data to test our model. We expect a decline in performance, but this will also give us a peak into how generalizable the proposed Linear SVC model is."
      ]
    },
    {
      "cell_type": "code",
      "metadata": {
        "id": "S1a7GP4TjII_",
        "colab_type": "code",
        "colab": {}
      },
      "source": [
        "# model2 = SVC(kernel='linear',class_weight='balanced',C=0.01,probability=True).fit(x_train, y_train)\n",
        "# model2=SVC(class_weight='balanced',C=0.01, kernel='rbf',probability=True).fit(x_train, y_train)\n",
        "y_preds = model.predict(x_test)\n",
        "report = classification_report( y_test, y_preds )"
      ],
      "execution_count": 0,
      "outputs": []
    },
    {
      "cell_type": "code",
      "metadata": {
        "id": "4afdeSHi8Ttr",
        "colab_type": "code",
        "outputId": "2edd718f-4071-46d3-92f3-6bfca4fb9224",
        "colab": {
          "base_uri": "https://localhost:8080/",
          "height": 173
        }
      },
      "source": [
        "print(report)"
      ],
      "execution_count": 58,
      "outputs": [
        {
          "output_type": "stream",
          "text": [
            "              precision    recall  f1-score   support\n",
            "\n",
            "           0       0.87      0.84      0.85       287\n",
            "           1       0.78      0.82      0.80       199\n",
            "\n",
            "   micro avg       0.83      0.83      0.83       486\n",
            "   macro avg       0.82      0.83      0.83       486\n",
            "weighted avg       0.83      0.83      0.83       486\n",
            "\n"
          ],
          "name": "stdout"
        }
      ]
    },
    {
      "cell_type": "markdown",
      "metadata": {
        "id": "atWzAfynjIJD",
        "colab_type": "text"
      },
      "source": [
        "There is a 0.08 reduction across the weighted score of the three metrics. The values drop from 0.93 to 0.82. This was expected, and the ~10% reduction in the scores on unseen data shows that the model is generalizable and wasn't overfitting the training data."
      ]
    },
    {
      "cell_type": "markdown",
      "metadata": {
        "id": "F4tJ5WF4jIJE",
        "colab_type": "text"
      },
      "source": [
        "Let us now plot the roc curve for the out-sample case and compare it to our previous in-sample performance. One would expect a minor decline in AUC, which would be in line with the marginal performance metric decline we have seen above."
      ]
    },
    {
      "cell_type": "code",
      "metadata": {
        "id": "KWHpkO_YSN1j",
        "colab_type": "code",
        "outputId": "47c66fa8-8af8-4de0-c687-610c7b023422",
        "colab": {
          "base_uri": "https://localhost:8080/",
          "height": 345
        }
      },
      "source": [
        "from sklearn.metrics import confusion_matrix\n",
        "import seaborn\n",
        "confusion_matrix = confusion_matrix(y_test,y_preds)\n",
        "matrix_proportions = np.zeros((2,2))\n",
        "for i in range(0,2):\n",
        "    matrix_proportions[i,:] = confusion_matrix[i,:]/float(confusion_matrix[i,:].sum())\n",
        "names=['Hate','Neither']\n",
        "confusion_df = pd.DataFrame(matrix_proportions, index=names,columns=names)\n",
        "plt.figure(figsize=(5,5))\n",
        "seaborn.heatmap(confusion_df,annot=True,annot_kws={\"size\": 12},cmap='gist_gray_r',cbar=False, square=True,fmt='.2f')\n",
        "plt.ylabel(r'True categories',fontsize=14)\n",
        "plt.xlabel(r'Predicted categories',fontsize=14)\n",
        "plt.tick_params(labelsize=12)\n"
      ],
      "execution_count": 59,
      "outputs": [
        {
          "output_type": "display_data",
          "data": {
            "image/png": "[encoded data removed]",
            "text/plain": [
              "<Figure size 360x360 with 1 Axes>"
            ]
          },
          "metadata": {
            "tags": []
          }
        }
      ]
    },
    {
      "cell_type": "code",
      "metadata": {
        "id": "-Hk0nBwaSitP",
        "colab_type": "code",
        "outputId": "25d6676c-497d-407a-c84b-99987478a20e",
        "colab": {
          "base_uri": "https://localhost:8080/",
          "height": 689
        }
      },
      "source": [
        "from pandas import read_csv\n",
        "from matplotlib import pyplot\n",
        "import pandas as pd\n",
        "# load results file\n",
        "results = pd.DataFrame()\n",
        "results['A'] = y_test\n",
        "results['B'] = y_preds\n",
        "# descriptive stats\n",
        "print(results.describe())\n",
        "# box and whisker plot\n",
        "results.boxplot()\n",
        "pyplot.show()\n",
        "# histogram\n",
        "results.hist()\n",
        "pyplot.show()"
      ],
      "execution_count": 60,
      "outputs": [
        {
          "output_type": "stream",
          "text": [
            "                A           B\n",
            "count  486.000000  486.000000\n",
            "mean     0.409465    0.434156\n",
            "std      0.492242    0.496156\n",
            "min      0.000000    0.000000\n",
            "25%      0.000000    0.000000\n",
            "50%      0.000000    0.000000\n",
            "75%      1.000000    1.000000\n",
            "max      1.000000    1.000000\n"
          ],
          "name": "stdout"
        },
        {
          "output_type": "display_data",
          "data": {
            "image/png": "[encoded data removed]",
            "text/plain": [
              "<Figure size 432x288 with 1 Axes>"
            ]
          },
          "metadata": {
            "tags": []
          }
        },
        {
          "output_type": "display_data",
          "data": {
            "image/png": "[encoded data removed]",
            "text/plain": [
              "<Figure size 432x288 with 2 Axes>"
            ]
          },
          "metadata": {
            "tags": []
          }
        }
      ]
    },
    {
      "cell_type": "code",
      "metadata": {
        "id": "f45C9y4ZjIJF",
        "colab_type": "code",
        "colab": {
          "base_uri": "https://localhost:8080/",
          "height": 281
        },
        "outputId": "de913612-5f62-47ce-b74e-e42e6a6ea078"
      },
      "source": [
        "from sklearn.pipeline import Pipeline\n",
        "from sklearn.model_selection import cross_val_predict\n",
        "import matplotlib.pyplot as plt\n",
        "\n",
        "clf = Pipeline(steps=[('classifier', SVC(class_weight='balanced',C=0.01, kernel='linear',probability=True))])\n",
        "clf.fit(x_train,y_train)\n",
        "\n",
        "proba = cross_val_predict(clf, x_test,y_test, cv=5, method='predict_proba')\n",
        "probb = cross_val_predict(clf, x_train,y_train, cv=5, method='predict_proba')\n",
        "from sklearn import metrics\n",
        "\n",
        "fpra, tpra, _ = metrics.roc_curve(y_test,  proba[::,1])\n",
        "auca = metrics.roc_auc_score(y_test, proba[::,1])\n",
        "fprb, tprb, _ = metrics.roc_curve(y_train,  probb[::,1])\n",
        "aucb = metrics.roc_auc_score(y_train, probb[::,1])\n",
        "\n",
        "plt.plot(fpra,tpra,label=\"out-of-sample, auc=\"+str(auca))\n",
        "plt.plot(fprb,tprb,label=\"in-sample, auc=\"+str(aucb))\n",
        "\n",
        "plt.legend(loc=4)\n",
        "plt.title('AUC-ROC for In-sample and Out-of-sample')\n",
        "plt.show()"
      ],
      "execution_count": 61,
      "outputs": [
        {
          "output_type": "display_data",
          "data": {
            "image/png": "[encoded data removed]",
            "text/plain": [
              "<Figure size 432x288 with 1 Axes>"
            ]
          },
          "metadata": {
            "tags": []
          }
        }
      ]
    },
    {
      "cell_type": "markdown",
      "metadata": {
        "id": "aH3qV8gKjIJH",
        "colab_type": "text"
      },
      "source": [
        "The AUC falls from 0.87 for in-sample to 0.82 for out-of-sample. The difference is clear from the ROC curves."
      ]
    },
    {
      "cell_type": "code",
      "metadata": {
        "id": "Dh9Obn7VjIJH",
        "colab_type": "code",
        "colab": {
          "base_uri": "https://localhost:8080/",
          "height": 367
        },
        "outputId": "ab87ef17-04fa-4ddb-c9dd-667c20f899e0"
      },
      "source": [
        "from sklearn.metrics import precision_recall_fscore_support as score\n",
        "\n",
        "thresh_range = list(np.arange(0,1,0.1))\n",
        "p_list = list()\n",
        "r_list = list()\n",
        "f_list = list()\n",
        "for threshold in thresh_range:\n",
        "    y_preds = np.where(model.predict_proba(x_test)[:,1] > threshold, 1, 0)\n",
        "    precision,recall,fscore,support=score(y_test,y_preds,average='macro')\n",
        "    p_list.append(precision)\n",
        "    r_list.append(recall)\n",
        "    f_list.append(fscore)\n",
        "plt.plot(thresh_range,p_list,label='precision')\n",
        "plt.plot(thresh_range,r_list,label='recall')\n",
        "plt.plot(thresh_range,f_list,label='fscore')\n",
        "\n",
        "plt.xlabel('Threshold probability (0-1)')\n",
        "plt.ylabel('Metric values (0-1)')\n",
        "plt.title('Precision, Recall and F-score wrt threshold')\n",
        "plt.legend()\n"
      ],
      "execution_count": 62,
      "outputs": [
        {
          "output_type": "stream",
          "text": [
            "/usr/local/lib/python3.6/dist-packages/sklearn/metrics/classification.py:1143: UndefinedMetricWarning: Precision and F-score are ill-defined and being set to 0.0 in labels with no predicted samples.\n",
            "  'precision', 'predicted', average, warn_for)\n"
          ],
          "name": "stderr"
        },
        {
          "output_type": "execute_result",
          "data": {
            "text/plain": [
              "<matplotlib.legend.Legend at 0x7f79b920f6d8>"
            ]
          },
          "metadata": {
            "tags": []
          },
          "execution_count": 62
        },
        {
          "output_type": "display_data",
          "data": {
            "image/png": "[encoded data removed]",
            "text/plain": [
              "<Figure size 432x288 with 1 Axes>"
            ]
          },
          "metadata": {
            "tags": []
          }
        }
      ]
    },
    {
      "cell_type": "markdown",
      "metadata": {
        "id": "vFYMk4_CjIJM",
        "colab_type": "text"
      },
      "source": [
        "We see a similar plot as in-sample, though the maxima seems to have shifted to a lower threshold."
      ]
    },
    {
      "cell_type": "markdown",
      "metadata": {
        "id": "YUjk7jqhjIJN",
        "colab_type": "text"
      },
      "source": [
        "The precision and recall tend to follow very similar trends. Would be interesting to see the precision vs recall curve."
      ]
    },
    {
      "cell_type": "code",
      "metadata": {
        "id": "npr0BXB7jIJO",
        "colab_type": "code",
        "colab": {
          "base_uri": "https://localhost:8080/",
          "height": 313
        },
        "outputId": "30efea28-ae8d-4b64-d8ec-169d6e094743"
      },
      "source": [
        "plt.plot(p_list,r_list)\n",
        "plt.title('Precision vs Recall curve for Linear SVC')\n",
        "plt.xlabel('Recall (0-1)')\n",
        "plt.ylabel('Precision (0-1)')\n"
      ],
      "execution_count": 63,
      "outputs": [
        {
          "output_type": "execute_result",
          "data": {
            "text/plain": [
              "Text(0, 0.5, 'Precision (0-1)')"
            ]
          },
          "metadata": {
            "tags": []
          },
          "execution_count": 63
        },
        {
          "output_type": "display_data",
          "data": {
            "image/png": "[encoded data removed]",
            "text/plain": [
              "<Figure size 432x288 with 1 Axes>"
            ]
          },
          "metadata": {
            "tags": []
          }
        }
      ]
    },
    {
      "cell_type": "markdown",
      "metadata": {
        "id": "WH_khEvFjIJR",
        "colab_type": "text"
      },
      "source": [
        "As before, many-one, non-bijective curve. Both metrics peak at around the same time, with two marked differences from the corresponding in-sample plot.\n",
        " - The maximum observed for out-sample is of lower value than in-sample.\n",
        " \n",
        " - While they do peak around the same time, the spread is more (i.e both don't peak at exactly the same time as was the case with in-sample, rather the peak shows a greater spread as seen above).\n",
        "\n",
        "This concludes the out-of-sample performance evaluation. Now we will use a test dataset that isn't in-sample and see the difference in results.\n",
        "\n"
      ]
    },
    {
      "cell_type": "markdown",
      "metadata": {
        "id": "bO0nZeZXjIJR",
        "colab_type": "text"
      },
      "source": [
        "### Effects of Statistical Significance on Predictive Power"
      ]
    },
    {
      "cell_type": "markdown",
      "metadata": {
        "id": "u2_ZAsXrjIJS",
        "colab_type": "text"
      },
      "source": [
        "The following section investigates the effect of statistical significance of a variable on its prediction power. On second thought, 'Effect' might not be the appropriate term here, since that implies causation. Let us investigate the correlation of statistical significance of features with their predictive powers.\n",
        "\n",
        "This is achieved by implementing a 'backward elimination' function, that assumes all features are significant and the eliminates those that are found to have p-values higher than 5% Level of significance.\n",
        "\n",
        "An issue encountered was the painfully slow runtime, so we take a short-cut here. Let us select 500 features at random (of the 2303 total features). Empricial evidence during the course of this project suggests that we get back less than 10% of the features we created on this dataset.\n",
        "\n",
        "We apply the backward elimination function to obtained a reduced feature set. The the model constructed on the 500 features, and another one constructed on the stat-significant feature subset obtained are evaluated."
      ]
    },
    {
      "cell_type": "code",
      "metadata": {
        "id": "H98mkR1BjIJS",
        "colab_type": "code",
        "colab": {}
      },
      "source": [
        "import statsmodels.formula.api as sm\n",
        "def backwardElimination(x, Y, sl,columns):\n",
        "    numVars = len(x[0])\n",
        "    for i in range(0, numVars):\n",
        "        regressor_OLS = sm.OLS(Y, x).fit()\n",
        "        maxVar = max(regressor_OLS.pvalues)\n",
        "        if maxVar > sl:\n",
        "            for j in range(0, numVars - i):\n",
        "                if (regressor_OLS.pvalues[j].astype(float) == maxVar):\n",
        "                    x = np.delete(x, j, 1)\n",
        "                    columns = np.delete(columns, j)\n",
        "                    \n",
        "    regressor_OLS.summary()\n",
        "    return x,columns\n",
        "SL = 0.05"
      ],
      "execution_count": 0,
      "outputs": []
    },
    {
      "cell_type": "code",
      "metadata": {
        "id": "N4XDk3hqjIJV",
        "colab_type": "code",
        "colab": {}
      },
      "source": [
        "from random import sample \n",
        "  \n",
        "# Prints list of random items of given length \n",
        "tot_features = list(range(2033))\n",
        "subset = sample(tot_features,500)\n",
        "dm,col = backwardElimination(x_train[:,subset], y_train, SL,np.arange(500))"
      ],
      "execution_count": 0,
      "outputs": []
    },
    {
      "cell_type": "code",
      "metadata": {
        "id": "nsHAtUkAjIJX",
        "colab_type": "code",
        "colab": {
          "base_uri": "https://localhost:8080/",
          "height": 35
        },
        "outputId": "137709c6-2769-460f-ccc8-ed6dfc63b0a8"
      },
      "source": [
        "print('The number of statistically significant features from the 500 : ',len(col))"
      ],
      "execution_count": 66,
      "outputs": [
        {
          "output_type": "stream",
          "text": [
            "The number of statistically significant features from the 500 :  81\n"
          ],
          "name": "stdout"
        }
      ]
    },
    {
      "cell_type": "code",
      "metadata": {
        "id": "R_EgWhwdjIJa",
        "colab_type": "code",
        "colab": {}
      },
      "source": [
        "model = SVC(kernel='linear',class_weight='balanced',C=0.01,probability=True).fit(x_train, y_train)\n",
        "\n",
        "y_preds = model.predict(x_test)\n",
        "report = classification_report( y_test, y_preds )"
      ],
      "execution_count": 0,
      "outputs": []
    },
    {
      "cell_type": "code",
      "metadata": {
        "id": "DZkENrrbjIJe",
        "colab_type": "code",
        "colab": {
          "base_uri": "https://localhost:8080/",
          "height": 173
        },
        "outputId": "771a7195-46c2-4160-8692-3faef4451172"
      },
      "source": [
        "print(report)"
      ],
      "execution_count": 68,
      "outputs": [
        {
          "output_type": "stream",
          "text": [
            "              precision    recall  f1-score   support\n",
            "\n",
            "           0       0.87      0.84      0.85       287\n",
            "           1       0.78      0.82      0.80       199\n",
            "\n",
            "   micro avg       0.83      0.83      0.83       486\n",
            "   macro avg       0.82      0.83      0.83       486\n",
            "weighted avg       0.83      0.83      0.83       486\n",
            "\n"
          ],
          "name": "stdout"
        }
      ]
    },
    {
      "cell_type": "code",
      "metadata": {
        "id": "sURXpgGxjIJk",
        "colab_type": "code",
        "colab": {
          "base_uri": "https://localhost:8080/",
          "height": 281
        },
        "outputId": "03a415b6-4da3-4b2c-e503-fa2571396028"
      },
      "source": [
        "from sklearn.pipeline import Pipeline\n",
        "from sklearn.model_selection import cross_val_predict\n",
        "import matplotlib.pyplot as plt\n",
        "\n",
        "clf = Pipeline(steps=[('classifier', SVC(class_weight='balanced',C=0.01, kernel='linear',probability=True))])\n",
        "clf.fit(x_train,y_train)\n",
        "\n",
        "proba = cross_val_predict(clf, x_test,y_test, cv=5, method='predict_proba')\n",
        "from sklearn import metrics\n",
        "\n",
        "fpr, tpr, _ = metrics.roc_curve(y_test,  proba[::,1])\n",
        "auc = metrics.roc_auc_score(y_test, proba[::,1])\n",
        "plt.plot(fpr,tpr,label=\"data 1, auc=\"+str(auc))\n",
        "plt.legend(loc=4)\n",
        "plt.title('Model ROC curve')\n",
        "plt.show()"
      ],
      "execution_count": 69,
      "outputs": [
        {
          "output_type": "display_data",
          "data": {
            "image/png": "[encoded data removed]",
            "text/plain": [
              "<Figure size 432x288 with 1 Axes>"
            ]
          },
          "metadata": {
            "tags": []
          }
        }
      ]
    },
    {
      "cell_type": "markdown",
      "metadata": {
        "id": "4qg1SRpwjIJm",
        "colab_type": "text"
      },
      "source": [
        "The above analysis has been performed for the data with 500 randomly selected features. \n",
        "\n",
        "We can see that it gives us a reasonable 0.84 AUC value and the precision,recall and f1 are 0.82.\n",
        "\n",
        "It would now be interesting to compare this to the results for a model that takes just the statistically significant features from these 500. We saw that 68 features qualified with p-values less than the 5% level of significance."
      ]
    },
    {
      "cell_type": "code",
      "metadata": {
        "id": "TRaqBSe-jIJo",
        "colab_type": "code",
        "colab": {}
      },
      "source": [
        "model = SVC(kernel='linear',class_weight='balanced',C=0.01,probability=True).fit(x_train[:,col], y_train)\n",
        "\n",
        "y_preds = model.predict(x_test[:,col])\n",
        "report = classification_report( y_test, y_preds )"
      ],
      "execution_count": 0,
      "outputs": []
    },
    {
      "cell_type": "code",
      "metadata": {
        "id": "0YzRJ2r4jIJr",
        "colab_type": "code",
        "colab": {
          "base_uri": "https://localhost:8080/",
          "height": 173
        },
        "outputId": "43fe2cff-0c8f-467b-e647-b9e43de32201"
      },
      "source": [
        "print(report)"
      ],
      "execution_count": 71,
      "outputs": [
        {
          "output_type": "stream",
          "text": [
            "              precision    recall  f1-score   support\n",
            "\n",
            "           0       0.67      0.87      0.76       287\n",
            "           1       0.67      0.39      0.50       199\n",
            "\n",
            "   micro avg       0.67      0.67      0.67       486\n",
            "   macro avg       0.67      0.63      0.63       486\n",
            "weighted avg       0.67      0.67      0.65       486\n",
            "\n"
          ],
          "name": "stdout"
        }
      ]
    },
    {
      "cell_type": "code",
      "metadata": {
        "id": "PvMG_4EGjIJt",
        "colab_type": "code",
        "colab": {
          "base_uri": "https://localhost:8080/",
          "height": 281
        },
        "outputId": "28020757-6e81-459f-b837-1454b37eee50"
      },
      "source": [
        "from sklearn.pipeline import Pipeline\n",
        "from sklearn.model_selection import cross_val_predict\n",
        "import matplotlib.pyplot as plt\n",
        "\n",
        "clf1 = Pipeline(steps=[('classifier', SVC(class_weight='balanced',C=0.01, kernel='linear',probability=True))])\n",
        "clf1.fit(x_train[:,~col],y_train)\n",
        "\n",
        "clf2 = Pipeline(steps=[('classifier', SVC(class_weight='balanced',C=0.01, kernel='linear',probability=True))])\n",
        "clf2.fit(x_train[:,col],y_train)\n",
        "\n",
        "clf3 = Pipeline(steps=[('classifier', SVC(class_weight='balanced',C=0.01, kernel='linear',probability=True))])\n",
        "clf3.fit(x_train,y_train)\n",
        "\n",
        "\n",
        "\n",
        "proba = cross_val_predict(clf1, x_test[:,~col],y_test, cv=5, method='predict_proba')\n",
        "probb = cross_val_predict(clf2, x_test[:,col],y_test, cv=5, method='predict_proba')\n",
        "probc = cross_val_predict(clf3, x_test,y_test, cv=5, method='predict_proba')\n",
        "\n",
        "from sklearn import metrics\n",
        "\n",
        "fpra, tpra, _ = metrics.roc_curve(y_test,  proba[::,1])\n",
        "auca = metrics.roc_auc_score(y_test, proba[::,1])\n",
        "\n",
        "fprb, tprb, _ = metrics.roc_curve(y_test,  probb[::,1])\n",
        "aucb = metrics.roc_auc_score(y_test, probb[::,1])\n",
        "\n",
        "fprc, tprc, _ = metrics.roc_curve(y_test,  probc[::,1])\n",
        "aucc = metrics.roc_auc_score(y_test, probc[::,1])\n",
        "\n",
        "plt.plot(fpra,tpra,label=\"Non-significant, auc=\"+str(auca))\n",
        "plt.plot(fprb,tprb,label=\"Statistically significant, auc=\"+str(aucb))\n",
        "plt.plot(fprc,tprc,label=\"All 500 features, auc=\"+str(aucc))\n",
        "\n",
        "plt.legend(loc=4)\n",
        "plt.title('Comparing ROC curves for Non-significant vs Stat-Significant vs All features.')\n",
        "plt.show()"
      ],
      "execution_count": 72,
      "outputs": [
        {
          "output_type": "display_data",
          "data": {
            "image/png": "[encoded data removed]",
            "text/plain": [
              "<Figure size 432x288 with 1 Axes>"
            ]
          },
          "metadata": {
            "tags": []
          }
        }
      ]
    },
    {
      "cell_type": "markdown",
      "metadata": {
        "id": "LkO291wljIJv",
        "colab_type": "text"
      },
      "source": [
        "This is an interesting result, the performance for just the statistically significant features (68 in number) is 0.62, which is better than the 0.45 AUC result for the non-significant features (432 in number). Infact random guessing would give better results than the model trained on just the non-significant features.\n",
        "\n",
        "The result taking all 500 features is the best performer by a margin. Model using the significant features alone is clearly overfitting."
      ]
    }
  ]
}