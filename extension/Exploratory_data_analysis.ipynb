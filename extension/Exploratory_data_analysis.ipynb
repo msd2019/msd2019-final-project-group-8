{
  "nbformat": 4,
  "nbformat_minor": 0,
  "metadata": {
    "colab": {
      "name": "Exploratory data analysis.ipynb",
      "version": "0.3.2",
      "provenance": []
    },
    "kernelspec": {
      "name": "python3",
      "display_name": "Python 3"
    }
  },
  "cells": [
    {
      "cell_type": "code",
      "metadata": {
        "id": "WsB93AxZqlh_",
        "colab_type": "code",
        "colab": {
          "base_uri": "https://localhost:8080/",
          "height": 124
        },
        "outputId": "f7b94009-7d7a-47a3-ecb3-7635af0a9d5c"
      },
      "source": [
        "!pip install vaderSentiment"
      ],
      "execution_count": 1,
      "outputs": [
        {
          "output_type": "stream",
          "text": [
            "Collecting vaderSentiment\n",
            "\u001b[?25l  Downloading https://files.pythonhosted.org/packages/86/9e/c53e1fc61aac5ee490a6ac5e21b1ac04e55a7c2aba647bb8411c9aadf24e/vaderSentiment-3.2.1-py2.py3-none-any.whl (125kB)\n",
            "\u001b[K     |████████████████████████████████| 133kB 2.8MB/s \n",
            "\u001b[?25hInstalling collected packages: vaderSentiment\n",
            "Successfully installed vaderSentiment-3.2.1\n"
          ],
          "name": "stdout"
        }
      ]
    },
    {
      "cell_type": "code",
      "metadata": {
        "id": "8UgUO6DYq2f_",
        "colab_type": "code",
        "colab": {}
      },
      "source": [
        "import pandas as pd\n"
      ],
      "execution_count": 0,
      "outputs": []
    },
    {
      "cell_type": "code",
      "metadata": {
        "colab_type": "code",
        "id": "hegsHcg9u392",
        "colab": {}
      },
      "source": [
        "from sklearn.feature_extraction.text import CountVectorizer\n",
        "from sklearn.model_selection import train_test_split\n",
        "from sklearn.pipeline import make_pipeline\n",
        "from sklearn.linear_model import LogisticRegression\n",
        "from sklearn.model_selection import cross_val_score\n",
        "from sklearn.model_selection import GridSearchCV\n",
        "from sklearn.feature_extraction.text import TfidfVectorizer, TfidfTransformer\n",
        "import nltk\n",
        "import gensim\n",
        "from nltk.tokenize import sent_tokenize, word_tokenize \n",
        "from vaderSentiment.vaderSentiment import SentimentIntensityAnalyzer\n",
        "from scipy.sparse import hstack\n",
        "from sklearn.metrics import average_precision_score\n",
        "from sklearn.metrics import roc_auc_score\n",
        "from nltk import word_tokenize,sent_tokenize\n",
        "from gensim import corpora\n",
        "from sklearn.pipeline import Pipeline\n",
        "from sklearn.model_selection import cross_val_predict\n",
        "import matplotlib.pyplot as plt\n"
      ],
      "execution_count": 0,
      "outputs": []
    },
    {
      "cell_type": "code",
      "metadata": {
        "id": "2Nk86MpBquTx",
        "colab_type": "code",
        "colab": {}
      },
      "source": [
        "df_train = pd.read_csv(\"/content/labeled_data.csv\")[[\"tweet\",\"class\"]]\n",
        "df_train=df_train.sample(frac=1)"
      ],
      "execution_count": 0,
      "outputs": []
    },
    {
      "cell_type": "code",
      "metadata": {
        "id": "i87PSK5DdPkG",
        "colab_type": "code",
        "colab": {}
      },
      "source": [
        "X_train = df_train[df_train['class']==0]\n",
        "X__train = df_train[df_train['class']==1][:1000]\n",
        "X__train2 = df_train[df_train['class']==2][:1000]\n",
        "X_train = X_train.append(X__train)\n",
        "df_train = X_train.append(X__train2)\n"
      ],
      "execution_count": 0,
      "outputs": []
    },
    {
      "cell_type": "code",
      "metadata": {
        "id": "tX9-zww6q1DR",
        "colab_type": "code",
        "colab": {
          "base_uri": "https://localhost:8080/",
          "height": 52
        },
        "outputId": "4d733ed3-b449-4e40-99b1-8f057cabcf06"
      },
      "source": [
        "nltk.download(\"stopwords\")\n",
        "from nltk.stem.porter import *"
      ],
      "execution_count": 163,
      "outputs": [
        {
          "output_type": "stream",
          "text": [
            "[nltk_data] Downloading package stopwords to /root/nltk_data...\n",
            "[nltk_data]   Package stopwords is already up-to-date!\n"
          ],
          "name": "stdout"
        }
      ]
    },
    {
      "cell_type": "code",
      "metadata": {
        "id": "pyMLgv_urGYw",
        "colab_type": "code",
        "colab": {}
      },
      "source": [
        "stopwords=stopwords = nltk.corpus.stopwords.words(\"english\")\n",
        "\n",
        "other_exclusions = [\"#ff\", \"ff\", \"rt\",\"RT\"]\n",
        "stopwords.extend(other_exclusions)\n",
        "\n",
        "stemmer = PorterStemmer()\n",
        "\n",
        "def preprocess(text_string):\n",
        "    \n",
        "    #Lowercase string\n",
        "    text_string=text_string.lower()\n",
        "    space_pattern = '\\s+'\n",
        "    giant_url_regex = ('http[s]?://(?:[a-zA-Z]|[0-9]|[$-_@.&+]|'\n",
        "        '[!*\\(\\),]|(?:%[0-9a-fA-F][0-9a-fA-F]))+')\n",
        "    mention_regex = '@[\\w\\-]+'\n",
        "    hashtag_regex = '#[\\w\\-]+'\n",
        "    parsed_text = re.sub(space_pattern, ' ', text_string)\n",
        "    parsed_text = re.sub(giant_url_regex, 'URLHERE', parsed_text)\n",
        "    parsed_text = re.sub(mention_regex, 'MENTIONHERE', parsed_text)\n",
        "    parsed_text = re.sub(hashtag_regex, 'HASHTAGHERE', parsed_text)\n",
        "    \n",
        "    #Stem it\n",
        "    tweet = \" \".join(re.split(\"[^a-zA-Z]*\", parsed_text)).strip()\n",
        "    tokens = [stemmer.stem(t) for t in tweet.split()]\n",
        "    return tokens\n",
        "  \n",
        "  \n",
        "def pos_tag_seq(tokens):\n",
        "    tags = nltk.pos_tag(tokens)\n",
        "    tag_list = [x[1] for x in tags]\n",
        "    tag_str = \" \".join(tag_list)\n",
        "    return tag_str\n",
        "  \n",
        "  "
      ],
      "execution_count": 0,
      "outputs": []
    },
    {
      "cell_type": "code",
      "metadata": {
        "id": "_KLYa0pMrPFe",
        "colab_type": "code",
        "colab": {}
      },
      "source": [
        "def join_sent(l):\n",
        "  return \" \".join(l)"
      ],
      "execution_count": 0,
      "outputs": []
    },
    {
      "cell_type": "code",
      "metadata": {
        "id": "uwwuwgTPrXoD",
        "colab_type": "code",
        "colab": {
          "base_uri": "https://localhost:8080/",
          "height": 202
        },
        "outputId": "d5ecd512-b4d6-4d96-bdc5-37cc38413938"
      },
      "source": [
        "df_train.head()"
      ],
      "execution_count": 166,
      "outputs": [
        {
          "output_type": "execute_result",
          "data": {
            "text/html": [
              "<div>\n",
              "<style scoped>\n",
              "    .dataframe tbody tr th:only-of-type {\n",
              "        vertical-align: middle;\n",
              "    }\n",
              "\n",
              "    .dataframe tbody tr th {\n",
              "        vertical-align: top;\n",
              "    }\n",
              "\n",
              "    .dataframe thead th {\n",
              "        text-align: right;\n",
              "    }\n",
              "</style>\n",
              "<table border=\"1\" class=\"dataframe\">\n",
              "  <thead>\n",
              "    <tr style=\"text-align: right;\">\n",
              "      <th></th>\n",
              "      <th>tweet</th>\n",
              "      <th>class</th>\n",
              "    </tr>\n",
              "  </thead>\n",
              "  <tbody>\n",
              "    <tr>\n",
              "      <th>5865</th>\n",
              "      <td>@djfeds suck my dick tacos el negro better</td>\n",
              "      <td>0</td>\n",
              "    </tr>\n",
              "    <tr>\n",
              "      <th>5639</th>\n",
              "      <td>@bonnoxxx haha bitch ima draw a webb in bullet...</td>\n",
              "      <td>0</td>\n",
              "    </tr>\n",
              "    <tr>\n",
              "      <th>14985</th>\n",
              "      <td>RT @DestroTheNoble: I don't support that ya id...</td>\n",
              "      <td>0</td>\n",
              "    </tr>\n",
              "    <tr>\n",
              "      <th>14709</th>\n",
              "      <td>RT @ClassicBray: Lmaoo RT @PacDaGoat: That's a...</td>\n",
              "      <td>0</td>\n",
              "    </tr>\n",
              "    <tr>\n",
              "      <th>4519</th>\n",
              "      <td>@RepulsiveTool And the only band that sucked w...</td>\n",
              "      <td>0</td>\n",
              "    </tr>\n",
              "  </tbody>\n",
              "</table>\n",
              "</div>"
            ],
            "text/plain": [
              "                                                   tweet  class\n",
              "5865          @djfeds suck my dick tacos el negro better      0\n",
              "5639   @bonnoxxx haha bitch ima draw a webb in bullet...      0\n",
              "14985  RT @DestroTheNoble: I don't support that ya id...      0\n",
              "14709  RT @ClassicBray: Lmaoo RT @PacDaGoat: That's a...      0\n",
              "4519   @RepulsiveTool And the only band that sucked w...      0"
            ]
          },
          "metadata": {
            "tags": []
          },
          "execution_count": 166
        }
      ]
    },
    {
      "cell_type": "code",
      "metadata": {
        "id": "rGec-2vtrcNF",
        "colab_type": "code",
        "colab": {
          "base_uri": "https://localhost:8080/",
          "height": 87
        },
        "outputId": "77b031f2-9ca9-4a70-9c8e-d9d684422df1"
      },
      "source": [
        "s_train=df_train['tweet'].apply(preprocess)"
      ],
      "execution_count": 167,
      "outputs": [
        {
          "output_type": "stream",
          "text": [
            "/usr/lib/python3.6/re.py:212: FutureWarning:\n",
            "\n",
            "split() requires a non-empty pattern match.\n",
            "\n"
          ],
          "name": "stderr"
        }
      ]
    },
    {
      "cell_type": "code",
      "metadata": {
        "id": "Zqtgja_GrevA",
        "colab_type": "code",
        "colab": {}
      },
      "source": [
        "s_tr=s_train.apply(join_sent)"
      ],
      "execution_count": 0,
      "outputs": []
    },
    {
      "cell_type": "code",
      "metadata": {
        "colab_type": "code",
        "id": "v9tLIEjkdAsv",
        "colab": {}
      },
      "source": [
        "vectorizer = TfidfVectorizer(\n",
        "    preprocessor=None,\n",
        "    lowercase=False,\n",
        "    ngram_range=(1, 3),\n",
        "    use_idf=True,\n",
        "    smooth_idf=False,\n",
        "    norm=None,\n",
        "    stop_words=stopwords,\n",
        "    decode_error='replace',\n",
        "    max_features=10000,\n",
        "    min_df=5,\n",
        "    max_df=0.75)\n"
      ],
      "execution_count": 0,
      "outputs": []
    },
    {
      "cell_type": "code",
      "metadata": {
        "id": "vEbmohykrlfT",
        "colab_type": "code",
        "colab": {}
      },
      "source": [
        "tfidf_tr = vectorizer.fit_transform(s_tr).toarray()\n",
        "\n",
        "vocab = {v:i for i, v in enumerate(vectorizer.get_feature_names())}\n",
        "idf_vals = vectorizer.idf_\n",
        "idf_dict = {i:idf_vals[i] for i in vocab.values()}"
      ],
      "execution_count": 0,
      "outputs": []
    },
    {
      "cell_type": "code",
      "metadata": {
        "id": "Jo5Gtyq2rnbJ",
        "colab_type": "code",
        "colab": {}
      },
      "source": [
        "from vaderSentiment.vaderSentiment import SentimentIntensityAnalyzer as VS\n",
        "sentiment_analyzer = VS()\n"
      ],
      "execution_count": 0,
      "outputs": []
    },
    {
      "cell_type": "code",
      "metadata": {
        "id": "SV5styF9rpGq",
        "colab_type": "code",
        "colab": {}
      },
      "source": [
        "def get_sentiment(text):\n",
        "  sentiment = sentiment_analyzer.polarity_scores(text)\n",
        "  return sentiment\n",
        "\n",
        "#   return sentiment[\"neg\"], sentiment[\"pos\"], sentiment[\"neu\"]"
      ],
      "execution_count": 0,
      "outputs": []
    },
    {
      "cell_type": "code",
      "metadata": {
        "id": "PxSWA1gnrqaT",
        "colab_type": "code",
        "colab": {}
      },
      "source": [
        "df_train[\"sent\"]=df_train[\"tweet\"].apply(get_sentiment) "
      ],
      "execution_count": 0,
      "outputs": []
    },
    {
      "cell_type": "code",
      "metadata": {
        "id": "cNwcLyw2rrx2",
        "colab_type": "code",
        "colab": {}
      },
      "source": [
        "foo_tr = lambda x: pd.Series([x[\"pos\"],x[\"neg\"],x[\"neu\"]])\n",
        "rev_tr = df_train['sent'].apply(foo_tr)\n"
      ],
      "execution_count": 0,
      "outputs": []
    },
    {
      "cell_type": "code",
      "metadata": {
        "id": "n25v1m7LrtYa",
        "colab_type": "code",
        "colab": {}
      },
      "source": [
        "rev_tr.columns=[\"pos\",\"neg\",\"neu\"]"
      ],
      "execution_count": 0,
      "outputs": []
    },
    {
      "cell_type": "code",
      "metadata": {
        "id": "GRHUIYGTru3I",
        "colab_type": "code",
        "colab": {
          "base_uri": "https://localhost:8080/",
          "height": 202
        },
        "outputId": "1c253a75-e0b3-4284-fb58-48380b961c0c"
      },
      "source": [
        "rev_tr.head()"
      ],
      "execution_count": 178,
      "outputs": [
        {
          "output_type": "execute_result",
          "data": {
            "text/html": [
              "<div>\n",
              "<style scoped>\n",
              "    .dataframe tbody tr th:only-of-type {\n",
              "        vertical-align: middle;\n",
              "    }\n",
              "\n",
              "    .dataframe tbody tr th {\n",
              "        vertical-align: top;\n",
              "    }\n",
              "\n",
              "    .dataframe thead th {\n",
              "        text-align: right;\n",
              "    }\n",
              "</style>\n",
              "<table border=\"1\" class=\"dataframe\">\n",
              "  <thead>\n",
              "    <tr style=\"text-align: right;\">\n",
              "      <th></th>\n",
              "      <th>pos</th>\n",
              "      <th>neg</th>\n",
              "      <th>neu</th>\n",
              "    </tr>\n",
              "  </thead>\n",
              "  <tbody>\n",
              "    <tr>\n",
              "      <th>5865</th>\n",
              "      <td>0.206</td>\n",
              "      <td>0.440</td>\n",
              "      <td>0.355</td>\n",
              "    </tr>\n",
              "    <tr>\n",
              "      <th>5639</th>\n",
              "      <td>0.117</td>\n",
              "      <td>0.297</td>\n",
              "      <td>0.586</td>\n",
              "    </tr>\n",
              "    <tr>\n",
              "      <th>14985</th>\n",
              "      <td>0.000</td>\n",
              "      <td>0.270</td>\n",
              "      <td>0.730</td>\n",
              "    </tr>\n",
              "    <tr>\n",
              "      <th>14709</th>\n",
              "      <td>0.085</td>\n",
              "      <td>0.347</td>\n",
              "      <td>0.568</td>\n",
              "    </tr>\n",
              "    <tr>\n",
              "      <th>4519</th>\n",
              "      <td>0.000</td>\n",
              "      <td>0.319</td>\n",
              "      <td>0.681</td>\n",
              "    </tr>\n",
              "  </tbody>\n",
              "</table>\n",
              "</div>"
            ],
            "text/plain": [
              "         pos    neg    neu\n",
              "5865   0.206  0.440  0.355\n",
              "5639   0.117  0.297  0.586\n",
              "14985  0.000  0.270  0.730\n",
              "14709  0.085  0.347  0.568\n",
              "4519   0.000  0.319  0.681"
            ]
          },
          "metadata": {
            "tags": []
          },
          "execution_count": 178
        }
      ]
    },
    {
      "cell_type": "code",
      "metadata": {
        "id": "iiyjNyRCrwVS",
        "colab_type": "code",
        "colab": {}
      },
      "source": [
        "def return_cont(parsed_text):\n",
        "  return(parsed_text.count('urlher'),parsed_text.count('mentionher'),parsed_text.count('hashtagher'))"
      ],
      "execution_count": 0,
      "outputs": []
    },
    {
      "cell_type": "code",
      "metadata": {
        "id": "HvYv8N0Uryxp",
        "colab_type": "code",
        "colab": {}
      },
      "source": [
        "df_train[\"counts\"]=s_tr.apply(return_cont) "
      ],
      "execution_count": 0,
      "outputs": []
    },
    {
      "cell_type": "code",
      "metadata": {
        "id": "Qv8vXeqCr0Re",
        "colab_type": "code",
        "colab": {}
      },
      "source": [
        "foo = lambda x: pd.Series([x[0],x[1],x[2]])\n",
        "mention_counts_tr = df_train['counts'].apply(foo)\n"
      ],
      "execution_count": 0,
      "outputs": []
    },
    {
      "cell_type": "code",
      "metadata": {
        "id": "W4knEynNr1pd",
        "colab_type": "code",
        "colab": {
          "base_uri": "https://localhost:8080/",
          "height": 69
        },
        "outputId": "d2afaf66-7243-4d02-990f-c268add42984"
      },
      "source": [
        "!pip install textstat\n",
        "from textstat.textstat import *"
      ],
      "execution_count": 182,
      "outputs": [
        {
          "output_type": "stream",
          "text": [
            "Requirement already satisfied: textstat in /usr/local/lib/python3.6/dist-packages (0.5.6)\n",
            "Requirement already satisfied: repoze.lru in /usr/local/lib/python3.6/dist-packages (from textstat) (0.7)\n",
            "Requirement already satisfied: pyphen in /usr/local/lib/python3.6/dist-packages (from textstat) (0.9.5)\n"
          ],
          "name": "stdout"
        }
      ]
    },
    {
      "cell_type": "code",
      "metadata": {
        "id": "QyDFkOG5r4PJ",
        "colab_type": "code",
        "colab": {}
      },
      "source": [
        "def get_other_features(text):\n",
        "    space_pattern = '\\s+'\n",
        "    giant_url_regex = ('http[s]?://(?:[a-zA-Z]|[0-9]|[$-_@.&+]|'\n",
        "        '[!*\\(\\),]|(?:%[0-9a-fA-F][0-9a-fA-F]))+')\n",
        "    mention_regex = '@[\\w\\-]+'\n",
        "    parsed_text = re.sub(space_pattern, ' ', text)\n",
        "    parsed_text = re.sub(giant_url_regex, '', parsed_text)\n",
        "    words = re.sub(mention_regex, '', parsed_text)\n",
        "    \n",
        "    syllables = textstat.syllable_count(words)\n",
        "    num_chars = sum(len(w) for w in words)\n",
        "    num_chars_total = len(text)\n",
        "    num_terms = len(text.split())\n",
        "    num_words = len(words.split())\n",
        "    avg_syl = round(float((syllables+0.001))/float(num_words+0.001),4)\n",
        "    num_unique_terms = len(set(words.split()))\n",
        "    \n",
        "    ###Modified FK grade, where avg words per sentence is just num words/1\n",
        "    FKRA = round(float(0.39 * float(num_words)/1.0) + float(11.8 * avg_syl) - 15.59,1)\n",
        "    ##Modified FRE score, where sentence fixed to 1\n",
        "    FRE = round(206.835 - 1.015*(float(num_words)/1.0) - (84.6*float(avg_syl)),2)\n",
        "    \n",
        "    features = [FKRA, FRE,syllables, avg_syl, num_chars, num_terms, num_words,\n",
        "                num_unique_terms]\n",
        "    return features\n",
        "    \n",
        "  "
      ],
      "execution_count": 0,
      "outputs": []
    },
    {
      "cell_type": "code",
      "metadata": {
        "id": "zs1FQXacr5gF",
        "colab_type": "code",
        "colab": {}
      },
      "source": [
        "other_feats_tr=df_train[\"tweet\"].apply(get_other_features)"
      ],
      "execution_count": 0,
      "outputs": []
    },
    {
      "cell_type": "code",
      "metadata": {
        "id": "7MV4pCCHr7ZG",
        "colab_type": "code",
        "colab": {}
      },
      "source": [
        "other_features_names = [\"FKRA\", \"FRE\",\"num_syllables\", \"avg_syl_per_word\", \"num_chars\",\"num_terms\", \"num_words\", \"num_unique_words\"]"
      ],
      "execution_count": 0,
      "outputs": []
    },
    {
      "cell_type": "code",
      "metadata": {
        "id": "shSJIBTnr89N",
        "colab_type": "code",
        "colab": {}
      },
      "source": [
        "foo = lambda x: pd.Series(elem for elem in x)\n",
        "of_counts_tr = other_feats_tr.apply(foo)"
      ],
      "execution_count": 0,
      "outputs": []
    },
    {
      "cell_type": "code",
      "metadata": {
        "colab_type": "code",
        "id": "8N_fFXxtPzIu",
        "colab": {}
      },
      "source": [
        "of_counts_tr.columns=other_features_names"
      ],
      "execution_count": 0,
      "outputs": []
    },
    {
      "cell_type": "code",
      "metadata": {
        "id": "CnkrBFP1sD_1",
        "colab_type": "code",
        "colab": {
          "base_uri": "https://localhost:8080/",
          "height": 1949
        },
        "outputId": "5c7ba19d-1239-4527-9e83-9898ae60771a"
      },
      "source": [
        "#Removing unnecessary columns\n",
        "df_train.drop([ \"sent\",\"counts\"], axis=1)"
      ],
      "execution_count": 188,
      "outputs": [
        {
          "output_type": "execute_result",
          "data": {
            "text/html": [
              "<div>\n",
              "<style scoped>\n",
              "    .dataframe tbody tr th:only-of-type {\n",
              "        vertical-align: middle;\n",
              "    }\n",
              "\n",
              "    .dataframe tbody tr th {\n",
              "        vertical-align: top;\n",
              "    }\n",
              "\n",
              "    .dataframe thead th {\n",
              "        text-align: right;\n",
              "    }\n",
              "</style>\n",
              "<table border=\"1\" class=\"dataframe\">\n",
              "  <thead>\n",
              "    <tr style=\"text-align: right;\">\n",
              "      <th></th>\n",
              "      <th>tweet</th>\n",
              "      <th>class</th>\n",
              "    </tr>\n",
              "  </thead>\n",
              "  <tbody>\n",
              "    <tr>\n",
              "      <th>5865</th>\n",
              "      <td>@djfeds suck my dick tacos el negro better</td>\n",
              "      <td>0</td>\n",
              "    </tr>\n",
              "    <tr>\n",
              "      <th>5639</th>\n",
              "      <td>@bonnoxxx haha bitch ima draw a webb in bullet...</td>\n",
              "      <td>0</td>\n",
              "    </tr>\n",
              "    <tr>\n",
              "      <th>14985</th>\n",
              "      <td>RT @DestroTheNoble: I don't support that ya id...</td>\n",
              "      <td>0</td>\n",
              "    </tr>\n",
              "    <tr>\n",
              "      <th>14709</th>\n",
              "      <td>RT @ClassicBray: Lmaoo RT @PacDaGoat: That's a...</td>\n",
              "      <td>0</td>\n",
              "    </tr>\n",
              "    <tr>\n",
              "      <th>4519</th>\n",
              "      <td>@RepulsiveTool And the only band that sucked w...</td>\n",
              "      <td>0</td>\n",
              "    </tr>\n",
              "    <tr>\n",
              "      <th>7272</th>\n",
              "      <td>@wclemons @thejoelberggren @anthonycumia you l...</td>\n",
              "      <td>0</td>\n",
              "    </tr>\n",
              "    <tr>\n",
              "      <th>20362</th>\n",
              "      <td>RT @xDSmooth: The way this niggah just flinche...</td>\n",
              "      <td>0</td>\n",
              "    </tr>\n",
              "    <tr>\n",
              "      <th>3449</th>\n",
              "      <td>@IGGYAZALEA it was a joke you fugly bitch be h...</td>\n",
              "      <td>0</td>\n",
              "    </tr>\n",
              "    <tr>\n",
              "      <th>14728</th>\n",
              "      <td>RT @CloutGod: Horrible rapper #1 Tyga - Most t...</td>\n",
              "      <td>0</td>\n",
              "    </tr>\n",
              "    <tr>\n",
              "      <th>583</th>\n",
              "      <td>\"We're out here, and we're queer!\"\\n\" 2, 4, 6,...</td>\n",
              "      <td>0</td>\n",
              "    </tr>\n",
              "    <tr>\n",
              "      <th>10972</th>\n",
              "      <td>I think this nigga retarded G</td>\n",
              "      <td>0</td>\n",
              "    </tr>\n",
              "    <tr>\n",
              "      <th>14089</th>\n",
              "      <td>RT @ASAP_Ford: I hate when a nigga ask me \"Whe...</td>\n",
              "      <td>0</td>\n",
              "    </tr>\n",
              "    <tr>\n",
              "      <th>4618</th>\n",
              "      <td>@S_Roach happy birthday nicca do coon shit in ...</td>\n",
              "      <td>0</td>\n",
              "    </tr>\n",
              "    <tr>\n",
              "      <th>12225</th>\n",
              "      <td>Kick dem fucc niccas out da spot</td>\n",
              "      <td>0</td>\n",
              "    </tr>\n",
              "    <tr>\n",
              "      <th>6039</th>\n",
              "      <td>@gonzalez_sassy ur not sassy white trash chang...</td>\n",
              "      <td>0</td>\n",
              "    </tr>\n",
              "    <tr>\n",
              "      <th>17445</th>\n",
              "      <td>RT @SteveStfler: ur a faggot if you change you...</td>\n",
              "      <td>0</td>\n",
              "    </tr>\n",
              "    <tr>\n",
              "      <th>5530</th>\n",
              "      <td>@aravosis May I jump in u ball-less dick-wad? ...</td>\n",
              "      <td>0</td>\n",
              "    </tr>\n",
              "    <tr>\n",
              "      <th>9153</th>\n",
              "      <td>For all we know this nigga a rapist. Y'all hoe...</td>\n",
              "      <td>0</td>\n",
              "    </tr>\n",
              "    <tr>\n",
              "      <th>3470</th>\n",
              "      <td>@IamShady_ that's not even a real word! Must h...</td>\n",
              "      <td>0</td>\n",
              "    </tr>\n",
              "    <tr>\n",
              "      <th>5557</th>\n",
              "      <td>@austin_farrar your a fucking queer faggot bitch</td>\n",
              "      <td>0</td>\n",
              "    </tr>\n",
              "    <tr>\n",
              "      <th>2472</th>\n",
              "      <td>@Arbogucci guys not supposed to get their ass ...</td>\n",
              "      <td>0</td>\n",
              "    </tr>\n",
              "    <tr>\n",
              "      <th>5308</th>\n",
              "      <td>@_GOLDwhippp faggots, old people, people who c...</td>\n",
              "      <td>0</td>\n",
              "    </tr>\n",
              "    <tr>\n",
              "      <th>14838</th>\n",
              "      <td>RT @Cuzimdaddy_: !!! @5feet_0inches is dis wro...</td>\n",
              "      <td>0</td>\n",
              "    </tr>\n",
              "    <tr>\n",
              "      <th>3591</th>\n",
              "      <td>@JacobbBacker fag</td>\n",
              "      <td>0</td>\n",
              "    </tr>\n",
              "    <tr>\n",
              "      <th>4221</th>\n",
              "      <td>@NOT_UR_BRO @niccol3_xo lmao nigga shoulda sai...</td>\n",
              "      <td>0</td>\n",
              "    </tr>\n",
              "    <tr>\n",
              "      <th>4124</th>\n",
              "      <td>@Mimistheone You really seem to love Sandusky....</td>\n",
              "      <td>0</td>\n",
              "    </tr>\n",
              "    <tr>\n",
              "      <th>7770</th>\n",
              "      <td>Ankles &amp;#128128;&amp;#128514;&amp;#8220;@Saina_faal: &amp;...</td>\n",
              "      <td>0</td>\n",
              "    </tr>\n",
              "    <tr>\n",
              "      <th>8231</th>\n",
              "      <td>Bumped into a bitch that filed for sexual hara...</td>\n",
              "      <td>0</td>\n",
              "    </tr>\n",
              "    <tr>\n",
              "      <th>4231</th>\n",
              "      <td>@NYRKelsMads @DaniloNavarro85 Hey fag, I said ...</td>\n",
              "      <td>0</td>\n",
              "    </tr>\n",
              "    <tr>\n",
              "      <th>11097</th>\n",
              "      <td>I wish faggots like @tyga would stop making mu...</td>\n",
              "      <td>0</td>\n",
              "    </tr>\n",
              "    <tr>\n",
              "      <th>...</th>\n",
              "      <td>...</td>\n",
              "      <td>...</td>\n",
              "    </tr>\n",
              "    <tr>\n",
              "      <th>9736</th>\n",
              "      <td>He never replied to my asking about his callin...</td>\n",
              "      <td>2</td>\n",
              "    </tr>\n",
              "    <tr>\n",
              "      <th>13552</th>\n",
              "      <td>Oh snap I'm just realizing this skinny tranny ...</td>\n",
              "      <td>2</td>\n",
              "    </tr>\n",
              "    <tr>\n",
              "      <th>24634</th>\n",
              "      <td>under my windoowww &amp;#8220;@brettcanfly: Bleach...</td>\n",
              "      <td>2</td>\n",
              "    </tr>\n",
              "    <tr>\n",
              "      <th>2314</th>\n",
              "      <td>@1SonofYahweh &amp;amp; what we do with our foolis...</td>\n",
              "      <td>2</td>\n",
              "    </tr>\n",
              "    <tr>\n",
              "      <th>20801</th>\n",
              "      <td>Should I be worried that a lady behind my buil...</td>\n",
              "      <td>2</td>\n",
              "    </tr>\n",
              "    <tr>\n",
              "      <th>19919</th>\n",
              "      <td>RT @rickygervais: Humans are genetically close...</td>\n",
              "      <td>2</td>\n",
              "    </tr>\n",
              "    <tr>\n",
              "      <th>14492</th>\n",
              "      <td>RT @BroganWebber: Wiz is garbage to be put in ...</td>\n",
              "      <td>2</td>\n",
              "    </tr>\n",
              "    <tr>\n",
              "      <th>20975</th>\n",
              "      <td>So now been trill is trash cus asap said so &amp;#...</td>\n",
              "      <td>2</td>\n",
              "    </tr>\n",
              "    <tr>\n",
              "      <th>13429</th>\n",
              "      <td>Nose goes on taking out the trash this time. &amp;...</td>\n",
              "      <td>2</td>\n",
              "    </tr>\n",
              "    <tr>\n",
              "      <th>22725</th>\n",
              "      <td>When people label their name on there ghetto n...</td>\n",
              "      <td>2</td>\n",
              "    </tr>\n",
              "    <tr>\n",
              "      <th>13614</th>\n",
              "      <td>Omoide Yokocho : Shinjuku, Tokyo, Japan / Jap&amp;...</td>\n",
              "      <td>2</td>\n",
              "    </tr>\n",
              "    <tr>\n",
              "      <th>8946</th>\n",
              "      <td>Endless but they really trash so none RT @Whoa...</td>\n",
              "      <td>2</td>\n",
              "    </tr>\n",
              "    <tr>\n",
              "      <th>8327</th>\n",
              "      <td>Can we revisit @ChairmanL's idea of two teams ...</td>\n",
              "      <td>2</td>\n",
              "    </tr>\n",
              "    <tr>\n",
              "      <th>16424</th>\n",
              "      <td>RT @MemphisMSoccer: 50' 2nd yellow card issued...</td>\n",
              "      <td>2</td>\n",
              "    </tr>\n",
              "    <tr>\n",
              "      <th>19973</th>\n",
              "      <td>RT @sassytbh: a girl tweeted \"you might be ghe...</td>\n",
              "      <td>2</td>\n",
              "    </tr>\n",
              "    <tr>\n",
              "      <th>10964</th>\n",
              "      <td>I think about the fact that dinosaurs evolved ...</td>\n",
              "      <td>2</td>\n",
              "    </tr>\n",
              "    <tr>\n",
              "      <th>16320</th>\n",
              "      <td>RT @Lysettemariee: Jamal is a fool &amp;#128514;&amp;#...</td>\n",
              "      <td>2</td>\n",
              "    </tr>\n",
              "    <tr>\n",
              "      <th>1777</th>\n",
              "      <td>&amp;#8220;@iCARLEYBBY: &amp;#8220;@DJZeeti: twitpic a...</td>\n",
              "      <td>2</td>\n",
              "    </tr>\n",
              "    <tr>\n",
              "      <th>14311</th>\n",
              "      <td>RT @Baseball_Photos: A 17 year old girl once s...</td>\n",
              "      <td>2</td>\n",
              "    </tr>\n",
              "    <tr>\n",
              "      <th>20845</th>\n",
              "      <td>Sierra almost got caught with the ole hick &amp;#1...</td>\n",
              "      <td>2</td>\n",
              "    </tr>\n",
              "    <tr>\n",
              "      <th>14459</th>\n",
              "      <td>RT @Brandee876: ghetto sour cream http://t.co/...</td>\n",
              "      <td>2</td>\n",
              "    </tr>\n",
              "    <tr>\n",
              "      <th>8506</th>\n",
              "      <td>Come home from work to Bridesmaids, Twinkies a...</td>\n",
              "      <td>2</td>\n",
              "    </tr>\n",
              "    <tr>\n",
              "      <th>5922</th>\n",
              "      <td>@elise_palmer sounds like gypos to me - they u...</td>\n",
              "      <td>2</td>\n",
              "    </tr>\n",
              "    <tr>\n",
              "      <th>3931</th>\n",
              "      <td>@LinzBella \\nYou date colored men?</td>\n",
              "      <td>2</td>\n",
              "    </tr>\n",
              "    <tr>\n",
              "      <th>18679</th>\n",
              "      <td>RT @boominator: &amp;#8220;@CureOurCountry: Rand P...</td>\n",
              "      <td>2</td>\n",
              "    </tr>\n",
              "    <tr>\n",
              "      <th>11218</th>\n",
              "      <td>I'm a sucker for colored eyes &amp;#128532;&amp;#128532;</td>\n",
              "      <td>2</td>\n",
              "    </tr>\n",
              "    <tr>\n",
              "      <th>1017</th>\n",
              "      <td>&amp;#128525;&amp;#128525;&amp;#128525;\\n\\n&amp;#8220;@whatski...</td>\n",
              "      <td>2</td>\n",
              "    </tr>\n",
              "    <tr>\n",
              "      <th>19722</th>\n",
              "      <td>RT @murrman5: you up, Charlie Brown?</td>\n",
              "      <td>2</td>\n",
              "    </tr>\n",
              "    <tr>\n",
              "      <th>18665</th>\n",
              "      <td>RT @bitterarab: Now that Halloween is fast app...</td>\n",
              "      <td>2</td>\n",
              "    </tr>\n",
              "    <tr>\n",
              "      <th>13714</th>\n",
              "      <td>Or get swept in MoTown LOL #Yankees #Tigers #MLB</td>\n",
              "      <td>2</td>\n",
              "    </tr>\n",
              "  </tbody>\n",
              "</table>\n",
              "<p>3430 rows × 2 columns</p>\n",
              "</div>"
            ],
            "text/plain": [
              "                                                   tweet  class\n",
              "5865          @djfeds suck my dick tacos el negro better      0\n",
              "5639   @bonnoxxx haha bitch ima draw a webb in bullet...      0\n",
              "14985  RT @DestroTheNoble: I don't support that ya id...      0\n",
              "14709  RT @ClassicBray: Lmaoo RT @PacDaGoat: That's a...      0\n",
              "4519   @RepulsiveTool And the only band that sucked w...      0\n",
              "7272   @wclemons @thejoelberggren @anthonycumia you l...      0\n",
              "20362  RT @xDSmooth: The way this niggah just flinche...      0\n",
              "3449   @IGGYAZALEA it was a joke you fugly bitch be h...      0\n",
              "14728  RT @CloutGod: Horrible rapper #1 Tyga - Most t...      0\n",
              "583    \"We're out here, and we're queer!\"\\n\" 2, 4, 6,...      0\n",
              "10972                      I think this nigga retarded G      0\n",
              "14089  RT @ASAP_Ford: I hate when a nigga ask me \"Whe...      0\n",
              "4618   @S_Roach happy birthday nicca do coon shit in ...      0\n",
              "12225                   Kick dem fucc niccas out da spot      0\n",
              "6039   @gonzalez_sassy ur not sassy white trash chang...      0\n",
              "17445  RT @SteveStfler: ur a faggot if you change you...      0\n",
              "5530   @aravosis May I jump in u ball-less dick-wad? ...      0\n",
              "9153   For all we know this nigga a rapist. Y'all hoe...      0\n",
              "3470   @IamShady_ that's not even a real word! Must h...      0\n",
              "5557    @austin_farrar your a fucking queer faggot bitch      0\n",
              "2472   @Arbogucci guys not supposed to get their ass ...      0\n",
              "5308   @_GOLDwhippp faggots, old people, people who c...      0\n",
              "14838  RT @Cuzimdaddy_: !!! @5feet_0inches is dis wro...      0\n",
              "3591                                   @JacobbBacker fag      0\n",
              "4221   @NOT_UR_BRO @niccol3_xo lmao nigga shoulda sai...      0\n",
              "4124   @Mimistheone You really seem to love Sandusky....      0\n",
              "7770   Ankles &#128128;&#128514;&#8220;@Saina_faal: &...      0\n",
              "8231   Bumped into a bitch that filed for sexual hara...      0\n",
              "4231   @NYRKelsMads @DaniloNavarro85 Hey fag, I said ...      0\n",
              "11097  I wish faggots like @tyga would stop making mu...      0\n",
              "...                                                  ...    ...\n",
              "9736   He never replied to my asking about his callin...      2\n",
              "13552  Oh snap I'm just realizing this skinny tranny ...      2\n",
              "24634  under my windoowww &#8220;@brettcanfly: Bleach...      2\n",
              "2314   @1SonofYahweh &amp; what we do with our foolis...      2\n",
              "20801  Should I be worried that a lady behind my buil...      2\n",
              "19919  RT @rickygervais: Humans are genetically close...      2\n",
              "14492  RT @BroganWebber: Wiz is garbage to be put in ...      2\n",
              "20975  So now been trill is trash cus asap said so &#...      2\n",
              "13429  Nose goes on taking out the trash this time. &...      2\n",
              "22725  When people label their name on there ghetto n...      2\n",
              "13614  Omoide Yokocho : Shinjuku, Tokyo, Japan / Jap&...      2\n",
              "8946   Endless but they really trash so none RT @Whoa...      2\n",
              "8327   Can we revisit @ChairmanL's idea of two teams ...      2\n",
              "16424  RT @MemphisMSoccer: 50' 2nd yellow card issued...      2\n",
              "19973  RT @sassytbh: a girl tweeted \"you might be ghe...      2\n",
              "10964  I think about the fact that dinosaurs evolved ...      2\n",
              "16320  RT @Lysettemariee: Jamal is a fool &#128514;&#...      2\n",
              "1777   &#8220;@iCARLEYBBY: &#8220;@DJZeeti: twitpic a...      2\n",
              "14311  RT @Baseball_Photos: A 17 year old girl once s...      2\n",
              "20845  Sierra almost got caught with the ole hick &#1...      2\n",
              "14459  RT @Brandee876: ghetto sour cream http://t.co/...      2\n",
              "8506   Come home from work to Bridesmaids, Twinkies a...      2\n",
              "5922   @elise_palmer sounds like gypos to me - they u...      2\n",
              "3931                  @LinzBella \\nYou date colored men?      2\n",
              "18679  RT @boominator: &#8220;@CureOurCountry: Rand P...      2\n",
              "11218   I'm a sucker for colored eyes &#128532;&#128532;      2\n",
              "1017   &#128525;&#128525;&#128525;\\n\\n&#8220;@whatski...      2\n",
              "19722               RT @murrman5: you up, Charlie Brown?      2\n",
              "18665  RT @bitterarab: Now that Halloween is fast app...      2\n",
              "13714   Or get swept in MoTown LOL #Yankees #Tigers #MLB      2\n",
              "\n",
              "[3430 rows x 2 columns]"
            ]
          },
          "metadata": {
            "tags": []
          },
          "execution_count": 188
        }
      ]
    },
    {
      "cell_type": "code",
      "metadata": {
        "id": "ptxy4RLzsETp",
        "colab_type": "code",
        "colab": {}
      },
      "source": [
        "import numpy as np\n",
        "x_train=np.concatenate([pd.DataFrame(tfidf_tr),rev_tr,mention_counts_tr, of_counts_tr],axis=1 )\n"
      ],
      "execution_count": 0,
      "outputs": []
    },
    {
      "cell_type": "code",
      "metadata": {
        "id": "Uu6EMUV2sd5f",
        "colab_type": "code",
        "colab": {
          "base_uri": "https://localhost:8080/",
          "height": 139
        },
        "outputId": "b37c12e9-67cb-4d92-e01a-36d1978c7dfb"
      },
      "source": [
        "x_train[:10]"
      ],
      "execution_count": 190,
      "outputs": [
        {
          "output_type": "execute_result",
          "data": {
            "text/plain": [
              "array([[ 0.,  0.,  0., ...,  8.,  7.,  7.],\n",
              "       [ 0.,  0.,  0., ..., 20., 19., 18.],\n",
              "       [ 0.,  0.,  0., ..., 19., 17., 17.],\n",
              "       ...,\n",
              "       [ 0.,  0.,  0., ..., 18., 17., 17.],\n",
              "       [ 0.,  0.,  0., ..., 28., 28., 26.],\n",
              "       [ 0.,  0.,  0., ..., 17., 17., 17.]])"
            ]
          },
          "metadata": {
            "tags": []
          },
          "execution_count": 190
        }
      ]
    },
    {
      "cell_type": "code",
      "metadata": {
        "id": "ks_VeplBsItf",
        "colab_type": "code",
        "colab": {}
      },
      "source": [
        "df_train['len'] = df_train['tweet'].astype(str).apply(len)\n",
        "df_train['word_count'] = df_train['tweet'].apply(lambda x: len(str(x).split()))"
      ],
      "execution_count": 0,
      "outputs": []
    },
    {
      "cell_type": "code",
      "metadata": {
        "id": "3J71GW_vGVLl",
        "colab_type": "code",
        "colab": {}
      },
      "source": [
        "df_train[\"pos\"]=rev_tr[\"pos\"]"
      ],
      "execution_count": 0,
      "outputs": []
    },
    {
      "cell_type": "code",
      "metadata": {
        "id": "KHEYREa5tB9i",
        "colab_type": "code",
        "colab": {}
      },
      "source": [
        "df_train[\"neg\"]=rev_tr[\"neg\"]\n",
        "df_train[\"neu\"]=rev_tr[\"neu\"]"
      ],
      "execution_count": 0,
      "outputs": []
    },
    {
      "cell_type": "code",
      "metadata": {
        "id": "pVuQyPSKFy67",
        "colab_type": "code",
        "colab": {
          "base_uri": "https://localhost:8080/",
          "height": 306
        },
        "outputId": "523e0160-b274-4847-ae07-f88736fc70ef"
      },
      "source": [
        "df_train.head()"
      ],
      "execution_count": 194,
      "outputs": [
        {
          "output_type": "execute_result",
          "data": {
            "text/html": [
              "<div>\n",
              "<style scoped>\n",
              "    .dataframe tbody tr th:only-of-type {\n",
              "        vertical-align: middle;\n",
              "    }\n",
              "\n",
              "    .dataframe tbody tr th {\n",
              "        vertical-align: top;\n",
              "    }\n",
              "\n",
              "    .dataframe thead th {\n",
              "        text-align: right;\n",
              "    }\n",
              "</style>\n",
              "<table border=\"1\" class=\"dataframe\">\n",
              "  <thead>\n",
              "    <tr style=\"text-align: right;\">\n",
              "      <th></th>\n",
              "      <th>tweet</th>\n",
              "      <th>class</th>\n",
              "      <th>sent</th>\n",
              "      <th>counts</th>\n",
              "      <th>len</th>\n",
              "      <th>word_count</th>\n",
              "      <th>pos</th>\n",
              "      <th>neg</th>\n",
              "      <th>neu</th>\n",
              "    </tr>\n",
              "  </thead>\n",
              "  <tbody>\n",
              "    <tr>\n",
              "      <th>5865</th>\n",
              "      <td>@djfeds suck my dick tacos el negro better</td>\n",
              "      <td>0</td>\n",
              "      <td>{'neg': 0.44, 'neu': 0.355, 'pos': 0.206, 'com...</td>\n",
              "      <td>(0, 1, 0)</td>\n",
              "      <td>42</td>\n",
              "      <td>8</td>\n",
              "      <td>0.206</td>\n",
              "      <td>0.440</td>\n",
              "      <td>0.355</td>\n",
              "    </tr>\n",
              "    <tr>\n",
              "      <th>5639</th>\n",
              "      <td>@bonnoxxx haha bitch ima draw a webb in bullet...</td>\n",
              "      <td>0</td>\n",
              "      <td>{'neg': 0.297, 'neu': 0.586, 'pos': 0.117, 'co...</td>\n",
              "      <td>(0, 1, 1)</td>\n",
              "      <td>112</td>\n",
              "      <td>20</td>\n",
              "      <td>0.117</td>\n",
              "      <td>0.297</td>\n",
              "      <td>0.586</td>\n",
              "    </tr>\n",
              "    <tr>\n",
              "      <th>14985</th>\n",
              "      <td>RT @DestroTheNoble: I don't support that ya id...</td>\n",
              "      <td>0</td>\n",
              "      <td>{'neg': 0.27, 'neu': 0.73, 'pos': 0.0, 'compou...</td>\n",
              "      <td>(0, 3, 1)</td>\n",
              "      <td>132</td>\n",
              "      <td>19</td>\n",
              "      <td>0.000</td>\n",
              "      <td>0.270</td>\n",
              "      <td>0.730</td>\n",
              "    </tr>\n",
              "    <tr>\n",
              "      <th>14709</th>\n",
              "      <td>RT @ClassicBray: Lmaoo RT @PacDaGoat: That's a...</td>\n",
              "      <td>0</td>\n",
              "      <td>{'neg': 0.347, 'neu': 0.568, 'pos': 0.085, 'co...</td>\n",
              "      <td>(1, 3, 0)</td>\n",
              "      <td>118</td>\n",
              "      <td>14</td>\n",
              "      <td>0.085</td>\n",
              "      <td>0.347</td>\n",
              "      <td>0.568</td>\n",
              "    </tr>\n",
              "    <tr>\n",
              "      <th>4519</th>\n",
              "      <td>@RepulsiveTool And the only band that sucked w...</td>\n",
              "      <td>0</td>\n",
              "      <td>{'neg': 0.319, 'neu': 0.681, 'pos': 0.0, 'comp...</td>\n",
              "      <td>(0, 1, 0)</td>\n",
              "      <td>87</td>\n",
              "      <td>15</td>\n",
              "      <td>0.000</td>\n",
              "      <td>0.319</td>\n",
              "      <td>0.681</td>\n",
              "    </tr>\n",
              "  </tbody>\n",
              "</table>\n",
              "</div>"
            ],
            "text/plain": [
              "                                                   tweet  class  \\\n",
              "5865          @djfeds suck my dick tacos el negro better      0   \n",
              "5639   @bonnoxxx haha bitch ima draw a webb in bullet...      0   \n",
              "14985  RT @DestroTheNoble: I don't support that ya id...      0   \n",
              "14709  RT @ClassicBray: Lmaoo RT @PacDaGoat: That's a...      0   \n",
              "4519   @RepulsiveTool And the only band that sucked w...      0   \n",
              "\n",
              "                                                    sent     counts  len  \\\n",
              "5865   {'neg': 0.44, 'neu': 0.355, 'pos': 0.206, 'com...  (0, 1, 0)   42   \n",
              "5639   {'neg': 0.297, 'neu': 0.586, 'pos': 0.117, 'co...  (0, 1, 1)  112   \n",
              "14985  {'neg': 0.27, 'neu': 0.73, 'pos': 0.0, 'compou...  (0, 3, 1)  132   \n",
              "14709  {'neg': 0.347, 'neu': 0.568, 'pos': 0.085, 'co...  (1, 3, 0)  118   \n",
              "4519   {'neg': 0.319, 'neu': 0.681, 'pos': 0.0, 'comp...  (0, 1, 0)   87   \n",
              "\n",
              "       word_count    pos    neg    neu  \n",
              "5865            8  0.206  0.440  0.355  \n",
              "5639           20  0.117  0.297  0.586  \n",
              "14985          19  0.000  0.270  0.730  \n",
              "14709          14  0.085  0.347  0.568  \n",
              "4519           15  0.000  0.319  0.681  "
            ]
          },
          "metadata": {
            "tags": []
          },
          "execution_count": 194
        }
      ]
    },
    {
      "cell_type": "code",
      "metadata": {
        "id": "fDCIeGLPGp5E",
        "colab_type": "code",
        "colab": {}
      },
      "source": [
        "df_train=df_train.drop([\"sent\"], axis=1)"
      ],
      "execution_count": 0,
      "outputs": []
    },
    {
      "cell_type": "code",
      "metadata": {
        "id": "PK6FRFOeGt_z",
        "colab_type": "code",
        "colab": {
          "base_uri": "https://localhost:8080/",
          "height": 1949
        },
        "outputId": "bfe9776f-bf36-45d1-d03d-a1e1dfa8449a"
      },
      "source": [
        "df_train.drop([\"counts\"], axis=1)\n",
        "# pd.concat([df_train,pd.DataFrame(x_train)], axis=1)"
      ],
      "execution_count": 196,
      "outputs": [
        {
          "output_type": "execute_result",
          "data": {
            "text/html": [
              "<div>\n",
              "<style scoped>\n",
              "    .dataframe tbody tr th:only-of-type {\n",
              "        vertical-align: middle;\n",
              "    }\n",
              "\n",
              "    .dataframe tbody tr th {\n",
              "        vertical-align: top;\n",
              "    }\n",
              "\n",
              "    .dataframe thead th {\n",
              "        text-align: right;\n",
              "    }\n",
              "</style>\n",
              "<table border=\"1\" class=\"dataframe\">\n",
              "  <thead>\n",
              "    <tr style=\"text-align: right;\">\n",
              "      <th></th>\n",
              "      <th>tweet</th>\n",
              "      <th>class</th>\n",
              "      <th>len</th>\n",
              "      <th>word_count</th>\n",
              "      <th>pos</th>\n",
              "      <th>neg</th>\n",
              "      <th>neu</th>\n",
              "    </tr>\n",
              "  </thead>\n",
              "  <tbody>\n",
              "    <tr>\n",
              "      <th>5865</th>\n",
              "      <td>@djfeds suck my dick tacos el negro better</td>\n",
              "      <td>0</td>\n",
              "      <td>42</td>\n",
              "      <td>8</td>\n",
              "      <td>0.206</td>\n",
              "      <td>0.440</td>\n",
              "      <td>0.355</td>\n",
              "    </tr>\n",
              "    <tr>\n",
              "      <th>5639</th>\n",
              "      <td>@bonnoxxx haha bitch ima draw a webb in bullet...</td>\n",
              "      <td>0</td>\n",
              "      <td>112</td>\n",
              "      <td>20</td>\n",
              "      <td>0.117</td>\n",
              "      <td>0.297</td>\n",
              "      <td>0.586</td>\n",
              "    </tr>\n",
              "    <tr>\n",
              "      <th>14985</th>\n",
              "      <td>RT @DestroTheNoble: I don't support that ya id...</td>\n",
              "      <td>0</td>\n",
              "      <td>132</td>\n",
              "      <td>19</td>\n",
              "      <td>0.000</td>\n",
              "      <td>0.270</td>\n",
              "      <td>0.730</td>\n",
              "    </tr>\n",
              "    <tr>\n",
              "      <th>14709</th>\n",
              "      <td>RT @ClassicBray: Lmaoo RT @PacDaGoat: That's a...</td>\n",
              "      <td>0</td>\n",
              "      <td>118</td>\n",
              "      <td>14</td>\n",
              "      <td>0.085</td>\n",
              "      <td>0.347</td>\n",
              "      <td>0.568</td>\n",
              "    </tr>\n",
              "    <tr>\n",
              "      <th>4519</th>\n",
              "      <td>@RepulsiveTool And the only band that sucked w...</td>\n",
              "      <td>0</td>\n",
              "      <td>87</td>\n",
              "      <td>15</td>\n",
              "      <td>0.000</td>\n",
              "      <td>0.319</td>\n",
              "      <td>0.681</td>\n",
              "    </tr>\n",
              "    <tr>\n",
              "      <th>7272</th>\n",
              "      <td>@wclemons @thejoelberggren @anthonycumia you l...</td>\n",
              "      <td>0</td>\n",
              "      <td>139</td>\n",
              "      <td>23</td>\n",
              "      <td>0.100</td>\n",
              "      <td>0.234</td>\n",
              "      <td>0.666</td>\n",
              "    </tr>\n",
              "    <tr>\n",
              "      <th>20362</th>\n",
              "      <td>RT @xDSmooth: The way this niggah just flinche...</td>\n",
              "      <td>0</td>\n",
              "      <td>86</td>\n",
              "      <td>14</td>\n",
              "      <td>0.000</td>\n",
              "      <td>0.000</td>\n",
              "      <td>1.000</td>\n",
              "    </tr>\n",
              "    <tr>\n",
              "      <th>3449</th>\n",
              "      <td>@IGGYAZALEA it was a joke you fugly bitch be h...</td>\n",
              "      <td>0</td>\n",
              "      <td>100</td>\n",
              "      <td>18</td>\n",
              "      <td>0.309</td>\n",
              "      <td>0.344</td>\n",
              "      <td>0.347</td>\n",
              "    </tr>\n",
              "    <tr>\n",
              "      <th>14728</th>\n",
              "      <td>RT @CloutGod: Horrible rapper #1 Tyga - Most t...</td>\n",
              "      <td>0</td>\n",
              "      <td>146</td>\n",
              "      <td>28</td>\n",
              "      <td>0.049</td>\n",
              "      <td>0.131</td>\n",
              "      <td>0.821</td>\n",
              "    </tr>\n",
              "    <tr>\n",
              "      <th>583</th>\n",
              "      <td>\"We're out here, and we're queer!\"\\n\" 2, 4, 6,...</td>\n",
              "      <td>0</td>\n",
              "      <td>75</td>\n",
              "      <td>17</td>\n",
              "      <td>0.184</td>\n",
              "      <td>0.000</td>\n",
              "      <td>0.816</td>\n",
              "    </tr>\n",
              "    <tr>\n",
              "      <th>10972</th>\n",
              "      <td>I think this nigga retarded G</td>\n",
              "      <td>0</td>\n",
              "      <td>29</td>\n",
              "      <td>6</td>\n",
              "      <td>0.000</td>\n",
              "      <td>0.552</td>\n",
              "      <td>0.448</td>\n",
              "    </tr>\n",
              "    <tr>\n",
              "      <th>14089</th>\n",
              "      <td>RT @ASAP_Ford: I hate when a nigga ask me \"Whe...</td>\n",
              "      <td>0</td>\n",
              "      <td>77</td>\n",
              "      <td>16</td>\n",
              "      <td>0.000</td>\n",
              "      <td>0.250</td>\n",
              "      <td>0.750</td>\n",
              "    </tr>\n",
              "    <tr>\n",
              "      <th>4618</th>\n",
              "      <td>@S_Roach happy birthday nicca do coon shit in ...</td>\n",
              "      <td>0</td>\n",
              "      <td>64</td>\n",
              "      <td>11</td>\n",
              "      <td>0.361</td>\n",
              "      <td>0.217</td>\n",
              "      <td>0.422</td>\n",
              "    </tr>\n",
              "    <tr>\n",
              "      <th>12225</th>\n",
              "      <td>Kick dem fucc niccas out da spot</td>\n",
              "      <td>0</td>\n",
              "      <td>32</td>\n",
              "      <td>7</td>\n",
              "      <td>0.000</td>\n",
              "      <td>0.000</td>\n",
              "      <td>1.000</td>\n",
              "    </tr>\n",
              "    <tr>\n",
              "      <th>6039</th>\n",
              "      <td>@gonzalez_sassy ur not sassy white trash chang...</td>\n",
              "      <td>0</td>\n",
              "      <td>59</td>\n",
              "      <td>9</td>\n",
              "      <td>0.000</td>\n",
              "      <td>0.000</td>\n",
              "      <td>1.000</td>\n",
              "    </tr>\n",
              "    <tr>\n",
              "      <th>17445</th>\n",
              "      <td>RT @SteveStfler: ur a faggot if you change you...</td>\n",
              "      <td>0</td>\n",
              "      <td>135</td>\n",
              "      <td>27</td>\n",
              "      <td>0.091</td>\n",
              "      <td>0.141</td>\n",
              "      <td>0.768</td>\n",
              "    </tr>\n",
              "    <tr>\n",
              "      <th>5530</th>\n",
              "      <td>@aravosis May I jump in u ball-less dick-wad? ...</td>\n",
              "      <td>0</td>\n",
              "      <td>135</td>\n",
              "      <td>24</td>\n",
              "      <td>0.233</td>\n",
              "      <td>0.155</td>\n",
              "      <td>0.612</td>\n",
              "    </tr>\n",
              "    <tr>\n",
              "      <th>9153</th>\n",
              "      <td>For all we know this nigga a rapist. Y'all hoe...</td>\n",
              "      <td>0</td>\n",
              "      <td>115</td>\n",
              "      <td>14</td>\n",
              "      <td>0.000</td>\n",
              "      <td>0.427</td>\n",
              "      <td>0.573</td>\n",
              "    </tr>\n",
              "    <tr>\n",
              "      <th>3470</th>\n",
              "      <td>@IamShady_ that's not even a real word! Must h...</td>\n",
              "      <td>0</td>\n",
              "      <td>113</td>\n",
              "      <td>22</td>\n",
              "      <td>0.092</td>\n",
              "      <td>0.383</td>\n",
              "      <td>0.525</td>\n",
              "    </tr>\n",
              "    <tr>\n",
              "      <th>5557</th>\n",
              "      <td>@austin_farrar your a fucking queer faggot bitch</td>\n",
              "      <td>0</td>\n",
              "      <td>48</td>\n",
              "      <td>7</td>\n",
              "      <td>0.000</td>\n",
              "      <td>0.686</td>\n",
              "      <td>0.314</td>\n",
              "    </tr>\n",
              "    <tr>\n",
              "      <th>2472</th>\n",
              "      <td>@Arbogucci guys not supposed to get their ass ...</td>\n",
              "      <td>0</td>\n",
              "      <td>58</td>\n",
              "      <td>10</td>\n",
              "      <td>0.000</td>\n",
              "      <td>0.448</td>\n",
              "      <td>0.552</td>\n",
              "    </tr>\n",
              "    <tr>\n",
              "      <th>5308</th>\n",
              "      <td>@_GOLDwhippp faggots, old people, people who c...</td>\n",
              "      <td>0</td>\n",
              "      <td>70</td>\n",
              "      <td>10</td>\n",
              "      <td>0.143</td>\n",
              "      <td>0.295</td>\n",
              "      <td>0.562</td>\n",
              "    </tr>\n",
              "    <tr>\n",
              "      <th>14838</th>\n",
              "      <td>RT @Cuzimdaddy_: !!! @5feet_0inches is dis wro...</td>\n",
              "      <td>0</td>\n",
              "      <td>107</td>\n",
              "      <td>19</td>\n",
              "      <td>0.000</td>\n",
              "      <td>0.592</td>\n",
              "      <td>0.408</td>\n",
              "    </tr>\n",
              "    <tr>\n",
              "      <th>3591</th>\n",
              "      <td>@JacobbBacker fag</td>\n",
              "      <td>0</td>\n",
              "      <td>17</td>\n",
              "      <td>2</td>\n",
              "      <td>0.000</td>\n",
              "      <td>0.756</td>\n",
              "      <td>0.244</td>\n",
              "    </tr>\n",
              "    <tr>\n",
              "      <th>4221</th>\n",
              "      <td>@NOT_UR_BRO @niccol3_xo lmao nigga shoulda sai...</td>\n",
              "      <td>0</td>\n",
              "      <td>111</td>\n",
              "      <td>18</td>\n",
              "      <td>0.245</td>\n",
              "      <td>0.161</td>\n",
              "      <td>0.594</td>\n",
              "    </tr>\n",
              "    <tr>\n",
              "      <th>4124</th>\n",
              "      <td>@Mimistheone You really seem to love Sandusky....</td>\n",
              "      <td>0</td>\n",
              "      <td>79</td>\n",
              "      <td>13</td>\n",
              "      <td>0.223</td>\n",
              "      <td>0.329</td>\n",
              "      <td>0.449</td>\n",
              "    </tr>\n",
              "    <tr>\n",
              "      <th>7770</th>\n",
              "      <td>Ankles &amp;#128128;&amp;#128514;&amp;#8220;@Saina_faal: &amp;...</td>\n",
              "      <td>0</td>\n",
              "      <td>185</td>\n",
              "      <td>21</td>\n",
              "      <td>0.000</td>\n",
              "      <td>0.296</td>\n",
              "      <td>0.704</td>\n",
              "    </tr>\n",
              "    <tr>\n",
              "      <th>8231</th>\n",
              "      <td>Bumped into a bitch that filed for sexual hara...</td>\n",
              "      <td>0</td>\n",
              "      <td>114</td>\n",
              "      <td>21</td>\n",
              "      <td>0.000</td>\n",
              "      <td>0.364</td>\n",
              "      <td>0.636</td>\n",
              "    </tr>\n",
              "    <tr>\n",
              "      <th>4231</th>\n",
              "      <td>@NYRKelsMads @DaniloNavarro85 Hey fag, I said ...</td>\n",
              "      <td>0</td>\n",
              "      <td>88</td>\n",
              "      <td>15</td>\n",
              "      <td>0.000</td>\n",
              "      <td>0.193</td>\n",
              "      <td>0.807</td>\n",
              "    </tr>\n",
              "    <tr>\n",
              "      <th>11097</th>\n",
              "      <td>I wish faggots like @tyga would stop making mu...</td>\n",
              "      <td>0</td>\n",
              "      <td>108</td>\n",
              "      <td>19</td>\n",
              "      <td>0.171</td>\n",
              "      <td>0.434</td>\n",
              "      <td>0.395</td>\n",
              "    </tr>\n",
              "    <tr>\n",
              "      <th>...</th>\n",
              "      <td>...</td>\n",
              "      <td>...</td>\n",
              "      <td>...</td>\n",
              "      <td>...</td>\n",
              "      <td>...</td>\n",
              "      <td>...</td>\n",
              "      <td>...</td>\n",
              "    </tr>\n",
              "    <tr>\n",
              "      <th>9736</th>\n",
              "      <td>He never replied to my asking about his callin...</td>\n",
              "      <td>2</td>\n",
              "      <td>105</td>\n",
              "      <td>16</td>\n",
              "      <td>0.000</td>\n",
              "      <td>0.000</td>\n",
              "      <td>1.000</td>\n",
              "    </tr>\n",
              "    <tr>\n",
              "      <th>13552</th>\n",
              "      <td>Oh snap I'm just realizing this skinny tranny ...</td>\n",
              "      <td>2</td>\n",
              "      <td>118</td>\n",
              "      <td>20</td>\n",
              "      <td>0.000</td>\n",
              "      <td>0.143</td>\n",
              "      <td>0.857</td>\n",
              "    </tr>\n",
              "    <tr>\n",
              "      <th>24634</th>\n",
              "      <td>under my windoowww &amp;#8220;@brettcanfly: Bleach...</td>\n",
              "      <td>2</td>\n",
              "      <td>116</td>\n",
              "      <td>14</td>\n",
              "      <td>0.188</td>\n",
              "      <td>0.000</td>\n",
              "      <td>0.812</td>\n",
              "    </tr>\n",
              "    <tr>\n",
              "      <th>2314</th>\n",
              "      <td>@1SonofYahweh &amp;amp; what we do with our foolis...</td>\n",
              "      <td>2</td>\n",
              "      <td>143</td>\n",
              "      <td>25</td>\n",
              "      <td>0.169</td>\n",
              "      <td>0.209</td>\n",
              "      <td>0.622</td>\n",
              "    </tr>\n",
              "    <tr>\n",
              "      <th>20801</th>\n",
              "      <td>Should I be worried that a lady behind my buil...</td>\n",
              "      <td>2</td>\n",
              "      <td>72</td>\n",
              "      <td>15</td>\n",
              "      <td>0.000</td>\n",
              "      <td>0.167</td>\n",
              "      <td>0.833</td>\n",
              "    </tr>\n",
              "    <tr>\n",
              "      <th>19919</th>\n",
              "      <td>RT @rickygervais: Humans are genetically close...</td>\n",
              "      <td>2</td>\n",
              "      <td>146</td>\n",
              "      <td>25</td>\n",
              "      <td>0.305</td>\n",
              "      <td>0.000</td>\n",
              "      <td>0.695</td>\n",
              "    </tr>\n",
              "    <tr>\n",
              "      <th>14492</th>\n",
              "      <td>RT @BroganWebber: Wiz is garbage to be put in ...</td>\n",
              "      <td>2</td>\n",
              "      <td>124</td>\n",
              "      <td>25</td>\n",
              "      <td>0.000</td>\n",
              "      <td>0.065</td>\n",
              "      <td>0.935</td>\n",
              "    </tr>\n",
              "    <tr>\n",
              "      <th>20975</th>\n",
              "      <td>So now been trill is trash cus asap said so &amp;#...</td>\n",
              "      <td>2</td>\n",
              "      <td>56</td>\n",
              "      <td>12</td>\n",
              "      <td>0.184</td>\n",
              "      <td>0.000</td>\n",
              "      <td>0.816</td>\n",
              "    </tr>\n",
              "    <tr>\n",
              "      <th>13429</th>\n",
              "      <td>Nose goes on taking out the trash this time. &amp;...</td>\n",
              "      <td>2</td>\n",
              "      <td>77</td>\n",
              "      <td>12</td>\n",
              "      <td>0.000</td>\n",
              "      <td>0.000</td>\n",
              "      <td>1.000</td>\n",
              "    </tr>\n",
              "    <tr>\n",
              "      <th>22725</th>\n",
              "      <td>When people label their name on there ghetto n...</td>\n",
              "      <td>2</td>\n",
              "      <td>83</td>\n",
              "      <td>10</td>\n",
              "      <td>0.000</td>\n",
              "      <td>0.000</td>\n",
              "      <td>1.000</td>\n",
              "    </tr>\n",
              "    <tr>\n",
              "      <th>13614</th>\n",
              "      <td>Omoide Yokocho : Shinjuku, Tokyo, Japan / Jap&amp;...</td>\n",
              "      <td>2</td>\n",
              "      <td>115</td>\n",
              "      <td>16</td>\n",
              "      <td>0.000</td>\n",
              "      <td>0.150</td>\n",
              "      <td>0.850</td>\n",
              "    </tr>\n",
              "    <tr>\n",
              "      <th>8946</th>\n",
              "      <td>Endless but they really trash so none RT @Whoa...</td>\n",
              "      <td>2</td>\n",
              "      <td>134</td>\n",
              "      <td>23</td>\n",
              "      <td>0.000</td>\n",
              "      <td>0.000</td>\n",
              "      <td>1.000</td>\n",
              "    </tr>\n",
              "    <tr>\n",
              "      <th>8327</th>\n",
              "      <td>Can we revisit @ChairmanL's idea of two teams ...</td>\n",
              "      <td>2</td>\n",
              "      <td>134</td>\n",
              "      <td>25</td>\n",
              "      <td>0.170</td>\n",
              "      <td>0.000</td>\n",
              "      <td>0.830</td>\n",
              "    </tr>\n",
              "    <tr>\n",
              "      <th>16424</th>\n",
              "      <td>RT @MemphisMSoccer: 50' 2nd yellow card issued...</td>\n",
              "      <td>2</td>\n",
              "      <td>57</td>\n",
              "      <td>9</td>\n",
              "      <td>0.000</td>\n",
              "      <td>0.000</td>\n",
              "      <td>1.000</td>\n",
              "    </tr>\n",
              "    <tr>\n",
              "      <th>19973</th>\n",
              "      <td>RT @sassytbh: a girl tweeted \"you might be ghe...</td>\n",
              "      <td>2</td>\n",
              "      <td>146</td>\n",
              "      <td>30</td>\n",
              "      <td>0.000</td>\n",
              "      <td>0.241</td>\n",
              "      <td>0.759</td>\n",
              "    </tr>\n",
              "    <tr>\n",
              "      <th>10964</th>\n",
              "      <td>I think about the fact that dinosaurs evolved ...</td>\n",
              "      <td>2</td>\n",
              "      <td>107</td>\n",
              "      <td>18</td>\n",
              "      <td>0.198</td>\n",
              "      <td>0.000</td>\n",
              "      <td>0.802</td>\n",
              "    </tr>\n",
              "    <tr>\n",
              "      <th>16320</th>\n",
              "      <td>RT @Lysettemariee: Jamal is a fool &amp;#128514;&amp;#...</td>\n",
              "      <td>2</td>\n",
              "      <td>170</td>\n",
              "      <td>28</td>\n",
              "      <td>0.000</td>\n",
              "      <td>0.104</td>\n",
              "      <td>0.896</td>\n",
              "    </tr>\n",
              "    <tr>\n",
              "      <th>1777</th>\n",
              "      <td>&amp;#8220;@iCARLEYBBY: &amp;#8220;@DJZeeti: twitpic a...</td>\n",
              "      <td>2</td>\n",
              "      <td>123</td>\n",
              "      <td>10</td>\n",
              "      <td>0.000</td>\n",
              "      <td>0.000</td>\n",
              "      <td>1.000</td>\n",
              "    </tr>\n",
              "    <tr>\n",
              "      <th>14311</th>\n",
              "      <td>RT @Baseball_Photos: A 17 year old girl once s...</td>\n",
              "      <td>2</td>\n",
              "      <td>146</td>\n",
              "      <td>27</td>\n",
              "      <td>0.000</td>\n",
              "      <td>0.172</td>\n",
              "      <td>0.828</td>\n",
              "    </tr>\n",
              "    <tr>\n",
              "      <th>20845</th>\n",
              "      <td>Sierra almost got caught with the ole hick &amp;#1...</td>\n",
              "      <td>2</td>\n",
              "      <td>70</td>\n",
              "      <td>9</td>\n",
              "      <td>0.000</td>\n",
              "      <td>0.000</td>\n",
              "      <td>1.000</td>\n",
              "    </tr>\n",
              "    <tr>\n",
              "      <th>14459</th>\n",
              "      <td>RT @Brandee876: ghetto sour cream http://t.co/...</td>\n",
              "      <td>2</td>\n",
              "      <td>56</td>\n",
              "      <td>6</td>\n",
              "      <td>0.000</td>\n",
              "      <td>0.000</td>\n",
              "      <td>1.000</td>\n",
              "    </tr>\n",
              "    <tr>\n",
              "      <th>8506</th>\n",
              "      <td>Come home from work to Bridesmaids, Twinkies a...</td>\n",
              "      <td>2</td>\n",
              "      <td>97</td>\n",
              "      <td>14</td>\n",
              "      <td>0.000</td>\n",
              "      <td>0.000</td>\n",
              "      <td>1.000</td>\n",
              "    </tr>\n",
              "    <tr>\n",
              "      <th>5922</th>\n",
              "      <td>@elise_palmer sounds like gypos to me - they u...</td>\n",
              "      <td>2</td>\n",
              "      <td>87</td>\n",
              "      <td>18</td>\n",
              "      <td>0.143</td>\n",
              "      <td>0.000</td>\n",
              "      <td>0.857</td>\n",
              "    </tr>\n",
              "    <tr>\n",
              "      <th>3931</th>\n",
              "      <td>@LinzBella \\nYou date colored men?</td>\n",
              "      <td>2</td>\n",
              "      <td>33</td>\n",
              "      <td>5</td>\n",
              "      <td>0.000</td>\n",
              "      <td>0.000</td>\n",
              "      <td>1.000</td>\n",
              "    </tr>\n",
              "    <tr>\n",
              "      <th>18679</th>\n",
              "      <td>RT @boominator: &amp;#8220;@CureOurCountry: Rand P...</td>\n",
              "      <td>2</td>\n",
              "      <td>151</td>\n",
              "      <td>15</td>\n",
              "      <td>0.000</td>\n",
              "      <td>0.326</td>\n",
              "      <td>0.674</td>\n",
              "    </tr>\n",
              "    <tr>\n",
              "      <th>11218</th>\n",
              "      <td>I'm a sucker for colored eyes &amp;#128532;&amp;#128532;</td>\n",
              "      <td>2</td>\n",
              "      <td>48</td>\n",
              "      <td>7</td>\n",
              "      <td>0.000</td>\n",
              "      <td>0.405</td>\n",
              "      <td>0.595</td>\n",
              "    </tr>\n",
              "    <tr>\n",
              "      <th>1017</th>\n",
              "      <td>&amp;#128525;&amp;#128525;&amp;#128525;\\n\\n&amp;#8220;@whatski...</td>\n",
              "      <td>2</td>\n",
              "      <td>155</td>\n",
              "      <td>14</td>\n",
              "      <td>0.000</td>\n",
              "      <td>0.189</td>\n",
              "      <td>0.811</td>\n",
              "    </tr>\n",
              "    <tr>\n",
              "      <th>19722</th>\n",
              "      <td>RT @murrman5: you up, Charlie Brown?</td>\n",
              "      <td>2</td>\n",
              "      <td>36</td>\n",
              "      <td>6</td>\n",
              "      <td>0.000</td>\n",
              "      <td>0.000</td>\n",
              "      <td>1.000</td>\n",
              "    </tr>\n",
              "    <tr>\n",
              "      <th>18665</th>\n",
              "      <td>RT @bitterarab: Now that Halloween is fast app...</td>\n",
              "      <td>2</td>\n",
              "      <td>146</td>\n",
              "      <td>23</td>\n",
              "      <td>0.190</td>\n",
              "      <td>0.116</td>\n",
              "      <td>0.694</td>\n",
              "    </tr>\n",
              "    <tr>\n",
              "      <th>13714</th>\n",
              "      <td>Or get swept in MoTown LOL #Yankees #Tigers #MLB</td>\n",
              "      <td>2</td>\n",
              "      <td>48</td>\n",
              "      <td>9</td>\n",
              "      <td>0.306</td>\n",
              "      <td>0.000</td>\n",
              "      <td>0.694</td>\n",
              "    </tr>\n",
              "  </tbody>\n",
              "</table>\n",
              "<p>3430 rows × 7 columns</p>\n",
              "</div>"
            ],
            "text/plain": [
              "                                                   tweet  class  len  \\\n",
              "5865          @djfeds suck my dick tacos el negro better      0   42   \n",
              "5639   @bonnoxxx haha bitch ima draw a webb in bullet...      0  112   \n",
              "14985  RT @DestroTheNoble: I don't support that ya id...      0  132   \n",
              "14709  RT @ClassicBray: Lmaoo RT @PacDaGoat: That's a...      0  118   \n",
              "4519   @RepulsiveTool And the only band that sucked w...      0   87   \n",
              "7272   @wclemons @thejoelberggren @anthonycumia you l...      0  139   \n",
              "20362  RT @xDSmooth: The way this niggah just flinche...      0   86   \n",
              "3449   @IGGYAZALEA it was a joke you fugly bitch be h...      0  100   \n",
              "14728  RT @CloutGod: Horrible rapper #1 Tyga - Most t...      0  146   \n",
              "583    \"We're out here, and we're queer!\"\\n\" 2, 4, 6,...      0   75   \n",
              "10972                      I think this nigga retarded G      0   29   \n",
              "14089  RT @ASAP_Ford: I hate when a nigga ask me \"Whe...      0   77   \n",
              "4618   @S_Roach happy birthday nicca do coon shit in ...      0   64   \n",
              "12225                   Kick dem fucc niccas out da spot      0   32   \n",
              "6039   @gonzalez_sassy ur not sassy white trash chang...      0   59   \n",
              "17445  RT @SteveStfler: ur a faggot if you change you...      0  135   \n",
              "5530   @aravosis May I jump in u ball-less dick-wad? ...      0  135   \n",
              "9153   For all we know this nigga a rapist. Y'all hoe...      0  115   \n",
              "3470   @IamShady_ that's not even a real word! Must h...      0  113   \n",
              "5557    @austin_farrar your a fucking queer faggot bitch      0   48   \n",
              "2472   @Arbogucci guys not supposed to get their ass ...      0   58   \n",
              "5308   @_GOLDwhippp faggots, old people, people who c...      0   70   \n",
              "14838  RT @Cuzimdaddy_: !!! @5feet_0inches is dis wro...      0  107   \n",
              "3591                                   @JacobbBacker fag      0   17   \n",
              "4221   @NOT_UR_BRO @niccol3_xo lmao nigga shoulda sai...      0  111   \n",
              "4124   @Mimistheone You really seem to love Sandusky....      0   79   \n",
              "7770   Ankles &#128128;&#128514;&#8220;@Saina_faal: &...      0  185   \n",
              "8231   Bumped into a bitch that filed for sexual hara...      0  114   \n",
              "4231   @NYRKelsMads @DaniloNavarro85 Hey fag, I said ...      0   88   \n",
              "11097  I wish faggots like @tyga would stop making mu...      0  108   \n",
              "...                                                  ...    ...  ...   \n",
              "9736   He never replied to my asking about his callin...      2  105   \n",
              "13552  Oh snap I'm just realizing this skinny tranny ...      2  118   \n",
              "24634  under my windoowww &#8220;@brettcanfly: Bleach...      2  116   \n",
              "2314   @1SonofYahweh &amp; what we do with our foolis...      2  143   \n",
              "20801  Should I be worried that a lady behind my buil...      2   72   \n",
              "19919  RT @rickygervais: Humans are genetically close...      2  146   \n",
              "14492  RT @BroganWebber: Wiz is garbage to be put in ...      2  124   \n",
              "20975  So now been trill is trash cus asap said so &#...      2   56   \n",
              "13429  Nose goes on taking out the trash this time. &...      2   77   \n",
              "22725  When people label their name on there ghetto n...      2   83   \n",
              "13614  Omoide Yokocho : Shinjuku, Tokyo, Japan / Jap&...      2  115   \n",
              "8946   Endless but they really trash so none RT @Whoa...      2  134   \n",
              "8327   Can we revisit @ChairmanL's idea of two teams ...      2  134   \n",
              "16424  RT @MemphisMSoccer: 50' 2nd yellow card issued...      2   57   \n",
              "19973  RT @sassytbh: a girl tweeted \"you might be ghe...      2  146   \n",
              "10964  I think about the fact that dinosaurs evolved ...      2  107   \n",
              "16320  RT @Lysettemariee: Jamal is a fool &#128514;&#...      2  170   \n",
              "1777   &#8220;@iCARLEYBBY: &#8220;@DJZeeti: twitpic a...      2  123   \n",
              "14311  RT @Baseball_Photos: A 17 year old girl once s...      2  146   \n",
              "20845  Sierra almost got caught with the ole hick &#1...      2   70   \n",
              "14459  RT @Brandee876: ghetto sour cream http://t.co/...      2   56   \n",
              "8506   Come home from work to Bridesmaids, Twinkies a...      2   97   \n",
              "5922   @elise_palmer sounds like gypos to me - they u...      2   87   \n",
              "3931                  @LinzBella \\nYou date colored men?      2   33   \n",
              "18679  RT @boominator: &#8220;@CureOurCountry: Rand P...      2  151   \n",
              "11218   I'm a sucker for colored eyes &#128532;&#128532;      2   48   \n",
              "1017   &#128525;&#128525;&#128525;\\n\\n&#8220;@whatski...      2  155   \n",
              "19722               RT @murrman5: you up, Charlie Brown?      2   36   \n",
              "18665  RT @bitterarab: Now that Halloween is fast app...      2  146   \n",
              "13714   Or get swept in MoTown LOL #Yankees #Tigers #MLB      2   48   \n",
              "\n",
              "       word_count    pos    neg    neu  \n",
              "5865            8  0.206  0.440  0.355  \n",
              "5639           20  0.117  0.297  0.586  \n",
              "14985          19  0.000  0.270  0.730  \n",
              "14709          14  0.085  0.347  0.568  \n",
              "4519           15  0.000  0.319  0.681  \n",
              "7272           23  0.100  0.234  0.666  \n",
              "20362          14  0.000  0.000  1.000  \n",
              "3449           18  0.309  0.344  0.347  \n",
              "14728          28  0.049  0.131  0.821  \n",
              "583            17  0.184  0.000  0.816  \n",
              "10972           6  0.000  0.552  0.448  \n",
              "14089          16  0.000  0.250  0.750  \n",
              "4618           11  0.361  0.217  0.422  \n",
              "12225           7  0.000  0.000  1.000  \n",
              "6039            9  0.000  0.000  1.000  \n",
              "17445          27  0.091  0.141  0.768  \n",
              "5530           24  0.233  0.155  0.612  \n",
              "9153           14  0.000  0.427  0.573  \n",
              "3470           22  0.092  0.383  0.525  \n",
              "5557            7  0.000  0.686  0.314  \n",
              "2472           10  0.000  0.448  0.552  \n",
              "5308           10  0.143  0.295  0.562  \n",
              "14838          19  0.000  0.592  0.408  \n",
              "3591            2  0.000  0.756  0.244  \n",
              "4221           18  0.245  0.161  0.594  \n",
              "4124           13  0.223  0.329  0.449  \n",
              "7770           21  0.000  0.296  0.704  \n",
              "8231           21  0.000  0.364  0.636  \n",
              "4231           15  0.000  0.193  0.807  \n",
              "11097          19  0.171  0.434  0.395  \n",
              "...           ...    ...    ...    ...  \n",
              "9736           16  0.000  0.000  1.000  \n",
              "13552          20  0.000  0.143  0.857  \n",
              "24634          14  0.188  0.000  0.812  \n",
              "2314           25  0.169  0.209  0.622  \n",
              "20801          15  0.000  0.167  0.833  \n",
              "19919          25  0.305  0.000  0.695  \n",
              "14492          25  0.000  0.065  0.935  \n",
              "20975          12  0.184  0.000  0.816  \n",
              "13429          12  0.000  0.000  1.000  \n",
              "22725          10  0.000  0.000  1.000  \n",
              "13614          16  0.000  0.150  0.850  \n",
              "8946           23  0.000  0.000  1.000  \n",
              "8327           25  0.170  0.000  0.830  \n",
              "16424           9  0.000  0.000  1.000  \n",
              "19973          30  0.000  0.241  0.759  \n",
              "10964          18  0.198  0.000  0.802  \n",
              "16320          28  0.000  0.104  0.896  \n",
              "1777           10  0.000  0.000  1.000  \n",
              "14311          27  0.000  0.172  0.828  \n",
              "20845           9  0.000  0.000  1.000  \n",
              "14459           6  0.000  0.000  1.000  \n",
              "8506           14  0.000  0.000  1.000  \n",
              "5922           18  0.143  0.000  0.857  \n",
              "3931            5  0.000  0.000  1.000  \n",
              "18679          15  0.000  0.326  0.674  \n",
              "11218           7  0.000  0.405  0.595  \n",
              "1017           14  0.000  0.189  0.811  \n",
              "19722           6  0.000  0.000  1.000  \n",
              "18665          23  0.190  0.116  0.694  \n",
              "13714           9  0.306  0.000  0.694  \n",
              "\n",
              "[3430 rows x 7 columns]"
            ]
          },
          "metadata": {
            "tags": []
          },
          "execution_count": 196
        }
      ]
    },
    {
      "cell_type": "code",
      "metadata": {
        "id": "Og5xDNsCPOo7",
        "colab_type": "code",
        "colab": {
          "base_uri": "https://localhost:8080/",
          "height": 299
        },
        "outputId": "e9a7919f-e90e-40c4-d9f0-5abe35f048b6"
      },
      "source": [
        "df_train['pos'].plot(\n",
        "    kind='hist',\n",
        "    bins=50,\n",
        "#     xTitle='polarity',\n",
        "#     linecolor='black',\n",
        "#     yTitle='count',\n",
        "    title='Sentiment Polarity Distribution')"
      ],
      "execution_count": 197,
      "outputs": [
        {
          "output_type": "execute_result",
          "data": {
            "text/plain": [
              "<matplotlib.axes._subplots.AxesSubplot at 0x7f6f393493c8>"
            ]
          },
          "metadata": {
            "tags": []
          },
          "execution_count": 197
        },
        {
          "output_type": "display_data",
          "data": {
            "image/png": "[encoded data removed]",
            "text/plain": [
              "<Figure size 432x288 with 1 Axes>"
            ]
          },
          "metadata": {
            "tags": []
          }
        }
      ]
    },
    {
      "cell_type": "code",
      "metadata": {
        "id": "N7VfGn9XNrve",
        "colab_type": "code",
        "colab": {
          "base_uri": "https://localhost:8080/",
          "height": 356
        },
        "outputId": "f1a4e4dd-6dfb-42c1-fcc6-c7d0bab5bf85"
      },
      "source": [
        "import matplotlib.pyplot as plt \n",
        "plt.hist(df_train[\"pos\"]) \n",
        "    \n",
        "  "
      ],
      "execution_count": 199,
      "outputs": [
        {
          "output_type": "execute_result",
          "data": {
            "text/plain": [
              "(array([1980.,  496.,  408.,  278.,  142.,   78.,   23.,   14.,    8.,\n",
              "           3.]),\n",
              " array([0.    , 0.0767, 0.1534, 0.2301, 0.3068, 0.3835, 0.4602, 0.5369,\n",
              "        0.6136, 0.6903, 0.767 ]),\n",
              " <a list of 10 Patch objects>)"
            ]
          },
          "metadata": {
            "tags": []
          },
          "execution_count": 199
        },
        {
          "output_type": "display_data",
          "data": {
            "image/png": "[encoded data removed]",
            "text/plain": [
              "<Figure size 432x288 with 1 Axes>"
            ]
          },
          "metadata": {
            "tags": []
          }
        }
      ]
    },
    {
      "cell_type": "code",
      "metadata": {
        "id": "R7AKAvnhQsE_",
        "colab_type": "code",
        "colab": {
          "base_uri": "https://localhost:8080/",
          "height": 269
        },
        "outputId": "a660a1e4-c845-40b4-bbf5-4b84cb679d44"
      },
      "source": [
        "import matplotlib.pyplot as plt \n",
        "\n",
        "plt.hist(df_train.loc[df_train['class'] == 0][\"neg\"]) \n",
        "plt.hist(df_train.loc[df_train['class'] == 1][\"neg\"]) \n",
        "plt.hist(df_train.loc[df_train['class'] == 2][\"neg\"]) \n",
        "plt.show()"
      ],
      "execution_count": 202,
      "outputs": [
        {
          "output_type": "display_data",
          "data": {
            "image/png": "[encoded data removed]",
            "text/plain": [
              "<Figure size 432x288 with 1 Axes>"
            ]
          },
          "metadata": {
            "tags": []
          }
        }
      ]
    },
    {
      "cell_type": "code",
      "metadata": {
        "id": "bAGcXoLkTRRV",
        "colab_type": "code",
        "colab": {
          "base_uri": "https://localhost:8080/",
          "height": 271
        },
        "outputId": "bf4bcb8f-5d6c-4354-c8e7-6a393756c567"
      },
      "source": [
        "plt.hist(df_train.loc[df_train['class'] == 0][\"pos\"], alpha=0.5) \n",
        "plt.hist(df_train.loc[df_train['class'] == 1][\"pos\"],alpha=0.5) \n",
        "plt.hist(df_train.loc[df_train['class'] == 2][\"pos\"],alpha=0.5) \n",
        "plt.show()"
      ],
      "execution_count": 207,
      "outputs": [
        {
          "output_type": "display_data",
          "data": {
            "image/png": "[encoded data removed]",
            "text/plain": [
              "<Figure size 432x288 with 1 Axes>"
            ]
          },
          "metadata": {
            "tags": []
          }
        }
      ]
    },
    {
      "cell_type": "code",
      "metadata": {
        "id": "BhVjTEGCTkZr",
        "colab_type": "code",
        "colab": {
          "base_uri": "https://localhost:8080/",
          "height": 339
        },
        "outputId": "30dfac65-2feb-4bac-f089-7cb9dc3f9a84"
      },
      "source": [
        "plt.hist(df_train['class']) "
      ],
      "execution_count": 208,
      "outputs": [
        {
          "output_type": "execute_result",
          "data": {
            "text/plain": [
              "(array([1430.,    0.,    0.,    0.,    0., 1000.,    0.,    0.,    0.,\n",
              "        1000.]),\n",
              " array([0. , 0.2, 0.4, 0.6, 0.8, 1. , 1.2, 1.4, 1.6, 1.8, 2. ]),\n",
              " <a list of 10 Patch objects>)"
            ]
          },
          "metadata": {
            "tags": []
          },
          "execution_count": 208
        },
        {
          "output_type": "display_data",
          "data": {
            "image/png": "[encoded data removed]",
            "text/plain": [
              "<Figure size 432x288 with 1 Axes>"
            ]
          },
          "metadata": {
            "tags": []
          }
        }
      ]
    },
    {
      "cell_type": "code",
      "metadata": {
        "id": "jVah1mR_RhCe",
        "colab_type": "code",
        "colab": {
          "base_uri": "https://localhost:8080/",
          "height": 269
        },
        "outputId": "e7c444bc-9094-47db-c707-96cd5f3e5242"
      },
      "source": [
        "plt.hist(df_train.loc[df_train['class'] == 1][\"len\"],alpha=0.7) \n",
        "plt.hist(df_train.loc[df_train['class'] == 2][\"len\"],alpha=0.5) \n",
        "plt.hist(df_train.loc[df_train['class'] == 0][\"len\"], alpha=0.2) \n",
        "plt.show()"
      ],
      "execution_count": 215,
      "outputs": [
        {
          "output_type": "display_data",
          "data": {
            "image/png": "[encoded data removed]",
            "text/plain": [
              "<Figure size 432x288 with 1 Axes>"
            ]
          },
          "metadata": {
            "tags": []
          }
        }
      ]
    },
    {
      "cell_type": "code",
      "metadata": {
        "id": "4BHHDkviU-5X",
        "colab_type": "code",
        "colab": {}
      },
      "source": [
        "def get_top_n_words(corpus, n=None):\n",
        "    vec = CountVectorizer().fit(corpus)\n",
        "    bag_of_words = vec.transform(corpus)\n",
        "    sum_words = bag_of_words.sum(axis=0) \n",
        "    words_freq = [(word, sum_words[0, idx]) for word, idx in vec.vocabulary_.items()]\n",
        "    words_freq =sorted(words_freq, key = lambda x: x[1], reverse=True)\n",
        "    return words_freq[:n]\n",
        "\n"
      ],
      "execution_count": 0,
      "outputs": []
    },
    {
      "cell_type": "code",
      "metadata": {
        "id": "xXmHTgC9foXA",
        "colab_type": "code",
        "colab": {
          "base_uri": "https://localhost:8080/",
          "height": 687
        },
        "outputId": "636f5f13-7aff-4d5f-a25c-7b6d8bb6bab4"
      },
      "source": [
        "temp_df=df_train.loc[df_train['class'] == 1][\"tweet\"]\n",
        "common_words = get_top_n_words(temp_df, 20)\n",
        "for word, freq in common_words:\n",
        "    print(word, freq)  \n",
        "df1 = pd.DataFrame(common_words, columns = ['tweet' , 'count'])\n",
        "df1.groupby('tweet').sum()['count'].sort_values(ascending=False).plot(\n",
        "    kind='bar', title='Top 20 words in review before removing stop words')\n"
      ],
      "execution_count": 217,
      "outputs": [
        {
          "output_type": "stream",
          "text": [
            "bitch 436\n",
            "rt 341\n",
            "you 299\n",
            "the 223\n",
            "to 213\n",
            "that 159\n",
            "my 159\n",
            "and 154\n",
            "bitches 144\n",
            "hoes 124\n",
            "be 122\n",
            "me 121\n",
            "in 121\n",
            "like 120\n",
            "co 111\n",
            "128514 110\n",
            "it 108\n",
            "http 103\n",
            "pussy 98\n",
            "hoe 98\n"
          ],
          "name": "stdout"
        },
        {
          "output_type": "execute_result",
          "data": {
            "text/plain": [
              "<matplotlib.axes._subplots.AxesSubplot at 0x7f6f386ed5f8>"
            ]
          },
          "metadata": {
            "tags": []
          },
          "execution_count": 217
        },
        {
          "output_type": "display_data",
          "data": {
            "image/png": "[encoded data removed]",
            "text/plain": [
              "<Figure size 432x288 with 1 Axes>"
            ]
          },
          "metadata": {
            "tags": []
          }
        }
      ]
    },
    {
      "cell_type": "code",
      "metadata": {
        "id": "2uk5jFbdWf97",
        "colab_type": "code",
        "colab": {
          "base_uri": "https://localhost:8080/",
          "height": 683
        },
        "outputId": "f8fd66f8-46c8-4e7e-8de1-1106d89aa13b"
      },
      "source": [
        "temp_df=df_train.loc[df_train['class'] == 0][\"tweet\"]\n",
        "common_words = get_top_n_words(temp_df, 20)\n",
        "for word, freq in common_words:\n",
        "    print(word, freq)  \n",
        "df1 = pd.DataFrame(common_words, columns = ['tweet' , 'count'])\n",
        "df1.groupby('tweet').sum()['count'].sort_values(ascending=False).plot(\n",
        "    kind='bar', title='Top 20 words in review before removing stop words')\n"
      ],
      "execution_count": 218,
      "outputs": [
        {
          "output_type": "stream",
          "text": [
            "you 505\n",
            "the 388\n",
            "rt 328\n",
            "to 323\n",
            "and 234\n",
            "bitch 209\n",
            "is 205\n",
            "that 196\n",
            "faggot 191\n",
            "like 169\n",
            "in 163\n",
            "of 153\n",
            "my 145\n",
            "nigga 140\n",
            "ass 138\n",
            "be 131\n",
            "me 127\n",
            "white 127\n",
            "co 126\n",
            "all 126\n"
          ],
          "name": "stdout"
        },
        {
          "output_type": "execute_result",
          "data": {
            "text/plain": [
              "<matplotlib.axes._subplots.AxesSubplot at 0x7f6f38110be0>"
            ]
          },
          "metadata": {
            "tags": []
          },
          "execution_count": 218
        },
        {
          "output_type": "display_data",
          "data": {
            "image/png": "[encoded data removed]",
            "text/plain": [
              "<Figure size 432x288 with 1 Axes>"
            ]
          },
          "metadata": {
            "tags": []
          }
        }
      ]
    },
    {
      "cell_type": "code",
      "metadata": {
        "id": "TLpkkrsIfrYX",
        "colab_type": "code",
        "colab": {
          "base_uri": "https://localhost:8080/",
          "height": 675
        },
        "outputId": "ab0e4171-81c6-4ba9-b20b-826edcb7865c"
      },
      "source": [
        "temp_df=df_train.loc[df_train['class'] == 2][\"tweet\"]\n",
        "common_words = get_top_n_words(temp_df, 20)\n",
        "for word, freq in common_words:\n",
        "    print(word, freq)  \n",
        "df1 = pd.DataFrame(common_words, columns = ['tweet' , 'count'])\n",
        "df1.groupby('tweet').sum()['count'].sort_values(ascending=False).plot(\n",
        "    kind='bar', title='Top 20 words in review before removing stop words')\n"
      ],
      "execution_count": 219,
      "outputs": [
        {
          "output_type": "stream",
          "text": [
            "the 440\n",
            "rt 331\n",
            "to 265\n",
            "http 227\n",
            "co 215\n",
            "and 209\n",
            "trash 181\n",
            "in 175\n",
            "is 170\n",
            "of 153\n",
            "you 153\n",
            "it 140\n",
            "that 134\n",
            "my 111\n",
            "for 109\n",
            "on 105\n",
            "8230 95\n",
            "me 86\n",
            "this 82\n",
            "be 81\n"
          ],
          "name": "stdout"
        },
        {
          "output_type": "execute_result",
          "data": {
            "text/plain": [
              "<matplotlib.axes._subplots.AxesSubplot at 0x7f6f38c72e48>"
            ]
          },
          "metadata": {
            "tags": []
          },
          "execution_count": 219
        },
        {
          "output_type": "display_data",
          "data": {
            "image/png": "[encoded data removed]",
            "text/plain": [
              "<Figure size 432x288 with 1 Axes>"
            ]
          },
          "metadata": {
            "tags": []
          }
        }
      ]
    },
    {
      "cell_type": "code",
      "metadata": {
        "id": "dN_36OFDVi9Q",
        "colab_type": "code",
        "colab": {}
      },
      "source": [
        "def get_top_n_words(corpus, n=None):\n",
        "    vec = CountVectorizer(stop_words = 'english').fit(corpus)\n",
        "    bag_of_words = vec.transform(corpus)\n",
        "    sum_words = bag_of_words.sum(axis=0) \n",
        "    words_freq = [(word, sum_words[0, idx]) for word, idx in vec.vocabulary_.items()]\n",
        "    words_freq =sorted(words_freq, key = lambda x: x[1], reverse=True)\n",
        "    return words_freq[:n]\n",
        "\n"
      ],
      "execution_count": 0,
      "outputs": []
    },
    {
      "cell_type": "code",
      "metadata": {
        "id": "Z-0OOvp2fwiW",
        "colab_type": "code",
        "colab": {
          "base_uri": "https://localhost:8080/",
          "height": 687
        },
        "outputId": "3cd0373c-ac05-4227-889a-b9d542f8c76d"
      },
      "source": [
        "temp_df=df_train.loc[df_train['class'] == 0][\"tweet\"]\n",
        "common_words = get_top_n_words(temp_df, 20)\n",
        "for word, freq in common_words:\n",
        "    print(word, freq)  \n",
        "df1 = pd.DataFrame(common_words, columns = ['tweet' , 'count'])\n",
        "df1.groupby('tweet').sum()['count'].sort_values(ascending=False).plot(\n",
        "    kind='bar', title='Top 20 words in review before removing stop words')\n"
      ],
      "execution_count": 226,
      "outputs": [
        {
          "output_type": "stream",
          "text": [
            "rt 328\n",
            "bitch 209\n",
            "faggot 191\n",
            "like 169\n",
            "nigga 140\n",
            "ass 138\n",
            "white 127\n",
            "fuck 121\n",
            "http 117\n",
            "trash 113\n",
            "nigger 112\n",
            "128514 96\n",
            "fucking 95\n",
            "don 77\n",
            "fag 76\n",
            "niggas 76\n",
            "just 75\n",
            "8221 66\n",
            "8220 64\n",
            "faggots 62\n"
          ],
          "name": "stdout"
        },
        {
          "output_type": "execute_result",
          "data": {
            "text/plain": [
              "<matplotlib.axes._subplots.AxesSubplot at 0x7f6f3912def0>"
            ]
          },
          "metadata": {
            "tags": []
          },
          "execution_count": 226
        },
        {
          "output_type": "display_data",
          "data": {
            "image/png": "[encoded data removed]",
            "text/plain": [
              "<Figure size 432x288 with 1 Axes>"
            ]
          },
          "metadata": {
            "tags": []
          }
        }
      ]
    },
    {
      "cell_type": "code",
      "metadata": {
        "id": "Wy6pciWLV5-s",
        "colab_type": "code",
        "colab": {
          "base_uri": "https://localhost:8080/",
          "height": 687
        },
        "outputId": "2fb0debb-2c5e-41d1-f0d4-6c48759e8cc6"
      },
      "source": [
        "temp_df=df_train.loc[df_train['class'] == 1][\"tweet\"]\n",
        "common_words = get_top_n_words(temp_df, 20)\n",
        "for word, freq in common_words:\n",
        "    print(word, freq)  \n",
        "df1 = pd.DataFrame(common_words, columns = ['tweet' , 'count'])\n",
        "df1.groupby('tweet').sum()['count'].sort_values(ascending=False).plot(\n",
        "    kind='bar', title='Top 20 words in review before removing stop words')\n"
      ],
      "execution_count": 224,
      "outputs": [
        {
          "output_type": "stream",
          "text": [
            "bitch 436\n",
            "rt 341\n",
            "bitches 144\n",
            "hoes 124\n",
            "like 120\n",
            "128514 110\n",
            "http 103\n",
            "pussy 98\n",
            "hoe 98\n",
            "ass 86\n",
            "don 75\n",
            "just 75\n",
            "8220 72\n",
            "fuck 72\n",
            "8221 70\n",
            "shit 65\n",
            "ain 58\n",
            "nigga 53\n",
            "got 52\n",
            "lol 49\n"
          ],
          "name": "stdout"
        },
        {
          "output_type": "execute_result",
          "data": {
            "text/plain": [
              "<matplotlib.axes._subplots.AxesSubplot at 0x7f6f38f05208>"
            ]
          },
          "metadata": {
            "tags": []
          },
          "execution_count": 224
        },
        {
          "output_type": "display_data",
          "data": {
            "image/png": "[encoded data removed]",
            "text/plain": [
              "<Figure size 432x288 with 1 Axes>"
            ]
          },
          "metadata": {
            "tags": []
          }
        }
      ]
    },
    {
      "cell_type": "code",
      "metadata": {
        "id": "HZRHXMksWu77",
        "colab_type": "code",
        "colab": {
          "base_uri": "https://localhost:8080/",
          "height": 691
        },
        "outputId": "98fa657f-08ae-4db4-c3c0-8f0dd479a813"
      },
      "source": [
        "temp_df=df_train.loc[df_train['class'] == 2][\"tweet\"]\n",
        "common_words = get_top_n_words(temp_df, 20)\n",
        "for word, freq in common_words:\n",
        "    print(word, freq)  \n",
        "df1 = pd.DataFrame(common_words, columns = ['tweet' , 'count'])\n",
        "df1.groupby('tweet').sum()['count'].sort_values(ascending=False).plot(\n",
        "    kind='bar', title='Top 20 words in review before removing stop words')\n"
      ],
      "execution_count": 225,
      "outputs": [
        {
          "output_type": "stream",
          "text": [
            "rt 331\n",
            "http 227\n",
            "trash 181\n",
            "8230 95\n",
            "bird 79\n",
            "like 76\n",
            "charlie 57\n",
            "128514 57\n",
            "yankees 56\n",
            "just 55\n",
            "yellow 54\n",
            "birds 44\n",
            "8220 43\n",
            "don 42\n",
            "amp 40\n",
            "8221 40\n",
            "lol 35\n",
            "colored 33\n",
            "ghetto 31\n",
            "monkey 31\n"
          ],
          "name": "stdout"
        },
        {
          "output_type": "execute_result",
          "data": {
            "text/plain": [
              "<matplotlib.axes._subplots.AxesSubplot at 0x7f6f393db7b8>"
            ]
          },
          "metadata": {
            "tags": []
          },
          "execution_count": 225
        },
        {
          "output_type": "display_data",
          "data": {
            "image/png": "[encoded data removed]",
            "text/plain": [
              "<Figure size 432x288 with 1 Axes>"
            ]
          },
          "metadata": {
            "tags": []
          }
        }
      ]
    },
    {
      "cell_type": "markdown",
      "metadata": {
        "id": "4m4cyzbPW_u6",
        "colab_type": "text"
      },
      "source": [
        "##Bigrams"
      ]
    },
    {
      "cell_type": "code",
      "metadata": {
        "id": "C68DR809XARu",
        "colab_type": "code",
        "colab": {}
      },
      "source": [
        "def get_top_n_words(corpus, n=None):\n",
        "    vec = CountVectorizer(ngram_range=(2, 2), stop_words = 'english').fit(corpus)\n",
        "    bag_of_words = vec.transform(corpus)\n",
        "    sum_words = bag_of_words.sum(axis=0) \n",
        "    words_freq = [(word, sum_words[0, idx]) for word, idx in vec.vocabulary_.items()]\n",
        "    words_freq =sorted(words_freq, key = lambda x: x[1], reverse=True)\n",
        "    return words_freq[:n]"
      ],
      "execution_count": 0,
      "outputs": []
    },
    {
      "cell_type": "code",
      "metadata": {
        "id": "hV7_duD6XGDI",
        "colab_type": "code",
        "colab": {
          "base_uri": "https://localhost:8080/",
          "height": 729
        },
        "outputId": "ca156e3e-fe16-4ad8-92dc-4c7fa045008a"
      },
      "source": [
        "temp_df=df_train.loc[df_train['class'] == 0][\"tweet\"]\n",
        "common_words = get_top_n_words(temp_df, 20)\n",
        "for word, freq in common_words:\n",
        "    print(word, freq)  \n",
        "df1 = pd.DataFrame(common_words, columns = ['tweet' , 'count'])\n",
        "df1.groupby('tweet').sum()['count'].sort_values(ascending=False).plot(\n",
        "    kind='bar', title='Top 20 words in review before removing stop words')\n"
      ],
      "execution_count": 228,
      "outputs": [
        {
          "output_type": "stream",
          "text": [
            "white trash 62\n",
            "128514 128514 49\n",
            "ass nigga 23\n",
            "look like 17\n",
            "bitch ass 15\n",
            "fucking faggot 11\n",
            "faggot ass 10\n",
            "bitch nigga 10\n",
            "looks like 9\n",
            "happy birthday 8\n",
            "fuck bitch 8\n",
            "white people 8\n",
            "don like 8\n",
            "ass niggas 8\n",
            "nigga bitch 8\n",
            "http 8230 7\n",
            "128557 128557 7\n",
            "like bitch 7\n",
            "ass bitch 7\n",
            "black people 7\n"
          ],
          "name": "stdout"
        },
        {
          "output_type": "execute_result",
          "data": {
            "text/plain": [
              "<matplotlib.axes._subplots.AxesSubplot at 0x7f6f398f1cc0>"
            ]
          },
          "metadata": {
            "tags": []
          },
          "execution_count": 228
        },
        {
          "output_type": "display_data",
          "data": {
            "image/png": "[encoded data removed]",
            "text/plain": [
              "<Figure size 432x288 with 1 Axes>"
            ]
          },
          "metadata": {
            "tags": []
          }
        }
      ]
    },
    {
      "cell_type": "code",
      "metadata": {
        "id": "AyhZ0NypZ2it",
        "colab_type": "code",
        "colab": {
          "base_uri": "https://localhost:8080/",
          "height": 729
        },
        "outputId": "640d0f94-e705-4068-de42-b96ae407a8cc"
      },
      "source": [
        "temp_df=df_train.loc[df_train['class'] == 2][\"tweet\"]\n",
        "common_words = get_top_n_words(temp_df, 20)\n",
        "for word, freq in common_words:\n",
        "    print(word, freq)  \n",
        "df1 = pd.DataFrame(common_words, columns = ['tweet' , 'count'])\n",
        "df1.groupby('tweet').sum()['count'].sort_values(ascending=False).plot(\n",
        "    kind='bar', title='Top 20 words in review before removing stop words')\n"
      ],
      "execution_count": 229,
      "outputs": [
        {
          "output_type": "stream",
          "text": [
            "128514 128514 30\n",
            "http 8230 20\n",
            "lt lt 12\n",
            "flappy bird 10\n",
            "charlie crist 9\n",
            "early bird 8\n",
            "ho 8230 8\n",
            "charlie sheen 8\n",
            "look like 7\n",
            "trash talk 7\n",
            "1575 1604 7\n",
            "gt gt 7\n",
            "derek jeter 6\n",
            "charlie brown 6\n",
            "9733 best 6\n",
            "best asian 6\n",
            "asian massage 6\n",
            "park slope 6\n",
            "slope rated 6\n",
            "rated spa 6\n"
          ],
          "name": "stdout"
        },
        {
          "output_type": "execute_result",
          "data": {
            "text/plain": [
              "<matplotlib.axes._subplots.AxesSubplot at 0x7f6f38899e10>"
            ]
          },
          "metadata": {
            "tags": []
          },
          "execution_count": 229
        },
        {
          "output_type": "display_data",
          "data": {
            "image/png": "[encoded data removed]",
            "text/plain": [
              "<Figure size 432x288 with 1 Axes>"
            ]
          },
          "metadata": {
            "tags": []
          }
        }
      ]
    },
    {
      "cell_type": "code",
      "metadata": {
        "id": "n2r7IWArXHNB",
        "colab_type": "code",
        "colab": {
          "base_uri": "https://localhost:8080/",
          "height": 729
        },
        "outputId": "0ae45a3a-6db1-47bd-ed37-544fee52a935"
      },
      "source": [
        "temp_df=df_train.loc[df_train['class'] == 1][\"tweet\"]\n",
        "common_words = get_top_n_words(temp_df, 20)\n",
        "for word, freq in common_words:\n",
        "    print(word, freq)  \n",
        "df1 = pd.DataFrame(common_words, columns = ['tweet' , 'count'])\n",
        "df1.groupby('tweet').sum()['count'].sort_values(ascending=False).plot(\n",
        "    kind='bar', title='Top 20 words in review before removing stop words')\n"
      ],
      "execution_count": 230,
      "outputs": [
        {
          "output_type": "stream",
          "text": [
            "128514 128514 52\n",
            "like bitch 14\n",
            "bitch ass 14\n",
            "cunt cunt 14\n",
            "ass bitch 10\n",
            "yo bitch 9\n",
            "9986 65039 9\n",
            "bitch like 8\n",
            "little bitch 8\n",
            "bitch http 8\n",
            "65039 9986 8\n",
            "don fuck 7\n",
            "don like 7\n",
            "don know 7\n",
            "bad bitch 7\n",
            "bitch ain 6\n",
            "ain shit 6\n",
            "bitch don 6\n",
            "just like 6\n",
            "bitch nigga 6\n"
          ],
          "name": "stdout"
        },
        {
          "output_type": "execute_result",
          "data": {
            "text/plain": [
              "<matplotlib.axes._subplots.AxesSubplot at 0x7f6f384afb38>"
            ]
          },
          "metadata": {
            "tags": []
          },
          "execution_count": 230
        },
        {
          "output_type": "display_data",
          "data": {
            "image/png": "[encoded data removed]",
            "text/plain": [
              "<Figure size 432x288 with 1 Axes>"
            ]
          },
          "metadata": {
            "tags": []
          }
        }
      ]
    },
    {
      "cell_type": "code",
      "metadata": {
        "id": "F4c9yK5aXJtJ",
        "colab_type": "code",
        "colab": {}
      },
      "source": [
        ""
      ],
      "execution_count": 0,
      "outputs": []
    },
    {
      "cell_type": "markdown",
      "metadata": {
        "id": "XhpgIkVFXaUd",
        "colab_type": "text"
      },
      "source": [
        "#Trigrams"
      ]
    },
    {
      "cell_type": "code",
      "metadata": {
        "id": "2SnF90HbXbQF",
        "colab_type": "code",
        "colab": {}
      },
      "source": [
        "def get_top_n_words(corpus, n=None):\n",
        "    vec = CountVectorizer(ngram_range=(3, 3), stop_words = 'english').fit(corpus)\n",
        "    bag_of_words = vec.transform(corpus)\n",
        "    sum_words = bag_of_words.sum(axis=0) \n",
        "    words_freq = [(word, sum_words[0, idx]) for word, idx in vec.vocabulary_.items()]\n",
        "    words_freq =sorted(words_freq, key = lambda x: x[1], reverse=True)\n",
        "    return words_freq[:n]\n",
        "\n"
      ],
      "execution_count": 0,
      "outputs": []
    },
    {
      "cell_type": "code",
      "metadata": {
        "id": "U8lYGC4KXeBK",
        "colab_type": "code",
        "colab": {
          "base_uri": "https://localhost:8080/",
          "height": 825
        },
        "outputId": "d3183d31-b5f8-4833-efb6-8d5cc777caef"
      },
      "source": [
        "temp_df=df_train.loc[df_train['class'] == 0][\"tweet\"]\n",
        "common_words = get_top_n_words(temp_df, 20)\n",
        "for word, freq in common_words:\n",
        "    print(word, freq)  \n",
        "df1 = pd.DataFrame(common_words, columns = ['tweet' , 'count'])\n",
        "df1.groupby('tweet').sum()['count'].sort_values(ascending=False).plot(\n",
        "    kind='bar', title='Top 20 words in review before removing stop words')\n"
      ],
      "execution_count": 232,
      "outputs": [
        {
          "output_type": "stream",
          "text": [
            "128514 128514 128514 23\n",
            "bitch ass nigga 7\n",
            "nigga nigga nigga 4\n",
            "creepy ass cracker 3\n",
            "happy birthday faggot 3\n",
            "128557 128557 128557 3\n",
            "pussy ass nigga 3\n",
            "softestmuffin _tee13 torahblaze 3\n",
            "means white trash 3\n",
            "got niggas amp 3\n",
            "da colored folk 3\n",
            "uncle tom ass 3\n",
            "127850 127850 127850 3\n",
            "128079 128079 128079 3\n",
            "128077 128077 128077 3\n",
            "lame nigga lame 2\n",
            "nigga lame bitch 2\n",
            "look like fag 2\n",
            "sizzurp__ bootyacid ilikecats74 2\n",
            "bootyacid ilikecats74 yopapi_chulo 2\n"
          ],
          "name": "stdout"
        },
        {
          "output_type": "execute_result",
          "data": {
            "text/plain": [
              "<matplotlib.axes._subplots.AxesSubplot at 0x7f6f386026a0>"
            ]
          },
          "metadata": {
            "tags": []
          },
          "execution_count": 232
        },
        {
          "output_type": "display_data",
          "data": {
            "image/png": "[encoded data removed]",
            "text/plain": [
              "<Figure size 432x288 with 1 Axes>"
            ]
          },
          "metadata": {
            "tags": []
          }
        }
      ]
    },
    {
      "cell_type": "code",
      "metadata": {
        "id": "Io2hhY-aXgLm",
        "colab_type": "code",
        "colab": {
          "base_uri": "https://localhost:8080/",
          "height": 789
        },
        "outputId": "92e2933f-4508-4b9d-ee89-f9a29fa0e3d2"
      },
      "source": [
        "temp_df=df_train.loc[df_train['class'] == 1][\"tweet\"]\n",
        "common_words = get_top_n_words(temp_df, 20)\n",
        "for word, freq in common_words:\n",
        "    print(word, freq)  \n",
        "df1 = pd.DataFrame(common_words, columns = ['tweet' , 'count'])\n",
        "df1.groupby('tweet').sum()['count'].sort_values(ascending=False).plot(\n",
        "    kind='bar', title='Top 20 words in review before removing stop words')\n"
      ],
      "execution_count": 233,
      "outputs": [
        {
          "output_type": "stream",
          "text": [
            "128514 128514 128514 19\n",
            "cunt cunt cunt 13\n",
            "9986 65039 9986 8\n",
            "65039 9986 65039 8\n",
            "gt gt gt 4\n",
            "128588 128588 128588 4\n",
            "bitch dat ain 3\n",
            "porn android iphone 3\n",
            "android iphone ipad 3\n",
            "iphone ipad sex 3\n",
            "ipad sex xxx 3\n",
            "1041210 1041210 1041210 3\n",
            "128514 128514 http 3\n",
            "128128 128128 128128 3\n",
            "128536 128536 128536 3\n",
            "bae bae bae 3\n",
            "128525 128525 128525 2\n",
            "having bitch ain 2\n",
            "bitch ain goofy 2\n",
            "ain goofy having 2\n"
          ],
          "name": "stdout"
        },
        {
          "output_type": "execute_result",
          "data": {
            "text/plain": [
              "<matplotlib.axes._subplots.AxesSubplot at 0x7f6f389f0048>"
            ]
          },
          "metadata": {
            "tags": []
          },
          "execution_count": 233
        },
        {
          "output_type": "display_data",
          "data": {
            "image/png": "[encoded data removed]",
            "text/plain": [
              "<Figure size 432x288 with 1 Axes>"
            ]
          },
          "metadata": {
            "tags": []
          }
        }
      ]
    },
    {
      "cell_type": "code",
      "metadata": {
        "id": "-LDmnnzhgLPu",
        "colab_type": "code",
        "colab": {
          "base_uri": "https://localhost:8080/",
          "height": 771
        },
        "outputId": "dae27dd8-ba80-412c-a926-6eaefe831a48"
      },
      "source": [
        "temp_df=df_train.loc[df_train['class'] == 2][\"tweet\"]\n",
        "common_words = get_top_n_words(temp_df, 20)\n",
        "for word, freq in common_words:\n",
        "    print(word, freq)  \n",
        "df1 = pd.DataFrame(common_words, columns = ['tweet' , 'count'])\n",
        "df1.groupby('tweet').sum()['count'].sort_values(ascending=False).plot(\n",
        "    kind='bar', title='Top 20 words in review before removing stop words')\n"
      ],
      "execution_count": 234,
      "outputs": [
        {
          "output_type": "stream",
          "text": [
            "128514 128514 128514 15\n",
            "lt lt lt 9\n",
            "9733 best asian 6\n",
            "best asian massage 6\n",
            "park slope rated 6\n",
            "slope rated spa 6\n",
            "rated spa 9733 6\n",
            "spa 9733 718 6\n",
            "9733 718 622 6\n",
            "718 622 0221 6\n",
            "622 0221 24 6\n",
            "0221 24 http 6\n",
            "gt gt gt 5\n",
            "early bird gets 4\n",
            "bird gets worm 4\n",
            "asian massage park 4\n",
            "massage park slope 4\n",
            "rose colored glasses 3\n",
            "know abo 8230 3\n",
            "1585 1575 1604 3\n"
          ],
          "name": "stdout"
        },
        {
          "output_type": "execute_result",
          "data": {
            "text/plain": [
              "<matplotlib.axes._subplots.AxesSubplot at 0x7f6f39bfb6d8>"
            ]
          },
          "metadata": {
            "tags": []
          },
          "execution_count": 234
        },
        {
          "output_type": "display_data",
          "data": {
            "image/png": "[encoded data removed]",
            "text/plain": [
              "<Figure size 432x288 with 1 Axes>"
            ]
          },
          "metadata": {
            "tags": []
          }
        }
      ]
    },
    {
      "cell_type": "markdown",
      "metadata": {
        "id": "IncPBiOdXpCC",
        "colab_type": "text"
      },
      "source": [
        "#POS tags"
      ]
    },
    {
      "cell_type": "code",
      "metadata": {
        "id": "WuAw69yMXiIW",
        "colab_type": "code",
        "colab": {
          "base_uri": "https://localhost:8080/",
          "height": 211
        },
        "outputId": "f6f5905a-d30f-4ec6-893f-e1e8dfa179e3"
      },
      "source": [
        "!pip install TextBlob\n",
        "nltk.download('punkt')\n",
        "nltk.download('averaged_perceptron_tagger')\n",
        "  "
      ],
      "execution_count": 235,
      "outputs": [
        {
          "output_type": "stream",
          "text": [
            "Requirement already satisfied: TextBlob in /usr/local/lib/python3.6/dist-packages (0.15.3)\n",
            "Requirement already satisfied: nltk>=3.1 in /usr/local/lib/python3.6/dist-packages (from TextBlob) (3.2.5)\n",
            "Requirement already satisfied: six in /usr/local/lib/python3.6/dist-packages (from nltk>=3.1->TextBlob) (1.12.0)\n",
            "[nltk_data] Downloading package punkt to /root/nltk_data...\n",
            "[nltk_data]   Package punkt is already up-to-date!\n",
            "[nltk_data] Downloading package averaged_perceptron_tagger to\n",
            "[nltk_data]     /root/nltk_data...\n",
            "[nltk_data]   Package averaged_perceptron_tagger is already up-to-\n",
            "[nltk_data]       date!\n"
          ],
          "name": "stdout"
        },
        {
          "output_type": "execute_result",
          "data": {
            "text/plain": [
              "True"
            ]
          },
          "metadata": {
            "tags": []
          },
          "execution_count": 235
        }
      ]
    },
    {
      "cell_type": "code",
      "metadata": {
        "id": "4E-q6NRrXudn",
        "colab_type": "code",
        "colab": {}
      },
      "source": [
        "import textblob\n",
        "from textblob import TextBlob"
      ],
      "execution_count": 0,
      "outputs": []
    },
    {
      "cell_type": "code",
      "metadata": {
        "id": "wA9PU_eNXpx4",
        "colab_type": "code",
        "colab": {
          "base_uri": "https://localhost:8080/",
          "height": 315
        },
        "outputId": "2083a8ae-232c-4afe-f9f4-cb519966d92c"
      },
      "source": [
        "blob = TextBlob(str(df_train['tweet']))\n",
        "pos_df = pd.DataFrame(blob.tags, columns = ['word' , 'pos'])\n",
        "pos_df = pos_df.pos.value_counts()[:20]\n",
        "pos_df.plot(\n",
        "    kind='bar',\n",
        "    title='Top 20 Part-of-speech tagging for review corpus')\n"
      ],
      "execution_count": 237,
      "outputs": [
        {
          "output_type": "execute_result",
          "data": {
            "text/plain": [
              "<matplotlib.axes._subplots.AxesSubplot at 0x7f6f38fa7eb8>"
            ]
          },
          "metadata": {
            "tags": []
          },
          "execution_count": 237
        },
        {
          "output_type": "display_data",
          "data": {
            "image/png": "[encoded data removed]",
            "text/plain": [
              "<Figure size 432x288 with 1 Axes>"
            ]
          },
          "metadata": {
            "tags": []
          }
        }
      ]
    },
    {
      "cell_type": "code",
      "metadata": {
        "id": "w1KqmMjJX7gx",
        "colab_type": "code",
        "colab": {
          "base_uri": "https://localhost:8080/",
          "height": 271
        },
        "outputId": "5081a8aa-2f4b-45c0-8592-9fc9e80babbc"
      },
      "source": [
        "from matplotlib import pyplot\n",
        "\n",
        "x = df_train.loc[df_train['class'] == 2, 'pos']\n",
        "y = df_train.loc[df_train['class'] == 0, 'pos']\n",
        "z = df_train.loc[df_train['class'] == 1, 'pos']\n",
        "\n",
        "pyplot.hist(z,  label='z', alpha=0.5)\n",
        "pyplot.hist(x, label='x', alpha=0.5)\n",
        "pyplot.hist(y,  label='y', alpha=0.5)\n",
        "pyplot.legend(loc='upper right')\n",
        "pyplot.show()"
      ],
      "execution_count": 239,
      "outputs": [
        {
          "output_type": "display_data",
          "data": {
            "image/png": "[encoded data removed]",
            "text/plain": [
              "<Figure size 432x288 with 1 Axes>"
            ]
          },
          "metadata": {
            "tags": []
          }
        }
      ]
    },
    {
      "cell_type": "code",
      "metadata": {
        "id": "XMxh2phlZBuc",
        "colab_type": "code",
        "colab": {
          "base_uri": "https://localhost:8080/",
          "height": 269
        },
        "outputId": "971cf582-651a-4866-e588-a6aaa10b31ca"
      },
      "source": [
        "from matplotlib import pyplot\n",
        "\n",
        "x = df_train.loc[df_train['class'] == 2, 'neg']\n",
        "y = df_train.loc[df_train['class'] == 0, 'neg']\n",
        "z = df_train.loc[df_train['class'] == 1, 'neg']\n",
        "\n",
        "pyplot.hist(z,  label='z')\n",
        "pyplot.hist(x, label='x')\n",
        "pyplot.hist(y,  label='y')\n",
        "pyplot.legend(loc='upper right')\n",
        "pyplot.show()"
      ],
      "execution_count": 240,
      "outputs": [
        {
          "output_type": "display_data",
          "data": {
            "image/png": "[encoded data removed]",
            "text/plain": [
              "<Figure size 432x288 with 1 Axes>"
            ]
          },
          "metadata": {
            "tags": []
          }
        }
      ]
    },
    {
      "cell_type": "code",
      "metadata": {
        "id": "t-6sO9MVZqEk",
        "colab_type": "code",
        "colab": {
          "base_uri": "https://localhost:8080/",
          "height": 269
        },
        "outputId": "3912a77b-2268-4640-cab4-75d8b827a3b7"
      },
      "source": [
        "from matplotlib import pyplot\n",
        "\n",
        "x = df_train.loc[df_train['class'] == 2, 'neu']\n",
        "y = df_train.loc[df_train['class'] == 0, 'neu']\n",
        "z = df_train.loc[df_train['class'] == 1, 'neu']\n",
        "\n",
        "\n",
        "pyplot.hist(y,  label='y')\n",
        "pyplot.hist(x, label='x')\n",
        "pyplot.hist(z,  label='z')\n",
        "pyplot.legend(loc='upper right')\n",
        "pyplot.show()"
      ],
      "execution_count": 247,
      "outputs": [
        {
          "output_type": "display_data",
          "data": {
            "image/png": "[encoded data removed]",
            "text/plain": [
              "<Figure size 432x288 with 1 Axes>"
            ]
          },
          "metadata": {
            "tags": []
          }
        }
      ]
    },
    {
      "cell_type": "code",
      "metadata": {
        "id": "ST9FIYinap2N",
        "colab_type": "code",
        "colab": {
          "base_uri": "https://localhost:8080/",
          "height": 459
        },
        "outputId": "219c5bfc-cd1f-4100-9f5f-d223af158c1b"
      },
      "source": [
        "import numpy as np\n",
        "import pandas as pd\n",
        "import seaborn as sns\n",
        "import matplotlib.pyplot as plt\n",
        "\n",
        "df=df_train[[\"class\",\"pos\"]]\n",
        "sns.jointplot(x=\"class\", y=\"pos\", data=df)"
      ],
      "execution_count": 248,
      "outputs": [
        {
          "output_type": "execute_result",
          "data": {
            "text/plain": [
              "<seaborn.axisgrid.JointGrid at 0x7f6f383669e8>"
            ]
          },
          "metadata": {
            "tags": []
          },
          "execution_count": 248
        },
        {
          "output_type": "display_data",
          "data": {
            "image/png": "[encoded data removed]",
            "text/plain": [
              "<Figure size 432x432 with 3 Axes>"
            ]
          },
          "metadata": {
            "tags": []
          }
        }
      ]
    },
    {
      "cell_type": "code",
      "metadata": {
        "id": "DzUNWgtmcOgL",
        "colab_type": "code",
        "colab": {
          "base_uri": "https://localhost:8080/",
          "height": 459
        },
        "outputId": "4e5e978c-042b-428d-8bcd-851cde3399b3"
      },
      "source": [
        "df=df_train[[\"class\",\"neg\"]]\n",
        "sns.jointplot(x=\"class\", y=\"neg\", data=df)"
      ],
      "execution_count": 249,
      "outputs": [
        {
          "output_type": "execute_result",
          "data": {
            "text/plain": [
              "<seaborn.axisgrid.JointGrid at 0x7f6f385c8748>"
            ]
          },
          "metadata": {
            "tags": []
          },
          "execution_count": 249
        },
        {
          "output_type": "display_data",
          "data": {
            "image/png": "[encoded data removed]",
            "text/plain": [
              "<Figure size 432x432 with 3 Axes>"
            ]
          },
          "metadata": {
            "tags": []
          }
        }
      ]
    },
    {
      "cell_type": "code",
      "metadata": {
        "colab_type": "code",
        "id": "dhjJkuY1dB8j",
        "colab": {
          "base_uri": "https://localhost:8080/",
          "height": 459
        },
        "outputId": "1bdd2b53-8e07-4aa3-f37d-925a31f0e22d"
      },
      "source": [
        "df=df_train[[\"class\",\"neu\"]]\n",
        "sns.jointplot(x=\"class\", y=\"neu\", data=df)"
      ],
      "execution_count": 250,
      "outputs": [
        {
          "output_type": "execute_result",
          "data": {
            "text/plain": [
              "<seaborn.axisgrid.JointGrid at 0x7f6f3921e240>"
            ]
          },
          "metadata": {
            "tags": []
          },
          "execution_count": 250
        },
        {
          "output_type": "display_data",
          "data": {
            "image/png": "[encoded data removed]",
            "text/plain": [
              "<Figure size 432x432 with 3 Axes>"
            ]
          },
          "metadata": {
            "tags": []
          }
        }
      ]
    }
  ]
}