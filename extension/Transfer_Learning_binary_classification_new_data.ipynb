{
  "nbformat": 4,
  "nbformat_minor": 0,
  "metadata": {
    "colab": {
      "name": "Transfer Learning binary classification new data",
      "version": "0.3.2",
      "provenance": [],
      "collapsed_sections": [],
      "toc_visible": true
    },
    "kernelspec": {
      "name": "python3",
      "display_name": "Python 3"
    },
    "accelerator": "GPU"
  },
  "cells": [
    {
      "cell_type": "markdown",
      "metadata": {
        "id": "pOTzp8O36CyQ",
        "colab_type": "text"
      },
      "source": [
        "# Getting Started\n",
        "\n",
        "This section sets up the environment for access to the Universal Sentence Encoder on TF Hub and provides examples of applying the encoder to words, sentences, and paragraphs.\n",
        "Tutorial followed:\n",
        "https://www.dlology.com/blog/keras-meets-universal-sentence-encoder-transfer-learning-for-text-data/"
      ]
    },
    {
      "cell_type": "markdown",
      "metadata": {
        "id": "63Pd3nJnTl-i",
        "colab_type": "text"
      },
      "source": [
        "More detailed information about installing Tensorflow can be found at [https://www.tensorflow.org/install/](https://www.tensorflow.org/install/)."
      ]
    },
    {
      "cell_type": "code",
      "metadata": {
        "id": "lVjNK8shFKOC",
        "colab_type": "code",
        "outputId": "074d9078-d011-4c0b-a6c2-ada4c547ad6a",
        "colab": {
          "base_uri": "https://localhost:8080/",
          "height": 245
        }
      },
      "source": [
        "# Install the latest Tensorflow version.\n",
        "!pip3 install --quiet \"tensorflow>=1.7\"\n",
        "# Install TF-Hub.\n",
        "!pip3 install --quiet tensorflow-hub\n",
        "!pip3 install seaborn"
      ],
      "execution_count": 0,
      "outputs": [
        {
          "output_type": "stream",
          "text": [
            "Requirement already satisfied: seaborn in /usr/local/lib/python3.6/dist-packages (0.9.0)\n",
            "Requirement already satisfied: pandas>=0.15.2 in /usr/local/lib/python3.6/dist-packages (from seaborn) (0.24.2)\n",
            "Requirement already satisfied: numpy>=1.9.3 in /usr/local/lib/python3.6/dist-packages (from seaborn) (1.16.3)\n",
            "Requirement already satisfied: matplotlib>=1.4.3 in /usr/local/lib/python3.6/dist-packages (from seaborn) (3.0.3)\n",
            "Requirement already satisfied: scipy>=0.14.0 in /usr/local/lib/python3.6/dist-packages (from seaborn) (1.2.1)\n",
            "Requirement already satisfied: python-dateutil>=2.5.0 in /usr/local/lib/python3.6/dist-packages (from pandas>=0.15.2->seaborn) (2.5.3)\n",
            "Requirement already satisfied: pytz>=2011k in /usr/local/lib/python3.6/dist-packages (from pandas>=0.15.2->seaborn) (2018.9)\n",
            "Requirement already satisfied: pyparsing!=2.0.4,!=2.1.2,!=2.1.6,>=2.0.1 in /usr/local/lib/python3.6/dist-packages (from matplotlib>=1.4.3->seaborn) (2.4.0)\n",
            "Requirement already satisfied: cycler>=0.10 in /usr/local/lib/python3.6/dist-packages (from matplotlib>=1.4.3->seaborn) (0.10.0)\n",
            "Requirement already satisfied: kiwisolver>=1.0.1 in /usr/local/lib/python3.6/dist-packages (from matplotlib>=1.4.3->seaborn) (1.1.0)\n",
            "Requirement already satisfied: six>=1.5 in /usr/local/lib/python3.6/dist-packages (from python-dateutil>=2.5.0->pandas>=0.15.2->seaborn) (1.12.0)\n",
            "Requirement already satisfied: setuptools in /usr/local/lib/python3.6/dist-packages (from kiwisolver>=1.0.1->matplotlib>=1.4.3->seaborn) (41.0.1)\n"
          ],
          "name": "stdout"
        }
      ]
    },
    {
      "cell_type": "code",
      "metadata": {
        "id": "MSeY-MUQo2Ha",
        "colab_type": "code",
        "outputId": "f8723257-d997-40cf-f2ba-57ea93047766",
        "colab": {
          "base_uri": "https://localhost:8080/",
          "height": 89
        }
      },
      "source": [
        "import tensorflow as tf\n",
        "import tensorflow_hub as hub\n",
        "import matplotlib.pyplot as plt\n",
        "import numpy as np\n",
        "import os\n",
        "import pandas as pd\n",
        "import re\n",
        "import seaborn as sns\n",
        "import keras.layers as layers\n",
        "from keras.models import Model\n",
        "from keras import backend as K\n",
        "np.random.seed(10)"
      ],
      "execution_count": 0,
      "outputs": [
        {
          "output_type": "stream",
          "text": [
            "WARNING: Logging before flag parsing goes to stderr.\n",
            "W0514 09:15:35.634165 140515327711104 __init__.py:56] Some hub symbols are not available because TensorFlow version is less than 1.14\n",
            "Using TensorFlow backend.\n"
          ],
          "name": "stderr"
        }
      ]
    },
    {
      "cell_type": "code",
      "metadata": {
        "id": "zwty8Z6mAkdV",
        "colab_type": "code",
        "colab": {}
      },
      "source": [
        "module_url = \"https://tfhub.dev/google/universal-sentence-encoder-large/3\" #@param [\"https://tfhub.dev/google/universal-sentence-encoder/2\", \"https://tfhub.dev/google/universal-sentence-encoder-large/3\"]"
      ],
      "execution_count": 0,
      "outputs": []
    },
    {
      "cell_type": "code",
      "metadata": {
        "id": "Q8F4LNGFqOiq",
        "colab_type": "code",
        "outputId": "3eb6267f-b89f-4c15-b552-52ce0541fbb7",
        "colab": {
          "base_uri": "https://localhost:8080/",
          "height": 141
        }
      },
      "source": [
        "# Import the Universal Sentence Encoder's TF Hub module\n",
        "embed = hub.Module(module_url)\n"
      ],
      "execution_count": 0,
      "outputs": [
        {
          "output_type": "stream",
          "text": [
            "WARNING:tensorflow:From /usr/local/lib/python3.6/dist-packages/tensorflow/python/ops/control_flow_ops.py:3632: colocate_with (from tensorflow.python.framework.ops) is deprecated and will be removed in a future version.\n",
            "Instructions for updating:\n",
            "Colocations handled automatically by placer.\n"
          ],
          "name": "stdout"
        },
        {
          "output_type": "stream",
          "text": [
            "W0514 09:15:46.538287 140515327711104 deprecation.py:323] From /usr/local/lib/python3.6/dist-packages/tensorflow/python/ops/control_flow_ops.py:3632: colocate_with (from tensorflow.python.framework.ops) is deprecated and will be removed in a future version.\n",
            "Instructions for updating:\n",
            "Colocations handled automatically by placer.\n"
          ],
          "name": "stderr"
        }
      ]
    },
    {
      "cell_type": "code",
      "metadata": {
        "id": "O2cYc2WEkSGP",
        "colab_type": "code",
        "outputId": "e70b7d0b-037a-4506-a3ef-fd644515504a",
        "colab": {
          "base_uri": "https://localhost:8080/",
          "height": 35
        }
      },
      "source": [
        "embed_size = embed.get_output_info_dict()['default'].get_shape()[1].value\n",
        "embed_size"
      ],
      "execution_count": 0,
      "outputs": [
        {
          "output_type": "execute_result",
          "data": {
            "text/plain": [
              "512"
            ]
          },
          "metadata": {
            "tags": []
          },
          "execution_count": 5
        }
      ]
    },
    {
      "cell_type": "code",
      "metadata": {
        "id": "hp1eslsKYJ2P",
        "colab_type": "code",
        "colab": {}
      },
      "source": [
        "df=pd.read_csv(\"all_tweets.csv\")\n",
        "\n"
      ],
      "execution_count": 0,
      "outputs": []
    },
    {
      "cell_type": "code",
      "metadata": {
        "id": "ThenWHxiTm71",
        "colab_type": "code",
        "outputId": "3d319190-7c16-452b-f6f0-ad9439c8b72e",
        "colab": {
          "base_uri": "https://localhost:8080/",
          "height": 202
        }
      },
      "source": [
        "df.head()"
      ],
      "execution_count": 0,
      "outputs": [
        {
          "output_type": "execute_result",
          "data": {
            "text/html": [
              "<div>\n",
              "<style scoped>\n",
              "    .dataframe tbody tr th:only-of-type {\n",
              "        vertical-align: middle;\n",
              "    }\n",
              "\n",
              "    .dataframe tbody tr th {\n",
              "        vertical-align: top;\n",
              "    }\n",
              "\n",
              "    .dataframe thead th {\n",
              "        text-align: right;\n",
              "    }\n",
              "</style>\n",
              "<table border=\"1\" class=\"dataframe\">\n",
              "  <thead>\n",
              "    <tr style=\"text-align: right;\">\n",
              "      <th></th>\n",
              "      <th>Unnamed: 0</th>\n",
              "      <th>filename</th>\n",
              "      <th>tweet</th>\n",
              "      <th>class</th>\n",
              "    </tr>\n",
              "  </thead>\n",
              "  <tbody>\n",
              "    <tr>\n",
              "      <th>0</th>\n",
              "      <td>0</td>\n",
              "      <td>12834217_1</td>\n",
              "      <td>As of March 13th , 2014 , the booklet had been...</td>\n",
              "      <td>1</td>\n",
              "    </tr>\n",
              "    <tr>\n",
              "      <th>1</th>\n",
              "      <td>1</td>\n",
              "      <td>12834217_10</td>\n",
              "      <td>Thank you in advance. : ) Download the youtube...</td>\n",
              "      <td>1</td>\n",
              "    </tr>\n",
              "    <tr>\n",
              "      <th>2</th>\n",
              "      <td>2</td>\n",
              "      <td>12834217_2</td>\n",
              "      <td>In order to help increase the booklets downloa...</td>\n",
              "      <td>1</td>\n",
              "    </tr>\n",
              "    <tr>\n",
              "      <th>3</th>\n",
              "      <td>3</td>\n",
              "      <td>12834217_3</td>\n",
              "      <td>( Simply copy and paste the following text int...</td>\n",
              "      <td>1</td>\n",
              "    </tr>\n",
              "    <tr>\n",
              "      <th>4</th>\n",
              "      <td>4</td>\n",
              "      <td>12834217_4</td>\n",
              "      <td>Click below for a FREE download of a colorfull...</td>\n",
              "      <td>0</td>\n",
              "    </tr>\n",
              "  </tbody>\n",
              "</table>\n",
              "</div>"
            ],
            "text/plain": [
              "   Unnamed: 0     filename                                              tweet  \\\n",
              "0           0   12834217_1  As of March 13th , 2014 , the booklet had been...   \n",
              "1           1  12834217_10  Thank you in advance. : ) Download the youtube...   \n",
              "2           2   12834217_2  In order to help increase the booklets downloa...   \n",
              "3           3   12834217_3  ( Simply copy and paste the following text int...   \n",
              "4           4   12834217_4  Click below for a FREE download of a colorfull...   \n",
              "\n",
              "   class  \n",
              "0      1  \n",
              "1      1  \n",
              "2      1  \n",
              "3      1  \n",
              "4      0  "
            ]
          },
          "metadata": {
            "tags": []
          },
          "execution_count": 8
        }
      ]
    },
    {
      "cell_type": "code",
      "metadata": {
        "id": "takNrZnzTmVk",
        "colab_type": "code",
        "colab": {}
      },
      "source": [
        "df_test=df[['class', 'tweet']]\n",
        "# df.class = df.class.astype('category')\n",
        "# df_test.loc[df_train['class'] == 2, 'class'] = 1"
      ],
      "execution_count": 0,
      "outputs": []
    },
    {
      "cell_type": "code",
      "metadata": {
        "id": "PSu2r6IPZwz0",
        "colab_type": "code",
        "colab": {}
      },
      "source": [
        "df_test.columns = [\"label\",\"text\"]"
      ],
      "execution_count": 0,
      "outputs": []
    },
    {
      "cell_type": "code",
      "metadata": {
        "id": "U-FcmgZSbA3_",
        "colab_type": "code",
        "outputId": "6839db3a-b201-4f1f-fe12-a0880428712b",
        "colab": {
          "base_uri": "https://localhost:8080/",
          "height": 202
        }
      },
      "source": [
        "df_test.head()"
      ],
      "execution_count": 0,
      "outputs": [
        {
          "output_type": "execute_result",
          "data": {
            "text/html": [
              "<div>\n",
              "<style scoped>\n",
              "    .dataframe tbody tr th:only-of-type {\n",
              "        vertical-align: middle;\n",
              "    }\n",
              "\n",
              "    .dataframe tbody tr th {\n",
              "        vertical-align: top;\n",
              "    }\n",
              "\n",
              "    .dataframe thead th {\n",
              "        text-align: right;\n",
              "    }\n",
              "</style>\n",
              "<table border=\"1\" class=\"dataframe\">\n",
              "  <thead>\n",
              "    <tr style=\"text-align: right;\">\n",
              "      <th></th>\n",
              "      <th>label</th>\n",
              "      <th>text</th>\n",
              "    </tr>\n",
              "  </thead>\n",
              "  <tbody>\n",
              "    <tr>\n",
              "      <th>0</th>\n",
              "      <td>1</td>\n",
              "      <td>As of March 13th , 2014 , the booklet had been...</td>\n",
              "    </tr>\n",
              "    <tr>\n",
              "      <th>1</th>\n",
              "      <td>1</td>\n",
              "      <td>Thank you in advance. : ) Download the youtube...</td>\n",
              "    </tr>\n",
              "    <tr>\n",
              "      <th>2</th>\n",
              "      <td>1</td>\n",
              "      <td>In order to help increase the booklets downloa...</td>\n",
              "    </tr>\n",
              "    <tr>\n",
              "      <th>3</th>\n",
              "      <td>1</td>\n",
              "      <td>( Simply copy and paste the following text int...</td>\n",
              "    </tr>\n",
              "    <tr>\n",
              "      <th>4</th>\n",
              "      <td>0</td>\n",
              "      <td>Click below for a FREE download of a colorfull...</td>\n",
              "    </tr>\n",
              "  </tbody>\n",
              "</table>\n",
              "</div>"
            ],
            "text/plain": [
              "   label                                               text\n",
              "0      1  As of March 13th , 2014 , the booklet had been...\n",
              "1      1  Thank you in advance. : ) Download the youtube...\n",
              "2      1  In order to help increase the booklets downloa...\n",
              "3      1  ( Simply copy and paste the following text int...\n",
              "4      0  Click below for a FREE download of a colorfull..."
            ]
          },
          "metadata": {
            "tags": []
          },
          "execution_count": 11
        }
      ]
    },
    {
      "cell_type": "code",
      "metadata": {
        "id": "PT8rvJFWY3gD",
        "colab_type": "code",
        "outputId": "0bb49d0e-7552-4392-c2fe-0f23581b5234",
        "colab": {
          "base_uri": "https://localhost:8080/",
          "height": 141
        }
      },
      "source": [
        "df_test.label = df_test.label.astype('category')\n"
      ],
      "execution_count": 0,
      "outputs": [
        {
          "output_type": "stream",
          "text": [
            "/usr/local/lib/python3.6/dist-packages/pandas/core/generic.py:5096: SettingWithCopyWarning: \n",
            "A value is trying to be set on a copy of a slice from a DataFrame.\n",
            "Try using .loc[row_indexer,col_indexer] = value instead\n",
            "\n",
            "See the caveats in the documentation: http://pandas.pydata.org/pandas-docs/stable/indexing.html#indexing-view-versus-copy\n",
            "  self[name] = value\n"
          ],
          "name": "stderr"
        }
      ]
    },
    {
      "cell_type": "code",
      "metadata": {
        "id": "3HAtd4X5DayF",
        "colab_type": "code",
        "outputId": "22d992fc-83b7-4b5d-9649-5910a28d5e9c",
        "colab": {
          "base_uri": "https://localhost:8080/",
          "height": 35
        }
      },
      "source": [
        "category_counts = len(df_test.label.cat.categories)\n",
        "category_counts"
      ],
      "execution_count": 0,
      "outputs": [
        {
          "output_type": "execute_result",
          "data": {
            "text/plain": [
              "2"
            ]
          },
          "metadata": {
            "tags": []
          },
          "execution_count": 13
        }
      ]
    },
    {
      "cell_type": "code",
      "metadata": {
        "id": "PRD3fWgJjOrP",
        "colab_type": "code",
        "colab": {}
      },
      "source": [
        "def UniversalEmbedding(x):\n",
        "    return embed(tf.squeeze(tf.cast(x, tf.string)), signature=\"default\", as_dict=True)[\"default\"]"
      ],
      "execution_count": 0,
      "outputs": []
    },
    {
      "cell_type": "code",
      "metadata": {
        "id": "t3fllZkVjXKV",
        "colab_type": "code",
        "outputId": "571a1345-bd80-4486-ae3d-13715860d262",
        "colab": {
          "base_uri": "https://localhost:8080/",
          "height": 332
        }
      },
      "source": [
        "input_text = layers.Input(shape=(1,), dtype=tf.string)\n",
        "embedding = layers.Lambda(UniversalEmbedding, output_shape=(embed_size,))(input_text)\n",
        "dense = layers.Dense(256, activation='relu')(embedding)\n",
        "pred = layers.Dense(category_counts, activation='softmax')(dense)\n",
        "model = Model(inputs=[input_text], outputs=pred)\n",
        "model.compile(loss='categorical_crossentropy', optimizer='adam', metrics=['accuracy'])\n",
        "model.summary()"
      ],
      "execution_count": 0,
      "outputs": [
        {
          "output_type": "stream",
          "text": [
            "INFO:tensorflow:Saver not created because there are no variables in the graph to restore\n"
          ],
          "name": "stdout"
        },
        {
          "output_type": "stream",
          "text": [
            "I0514 09:17:29.306929 140515327711104 saver.py:1483] Saver not created because there are no variables in the graph to restore\n"
          ],
          "name": "stderr"
        },
        {
          "output_type": "stream",
          "text": [
            "_________________________________________________________________\n",
            "Layer (type)                 Output Shape              Param #   \n",
            "=================================================================\n",
            "input_1 (InputLayer)         (None, 1)                 0         \n",
            "_________________________________________________________________\n",
            "lambda_1 (Lambda)            (None, 512)               0         \n",
            "_________________________________________________________________\n",
            "dense_1 (Dense)              (None, 256)               131328    \n",
            "_________________________________________________________________\n",
            "dense_2 (Dense)              (None, 2)                 514       \n",
            "=================================================================\n",
            "Total params: 131,842\n",
            "Trainable params: 131,842\n",
            "Non-trainable params: 0\n",
            "_________________________________________________________________\n"
          ],
          "name": "stdout"
        }
      ]
    },
    {
      "cell_type": "code",
      "metadata": {
        "id": "ln7TOQi2r6rd",
        "colab_type": "code",
        "colab": {}
      },
      "source": [
        "df_train=pd.read_csv(\"labeled_data.csv\")"
      ],
      "execution_count": 0,
      "outputs": []
    },
    {
      "cell_type": "code",
      "metadata": {
        "id": "348wxTSPT8xF",
        "colab_type": "code",
        "outputId": "f0a576a2-fa2b-4548-f6f3-06350451de99",
        "colab": {
          "base_uri": "https://localhost:8080/",
          "height": 306
        }
      },
      "source": [
        "df_train.head()"
      ],
      "execution_count": 0,
      "outputs": [
        {
          "output_type": "execute_result",
          "data": {
            "text/html": [
              "<div>\n",
              "<style scoped>\n",
              "    .dataframe tbody tr th:only-of-type {\n",
              "        vertical-align: middle;\n",
              "    }\n",
              "\n",
              "    .dataframe tbody tr th {\n",
              "        vertical-align: top;\n",
              "    }\n",
              "\n",
              "    .dataframe thead th {\n",
              "        text-align: right;\n",
              "    }\n",
              "</style>\n",
              "<table border=\"1\" class=\"dataframe\">\n",
              "  <thead>\n",
              "    <tr style=\"text-align: right;\">\n",
              "      <th></th>\n",
              "      <th>Unnamed: 0</th>\n",
              "      <th>count</th>\n",
              "      <th>hate_speech</th>\n",
              "      <th>offensive_language</th>\n",
              "      <th>neither</th>\n",
              "      <th>class</th>\n",
              "      <th>tweet</th>\n",
              "    </tr>\n",
              "  </thead>\n",
              "  <tbody>\n",
              "    <tr>\n",
              "      <th>0</th>\n",
              "      <td>0</td>\n",
              "      <td>3</td>\n",
              "      <td>0</td>\n",
              "      <td>0</td>\n",
              "      <td>3</td>\n",
              "      <td>2</td>\n",
              "      <td>!!! RT @mayasolovely: As a woman you shouldn't...</td>\n",
              "    </tr>\n",
              "    <tr>\n",
              "      <th>1</th>\n",
              "      <td>1</td>\n",
              "      <td>3</td>\n",
              "      <td>0</td>\n",
              "      <td>3</td>\n",
              "      <td>0</td>\n",
              "      <td>1</td>\n",
              "      <td>!!!!! RT @mleew17: boy dats cold...tyga dwn ba...</td>\n",
              "    </tr>\n",
              "    <tr>\n",
              "      <th>2</th>\n",
              "      <td>2</td>\n",
              "      <td>3</td>\n",
              "      <td>0</td>\n",
              "      <td>3</td>\n",
              "      <td>0</td>\n",
              "      <td>1</td>\n",
              "      <td>!!!!!!! RT @UrKindOfBrand Dawg!!!! RT @80sbaby...</td>\n",
              "    </tr>\n",
              "    <tr>\n",
              "      <th>3</th>\n",
              "      <td>3</td>\n",
              "      <td>3</td>\n",
              "      <td>0</td>\n",
              "      <td>2</td>\n",
              "      <td>1</td>\n",
              "      <td>1</td>\n",
              "      <td>!!!!!!!!! RT @C_G_Anderson: @viva_based she lo...</td>\n",
              "    </tr>\n",
              "    <tr>\n",
              "      <th>4</th>\n",
              "      <td>4</td>\n",
              "      <td>6</td>\n",
              "      <td>0</td>\n",
              "      <td>6</td>\n",
              "      <td>0</td>\n",
              "      <td>1</td>\n",
              "      <td>!!!!!!!!!!!!! RT @ShenikaRoberts: The shit you...</td>\n",
              "    </tr>\n",
              "  </tbody>\n",
              "</table>\n",
              "</div>"
            ],
            "text/plain": [
              "   Unnamed: 0  count  hate_speech  offensive_language  neither  class  \\\n",
              "0           0      3            0                   0        3      2   \n",
              "1           1      3            0                   3        0      1   \n",
              "2           2      3            0                   3        0      1   \n",
              "3           3      3            0                   2        1      1   \n",
              "4           4      6            0                   6        0      1   \n",
              "\n",
              "                                               tweet  \n",
              "0  !!! RT @mayasolovely: As a woman you shouldn't...  \n",
              "1  !!!!! RT @mleew17: boy dats cold...tyga dwn ba...  \n",
              "2  !!!!!!! RT @UrKindOfBrand Dawg!!!! RT @80sbaby...  \n",
              "3  !!!!!!!!! RT @C_G_Anderson: @viva_based she lo...  \n",
              "4  !!!!!!!!!!!!! RT @ShenikaRoberts: The shit you...  "
            ]
          },
          "metadata": {
            "tags": []
          },
          "execution_count": 17
        }
      ]
    },
    {
      "cell_type": "code",
      "metadata": {
        "id": "YimO4sYNsE0v",
        "colab_type": "code",
        "colab": {}
      },
      "source": [
        "df_train=df_train[[\"class\", \"tweet\"]]\n",
        "df_train.columns=[\"label\",\"text\"]"
      ],
      "execution_count": 0,
      "outputs": []
    },
    {
      "cell_type": "code",
      "metadata": {
        "id": "uzj-Bp6IblkZ",
        "colab_type": "code",
        "colab": {}
      },
      "source": [
        "hate=df_train[df_train.label==0]\n",
        "offensive=df_train[df_train.label==1]"
      ],
      "execution_count": 0,
      "outputs": []
    },
    {
      "cell_type": "code",
      "metadata": {
        "id": "TPtRk5BHsXMf",
        "colab_type": "code",
        "outputId": "acd39cb7-3261-4686-a2fc-abb56de5b023",
        "colab": {
          "base_uri": "https://localhost:8080/",
          "height": 35
        }
      },
      "source": [
        "print(len(hate), len(offensive))"
      ],
      "execution_count": 0,
      "outputs": [
        {
          "output_type": "stream",
          "text": [
            "1430 19190\n"
          ],
          "name": "stdout"
        }
      ]
    },
    {
      "cell_type": "code",
      "metadata": {
        "id": "1hNcx0FklZ6l",
        "colab_type": "code",
        "colab": {}
      },
      "source": [
        "hate=hate.sample(frac=1)\n",
        "offensive=offensive.sample(frac=1)\n"
      ],
      "execution_count": 0,
      "outputs": []
    },
    {
      "cell_type": "code",
      "metadata": {
        "id": "nzleKqfmk3lq",
        "colab_type": "code",
        "colab": {}
      },
      "source": [
        "new_hate=hate[:min(len(hate), len(offensive))]\n",
        "new_off=offensive[:min(len(hate), len(offensive))]\n"
      ],
      "execution_count": 0,
      "outputs": []
    },
    {
      "cell_type": "code",
      "metadata": {
        "id": "jVUVoIA4liPM",
        "colab_type": "code",
        "colab": {}
      },
      "source": [
        "new_hate = new_hate.append(new_off)\n",
        "df_train=new_hate"
      ],
      "execution_count": 0,
      "outputs": []
    },
    {
      "cell_type": "code",
      "metadata": {
        "id": "5Ube1DvYEJ3q",
        "colab_type": "code",
        "colab": {}
      },
      "source": [
        "train_text = df_train['text'].tolist()\n",
        "train_text = np.array(train_text, dtype=object)[:, np.newaxis]\n",
        "\n",
        "train_label = np.asarray(pd.get_dummies(df_train.label), dtype = np.int8)"
      ],
      "execution_count": 0,
      "outputs": []
    },
    {
      "cell_type": "code",
      "metadata": {
        "id": "WX3s8yIVFWHI",
        "colab_type": "code",
        "outputId": "baac8132-230a-4914-cc69-8694552f58d9",
        "colab": {
          "base_uri": "https://localhost:8080/",
          "height": 35
        }
      },
      "source": [
        "train_text.shape"
      ],
      "execution_count": 0,
      "outputs": [
        {
          "output_type": "execute_result",
          "data": {
            "text/plain": [
              "(2860, 1)"
            ]
          },
          "metadata": {
            "tags": []
          },
          "execution_count": 25
        }
      ]
    },
    {
      "cell_type": "code",
      "metadata": {
        "id": "wOdbPegaUt-0",
        "colab_type": "code",
        "outputId": "9a9a055e-53a5-4d6b-c338-9cd10f2e9244",
        "colab": {
          "base_uri": "https://localhost:8080/",
          "height": 35
        }
      },
      "source": [
        "train_label.shape"
      ],
      "execution_count": 0,
      "outputs": [
        {
          "output_type": "execute_result",
          "data": {
            "text/plain": [
              "(2860, 2)"
            ]
          },
          "metadata": {
            "tags": []
          },
          "execution_count": 26
        }
      ]
    },
    {
      "cell_type": "markdown",
      "metadata": {
        "id": "bqcRy_JWXe0u",
        "colab_type": "text"
      },
      "source": [
        "## Train Keras model and save weights\n",
        "This only train and save our Keras layers not the embed module' weights."
      ]
    },
    {
      "cell_type": "code",
      "metadata": {
        "id": "_stfC_7VFhS8",
        "colab_type": "code",
        "outputId": "3c34efed-16c2-47e1-bd62-9090014004ee",
        "colab": {
          "base_uri": "https://localhost:8080/",
          "height": 679
        }
      },
      "source": [
        "with tf.Session() as session:\n",
        "  K.set_session(session)\n",
        "  session.run(tf.global_variables_initializer())\n",
        "  session.run(tf.tables_initializer())\n",
        "  history = model.fit(train_text, \n",
        "            train_label,\n",
        "            validation_split=0.2,\n",
        "            epochs=15,\n",
        "            batch_size=32)\n",
        "  model.save_weights('./model.h5')"
      ],
      "execution_count": 0,
      "outputs": [
        {
          "output_type": "stream",
          "text": [
            "WARNING:tensorflow:From /usr/local/lib/python3.6/dist-packages/tensorflow/python/ops/math_ops.py:3066: to_int32 (from tensorflow.python.ops.math_ops) is deprecated and will be removed in a future version.\n",
            "Instructions for updating:\n",
            "Use tf.cast instead.\n"
          ],
          "name": "stdout"
        },
        {
          "output_type": "stream",
          "text": [
            "W0514 09:17:37.663952 140515327711104 deprecation.py:323] From /usr/local/lib/python3.6/dist-packages/tensorflow/python/ops/math_ops.py:3066: to_int32 (from tensorflow.python.ops.math_ops) is deprecated and will be removed in a future version.\n",
            "Instructions for updating:\n",
            "Use tf.cast instead.\n"
          ],
          "name": "stderr"
        },
        {
          "output_type": "stream",
          "text": [
            "Train on 2288 samples, validate on 572 samples\n",
            "Epoch 1/15\n",
            "2288/2288 [==============================] - 5s 2ms/step - loss: 0.4777 - acc: 0.7614 - val_loss: 0.5720 - val_acc: 0.7587\n",
            "Epoch 2/15\n",
            "2288/2288 [==============================] - 2s 909us/step - loss: 0.3996 - acc: 0.8169 - val_loss: 0.7492 - val_acc: 0.6503\n",
            "Epoch 3/15\n",
            "2288/2288 [==============================] - 2s 919us/step - loss: 0.3844 - acc: 0.8252 - val_loss: 0.5984 - val_acc: 0.7308\n",
            "Epoch 4/15\n",
            "2288/2288 [==============================] - 2s 913us/step - loss: 0.3716 - acc: 0.8387 - val_loss: 0.6586 - val_acc: 0.6923\n",
            "Epoch 5/15\n",
            "2288/2288 [==============================] - 2s 921us/step - loss: 0.3621 - acc: 0.8352 - val_loss: 0.7815 - val_acc: 0.6276\n",
            "Epoch 6/15\n",
            "2288/2288 [==============================] - 2s 910us/step - loss: 0.3581 - acc: 0.8435 - val_loss: 0.5950 - val_acc: 0.7273\n",
            "Epoch 7/15\n",
            "2288/2288 [==============================] - 2s 917us/step - loss: 0.3379 - acc: 0.8514 - val_loss: 0.6442 - val_acc: 0.7010\n",
            "Epoch 8/15\n",
            "2288/2288 [==============================] - 2s 910us/step - loss: 0.3204 - acc: 0.8615 - val_loss: 0.6253 - val_acc: 0.7220\n",
            "Epoch 9/15\n",
            "2288/2288 [==============================] - 2s 911us/step - loss: 0.3058 - acc: 0.8776 - val_loss: 0.5189 - val_acc: 0.7727\n",
            "Epoch 10/15\n",
            "2288/2288 [==============================] - 2s 920us/step - loss: 0.2913 - acc: 0.8754 - val_loss: 0.5816 - val_acc: 0.7465\n",
            "Epoch 11/15\n",
            "2288/2288 [==============================] - 2s 929us/step - loss: 0.2736 - acc: 0.8829 - val_loss: 0.5490 - val_acc: 0.7587\n",
            "Epoch 12/15\n",
            "2288/2288 [==============================] - 2s 921us/step - loss: 0.2597 - acc: 0.8955 - val_loss: 0.6419 - val_acc: 0.7325\n",
            "Epoch 13/15\n",
            "2288/2288 [==============================] - 2s 918us/step - loss: 0.2472 - acc: 0.8977 - val_loss: 0.7351 - val_acc: 0.6801\n",
            "Epoch 14/15\n",
            "2288/2288 [==============================] - 2s 918us/step - loss: 0.2328 - acc: 0.9126 - val_loss: 0.6072 - val_acc: 0.7500\n",
            "Epoch 15/15\n",
            "2288/2288 [==============================] - 2s 922us/step - loss: 0.2178 - acc: 0.9200 - val_loss: 0.6845 - val_acc: 0.7255\n"
          ],
          "name": "stdout"
        }
      ]
    },
    {
      "cell_type": "markdown",
      "metadata": {
        "id": "nQux6qLdXabG",
        "colab_type": "text"
      },
      "source": [
        "## Make predictions"
      ]
    },
    {
      "cell_type": "code",
      "metadata": {
        "id": "qsJxY1mSW0m1",
        "colab_type": "code",
        "colab": {}
      },
      "source": [
        "sentences=df_test.text"
      ],
      "execution_count": 0,
      "outputs": []
    },
    {
      "cell_type": "code",
      "metadata": {
        "id": "zKDWyHSjqP4Q",
        "colab_type": "code",
        "outputId": "f7192e75-8464-4583-a071-ffdc1f60a2ec",
        "colab": {
          "base_uri": "https://localhost:8080/",
          "height": 202
        }
      },
      "source": [
        "df_test.head()"
      ],
      "execution_count": 0,
      "outputs": [
        {
          "output_type": "execute_result",
          "data": {
            "text/html": [
              "<div>\n",
              "<style scoped>\n",
              "    .dataframe tbody tr th:only-of-type {\n",
              "        vertical-align: middle;\n",
              "    }\n",
              "\n",
              "    .dataframe tbody tr th {\n",
              "        vertical-align: top;\n",
              "    }\n",
              "\n",
              "    .dataframe thead th {\n",
              "        text-align: right;\n",
              "    }\n",
              "</style>\n",
              "<table border=\"1\" class=\"dataframe\">\n",
              "  <thead>\n",
              "    <tr style=\"text-align: right;\">\n",
              "      <th></th>\n",
              "      <th>label</th>\n",
              "      <th>text</th>\n",
              "    </tr>\n",
              "  </thead>\n",
              "  <tbody>\n",
              "    <tr>\n",
              "      <th>0</th>\n",
              "      <td>1</td>\n",
              "      <td>As of March 13th , 2014 , the booklet had been...</td>\n",
              "    </tr>\n",
              "    <tr>\n",
              "      <th>1</th>\n",
              "      <td>1</td>\n",
              "      <td>Thank you in advance. : ) Download the youtube...</td>\n",
              "    </tr>\n",
              "    <tr>\n",
              "      <th>2</th>\n",
              "      <td>1</td>\n",
              "      <td>In order to help increase the booklets downloa...</td>\n",
              "    </tr>\n",
              "    <tr>\n",
              "      <th>3</th>\n",
              "      <td>1</td>\n",
              "      <td>( Simply copy and paste the following text int...</td>\n",
              "    </tr>\n",
              "    <tr>\n",
              "      <th>4</th>\n",
              "      <td>0</td>\n",
              "      <td>Click below for a FREE download of a colorfull...</td>\n",
              "    </tr>\n",
              "  </tbody>\n",
              "</table>\n",
              "</div>"
            ],
            "text/plain": [
              "  label                                               text\n",
              "0     1  As of March 13th , 2014 , the booklet had been...\n",
              "1     1  Thank you in advance. : ) Download the youtube...\n",
              "2     1  In order to help increase the booklets downloa...\n",
              "3     1  ( Simply copy and paste the following text int...\n",
              "4     0  Click below for a FREE download of a colorfull..."
            ]
          },
          "metadata": {
            "tags": []
          },
          "execution_count": 43
        }
      ]
    },
    {
      "cell_type": "code",
      "metadata": {
        "id": "ndw1XvySXngu",
        "colab_type": "code",
        "colab": {}
      },
      "source": [
        "s=[]\n",
        "labels_test=[]\n",
        "for i in range(len(sentences)):\n",
        "  if len(sentences[i].split())>2:\n",
        "    s.append(sentences[i])\n",
        "    labels_test.append(df_test.label[i])"
      ],
      "execution_count": 0,
      "outputs": []
    },
    {
      "cell_type": "code",
      "metadata": {
        "id": "fSDxetlfUEiD",
        "colab_type": "code",
        "outputId": "f5fba8ba-8218-486d-e564-633e9900b0d2",
        "colab": {
          "base_uri": "https://localhost:8080/",
          "height": 159
        }
      },
      "source": [
        "test_text = s\n",
        "# df_test['text'].tolist()\n",
        "new_text = np.array(test_text, dtype=object)[:, np.newaxis]\n",
        "# new_text=df_test.text\n",
        "with tf.Session() as session:\n",
        "  K.set_session(session)\n",
        "  session.run(tf.global_variables_initializer())\n",
        "  session.run(tf.tables_initializer())\n",
        "  model.load_weights('./model.h5')  \n",
        "  predicts = model.predict(new_text, batch_size=32)"
      ],
      "execution_count": 0,
      "outputs": [
        {
          "output_type": "stream",
          "text": [
            "Exception ignored in: <bound method BaseSession._Callable.__del__ of <tensorflow.python.client.session.BaseSession._Callable object at 0x7fcbc0586f28>>\n",
            "Traceback (most recent call last):\n",
            "  File \"/usr/local/lib/python3.6/dist-packages/tensorflow/python/client/session.py\", line 1455, in __del__\n",
            "    self._session._session, self._handle, status)\n",
            "  File \"/usr/local/lib/python3.6/dist-packages/tensorflow/python/framework/errors_impl.py\", line 528, in __exit__\n",
            "    c_api.TF_GetCode(self.status.status))\n",
            "tensorflow.python.framework.errors_impl.CancelledError: Session has been closed.\n"
          ],
          "name": "stderr"
        }
      ]
    },
    {
      "cell_type": "code",
      "metadata": {
        "id": "yyDGVtigW57f",
        "colab_type": "code",
        "outputId": "3212d23e-8532-4d8d-ef8c-f77eebb5e177",
        "colab": {
          "base_uri": "https://localhost:8080/",
          "height": 17368
        }
      },
      "source": [
        "categories = df_test.label.cat.categories.tolist()\n",
        "predict_logits = predicts.argmax(axis=1)\n",
        "predict_labels = [categories[logit] for logit in predict_logits]\n",
        "predict_labels"
      ],
      "execution_count": 0,
      "outputs": [
        {
          "output_type": "execute_result",
          "data": {
            "text/plain": [
              "[1,\n",
              " 0,\n",
              " 0,\n",
              " 0,\n",
              " 0,\n",
              " 0,\n",
              " 1,\n",
              " 1,\n",
              " 0,\n",
              " 1,\n",
              " 1,\n",
              " 0,\n",
              " 0,\n",
              " 1,\n",
              " 1,\n",
              " 1,\n",
              " 0,\n",
              " 1,\n",
              " 0,\n",
              " 0,\n",
              " 0,\n",
              " 0,\n",
              " 0,\n",
              " 0,\n",
              " 0,\n",
              " 0,\n",
              " 0,\n",
              " 1,\n",
              " 1,\n",
              " 0,\n",
              " 0,\n",
              " 0,\n",
              " 0,\n",
              " 0,\n",
              " 0,\n",
              " 0,\n",
              " 0,\n",
              " 1,\n",
              " 0,\n",
              " 1,\n",
              " 0,\n",
              " 1,\n",
              " 1,\n",
              " 1,\n",
              " 1,\n",
              " 1,\n",
              " 1,\n",
              " 1,\n",
              " 1,\n",
              " 1,\n",
              " 0,\n",
              " 1,\n",
              " 0,\n",
              " 0,\n",
              " 0,\n",
              " 1,\n",
              " 0,\n",
              " 0,\n",
              " 0,\n",
              " 1,\n",
              " 1,\n",
              " 1,\n",
              " 0,\n",
              " 0,\n",
              " 0,\n",
              " 1,\n",
              " 0,\n",
              " 0,\n",
              " 0,\n",
              " 1,\n",
              " 0,\n",
              " 0,\n",
              " 0,\n",
              " 1,\n",
              " 0,\n",
              " 0,\n",
              " 0,\n",
              " 0,\n",
              " 0,\n",
              " 0,\n",
              " 0,\n",
              " 0,\n",
              " 0,\n",
              " 0,\n",
              " 1,\n",
              " 0,\n",
              " 0,\n",
              " 0,\n",
              " 0,\n",
              " 0,\n",
              " 0,\n",
              " 0,\n",
              " 0,\n",
              " 0,\n",
              " 0,\n",
              " 0,\n",
              " 0,\n",
              " 1,\n",
              " 0,\n",
              " 1,\n",
              " 0,\n",
              " 0,\n",
              " 1,\n",
              " 1,\n",
              " 0,\n",
              " 0,\n",
              " 1,\n",
              " 1,\n",
              " 1,\n",
              " 0,\n",
              " 0,\n",
              " 0,\n",
              " 0,\n",
              " 0,\n",
              " 0,\n",
              " 0,\n",
              " 0,\n",
              " 1,\n",
              " 0,\n",
              " 0,\n",
              " 0,\n",
              " 0,\n",
              " 0,\n",
              " 0,\n",
              " 0,\n",
              " 0,\n",
              " 1,\n",
              " 0,\n",
              " 0,\n",
              " 0,\n",
              " 0,\n",
              " 1,\n",
              " 0,\n",
              " 0,\n",
              " 0,\n",
              " 0,\n",
              " 0,\n",
              " 0,\n",
              " 0,\n",
              " 0,\n",
              " 0,\n",
              " 0,\n",
              " 1,\n",
              " 1,\n",
              " 0,\n",
              " 0,\n",
              " 1,\n",
              " 1,\n",
              " 0,\n",
              " 0,\n",
              " 0,\n",
              " 1,\n",
              " 1,\n",
              " 0,\n",
              " 0,\n",
              " 0,\n",
              " 0,\n",
              " 0,\n",
              " 0,\n",
              " 0,\n",
              " 0,\n",
              " 1,\n",
              " 0,\n",
              " 0,\n",
              " 0,\n",
              " 1,\n",
              " 1,\n",
              " 1,\n",
              " 0,\n",
              " 1,\n",
              " 0,\n",
              " 0,\n",
              " 0,\n",
              " 0,\n",
              " 1,\n",
              " 0,\n",
              " 0,\n",
              " 0,\n",
              " 0,\n",
              " 1,\n",
              " 1,\n",
              " 0,\n",
              " 0,\n",
              " 0,\n",
              " 0,\n",
              " 0,\n",
              " 0,\n",
              " 0,\n",
              " 0,\n",
              " 0,\n",
              " 0,\n",
              " 0,\n",
              " 1,\n",
              " 0,\n",
              " 1,\n",
              " 0,\n",
              " 0,\n",
              " 0,\n",
              " 1,\n",
              " 1,\n",
              " 1,\n",
              " 1,\n",
              " 1,\n",
              " 1,\n",
              " 0,\n",
              " 0,\n",
              " 1,\n",
              " 1,\n",
              " 1,\n",
              " 0,\n",
              " 1,\n",
              " 1,\n",
              " 1,\n",
              " 0,\n",
              " 0,\n",
              " 1,\n",
              " 1,\n",
              " 1,\n",
              " 0,\n",
              " 0,\n",
              " 0,\n",
              " 0,\n",
              " 1,\n",
              " 0,\n",
              " 1,\n",
              " 0,\n",
              " 1,\n",
              " 0,\n",
              " 0,\n",
              " 0,\n",
              " 0,\n",
              " 1,\n",
              " 0,\n",
              " 0,\n",
              " 0,\n",
              " 1,\n",
              " 0,\n",
              " 0,\n",
              " 0,\n",
              " 1,\n",
              " 0,\n",
              " 0,\n",
              " 1,\n",
              " 1,\n",
              " 1,\n",
              " 0,\n",
              " 0,\n",
              " 0,\n",
              " 0,\n",
              " 1,\n",
              " 0,\n",
              " 0,\n",
              " 1,\n",
              " 0,\n",
              " 0,\n",
              " 0,\n",
              " 1,\n",
              " 0,\n",
              " 0,\n",
              " 0,\n",
              " 0,\n",
              " 0,\n",
              " 0,\n",
              " 0,\n",
              " 0,\n",
              " 0,\n",
              " 0,\n",
              " 0,\n",
              " 1,\n",
              " 0,\n",
              " 0,\n",
              " 0,\n",
              " 0,\n",
              " 0,\n",
              " 0,\n",
              " 0,\n",
              " 0,\n",
              " 0,\n",
              " 0,\n",
              " 0,\n",
              " 0,\n",
              " 0,\n",
              " 0,\n",
              " 0,\n",
              " 1,\n",
              " 1,\n",
              " 1,\n",
              " 0,\n",
              " 0,\n",
              " 1,\n",
              " 0,\n",
              " 0,\n",
              " 0,\n",
              " 0,\n",
              " 0,\n",
              " 0,\n",
              " 1,\n",
              " 0,\n",
              " 1,\n",
              " 1,\n",
              " 0,\n",
              " 0,\n",
              " 1,\n",
              " 0,\n",
              " 1,\n",
              " 0,\n",
              " 0,\n",
              " 0,\n",
              " 1,\n",
              " 1,\n",
              " 0,\n",
              " 0,\n",
              " 1,\n",
              " 0,\n",
              " 0,\n",
              " 0,\n",
              " 1,\n",
              " 1,\n",
              " 0,\n",
              " 0,\n",
              " 0,\n",
              " 0,\n",
              " 0,\n",
              " 0,\n",
              " 0,\n",
              " 0,\n",
              " 0,\n",
              " 0,\n",
              " 0,\n",
              " 1,\n",
              " 0,\n",
              " 0,\n",
              " 0,\n",
              " 1,\n",
              " 0,\n",
              " 1,\n",
              " 0,\n",
              " 0,\n",
              " 0,\n",
              " 0,\n",
              " 0,\n",
              " 1,\n",
              " 0,\n",
              " 1,\n",
              " 0,\n",
              " 0,\n",
              " 1,\n",
              " 0,\n",
              " 1,\n",
              " 0,\n",
              " 0,\n",
              " 0,\n",
              " 1,\n",
              " 0,\n",
              " 0,\n",
              " 0,\n",
              " 0,\n",
              " 0,\n",
              " 1,\n",
              " 0,\n",
              " 0,\n",
              " 1,\n",
              " 0,\n",
              " 0,\n",
              " 0,\n",
              " 1,\n",
              " 0,\n",
              " 1,\n",
              " 0,\n",
              " 0,\n",
              " 0,\n",
              " 0,\n",
              " 0,\n",
              " 1,\n",
              " 1,\n",
              " 1,\n",
              " 0,\n",
              " 0,\n",
              " 1,\n",
              " 0,\n",
              " 0,\n",
              " 0,\n",
              " 1,\n",
              " 0,\n",
              " 0,\n",
              " 0,\n",
              " 0,\n",
              " 1,\n",
              " 0,\n",
              " 1,\n",
              " 0,\n",
              " 0,\n",
              " 1,\n",
              " 0,\n",
              " 1,\n",
              " 0,\n",
              " 0,\n",
              " 0,\n",
              " 0,\n",
              " 0,\n",
              " 1,\n",
              " 0,\n",
              " 0,\n",
              " 0,\n",
              " 0,\n",
              " 0,\n",
              " 0,\n",
              " 0,\n",
              " 0,\n",
              " 0,\n",
              " 0,\n",
              " 0,\n",
              " 0,\n",
              " 1,\n",
              " 1,\n",
              " 1,\n",
              " 0,\n",
              " 0,\n",
              " 0,\n",
              " 0,\n",
              " 0,\n",
              " 0,\n",
              " 1,\n",
              " 0,\n",
              " 0,\n",
              " 0,\n",
              " 0,\n",
              " 0,\n",
              " 0,\n",
              " 1,\n",
              " 0,\n",
              " 1,\n",
              " 0,\n",
              " 0,\n",
              " 0,\n",
              " 0,\n",
              " 0,\n",
              " 0,\n",
              " 0,\n",
              " 0,\n",
              " 0,\n",
              " 0,\n",
              " 1,\n",
              " 0,\n",
              " 0,\n",
              " 0,\n",
              " 0,\n",
              " 0,\n",
              " 0,\n",
              " 1,\n",
              " 0,\n",
              " 0,\n",
              " 0,\n",
              " 0,\n",
              " 0,\n",
              " 0,\n",
              " 0,\n",
              " 1,\n",
              " 1,\n",
              " 0,\n",
              " 0,\n",
              " 0,\n",
              " 0,\n",
              " 0,\n",
              " 0,\n",
              " 0,\n",
              " 0,\n",
              " 0,\n",
              " 0,\n",
              " 0,\n",
              " 0,\n",
              " 0,\n",
              " 0,\n",
              " 1,\n",
              " 0,\n",
              " 1,\n",
              " 1,\n",
              " 0,\n",
              " 0,\n",
              " 0,\n",
              " 0,\n",
              " 0,\n",
              " 0,\n",
              " 0,\n",
              " 0,\n",
              " 0,\n",
              " 1,\n",
              " 0,\n",
              " 0,\n",
              " 0,\n",
              " 0,\n",
              " 1,\n",
              " 0,\n",
              " 0,\n",
              " 0,\n",
              " 0,\n",
              " 0,\n",
              " 0,\n",
              " 0,\n",
              " 0,\n",
              " 0,\n",
              " 0,\n",
              " 0,\n",
              " 0,\n",
              " 1,\n",
              " 0,\n",
              " 0,\n",
              " 0,\n",
              " 0,\n",
              " 1,\n",
              " 0,\n",
              " 0,\n",
              " 0,\n",
              " 1,\n",
              " 0,\n",
              " 1,\n",
              " 0,\n",
              " 1,\n",
              " 0,\n",
              " 0,\n",
              " 0,\n",
              " 0,\n",
              " 0,\n",
              " 1,\n",
              " 1,\n",
              " 0,\n",
              " 0,\n",
              " 0,\n",
              " 0,\n",
              " 1,\n",
              " 0,\n",
              " 1,\n",
              " 1,\n",
              " 0,\n",
              " 0,\n",
              " 0,\n",
              " 0,\n",
              " 1,\n",
              " 0,\n",
              " 0,\n",
              " 0,\n",
              " 1,\n",
              " 0,\n",
              " 0,\n",
              " 0,\n",
              " 0,\n",
              " 0,\n",
              " 0,\n",
              " 0,\n",
              " 1,\n",
              " 0,\n",
              " 0,\n",
              " 0,\n",
              " 0,\n",
              " 1,\n",
              " 0,\n",
              " 1,\n",
              " 0,\n",
              " 1,\n",
              " 1,\n",
              " 1,\n",
              " 0,\n",
              " 0,\n",
              " 1,\n",
              " 1,\n",
              " 1,\n",
              " 1,\n",
              " 0,\n",
              " 1,\n",
              " 0,\n",
              " 0,\n",
              " 0,\n",
              " 0,\n",
              " 0,\n",
              " 0,\n",
              " 0,\n",
              " 0,\n",
              " 0,\n",
              " 0,\n",
              " 1,\n",
              " 1,\n",
              " 0,\n",
              " 0,\n",
              " 1,\n",
              " 1,\n",
              " 1,\n",
              " 1,\n",
              " 1,\n",
              " 0,\n",
              " 0,\n",
              " 0,\n",
              " 0,\n",
              " 0,\n",
              " 0,\n",
              " 0,\n",
              " 1,\n",
              " 0,\n",
              " 0,\n",
              " 0,\n",
              " 0,\n",
              " 0,\n",
              " 0,\n",
              " 0,\n",
              " 1,\n",
              " 0,\n",
              " 1,\n",
              " 1,\n",
              " 0,\n",
              " 0,\n",
              " 0,\n",
              " 0,\n",
              " 1,\n",
              " 0,\n",
              " 0,\n",
              " 0,\n",
              " 0,\n",
              " 0,\n",
              " 0,\n",
              " 0,\n",
              " 0,\n",
              " 0,\n",
              " 0,\n",
              " 1,\n",
              " 0,\n",
              " 0,\n",
              " 0,\n",
              " 1,\n",
              " 0,\n",
              " 0,\n",
              " 1,\n",
              " 1,\n",
              " 0,\n",
              " 0,\n",
              " 0,\n",
              " 0,\n",
              " 0,\n",
              " 1,\n",
              " 1,\n",
              " 1,\n",
              " 1,\n",
              " 0,\n",
              " 1,\n",
              " 0,\n",
              " 0,\n",
              " 1,\n",
              " 0,\n",
              " 0,\n",
              " 0,\n",
              " 0,\n",
              " 0,\n",
              " 1,\n",
              " 0,\n",
              " 0,\n",
              " 0,\n",
              " 0,\n",
              " 1,\n",
              " 0,\n",
              " 0,\n",
              " 0,\n",
              " 0,\n",
              " 0,\n",
              " 1,\n",
              " 1,\n",
              " 1,\n",
              " 0,\n",
              " 0,\n",
              " 0,\n",
              " 1,\n",
              " 0,\n",
              " 1,\n",
              " 0,\n",
              " 0,\n",
              " 0,\n",
              " 0,\n",
              " 0,\n",
              " 0,\n",
              " 0,\n",
              " 0,\n",
              " 1,\n",
              " 1,\n",
              " 0,\n",
              " 0,\n",
              " 0,\n",
              " 0,\n",
              " 1,\n",
              " 0,\n",
              " 0,\n",
              " 0,\n",
              " 0,\n",
              " 0,\n",
              " 0,\n",
              " 0,\n",
              " 0,\n",
              " 0,\n",
              " 1,\n",
              " 0,\n",
              " 1,\n",
              " 1,\n",
              " 0,\n",
              " 0,\n",
              " 0,\n",
              " 1,\n",
              " 0,\n",
              " 0,\n",
              " 0,\n",
              " 1,\n",
              " 0,\n",
              " 0,\n",
              " 1,\n",
              " 0,\n",
              " 0,\n",
              " 0,\n",
              " 0,\n",
              " 0,\n",
              " 0,\n",
              " 1,\n",
              " 0,\n",
              " 0,\n",
              " 0,\n",
              " 1,\n",
              " 0,\n",
              " 0,\n",
              " 0,\n",
              " 0,\n",
              " 0,\n",
              " 0,\n",
              " 0,\n",
              " 0,\n",
              " 0,\n",
              " 1,\n",
              " 1,\n",
              " 0,\n",
              " 0,\n",
              " 1,\n",
              " 0,\n",
              " 0,\n",
              " 0,\n",
              " 1,\n",
              " 0,\n",
              " 0,\n",
              " 0,\n",
              " 0,\n",
              " 1,\n",
              " 1,\n",
              " 0,\n",
              " 0,\n",
              " 1,\n",
              " 1,\n",
              " 1,\n",
              " 1,\n",
              " 0,\n",
              " 0,\n",
              " 0,\n",
              " 0,\n",
              " 0,\n",
              " 0,\n",
              " 0,\n",
              " 0,\n",
              " 0,\n",
              " 1,\n",
              " 1,\n",
              " 0,\n",
              " 0,\n",
              " 0,\n",
              " 0,\n",
              " 0,\n",
              " 0,\n",
              " 0,\n",
              " 0,\n",
              " 0,\n",
              " 0,\n",
              " 0,\n",
              " 0,\n",
              " 0,\n",
              " 0,\n",
              " 1,\n",
              " 0,\n",
              " 0,\n",
              " 0,\n",
              " 0,\n",
              " 0,\n",
              " 0,\n",
              " 0,\n",
              " 0,\n",
              " 0,\n",
              " 1,\n",
              " 0,\n",
              " 0,\n",
              " 1,\n",
              " 0,\n",
              " 1,\n",
              " 0,\n",
              " 1,\n",
              " 1,\n",
              " 1,\n",
              " 1,\n",
              " 0,\n",
              " 0,\n",
              " 0,\n",
              " 0,\n",
              " 0,\n",
              " 1,\n",
              " 1,\n",
              " 0,\n",
              " 0,\n",
              " 0,\n",
              " 0,\n",
              " 0,\n",
              " 0,\n",
              " 0,\n",
              " 0,\n",
              " 0,\n",
              " 1,\n",
              " 0,\n",
              " 1,\n",
              " 1,\n",
              " 0,\n",
              " 0,\n",
              " 0,\n",
              " 0,\n",
              " 0,\n",
              " 0,\n",
              " 0,\n",
              " 0,\n",
              " 0,\n",
              " 0,\n",
              " 0,\n",
              " 0,\n",
              " 0,\n",
              " 0,\n",
              " 0,\n",
              " 0,\n",
              " 1,\n",
              " 0,\n",
              " 0,\n",
              " 1,\n",
              " 1,\n",
              " 0,\n",
              " 1,\n",
              " 1,\n",
              " 0,\n",
              " 0,\n",
              " 0,\n",
              " 0,\n",
              " 0,\n",
              " 0,\n",
              " 0,\n",
              " 0,\n",
              " 0,\n",
              " 0,\n",
              " 0,\n",
              " 0,\n",
              " 0,\n",
              " 0,\n",
              " 0,\n",
              " 0,\n",
              " 0,\n",
              " 0,\n",
              " 1,\n",
              " 0,\n",
              " 0,\n",
              " 0,\n",
              " 0,\n",
              " 0,\n",
              " 0,\n",
              " 1,\n",
              " 0,\n",
              " 0,\n",
              " 0,\n",
              " 0,\n",
              " 0,\n",
              " 0,\n",
              " 0,\n",
              " 1,\n",
              " 0,\n",
              " 0,\n",
              " 0,\n",
              " 0,\n",
              " 0,\n",
              " 0,\n",
              " 0,\n",
              " 1,\n",
              " 0,\n",
              " 0,\n",
              " 0,\n",
              " 0,\n",
              " 0,\n",
              " 1,\n",
              " 0,\n",
              " 0,\n",
              " 0,\n",
              " 0,\n",
              " 0,\n",
              " 1,\n",
              " 0,\n",
              " 0,\n",
              " 0,\n",
              " 0,\n",
              " 1,\n",
              " 1,\n",
              " 1,\n",
              " 0,\n",
              " 0,\n",
              " 0,\n",
              " 0,\n",
              " 0,\n",
              " 0,\n",
              " 0,\n",
              " 0,\n",
              " 0,\n",
              " 0,\n",
              " 0,\n",
              " 0,\n",
              " 0,\n",
              " 0,\n",
              " 0,\n",
              " 0,\n",
              " 0,\n",
              " 0,\n",
              " 1,\n",
              " 0,\n",
              " 0,\n",
              " 0,\n",
              " 0,\n",
              " 0,\n",
              " 0,\n",
              " 0,\n",
              " 0,\n",
              " 0,\n",
              " 0,\n",
              " 0,\n",
              " 1,\n",
              " 1,\n",
              " 1,\n",
              " 1,\n",
              " 0,\n",
              " 1,\n",
              " 1,\n",
              " 0,\n",
              " 0,\n",
              " 0,\n",
              " 0,\n",
              " 1,\n",
              " 1,\n",
              " 1,\n",
              " 1,\n",
              " 1,\n",
              " 1,\n",
              " 0,\n",
              " 1,\n",
              " 1,\n",
              " 0,\n",
              " 1,\n",
              " 0,\n",
              " 0,\n",
              " 0,\n",
              " 0,\n",
              " 0,\n",
              " 0,\n",
              " 0,\n",
              " 0,\n",
              " 0,\n",
              " 0,\n",
              " 0,\n",
              " 0,\n",
              " 0,\n",
              " 0,\n",
              " 0,\n",
              " 0,\n",
              " 0,\n",
              " 0,\n",
              " 0,\n",
              " 0,\n",
              " 0,\n",
              " 0,\n",
              " 0,\n",
              " 0,\n",
              " 1,\n",
              " 1,\n",
              " 1,\n",
              " 0,\n",
              " 0,\n",
              " 0,\n",
              " 0,\n",
              " 0,\n",
              " 0,\n",
              " 0,\n",
              " 0,\n",
              " 0,\n",
              " 0,\n",
              " 1,\n",
              " 1,\n",
              " 0,\n",
              " 0,\n",
              " 0,\n",
              " 0,\n",
              " 0,\n",
              " 0,\n",
              " 1,\n",
              " 0,\n",
              " ...]"
            ]
          },
          "metadata": {
            "tags": []
          },
          "execution_count": 46
        }
      ]
    },
    {
      "cell_type": "code",
      "metadata": {
        "id": "ASFZsfuYYjNX",
        "colab_type": "code",
        "colab": {}
      },
      "source": [
        "df_test.label"
      ],
      "execution_count": 0,
      "outputs": []
    },
    {
      "cell_type": "code",
      "metadata": {
        "id": "MYcw696QcxLD",
        "colab_type": "code",
        "outputId": "3e08ec76-3034-43dc-b670-77348d3367d4",
        "colab": {
          "base_uri": "https://localhost:8080/",
          "height": 159
        }
      },
      "source": [
        "tf.confusion_matrix(labels_test, predict_labels)"
      ],
      "execution_count": 0,
      "outputs": [
        {
          "output_type": "stream",
          "text": [
            "WARNING:tensorflow:From /usr/local/lib/python3.6/dist-packages/tensorflow/python/ops/confusion_matrix.py:193: to_int64 (from tensorflow.python.ops.math_ops) is deprecated and will be removed in a future version.\n",
            "Instructions for updating:\n",
            "Use tf.cast instead.\n"
          ],
          "name": "stdout"
        },
        {
          "output_type": "stream",
          "text": [
            "W0514 09:25:44.563770 140515327711104 deprecation.py:323] From /usr/local/lib/python3.6/dist-packages/tensorflow/python/ops/confusion_matrix.py:193: to_int64 (from tensorflow.python.ops.math_ops) is deprecated and will be removed in a future version.\n",
            "Instructions for updating:\n",
            "Use tf.cast instead.\n"
          ],
          "name": "stderr"
        },
        {
          "output_type": "execute_result",
          "data": {
            "text/plain": [
              "<tf.Tensor 'confusion_matrix/SparseTensorDenseAdd:0' shape=(2, 2) dtype=int32>"
            ]
          },
          "metadata": {
            "tags": []
          },
          "execution_count": 47
        }
      ]
    },
    {
      "cell_type": "code",
      "metadata": {
        "id": "Kq2cVA7EXnE-",
        "colab_type": "code",
        "colab": {}
      },
      "source": [
        "from sklearn.metrics import classification_report\n",
        "report = classification_report(labels_test, predict_labels)"
      ],
      "execution_count": 0,
      "outputs": []
    },
    {
      "cell_type": "code",
      "metadata": {
        "id": "IrtZXEATZYwk",
        "colab_type": "code",
        "outputId": "563c1f2e-60b9-4c97-f270-006c78ba6c93",
        "colab": {
          "base_uri": "https://localhost:8080/",
          "height": 173
        }
      },
      "source": [
        "print(report)"
      ],
      "execution_count": 0,
      "outputs": [
        {
          "output_type": "stream",
          "text": [
            "              precision    recall  f1-score   support\n",
            "\n",
            "           0       0.15      0.95      0.26      1196\n",
            "           1       0.98      0.32      0.48      9288\n",
            "\n",
            "   micro avg       0.39      0.39      0.39     10484\n",
            "   macro avg       0.57      0.64      0.37     10484\n",
            "weighted avg       0.89      0.39      0.46     10484\n",
            "\n"
          ],
          "name": "stdout"
        }
      ]
    },
    {
      "cell_type": "code",
      "metadata": {
        "id": "f1EMZjSyZZ1k",
        "colab_type": "code",
        "outputId": "c430f84c-9bfe-4385-bf49-2e7608e8811b",
        "colab": {
          "base_uri": "https://localhost:8080/",
          "height": 345
        }
      },
      "source": [
        "import seaborn\n",
        "from sklearn.metrics import confusion_matrix\n",
        "confusion_matrix = confusion_matrix(labels_test, predict_labels)\n",
        "matrix_proportions = np.zeros((2,2))\n",
        "for i in range(0,2):\n",
        "    matrix_proportions[i,:] = confusion_matrix[i,:]/float(confusion_matrix[i,:].sum())\n",
        "names=['Hate','Offensive']\n",
        "confusion_df = pd.DataFrame(matrix_proportions, index=names,columns=names)\n",
        "plt.figure(figsize=(5,5))\n",
        "seaborn.heatmap(confusion_df,annot=True,annot_kws={\"size\": 12},cmap='gist_gray_r',cbar=False, square=True,fmt='.2f')\n",
        "plt.ylabel(r'True categories',fontsize=14)\n",
        "plt.xlabel(r'Predicted categories',fontsize=14)\n",
        "plt.tick_params(labelsize=12)"
      ],
      "execution_count": 0,
      "outputs": [
        {
          "output_type": "display_data",
          "data": {
            "image/png": "[encoded data removed]",
            "text/plain": [
              "<Figure size 360x360 with 1 Axes>"
            ]
          },
          "metadata": {
            "tags": []
          }
        }
      ]
    },
    {
      "cell_type": "markdown",
      "metadata": {
        "id": "BPMwmuWpqvjC",
        "colab_type": "text"
      },
      "source": [
        "##Insample predictions"
      ]
    },
    {
      "cell_type": "code",
      "metadata": {
        "id": "KSqYCVB1qxR3",
        "colab_type": "code",
        "outputId": "104ed197-46d1-467e-a4fb-9273cdf16c3c",
        "colab": {
          "base_uri": "https://localhost:8080/",
          "height": 159
        }
      },
      "source": [
        "new_text = list(df_train.text)\n",
        "new_text = np.array(new_text, dtype=object)[:, np.newaxis]\n",
        "with tf.Session() as session:\n",
        "  K.set_session(session)\n",
        "  session.run(tf.global_variables_initializer())\n",
        "  session.run(tf.tables_initializer())\n",
        "  model.load_weights('./model.h5')  \n",
        "  predicts = model.predict(new_text, batch_size=32)"
      ],
      "execution_count": 0,
      "outputs": [
        {
          "output_type": "stream",
          "text": [
            "Exception ignored in: <bound method BaseSession._Callable.__del__ of <tensorflow.python.client.session.BaseSession._Callable object at 0x7fcbc16c2358>>\n",
            "Traceback (most recent call last):\n",
            "  File \"/usr/local/lib/python3.6/dist-packages/tensorflow/python/client/session.py\", line 1455, in __del__\n",
            "    self._session._session, self._handle, status)\n",
            "  File \"/usr/local/lib/python3.6/dist-packages/tensorflow/python/framework/errors_impl.py\", line 528, in __exit__\n",
            "    c_api.TF_GetCode(self.status.status))\n",
            "tensorflow.python.framework.errors_impl.CancelledError: Session has been closed.\n"
          ],
          "name": "stderr"
        }
      ]
    },
    {
      "cell_type": "code",
      "metadata": {
        "id": "aiYU3wkDpigd",
        "colab_type": "code",
        "colab": {}
      },
      "source": [
        "categories = df_test.label.cat.categories.tolist()\n",
        "predict_logits = predicts.argmax(axis=1)\n",
        "predict_labels = [categories[logit] for logit in predict_logits]\n",
        "predict_labels"
      ],
      "execution_count": 0,
      "outputs": []
    },
    {
      "cell_type": "code",
      "metadata": {
        "id": "dZcm4pTIq3WY",
        "colab_type": "code",
        "outputId": "2994ae42-77bf-4f00-f207-93e4865356c2",
        "colab": {
          "base_uri": "https://localhost:8080/",
          "height": 35
        }
      },
      "source": [
        "tf.confusion_matrix(df_train.label, predict_labels)"
      ],
      "execution_count": 0,
      "outputs": [
        {
          "output_type": "execute_result",
          "data": {
            "text/plain": [
              "<tf.Tensor 'confusion_matrix_1/SparseTensorDenseAdd:0' shape=(2, 2) dtype=int32>"
            ]
          },
          "metadata": {
            "tags": []
          },
          "execution_count": 56
        }
      ]
    },
    {
      "cell_type": "code",
      "metadata": {
        "id": "Kq64Lu7uq8b9",
        "colab_type": "code",
        "colab": {}
      },
      "source": [
        "from sklearn.metrics import classification_report\n",
        "report = classification_report(df_train.label, predict_labels)"
      ],
      "execution_count": 0,
      "outputs": []
    },
    {
      "cell_type": "code",
      "metadata": {
        "id": "83kTkR5-rA77",
        "colab_type": "code",
        "outputId": "eb0c4da2-afb0-48fc-ddfd-585bdbc48fd0",
        "colab": {
          "base_uri": "https://localhost:8080/",
          "height": 173
        }
      },
      "source": [
        "print(report)"
      ],
      "execution_count": 0,
      "outputs": [
        {
          "output_type": "stream",
          "text": [
            "              precision    recall  f1-score   support\n",
            "\n",
            "           0       0.84      0.96      0.90      1430\n",
            "           1       0.96      0.82      0.88      1430\n",
            "\n",
            "   micro avg       0.89      0.89      0.89      2860\n",
            "   macro avg       0.90      0.89      0.89      2860\n",
            "weighted avg       0.90      0.89      0.89      2860\n",
            "\n"
          ],
          "name": "stdout"
        }
      ]
    },
    {
      "cell_type": "code",
      "metadata": {
        "id": "1NVJZGB_rDaW",
        "colab_type": "code",
        "outputId": "c7f904b4-d8a8-4676-f0e3-68e3a933ea9e",
        "colab": {
          "base_uri": "https://localhost:8080/",
          "height": 345
        }
      },
      "source": [
        "import seaborn\n",
        "from sklearn.metrics import confusion_matrix\n",
        "confusion_matrix = confusion_matrix(df_train.label, predict_labels)\n",
        "matrix_proportions = np.zeros((2,2))\n",
        "for i in range(0,2):\n",
        "    matrix_proportions[i,:] = confusion_matrix[i,:]/float(confusion_matrix[i,:].sum())\n",
        "names=['Hate','nonhate']\n",
        "confusion_df = pd.DataFrame(matrix_proportions, index=names,columns=names)\n",
        "plt.figure(figsize=(5,5))\n",
        "seaborn.heatmap(confusion_df,annot=True,annot_kws={\"size\": 12},cmap='gist_gray_r',cbar=False, square=True,fmt='.2f')\n",
        "plt.ylabel(r'True categories',fontsize=14)\n",
        "plt.xlabel(r'Predicted categories',fontsize=14)\n",
        "plt.tick_params(labelsize=12)"
      ],
      "execution_count": 0,
      "outputs": [
        {
          "output_type": "display_data",
          "data": {
            "image/png": "[encoded data removed]",
            "text/plain": [
              "<Figure size 360x360 with 1 Axes>"
            ]
          },
          "metadata": {
            "tags": []
          }
        }
      ]
    },
    {
      "cell_type": "markdown",
      "metadata": {
        "id": "XWjOhQuh1CyW",
        "colab_type": "text"
      },
      "source": [
        "We see that while the out of sample recall is low, the model gives high precision. Apart from that, in sample metrics are pretty good. This is probably because the model is overfitting (we can also see this from fluctuating validation accuracies in the training step). \n",
        "To tackle this we need to either increase the dataset size(make it more diverse) or reduce the complexity of the model or include droput. \n",
        "In our opinion, it would be a good idea to make the dataset more diverse by including small datasets of various types of hate, "
      ]
    },
    {
      "cell_type": "code",
      "metadata": {
        "id": "LmaIUq6v1I7R",
        "colab_type": "code",
        "colab": {}
      },
      "source": [
        "misclassified=df_train[df_train.label!=predict_labels]"
      ],
      "execution_count": 0,
      "outputs": []
    },
    {
      "cell_type": "code",
      "metadata": {
        "id": "Wh-QGsl13VWK",
        "colab_type": "code",
        "colab": {}
      },
      "source": [
        "said_nonhate=misclassified[misclassified.label==0]"
      ],
      "execution_count": 0,
      "outputs": []
    },
    {
      "cell_type": "code",
      "metadata": {
        "id": "cF8bslU94CP_",
        "colab_type": "code",
        "colab": {}
      },
      "source": [
        "said_hate=misclassified[misclassified.label==1]"
      ],
      "execution_count": 0,
      "outputs": []
    },
    {
      "cell_type": "code",
      "metadata": {
        "id": "GVJ6HuQz4E0w",
        "colab_type": "code",
        "outputId": "9e11045b-fc31-471b-dcc3-a764e72dddc5",
        "colab": {
          "base_uri": "https://localhost:8080/",
          "height": 4544
        }
      },
      "source": [
        "#labelled as hate\n",
        "list(said_hate.text)"
      ],
      "execution_count": 0,
      "outputs": [
        {
          "output_type": "execute_result",
          "data": {
            "text/plain": [
              "['RT @Basedomg: im fukin yo bitch u mad as shit',\n",
              " \"@whoelsebutkey you just a dark ie my nig.. It's ok..\",\n",
              " \"@Im_Thirst Shin's a faggot. I'm glad your chipped him.\",\n",
              " \"@DrMalvo \\nI likes it back dare. It's free fo me cause whitey pay da fee\",\n",
              " 'RT @TacoPablo_: Rich dollaz always trynna snatch a bitch. Like he a bitch &#128514;',\n",
              " '@max_dashevsky u and taber the shit coon',\n",
              " 'RT @KingCedd_: Hit the bitch nd forget the bitch, but i left my kids on her fuckin face',\n",
              " \"Can't stand ghetto ratchet ass mofos &#128078;&#128530;\",\n",
              " 'Luke Bryan is such a faggot tool',\n",
              " \"RT @__nijel: Niggas be out here loving ALL they hoes...that's a no no.\",\n",
              " '@TomcatStraight Come over queer',\n",
              " 'niggas stay with insides over some hoe shit',\n",
              " 'RT @hiagokoury: Lmao what my nigga just told me &#128514;&#128514;&#128514;hoes these days... They lovin the crew gd',\n",
              " \"RT @bebalizz123: Bagging thot bitches &amp; giving 'em head? Ew nigga you nasty &amp; you're better off dead.\",\n",
              " 'RT @willyroast2: Ratchet hoes wear flip flops that curl up and turned black like souls of slaves walked in them',\n",
              " 'RT @ChaseMyChucks: \"@viva_based: @CallME__Jetson hoe ass nigga. &#128529;\"Hoe Ass Nigga x2',\n",
              " 'darf retarded lol',\n",
              " 'RT @HeIsMe_IAmHim: Cause lord know if another bitch call yo nigga handsome and he entertain it ALL HELL gonna break loose...',\n",
              " 'RT @lildurk_: How you wife dat bitch 2many niggas fucked from my clique 2many niggas actin so rich all dese boppin hoes on my dick #Maserati',\n",
              " 'If a nigga is watching Love and HipHop instead of the playoffs he gay denna bitch',\n",
              " \"Slut I ain't playin' go find a white crayon and color a fuckin zebra.\",\n",
              " \"&#8220;@badnradbrad: @whattheflocka @MorbidMermaid sydneys my favorite&#8221; she's a nigger but I love her\",\n",
              " 'RT @Queen_Quita_: &#127908;&#128553;I just touchdown on pussy nigga!',\n",
              " '@dantoomey2 forgot someone niglet',\n",
              " 'RT @thecoreyholcomb: People who r mentally stable know when to beat their kids &amp; when to talk to them. Clubs hoes &amp; \"stop by dads\" should n&#8230;',\n",
              " '\"@A7XDemery: I\\'m a fucking fag they said\"',\n",
              " '&#128700;&#128700;- you a little genius man i need you for a class so u can help a nig out but you cool af man',\n",
              " 'Thanks to my nigga coco I smell good then a hoe haha finna pull allllllll the hoes, come smell a nigga &#128527;&#128526;',\n",
              " '\"Get your ass back to Detroit ya fuckin\\' wigger!\"',\n",
              " 'Nigga fuck hoe , ion want fuck yo hoe , she a fat chick &amp; she bad built &#128080;',\n",
              " \"RT @roach_nigga: &#8220;@XiaoBiniiMessy: Can't believe I actually killed a cockroach.&#8221; smh you a bitch, that was probably ma nigga Eduardo\",\n",
              " \"I'm a wigger\",\n",
              " \"RT @ChrissiBaxter: If my man ain't appreciating me this pussy DEFINITELY IS gonna end up in another nigga mouth. You can quote me\",\n",
              " \"I'm not the type to fight no bitch over a nigga im the type to say fucc that &amp; take his Bitch &#9995;&#128514;&#128527;\",\n",
              " 'RT @irielee12: @drrrruuuu @Victoria_Finae ayyy what fags',\n",
              " 'RT @chillvitooo: &#8220;@__KillSwitch: Nigga damn &#128556;&#128563; https://t.co/m7gExESuag&#8221;LMFAO Dej Loaf got all these bitches getting TRYED&#128557;&#128557;&#128557;&#128557;&#128557;',\n",
              " '@DrewHelms21 I know right so much retard',\n",
              " '&#8220;@DJZeeti: RT @DJZeeti: Black bitches turn 60 buy a hat and act like Jesus forgot they was fucking niggas in the park&#8221; LOOOOOL',\n",
              " 'Smh ma niggah',\n",
              " 'RT @DrummerKid0328: But if I run into that niggah imma let you know &#128165;&#128299;&#128175;',\n",
              " 'Fruit 2 O? Who tf does WOHS think they are Trynna serv a nigguh dat lame shit',\n",
              " 'Ya bitches dumb as fuck for the felon.',\n",
              " \"FUCK YOU, you're a fucking a lowlife piece of trash.\",\n",
              " \"@BrendanSchaub @TimTebow ugh your with Tebow? You're officially a fag now and in followed.\",\n",
              " 'RT @savethesehos: Your bitch when my Skechers light up . http://t.co/vqLUSPYqmO',\n",
              " 'RT @uncle_palacios: &#8220;@SheeeRatchet: \"bitch ass nigga square up\" &#128514;&#128514; http://t.co/UHkKKwsrDL&#8221; @CaelanG15',\n",
              " 'They some bitch ass niggas',\n",
              " 'RT @hspiotta_21: c is for cunt\\nu is for ur a cunt\\nn is for not sure u know this but ur a cunt\\nt is for turn around bitch; ur a cunt',\n",
              " '@ThatAssholeAlan nick background my nigger',\n",
              " '@JacobbBacker faggot',\n",
              " \"RT @scaffoldjocky: I'll never smoke weed with Willy again. He invited that hick, Toby Keith, and I fucking hate that mongoloid!\",\n",
              " 'RT @haztv: Stop forcing ya kids to take these pictures u trying to trap niggas online wit u funky hoes',\n",
              " 'RT @WorldStarFunny: when you see a bitch nigga subtweet you http://t.co/eclOjoVwg7',\n",
              " \"RT @LizzardJurado: @b10oreo YESSS it's that one! Ooze! This nigguh! &#128514;&#128514; http://t.co/7DBMDas6Om\",\n",
              " \"Am sorry I can't stand stand some black females especially the full breaded Africans bitches being have std and shit I prefer white girls\",\n",
              " '24_rozay_idgt mad cuz Twan fuck his bitch&#128514; http://t.co/GoyZfOU46I',\n",
              " \"This Uncle Tom mother fucking wants to invoke 3/5 a man in his speech? Dude you ain't white no matter how much... http://t.co/3yrcyC9ezc\",\n",
              " 'I l8v3 fuckin wit this nigga he getting all emotional he remind me of my bitch is that you Blake (50&#8230; http://t.co/vJCf0R6thU',\n",
              " 'Niggas cant stand me cuz they bitches be feelin a nigga . Get mad at yo so called \"girl\"',\n",
              " \"How da fucc we gone believe that you out here selling bricks wit some Dirty ass kicks nicca u ain't sellin shit!\",\n",
              " '@JNunchuckfuck u can just ask him to suck his dick not that hard white trash',\n",
              " \"you lil dumb ass bitch, i ain't fuckin wit chu!.. i got a million, trillion things i'd rather fuckin' do.. than to be fuckin witchu.\",\n",
              " 'Jon Stewart takes a crack at stupid teabagger moron Rick Perry and his gay/alcoholism commments http://t.co/fqcWZHMjom',\n",
              " 'RT @andresdavid: Saying, \"Who cares?\" comes from a privileged position. May you never experience what a queer person goes through, and may &#8230;',\n",
              " 'RT @Milesss_: If u say #blessed u r hashtag lying and r probably unhappy w/ ur life fake bitches lolz&#128514;',\n",
              " 'RT @alec_tiano: @Vinnyrants Happy birthday fag boy',\n",
              " 'I dont give a single shit who you are, if you wear a suit and white cotton socks I am just going to assume you are functionally retarded.',\n",
              " 'Code of slience pussy! HM nigga free my nigga ceddy. d ridah. quan. dollah. Dre n my nigga franc lukis n my nigga j mo',\n",
              " 'And them niggas pussies...cameltoes &#128514;',\n",
              " \"RT @trvpgxdx: Jen: Bitch Daquan dropped your kids off today\\n\\nKeisha: Bitch I don't got kids\\n\\nJen: not no more bitch I swallowed em http://t&#8230;\",\n",
              " 'RT @Now_Thats_Fresh: The club Promoter tweet \"fucked another niggas bitch last night. Lol Successful nite\" you RT the tweet &amp; laugh. THAT W&#8230;',\n",
              " '@m_gast faggot',\n",
              " 'RT @LoveLifeEst13: @West305 u look like an all black persian rug. . with no designs on that bitch and couple nut stains dingy boy',\n",
              " \"If u expect me to stop playin with niggas But u playin widd bitches I can't deal\",\n",
              " 'I wish I would argue with a nigga or a bitch imma just laugh at ya ass',\n",
              " 'RT @CoryLafon: I just wanna b a side nigga to a thick pretty faced cuffed hoe that does coke bumps garbage underground rappers n shops at p&#8230;',\n",
              " 'Stop hatin niggah , I got ya girlfriend callin you a hater niggah &#128514;&#128514;&#128514;',\n",
              " '@KodyMark1 hahahh thank you fag boy! #represent',\n",
              " 'If u bad niggas a really play nice to get to the pussy then... that ass gone &#128514;',\n",
              " 'Missouri got them swag fags lmao',\n",
              " 'RT if you fucked a bitch that fucked EVERY nigga in your state',\n",
              " 'stupid ass hoe',\n",
              " \"@Scottt3130 @Brantality @hunterxsfob I think he's retarded or somethin http://t.co/E4P56JkqcX\",\n",
              " \"Fat bitches need love too I'll fuck em &#128175;&#128175;\",\n",
              " \"@MrMooncricket @AtBlackface @UncleUnco @BobbyBotsods @FuckTheMallcops @RacistNegro69 bitch I'm proud to be black, ur a samba\",\n",
              " 'RT @Tylar____: @1stBlocJeremiah lol why you tryna be raw doe bitch',\n",
              " '@TheRevAl you are not a cat.you are a pussy! black bored kid kills a cop by starting a fire.WHERE IS THE OUTRAGE YOU PHONY?!?!?!? @FNTheFive',\n",
              " 'Let a nigguh try me , fuck around fuck around fuck around meet his daddy',\n",
              " '@ItsmeKyleWayne Yeaa black bitches actin like they too good for an average nigga like they just got A1 credit and pussy',\n",
              " '@1SonofYahweh he aint a real nigger, oh my bad a real nigga, but praise the sonsof satan for having not a realnigger qualitaties. Im hating?',\n",
              " '@seductiveally @sunstylesshinex oh now your bitch ass wants to reply back after 3 days bitch bye',\n",
              " '&#128514;&#128514;&#128514;&#128514;&#128514;&#128514;&#128514;&#128514;\"@AlisaRenee: you a faggot if you eat pork chops.\"',\n",
              " \"Or get they nails done RT @Che_TheYello1: Same hoes brag about niggas they fw got money but can't even get him to fill their tank up\",\n",
              " 'RT @Faceyspace: Dorks are fucking bitch-magnets. Sorry.',\n",
              " 'RT @SariyaDaniellee: &#8220;@JayJuice22: The nigga who got slept is a faggot if he sues just run one again and watch ya back&#8221;LOL JUST LIKE THE PE&#8230;',\n",
              " \"RT @PinkDuckTwist: LMFAO WTF &#8220;@MakeMeSpazz: &#8220;@TheKingSimp: Niggas on here really retarded http://t.co/arhySCAMu6&#8221; &#128553;&#128514;&#9996;&#65039; I'm tf out!!&#8221;\",\n",
              " 'Lmaooooo RT @savvgrace: bitches be like &#8220;relationship goals&#8221;&#8230;. Dumb ass nigga http://t.co/5CuNHFd79O',\n",
              " 'I wonder who wrote that blog... Either a hoe dat let a few of them niggas beat to no avail, or a bitch nigga who hoe let a few of em beat',\n",
              " '@Tamorite @The_Greatest_10 The truth hurts nigguh.',\n",
              " 'If the world was free of sucka free it would be just me and my nigs left',\n",
              " \"Going out with bad intension... Keep yo girlfriends inside, and I'm not just saying it ask my nigs I mean it\",\n",
              " 'RT @Doestaxxx: Stop fuckin jail birds. RT\"@__BRAT_: Niggas that\\'s that serious about ass play scare me. That shit so sus\"',\n",
              " '\"@jboii2: ima keep on giving these pussy ass niggas ah reason to hate !\"',\n",
              " 'I hate the f-ing bus, I hate the f-ing bus, high ho the dairy-0 I hate the f-ing bus!',\n",
              " 'I definitely cant FW a nigga that associates himself wit bitches I DONT fw &#128514;&#128557; tf you fuccing Goofball &#9986;&#65039;&#9986;&#65039;',\n",
              " 'RT @semper_fiibitch: Farra from teen mom has 2 sex tapes on pornhub lmao hoe ass',\n",
              " 'RT @PETTYfcknANN: gimmmmmie a hoodrat bitch',\n",
              " 'Lmaoooo RT @Hand2DaHairline: His sister probably got the pussy that night RT @No_Cut_Card: #NeverForget http://t.co/HkXEbFWDYz&#8221;',\n",
              " 'Haley was called a raghead &amp; accused of adultery and she skyrocketed in the polls. y&#8217;all think Sheheen didn&#8217;t notice that?',\n",
              " '@RFam2550 shut up faggot',\n",
              " 'That ho went from darkskinned to mulatto RT @FunnyJulius: This fucked me up http://t.co/8tzvBBzXa1',\n",
              " \"@Shmalec13 chad reeds a fag he's a 5th kinda guy\",\n",
              " \"@dannycatsteve because it's fucking retarded?\",\n",
              " 'I name my niggas after nba playersmy nigga larry bird is a strait fuckin#shooter',\n",
              " 'Happy Birthday nigguh keep your blunts fat and your cups filled :) @BigDaddySniper',\n",
              " \"&#8220;@_BeautifulKeezy: these hoes be playing w/ me like I won't send baby Cain at they niggah !!&#8221;yesss messy.\",\n",
              " \"@QuantRyse @HairyPotterZ @Hockeypuck55 if I get blocked I'll be on that bitches porch drunk and yelling. Holy shit.she was right..I am kanye\",\n",
              " '@ThatTallCashier lol youre retarded &#128514;',\n",
              " \"Know why birds don't wear pants?\\nCause their pecker's in the way\",\n",
              " '\"@trutherbot: does he look like a bitch?\" @el_capacitor',\n",
              " '&#8220;@Chrissy_Cindy: \"WAKA TAMMY JUST GOT HER ASS BEAT\"... http://t.co/9in5IysnpI&#8221; Ctfu how Niggas be they don\\'t ever have they bitch back &#128514;&#128514;',\n",
              " 'RT @BlackRichyRich: Every nigga\\nNew hoe is \\nDa next niggas old hoe',\n",
              " 'Raaaayciss bitch &#8220;@Sky_Max: Michelle Obama: African-Americans Should Vote for Democrats http://t.co/SL6TW6P39f via @Newsmax_Media&#8221;',\n",
              " 'RT @TooRacist: What type of eye make-up do redneck women use?\\n\\n NASCARA.',\n",
              " 'swat to the twat',\n",
              " 'If you LIKE #chocolate or #sodapop and you tweet bad about #HappyColumbusDay..............YOU ARE A FUCKIN\" #retard #HYPOCRITE&gt;',\n",
              " \"You still that nigga b don't trip. They just hatin cause they got no bitches RT @THEOilogy: Nigga stole on me... Princess punch.\",\n",
              " 'I love Asian bitches',\n",
              " 'Salute a real nicca http://t.co/3fOYAYwLWS',\n",
              " 'RT @theHIGHESTpeak_: Ya lil dumb ass bitch ian fwy',\n",
              " \"@tcthegreat1 it's yo fault taking a nig out everyday\",\n",
              " 'RT @LILBTHEBASEDGOD: That nerdy fat bitch yes sir she fucked \" The BasedGod\" - Lil B',\n",
              " '@JayKollsKSTP please tell those fuming cops that they are a bunch of coward little bitches, and should not be allowed near weapons. Thanks.',\n",
              " '@mistaturk5 @DaUnfuqwitable1 nigga chill throw me in the jungle watch me come out with a gorilla monkey cheetah coat',\n",
              " 'A hoe nigga will not be tolerated,',\n",
              " 'Why yes, functioning tho RT @blaaksuedepumps: Are you retarded?',\n",
              " '@Huntermoore fuck my wet pussy with ur huge cock',\n",
              " 'What the fuck kind of redneck commercial was that???? #indycar',\n",
              " 'Im a south side niggah fuck around fuck around',\n",
              " '&#8220;@_chrisbrazell: Fuck The Girls , Peep How He Change When A Nigga Squared Up Against Him &#128514;&#128514;&#128514;&#128514;&#128514; https://t.co/FZx4ws7eeE&#8221; &#128514;&#128514;&#128514;&#128514; bitch ass',\n",
              " \"@TryHardAlby looks like you're gonna blow someone fag\",\n",
              " 'RT @kg4hunnid: Bruh you trash take yo ass back to college @GenoSmith7',\n",
              " '@SammySkinner hey nig',\n",
              " '@kieffer_jason wtf r u talking about I was in Plano tx what r u talking about pussy boy',\n",
              " \"@snoopaintlion @TreyzUpZay @DattBoiIraq @Eaaaazzzz Lmao nigga yo avi so trash my phone won't even load that shit\",\n",
              " '@sorryimalex slay his ass alex, lil bitch needs to tighten the fuck and needs to stop acting like grown',\n",
              " \"RT @Ivan_splash: If a guy flirts with ya girl that's just niggas being niggas. If she flirts back she a hoe\",\n",
              " 'U on the hit list to bitch kill yo self',\n",
              " \"RT @eemoneee: I wish a bitch would tell me something that I don't know about MY nigga. girlboo\",\n",
              " 'Whats wrong w/ this marie hibben bitch..',\n",
              " '@t__amil i tell it how it is if yu ain uh bitch or uh hoe i call yu by yo name',\n",
              " \"&#8220;@OsmanMasabah: Spitting on people just shows you weren't raised right. In another words it's a bitch nigga trait.&#8221; @VictorSmith90\",\n",
              " 'RT @BitchNiggaAlexx: Bitches be talking about they ride or die with every nigga they talk to. bitch you done died like 8 times already',\n",
              " 'Niggas be bitches hoes be bitches ion see no difference',\n",
              " '&#8220;@LongMoneyTonyy: @vintage_monroe_ DONT Say Shit Else ! Just Stfu !&#8221;bitch we can do a lot more off this Twitter shit you can come see me',\n",
              " 'RT @khloewithoutheC: @TypicalMinions: when ur with ur friend and a bitch u both hate walks past http://t.co/LPLAYEfI7q\" @felferrara us as n&#8230;',\n",
              " \"RT @JaredLambert21: Brandon's a dumb fat chunky whore\",\n",
              " 'It\\'s not \"unique\" it\\'s ghetto as hell.',\n",
              " '@That1guyJeff Low blow, cuntface. How many times the Yanks beat us in the playoffs these last 8 or so years?',\n",
              " 'Fuk u bitch http://t.co/YezHxQVy02',\n",
              " 'RT @DezDLT: \"I play soccer, cheat on girls, and wear khaki coloured cargos\" haircut http://t.co/a1SDHBY8XT',\n",
              " '\"Stop looking us and go eat some pussy, you yuppie fucks.\"',\n",
              " '@WyattNuckels fuck you bitch smd',\n",
              " 'Nigga pee wee is a bitch',\n",
              " '\"@ChandlerParsons: How bout them Cowboys!!!!\" Shutup pussy',\n",
              " '@maddieevaans @felicity182 \"us english\" it\\'s our go learn grammar u dick sucking hoe',\n",
              " \"I've been tryin to tell niggas RT @_nicarrag Lesbian porn have the finest bitches\",\n",
              " '\"I KNOW my shoes dirty as fuck, whatever, bitch. You don\\'t have to call!\"\\n\\nLike, negro... one of the first things they LOOK at is shoes, dog',\n",
              " 'RT !! @6oysLoveKeena: I will never EVER EVER give a nigga my all unless I know for a fact he doing the same . yeen finna play me bitch &#128514;&#9996;',\n",
              " \"RT @SunFlowerTrue13 @ThoughtsOfRandy Im speaking on Ho niggas + hoe niggaz probably don't dig natural styled hair period...\",\n",
              " \"I'm from #SouthChicago so I know it's bad but...bitch, it ain't like you live in Englewood! #FOH\",\n",
              " \"@justezzzee nigga what bitch I'm talking bout boxing can u read?\",\n",
              " 'See... he already know he a faggot lmao',\n",
              " \"@justezzzee your so fucking ignorant u talk a lot shit for someone who don't wanna fight your mama raised u as bitch huh?\",\n",
              " \"RT @Taylor_1017: Thanks for ignoring me faggots. I'm locked outside @A_Mitchellll13 @10Longdong\",\n",
              " \"I can't stand a snobby stuck up bitch\",\n",
              " 'Driving the fucktardmobile - tranny slips and all. &#128530; http://t.co/8e3kXEgMjo',\n",
              " \"RT @DamonIWantYou: #TVD and #Theoriginals is the shows bad ass Vampires turn into spineless pussy's and little OOC bitches\",\n",
              " '@Orangeone4 @SteveWorks4You..biggest liars ever ...republican teabagger asshats like stockboy #pinoccio',\n",
              " \"Still can't see what niggers see in them white hoes....\",\n",
              " 'What a fucking retard',\n",
              " '\"@Gotti_LTF: Happy Bday Bitch Ass Nigga @JetsAndASwisher\"preciate that bitch roll up!',\n",
              " '@thecoreyholcomb \"s/o the fat bitches who ride dick with a t-shirt on\" &#128514;&#128514;&#128514;',\n",
              " 'RT @WORIDSTARHlPHOP: If a Nigga try to slide in my bitch DMs.. http://t.co/Mr2FjYUgTn',\n",
              " '@RoyallyKate So says the one who fills an empty hole inside herself by worshiping a royal. Who 4 all u kno may be a raging snotty bitch',\n",
              " 'RT @xtruthseekerx_: @NotoriousBeep blaxican',\n",
              " '@BrotherDiabeats take your queer ass dubstep out of here',\n",
              " 'RT @RakwonOGOD: Rare pic of trash posing with trash http://t.co/usGIAZSDWv',\n",
              " 'Every Psychology class has that annoying cunt who relates everything to herself just bc she has ADD and her parents got divorced #NoOneCares',\n",
              " '@SoTrippyWhit remember that African bitch we used to work with at CMI?!',\n",
              " 'I hope you realize that your both retarded',\n",
              " \"RT @omfgmeezy: maybe \\n\\nnobody \\n\\nlikes \\n\\nyou \\n\\nbecause \\n\\nyou're \\n\\na \\n\\nbitch\",\n",
              " 'sprayed da vee wit peppermint oil hopefully dat fuckin spider leaves or dies.. I hope dat bitch dying slow right now',\n",
              " 'RT @josephdburns34: Damn girl u is a straight hoe!&#128514;&#128514;&#128514;',\n",
              " '@DoubleAIV just watch bitch nigga u gonna want the whole team dead',\n",
              " 'It wus yo fat ass that filled out the application to work there, not me bitch.....',\n",
              " '@Pretty_WarZone shouldve caught it the first time nigger',\n",
              " 'RT @djevilone: stupid ignorant bitch &#8220;@SarahPalinUSA: Stopped by Chick-fil-A in The Woodlands to support a great business. http://t.co/6 ...',\n",
              " 'RT @gabalini: @LifeNewsHQ not surprised stupid bitch@Jane Fonda #American troops Vietnam',\n",
              " 'Pic so confusing.. Looks like a dyke, but has a hoe pooci.. &#171;@Datjollygirl &#8220;@BTweekin: &#128553;&#128553;&#128553;&#128553;&#128553; http://t.co/88ThE7EZP7&#8221;&#187;',\n",
              " 'Dez is caked up with some bitch or something cause hes not playing like Dez Bryant',\n",
              " 'RT @NoelleonFOX7: Protestors rally to support teen facing life sentence in pot brownie case http://t.co/TXXnmbpOoA&#8221;wtf smh not for a brownie',\n",
              " 'Red bitch with me dark skin friend callin talkin bout come and get me',\n",
              " \"RT @ItsSonGoku: Don't Get Spirit Bombed Lil Nigga RT @LeanandCuisine: Dragonball z trash, debate me if you want\",\n",
              " 'RT @___TheFuckery: \"@187XO_: \\' You messin with broke niggahs you gon be broke niggah &#1043323;&#1043323;&#1043323;&#1043323;&#10071;&#65039;\" nigga preeeeeeeach ! !',\n",
              " 'Pisses me off so much when Brett screams fag or whore out the window at people',\n",
              " 'RT @makenzies_mask: Yo bitch, what cho name bitch? I wanna fuck ya bitch. -Jacey (the things she says to me doe) @__0utcast___ #bff #baby #&#8230;',\n",
              " 'My mom told me never use the word cunt... ITS MY FAVORITE WORD!!! Cunt cunt cunt cunt cunt cunt cunt cunt cunt cunt cunt cunt cunt cunt cunt',\n",
              " 'Choate Chokes On Twinkies&gt; All the damn time I bet. #lol #Cardinals',\n",
              " \"RT @thirlrection: I will fight a bitch for Austin that's my gringo right there ain't no one messing with my white chocolate drop\",\n",
              " \"That nigga john ain't ah Real older nigga Forreal.. He let Vick brotha bitch out on maplerow\",\n",
              " '@kieffer_jason bitch u describe both of those terms',\n",
              " '@LaneBelgarde shut up bitch',\n",
              " '@RavenPeltier_ @Jesuslovinj @_B_R_Y_C_E_ still a bitch though',\n",
              " \"#DegenerateArtist Isn't a bitch walks back his words&gt; Isn't a WITCH who questions a TURD&gt; I'm a GLITCH WHO EVOLVES YOUR ABSURD!!!!!!!!!!!\",\n",
              " 'Lol faggot team pipe \"beef\"',\n",
              " 'I hope you all accidentally get a fat black bitch pregnant',\n",
              " '@ajam never happen. Too much republican redneck oil money. Sad butt true. #corruptAmerica',\n",
              " 'This hoe car smell like nigga let off a sweet potato bomb in her shit!',\n",
              " 'I be seein you bitches in the whip wit your boyfriend but he be lookin like your dad so I be eye ballin, then here comes ole salty ass bf',\n",
              " '@BloggerBoxing @Studhardt22 the Jacob and Joshua picks have been very similar. As the love for faggot Ruslan as well #2accountsGate',\n",
              " 'I love faggots!!! Absolutely love them, especially the ones that can dress to the tea &#128525;&#128525;&#128129;',\n",
              " 'Face only yo bitch could love http://t.co/OckXAYthAK',\n",
              " \"@marcostc__ you're right momma ain't raise no faggot\",\n",
              " 'OMG&gt; I was throwing beer bottles on street and yelling at drunk homeless people to stop harassing the trannies.... #Game6 #torturebaseball',\n",
              " '@alammus @wesideconnect @ArbitraryDesign @Damn_Jehu @michaelsayeth fellow anarchists quit being vaginas :P like jr high up in this bitch',\n",
              " 'Smack these hoes on they ass like we birthed these bitches',\n",
              " \"@VAKILL shut up faggot, you and Ras need to make an album together, we'll Ras fell off, you didn't (cont) http://t.co/nrmc483M\",\n",
              " 'RT @FreeLaddin: This is what happens when niggas gas up ugly bitches http://t.co/dfKYmADk3b',\n",
              " \"You can ask if I fucked a bitch but can't ask how my Father's Day was?!! ... These hoes be outta line!\",\n",
              " \"Haha a private industry birthday is needed to all who have celebrated our bday the past month I can't wait for ours! I see you nig**s lol &#128513;\",\n",
              " 'quote this with your best racist comment i need them for this white bitch comin at my black side llab',\n",
              " \"RT @_xMaiya_xMonike: What's the difference between a main &amp; a side bitch ?? Shit y'all both getting feed lies &amp; dick!\",\n",
              " 'What a Dirty Girl! Haha &#58381;&#57423;&#58380;&#57607; #cat #pussy #pets http://t.co/7YaYdatE',\n",
              " '@jayswaggkillah is a fag',\n",
              " \"I just don't get why none of you people talk back to me..i guess you follow me for the #s in hopes I follow back but shit. talk to a cracker\",\n",
              " '@JunDishes block or mute the cunt',\n",
              " 'RT @SEMAJ_HOEE_: &#8220;@tiffanyluxride: Damn so many fake niggas &amp; bitches&#8221;',\n",
              " 'Flag bitch &#128681;GHAT DAMN... WE NIGHT AS WELL BE PLAYING AGAINST THE FLAG, SHIT!',\n",
              " \"&#8220;@sc_waters: &#8220;@what_evaittakes: Ya niggas play to fuck my niggas play for keeps&#128526;&#8221;&#8252;&#65039;&#128514;&#128526;&#8221;these bitches can't fuck wit me &#128553;&#128553;\",\n",
              " \"You're irrelevant, bitch\",\n",
              " \"@aschops absolutely agree with that statement. It's just so amusing how angry it makes all these teabagger scumbags. That alone is worth it.\",\n",
              " '@mynamesahmed @tonyr0ckyhorror I rather go choke on your moms bomb pussy',\n",
              " '#TheMostAnnoyingThingsInLife people who are NEVER happy and bitch-n-moan 100% of the time.',\n",
              " 'RT @NikoWavy: If you know yo pussy smells like death why tf would you sit there an let a nigga finger you? Bitches have no shame man.',\n",
              " \"@ChrisHeben you motherfuckin' bullshit slingin' son of a whore! you disgraced all vets with ur crap. now go off to pussy land where u belong\",\n",
              " \"@Jobbe03 @PandaEnchilada You're such a bitch Carlton. You're lucky your fathers a judge.\",\n",
              " \"RT @Ra_Shia: Quotable RT @ChrissiBaxter: If my man ain't appreciating me this pussy DEFINITELY IS gonna end up in another nigga mouth. You &#8230;\",\n",
              " \"RT @BeYouTiful_Pris: Recognize that I'm a star player &amp; leave them hoe fans of yours alone. http://t.co/fd5Cioehgg\",\n",
              " 'Who da fuck is yo? Idk nigguh',\n",
              " '\"@_rapdreams: bitches hold they nigga down when he get locked up... but if a nigga go to college or the military it\\'s a different story. &#128564;\"',\n",
              " 'It aint nun to cut dat bitch off &#128135;&#128299;&#9996;&#65039;',\n",
              " 'RT @CzarofSwag: To the retards chanting USA at the FC Dallas game, Kansas is in the USA.',\n",
              " \"RT @KingCurtisJayy: Ugly hoes love to fight lmao . They ain't got none to lose &#128553;&#128514;\",\n",
              " \"If your parents let you drink underage, they're fucking retarded and so are you.\",\n",
              " '&#8220;@_BunnyCocaine_: Oomf a hoe hopper &#128514;&#128514;&#128514;&#8221; &#127806;&#128064;&#127806;',\n",
              " 'Butler Unchained Review http://t.co/HXyYUjmOrm Short version, whitey sucks and a potentially positive film is simply anti-white agitprop.',\n",
              " \"' You messin with broke niggahs you gon be broke niggah &#1043323;&#1043323;&#1043323;&#1043323;&#10071;&#65039;\",\n",
              " '@sorryimnicki that would be a joint then retard',\n",
              " 'RT @LouieVRee: If that nigga Santa come to the hood niggas gonna rob him for his sleigh and his ho ho hoes']"
            ]
          },
          "metadata": {
            "tags": []
          },
          "execution_count": 69
        }
      ]
    },
    {
      "cell_type": "code",
      "metadata": {
        "id": "xGIGicwE4Gpw",
        "colab_type": "code",
        "outputId": "8a301578-e80e-40b2-f055-f4b9929522a3",
        "colab": {
          "base_uri": "https://localhost:8080/",
          "height": 939
        }
      },
      "source": [
        "#is hate but didnt get classified as one\n",
        "list(said_nonhate.text)"
      ],
      "execution_count": 0,
      "outputs": [
        {
          "output_type": "execute_result",
          "data": {
            "text/plain": [
              "[\"RT @jezzzz_: &#8220;@Ginga_Snaps13: @jezzzz_ @ShitPussiesSay Jessica I'm not afraid to slit your throat tomorrow&#8221; @RitenourSchools @BarackObama @&#8230;\",\n",
              " 'RT @Fit4LifeMike: @Whitecholo23 @chanelisabeth true i need to sleep to make them Gainz bruh!! So all the hoes stay Mirin ;p \\nAlright, later&#8230;',\n",
              " \"@TheErniie You're a little bitch.\",\n",
              " 'RT @_ChickenGeorge: DEAD!!&#128128;&#8220;@TAkeme2CHINA: &#128553; RT @PEagles14: When ur fuckin and her pussy stank but u have really good friends........... ht&#8230;',\n",
              " 'First thing I do when I hit the lotto is buying @moniqueeedavis two fat bitches and watching her eat both in one sitting',\n",
              " '\"@jgabsss: Stacey Dash won &#128166; http://t.co/PDLG46rjOL\" baddest bitch evaaaa',\n",
              " \"&#8220;@TP_Three: @WestSideFlee @KekePalmer damn they got wifey &#128561;&#128561;&#128534;&#128534;&#128555;&#128553;&#128553;&#128553;&#8221;\\n\\nFall back nigga &#128299;.. I don't share my hoes\",\n",
              " 'I like taking niggas hoes but I stop doing that &#9995;',\n",
              " 'RT @SAMMI_boyden: Fucking James tried to tell me Jawga Boys sucked. I went ape shit dude @savanigga @OfficialDThrash @jawgaboyz',\n",
              " 'RT @kiddsmy_pyt: You have a new boyfriend every week.. Tf you doin hoe?',\n",
              " '@NOT_UR_BRO @niccol3_xo lmao nigga shoulda said I would be balless bc dat cold bitch wont stop blowin me#swaagg',\n",
              " \"@_cblaze @Barbod6FCB @ODDBEAST Man bitch am not gonna do a damn thang, if u don't like what I got to say then unfollow me\",\n",
              " \"RT @GMB_Ace: I'm a Get Money nigga So da hoes Love me\",\n",
              " '@KingHov1313 i got a dyke wit a child as whse mgr, and she jus hired another girlboy dis week....',\n",
              " \"Lmao! You niggas regionally picky about hoes now. Just say anything on Twitter. Makes it's fun tho\",\n",
              " 'Smh hate that hoe',\n",
              " '\"We\\'re out here, and we\\'re queer!\"\\n\" 2, 4, 6, hut! We like it in our butt!\"',\n",
              " \"You can't owe me shit ion trust niccas\",\n",
              " \"Omg!!! You won't say it to my face! Stupid ass hoes talkin shit!!! Imma whoop her ass!!! *over dramatic teenage girls*\",\n",
              " \"@GlitteredInPink hoe don't tweet me\",\n",
              " 'RT @dirtyimage: @Tronkitty not just cause of hoes, go to jail cause of fucking up hoes bloody n making them call you head honcho',\n",
              " \"@Montea_Rollin @kayysavage I wasn't serious bitch &#128514; bitch them niggas i named ain't fuccing witcho ass &#128514;&#128557; we all just making shit up &#128527;&#128553;\",\n",
              " \"RT @DRNRDX: @BrandonFxrd you're not safe pussy boy looooool http://t.co/TocJ1WxRYK\",\n",
              " 'RT @jaymesshaylan: fuuck jalens a slow bitch!',\n",
              " \"It's so shady when you bitches talk to guys w/ girlfriends that's so disrespectful to do to another girl\",\n",
              " 'RT @dxpperjay: You assholes know that referring to a girl as \"bitch\" doesn\\'t make your dick any bigger, right?',\n",
              " 'Yo bitch on my dick she come to my crib she get passed around no love',\n",
              " 'RT @Lady_BlahBlah: furrybah *in my PayPay voice* RT @80sbaby4life: The hoes are for EVERYBODY my nigga!',\n",
              " 'Dumb bitch https://t.co/We46wO15nI',\n",
              " '@McwilliamsBrett shut your legs hoe',\n",
              " \"Lmao let these hoes be hoes ain't no Savin nem\",\n",
              " 'You&#8217;re a little bitch RT @FuckingCashBro: RT @Thotcho: my team got blown out in the Super Bowl',\n",
              " \"@Fit4LifeMike @chanelisabeth hoe don't make me put up screenshots of your texts to me hoe\",\n",
              " 'Stuck up serious bitches are possibly the worst type of girls. Ever.',\n",
              " 'I be waking up on some new shit like fuck that bitch shit',\n",
              " \"@passIt2Liv Hit a bitch it's not like you can see the bruises\",\n",
              " 'I need to chat with @SpaceJam_Teeg . Where dat nicca at? Lol',\n",
              " 'Some lying ass hoes lol',\n",
              " 'This nigga over here telling me he dont fuck with this bitch . When he do &#128553;&#128514;&#128514;. Or maybe she lying lol',\n",
              " \"It's levels to my bitch you can't fuck her nigga cause she like red bottom you can't afford her nigga she got Benz you riding honda accord\",\n",
              " \"Lol RT @JayFucknHarris: Youuuuu got niggas but I don't got bitches\",\n",
              " 'Look at this little faggot.\\n\"@Kellz622: Tell her she\\'s beautiful as much as you can. It\\'ll make her smile\"',\n",
              " '@PrayForJack new york niggas quick to take off on a bitch in public boy lol!!!!!',\n",
              " \"RT @YoShortyMa: I'll kill this bitch no hesitation http://t.co/UxePa9LVi5\",\n",
              " 'So many bitches in one sentence #fixitjesus',\n",
              " 'Raunchy ass hoe.',\n",
              " \"&#128514;&#128514;&#128514; i just said that RT @BoyThats_ARYAH: My TL gotta chill with this pretty face challenge foolishness, y'all hoes agg\",\n",
              " '\"These sour apple bitter bitches, I\\'m not fuckin wit em\"',\n",
              " '@RylannWilliams whooooo? Chelsey? Fuck her lol. She juss a bitch',\n",
              " 'You a lame ass nigga still cuffin these hoes my bitch got a bitch with er',\n",
              " \"I can't fuck a scary hoe.\",\n",
              " \"RT @_tiffnasty: Why do y'all niggas entertain that Nicole bitch? I don't see how y'all can ever take a bitch that posted naked pics serious&#8230;\"]"
            ]
          },
          "metadata": {
            "tags": []
          },
          "execution_count": 71
        }
      ]
    },
    {
      "cell_type": "markdown",
      "metadata": {
        "id": "fzLOm5ou55JC",
        "colab_type": "text"
      },
      "source": [
        "We side with the author's observations in analysis of misclassified tweets that tweets containing a lot of slurs or curse words are frequently misclassified as hate speech.\n",
        "We also see that the model has difficulty picking up directed hate, for example, the nonhate tagged tweets have the subject targetted however we see that either no profanity or negative sentiment word is in use or that there are shortened spellings.\n",
        "The authors had hate label misclassified 40% of the time, in our case, it is much better since it gets mislabelled on 4% of the time. However, we must keep in mind that this is training data and deep learning methods tend to overfit easily.\n"
      ]
    },
    {
      "cell_type": "code",
      "metadata": {
        "id": "xr0AQYSH7V64",
        "colab_type": "code",
        "colab": {}
      },
      "source": [
        ""
      ],
      "execution_count": 0,
      "outputs": []
    }
  ]
}