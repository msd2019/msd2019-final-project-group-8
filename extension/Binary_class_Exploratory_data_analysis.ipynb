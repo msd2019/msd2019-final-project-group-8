{
  "nbformat": 4,
  "nbformat_minor": 0,
  "metadata": {
    "colab": {
      "name": "Binary class Exploratory data analysis.ipynb",
      "version": "0.3.2",
      "provenance": []
    },
    "kernelspec": {
      "name": "python3",
      "display_name": "Python 3"
    }
  },
  "cells": [
    {
      "cell_type": "code",
      "metadata": {
        "id": "WsB93AxZqlh_",
        "colab_type": "code",
        "outputId": "e7e9611e-ff62-4463-b553-901fb70da441",
        "colab": {
          "base_uri": "https://localhost:8080/",
          "height": 35
        }
      },
      "source": [
        "!pip install vaderSentiment"
      ],
      "execution_count": 1,
      "outputs": [
        {
          "output_type": "stream",
          "text": [
            "Requirement already satisfied: vaderSentiment in /usr/local/lib/python3.6/dist-packages (3.2.1)\n"
          ],
          "name": "stdout"
        }
      ]
    },
    {
      "cell_type": "code",
      "metadata": {
        "id": "8UgUO6DYq2f_",
        "colab_type": "code",
        "colab": {}
      },
      "source": [
        "import pandas as pd\n"
      ],
      "execution_count": 0,
      "outputs": []
    },
    {
      "cell_type": "code",
      "metadata": {
        "colab_type": "code",
        "id": "hegsHcg9u392",
        "colab": {}
      },
      "source": [
        "from sklearn.feature_extraction.text import CountVectorizer\n",
        "from sklearn.model_selection import train_test_split\n",
        "from sklearn.pipeline import make_pipeline\n",
        "from sklearn.linear_model import LogisticRegression\n",
        "from sklearn.model_selection import cross_val_score\n",
        "from sklearn.model_selection import GridSearchCV\n",
        "from sklearn.feature_extraction.text import TfidfVectorizer, TfidfTransformer\n",
        "import nltk\n",
        "import gensim\n",
        "from nltk.tokenize import sent_tokenize, word_tokenize \n",
        "from vaderSentiment.vaderSentiment import SentimentIntensityAnalyzer\n",
        "from scipy.sparse import hstack\n",
        "from sklearn.metrics import average_precision_score\n",
        "from sklearn.metrics import roc_auc_score\n",
        "from nltk import word_tokenize,sent_tokenize\n",
        "from gensim import corpora\n",
        "from sklearn.pipeline import Pipeline\n",
        "from sklearn.model_selection import cross_val_predict\n",
        "import matplotlib.pyplot as plt\n"
      ],
      "execution_count": 0,
      "outputs": []
    },
    {
      "cell_type": "code",
      "metadata": {
        "id": "2Nk86MpBquTx",
        "colab_type": "code",
        "colab": {}
      },
      "source": [
        "df_train = pd.read_csv(\"/content/labeled_data.csv\")[[\"tweet\",\"class\"]]\n",
        "df_train.loc[df_train['class'] == 2, 'class'] = 1\n",
        "df_train=df_train.sample(frac=1)"
      ],
      "execution_count": 0,
      "outputs": []
    },
    {
      "cell_type": "code",
      "metadata": {
        "id": "i87PSK5DdPkG",
        "colab_type": "code",
        "colab": {}
      },
      "source": [
        "X_train = df_train[df_train['class']==0]\n",
        "X__train = df_train[df_train['class']==1][:len(X_train[\"class\"])]\n",
        "df_train = X_train.append(X__train)\n"
      ],
      "execution_count": 0,
      "outputs": []
    },
    {
      "cell_type": "code",
      "metadata": {
        "id": "tX9-zww6q1DR",
        "colab_type": "code",
        "outputId": "406d2000-f96e-463e-c0aa-98fff8e2b5aa",
        "colab": {
          "base_uri": "https://localhost:8080/",
          "height": 52
        }
      },
      "source": [
        "nltk.download(\"stopwords\")\n",
        "from nltk.stem.porter import *"
      ],
      "execution_count": 45,
      "outputs": [
        {
          "output_type": "stream",
          "text": [
            "[nltk_data] Downloading package stopwords to /root/nltk_data...\n",
            "[nltk_data]   Package stopwords is already up-to-date!\n"
          ],
          "name": "stdout"
        }
      ]
    },
    {
      "cell_type": "code",
      "metadata": {
        "id": "pyMLgv_urGYw",
        "colab_type": "code",
        "colab": {}
      },
      "source": [
        "stopwords=stopwords = nltk.corpus.stopwords.words(\"english\")\n",
        "\n",
        "other_exclusions = [\"#ff\", \"ff\", \"rt\",\"RT\"]\n",
        "stopwords.extend(other_exclusions)\n",
        "\n",
        "stemmer = PorterStemmer()\n",
        "\n",
        "def preprocess(text_string):\n",
        "    \n",
        "    #Lowercase string\n",
        "    text_string=text_string.lower()\n",
        "    space_pattern = '\\s+'\n",
        "    giant_url_regex = ('http[s]?://(?:[a-zA-Z]|[0-9]|[$-_@.&+]|'\n",
        "        '[!*\\(\\),]|(?:%[0-9a-fA-F][0-9a-fA-F]))+')\n",
        "    mention_regex = '@[\\w\\-]+'\n",
        "    hashtag_regex = '#[\\w\\-]+'\n",
        "    parsed_text = re.sub(space_pattern, ' ', text_string)\n",
        "    parsed_text = re.sub(giant_url_regex, 'URLHERE', parsed_text)\n",
        "    parsed_text = re.sub(mention_regex, 'MENTIONHERE', parsed_text)\n",
        "    parsed_text = re.sub(hashtag_regex, 'HASHTAGHERE', parsed_text)\n",
        "    \n",
        "    #Stem it\n",
        "    tweet = \" \".join(re.split(\"[^a-zA-Z]*\", parsed_text)).strip()\n",
        "    tokens = [stemmer.stem(t) for t in tweet.split()]\n",
        "    return tokens\n",
        "  \n",
        "  \n",
        "def pos_tag_seq(tokens):\n",
        "    tags = nltk.pos_tag(tokens)\n",
        "    tag_list = [x[1] for x in tags]\n",
        "    tag_str = \" \".join(tag_list)\n",
        "    return tag_str\n",
        "  \n",
        "  "
      ],
      "execution_count": 0,
      "outputs": []
    },
    {
      "cell_type": "code",
      "metadata": {
        "id": "_KLYa0pMrPFe",
        "colab_type": "code",
        "colab": {}
      },
      "source": [
        "def join_sent(l):\n",
        "  return \" \".join(l)"
      ],
      "execution_count": 0,
      "outputs": []
    },
    {
      "cell_type": "code",
      "metadata": {
        "id": "uwwuwgTPrXoD",
        "colab_type": "code",
        "outputId": "7a5b60f3-1453-4a40-e8cf-7e0987f22ebf",
        "colab": {
          "base_uri": "https://localhost:8080/",
          "height": 202
        }
      },
      "source": [
        "df_train.head()"
      ],
      "execution_count": 48,
      "outputs": [
        {
          "output_type": "execute_result",
          "data": {
            "text/html": [
              "<div>\n",
              "<style scoped>\n",
              "    .dataframe tbody tr th:only-of-type {\n",
              "        vertical-align: middle;\n",
              "    }\n",
              "\n",
              "    .dataframe tbody tr th {\n",
              "        vertical-align: top;\n",
              "    }\n",
              "\n",
              "    .dataframe thead th {\n",
              "        text-align: right;\n",
              "    }\n",
              "</style>\n",
              "<table border=\"1\" class=\"dataframe\">\n",
              "  <thead>\n",
              "    <tr style=\"text-align: right;\">\n",
              "      <th></th>\n",
              "      <th>tweet</th>\n",
              "      <th>class</th>\n",
              "      <th>counts</th>\n",
              "      <th>len</th>\n",
              "      <th>word_count</th>\n",
              "      <th>pos</th>\n",
              "      <th>neg</th>\n",
              "      <th>neu</th>\n",
              "    </tr>\n",
              "  </thead>\n",
              "  <tbody>\n",
              "    <tr>\n",
              "      <th>16489</th>\n",
              "      <td>RT @Mitchellharri: Dont be a faggot, cover you...</td>\n",
              "      <td>0</td>\n",
              "      <td>(0, 1, 0)</td>\n",
              "      <td>128</td>\n",
              "      <td>24</td>\n",
              "      <td>0.334</td>\n",
              "      <td>0.000</td>\n",
              "      <td>0.666</td>\n",
              "    </tr>\n",
              "    <tr>\n",
              "      <th>24091</th>\n",
              "      <td>ion speak on how flaw niggas and thirsty hoes ...</td>\n",
              "      <td>0</td>\n",
              "      <td>(0, 0, 2)</td>\n",
              "      <td>100</td>\n",
              "      <td>18</td>\n",
              "      <td>0.000</td>\n",
              "      <td>0.091</td>\n",
              "      <td>0.909</td>\n",
              "    </tr>\n",
              "    <tr>\n",
              "      <th>15093</th>\n",
              "      <td>RT @EarlyLegend: I don't fuck with these hoes ...</td>\n",
              "      <td>0</td>\n",
              "      <td>(0, 1, 0)</td>\n",
              "      <td>101</td>\n",
              "      <td>18</td>\n",
              "      <td>0.373</td>\n",
              "      <td>0.000</td>\n",
              "      <td>0.627</td>\n",
              "    </tr>\n",
              "    <tr>\n",
              "      <th>21578</th>\n",
              "      <td>The leftist/homosexual war on the #Catholic ch...</td>\n",
              "      <td>0</td>\n",
              "      <td>(0, 0, 1)</td>\n",
              "      <td>134</td>\n",
              "      <td>20</td>\n",
              "      <td>0.000</td>\n",
              "      <td>0.170</td>\n",
              "      <td>0.830</td>\n",
              "    </tr>\n",
              "    <tr>\n",
              "      <th>10083</th>\n",
              "      <td>I bet you think you a no-chill savage huh. Fuc...</td>\n",
              "      <td>0</td>\n",
              "      <td>(0, 1, 0)</td>\n",
              "      <td>68</td>\n",
              "      <td>12</td>\n",
              "      <td>0.000</td>\n",
              "      <td>0.490</td>\n",
              "      <td>0.510</td>\n",
              "    </tr>\n",
              "  </tbody>\n",
              "</table>\n",
              "</div>"
            ],
            "text/plain": [
              "                                                   tweet  class     counts  \\\n",
              "16489  RT @Mitchellharri: Dont be a faggot, cover you...      0  (0, 1, 0)   \n",
              "24091  ion speak on how flaw niggas and thirsty hoes ...      0  (0, 0, 2)   \n",
              "15093  RT @EarlyLegend: I don't fuck with these hoes ...      0  (0, 1, 0)   \n",
              "21578  The leftist/homosexual war on the #Catholic ch...      0  (0, 0, 1)   \n",
              "10083  I bet you think you a no-chill savage huh. Fuc...      0  (0, 1, 0)   \n",
              "\n",
              "       len  word_count    pos    neg    neu  \n",
              "16489  128          24  0.334  0.000  0.666  \n",
              "24091  100          18  0.000  0.091  0.909  \n",
              "15093  101          18  0.373  0.000  0.627  \n",
              "21578  134          20  0.000  0.170  0.830  \n",
              "10083   68          12  0.000  0.490  0.510  "
            ]
          },
          "metadata": {
            "tags": []
          },
          "execution_count": 48
        }
      ]
    },
    {
      "cell_type": "code",
      "metadata": {
        "id": "rGec-2vtrcNF",
        "colab_type": "code",
        "outputId": "b334660b-bc10-4e4d-c51b-f422f6a32413",
        "colab": {
          "base_uri": "https://localhost:8080/",
          "height": 52
        }
      },
      "source": [
        "s_train=df_train['tweet'].apply(preprocess)"
      ],
      "execution_count": 49,
      "outputs": [
        {
          "output_type": "stream",
          "text": [
            "/usr/lib/python3.6/re.py:212: FutureWarning: split() requires a non-empty pattern match.\n",
            "  return _compile(pattern, flags).split(string, maxsplit)\n"
          ],
          "name": "stderr"
        }
      ]
    },
    {
      "cell_type": "code",
      "metadata": {
        "id": "Zqtgja_GrevA",
        "colab_type": "code",
        "colab": {}
      },
      "source": [
        "s_tr=s_train.apply(join_sent)"
      ],
      "execution_count": 0,
      "outputs": []
    },
    {
      "cell_type": "code",
      "metadata": {
        "colab_type": "code",
        "id": "v9tLIEjkdAsv",
        "colab": {}
      },
      "source": [
        "vectorizer = TfidfVectorizer(\n",
        "    preprocessor=None,\n",
        "    lowercase=False,\n",
        "    ngram_range=(1, 3),\n",
        "    use_idf=True,\n",
        "    smooth_idf=False,\n",
        "    norm=None,\n",
        "    stop_words=stopwords,\n",
        "    decode_error='replace',\n",
        "    max_features=10000,\n",
        "    min_df=5,\n",
        "    max_df=0.75)\n"
      ],
      "execution_count": 0,
      "outputs": []
    },
    {
      "cell_type": "code",
      "metadata": {
        "id": "vEbmohykrlfT",
        "colab_type": "code",
        "colab": {}
      },
      "source": [
        "tfidf_tr = vectorizer.fit_transform(s_tr).toarray()\n",
        "\n",
        "vocab = {v:i for i, v in enumerate(vectorizer.get_feature_names())}\n",
        "idf_vals = vectorizer.idf_\n",
        "idf_dict = {i:idf_vals[i] for i in vocab.values()}"
      ],
      "execution_count": 0,
      "outputs": []
    },
    {
      "cell_type": "code",
      "metadata": {
        "id": "Jo5Gtyq2rnbJ",
        "colab_type": "code",
        "colab": {}
      },
      "source": [
        "from vaderSentiment.vaderSentiment import SentimentIntensityAnalyzer as VS\n",
        "sentiment_analyzer = VS()\n"
      ],
      "execution_count": 0,
      "outputs": []
    },
    {
      "cell_type": "code",
      "metadata": {
        "id": "SV5styF9rpGq",
        "colab_type": "code",
        "colab": {}
      },
      "source": [
        "def get_sentiment(text):\n",
        "  sentiment = sentiment_analyzer.polarity_scores(text)\n",
        "  return sentiment\n",
        "\n",
        "#   return sentiment[\"neg\"], sentiment[\"pos\"], sentiment[\"neu\"]"
      ],
      "execution_count": 0,
      "outputs": []
    },
    {
      "cell_type": "code",
      "metadata": {
        "id": "PxSWA1gnrqaT",
        "colab_type": "code",
        "colab": {}
      },
      "source": [
        "df_train[\"sent\"]=df_train[\"tweet\"].apply(get_sentiment) "
      ],
      "execution_count": 0,
      "outputs": []
    },
    {
      "cell_type": "code",
      "metadata": {
        "id": "cNwcLyw2rrx2",
        "colab_type": "code",
        "colab": {}
      },
      "source": [
        "foo_tr = lambda x: pd.Series([x[\"pos\"],x[\"neg\"],x[\"neu\"]])\n",
        "rev_tr = df_train['sent'].apply(foo_tr)\n"
      ],
      "execution_count": 0,
      "outputs": []
    },
    {
      "cell_type": "code",
      "metadata": {
        "id": "n25v1m7LrtYa",
        "colab_type": "code",
        "colab": {}
      },
      "source": [
        "rev_tr.columns=[\"pos\",\"neg\",\"neu\"]"
      ],
      "execution_count": 0,
      "outputs": []
    },
    {
      "cell_type": "code",
      "metadata": {
        "id": "GRHUIYGTru3I",
        "colab_type": "code",
        "outputId": "cd1b8655-cb4c-432f-df71-670a2a1d0de3",
        "colab": {
          "base_uri": "https://localhost:8080/",
          "height": 202
        }
      },
      "source": [
        "rev_tr.head()"
      ],
      "execution_count": 58,
      "outputs": [
        {
          "output_type": "execute_result",
          "data": {
            "text/html": [
              "<div>\n",
              "<style scoped>\n",
              "    .dataframe tbody tr th:only-of-type {\n",
              "        vertical-align: middle;\n",
              "    }\n",
              "\n",
              "    .dataframe tbody tr th {\n",
              "        vertical-align: top;\n",
              "    }\n",
              "\n",
              "    .dataframe thead th {\n",
              "        text-align: right;\n",
              "    }\n",
              "</style>\n",
              "<table border=\"1\" class=\"dataframe\">\n",
              "  <thead>\n",
              "    <tr style=\"text-align: right;\">\n",
              "      <th></th>\n",
              "      <th>pos</th>\n",
              "      <th>neg</th>\n",
              "      <th>neu</th>\n",
              "    </tr>\n",
              "  </thead>\n",
              "  <tbody>\n",
              "    <tr>\n",
              "      <th>16489</th>\n",
              "      <td>0.334</td>\n",
              "      <td>0.000</td>\n",
              "      <td>0.666</td>\n",
              "    </tr>\n",
              "    <tr>\n",
              "      <th>24091</th>\n",
              "      <td>0.000</td>\n",
              "      <td>0.091</td>\n",
              "      <td>0.909</td>\n",
              "    </tr>\n",
              "    <tr>\n",
              "      <th>15093</th>\n",
              "      <td>0.373</td>\n",
              "      <td>0.000</td>\n",
              "      <td>0.627</td>\n",
              "    </tr>\n",
              "    <tr>\n",
              "      <th>21578</th>\n",
              "      <td>0.000</td>\n",
              "      <td>0.170</td>\n",
              "      <td>0.830</td>\n",
              "    </tr>\n",
              "    <tr>\n",
              "      <th>10083</th>\n",
              "      <td>0.000</td>\n",
              "      <td>0.490</td>\n",
              "      <td>0.510</td>\n",
              "    </tr>\n",
              "  </tbody>\n",
              "</table>\n",
              "</div>"
            ],
            "text/plain": [
              "         pos    neg    neu\n",
              "16489  0.334  0.000  0.666\n",
              "24091  0.000  0.091  0.909\n",
              "15093  0.373  0.000  0.627\n",
              "21578  0.000  0.170  0.830\n",
              "10083  0.000  0.490  0.510"
            ]
          },
          "metadata": {
            "tags": []
          },
          "execution_count": 58
        }
      ]
    },
    {
      "cell_type": "code",
      "metadata": {
        "id": "iiyjNyRCrwVS",
        "colab_type": "code",
        "colab": {}
      },
      "source": [
        "def return_cont(parsed_text):\n",
        "  return(parsed_text.count('urlher'),parsed_text.count('mentionher'),parsed_text.count('hashtagher'))"
      ],
      "execution_count": 0,
      "outputs": []
    },
    {
      "cell_type": "code",
      "metadata": {
        "id": "HvYv8N0Uryxp",
        "colab_type": "code",
        "colab": {}
      },
      "source": [
        "df_train[\"counts\"]=s_tr.apply(return_cont) "
      ],
      "execution_count": 0,
      "outputs": []
    },
    {
      "cell_type": "code",
      "metadata": {
        "id": "Qv8vXeqCr0Re",
        "colab_type": "code",
        "colab": {}
      },
      "source": [
        "foo = lambda x: pd.Series([x[0],x[1],x[2]])\n",
        "mention_counts_tr = df_train['counts'].apply(foo)\n"
      ],
      "execution_count": 0,
      "outputs": []
    },
    {
      "cell_type": "code",
      "metadata": {
        "id": "W4knEynNr1pd",
        "colab_type": "code",
        "outputId": "eb651358-d798-4437-e97d-67aaf351b14b",
        "colab": {
          "base_uri": "https://localhost:8080/",
          "height": 69
        }
      },
      "source": [
        "!pip install textstat\n",
        "from textstat.textstat import *"
      ],
      "execution_count": 62,
      "outputs": [
        {
          "output_type": "stream",
          "text": [
            "Requirement already satisfied: textstat in /usr/local/lib/python3.6/dist-packages (0.5.6)\n",
            "Requirement already satisfied: repoze.lru in /usr/local/lib/python3.6/dist-packages (from textstat) (0.7)\n",
            "Requirement already satisfied: pyphen in /usr/local/lib/python3.6/dist-packages (from textstat) (0.9.5)\n"
          ],
          "name": "stdout"
        }
      ]
    },
    {
      "cell_type": "code",
      "metadata": {
        "id": "QyDFkOG5r4PJ",
        "colab_type": "code",
        "colab": {}
      },
      "source": [
        "def get_other_features(text):\n",
        "    space_pattern = '\\s+'\n",
        "    giant_url_regex = ('http[s]?://(?:[a-zA-Z]|[0-9]|[$-_@.&+]|'\n",
        "        '[!*\\(\\),]|(?:%[0-9a-fA-F][0-9a-fA-F]))+')\n",
        "    mention_regex = '@[\\w\\-]+'\n",
        "    parsed_text = re.sub(space_pattern, ' ', text)\n",
        "    parsed_text = re.sub(giant_url_regex, '', parsed_text)\n",
        "    words = re.sub(mention_regex, '', parsed_text)\n",
        "    \n",
        "    syllables = textstat.syllable_count(words)\n",
        "    num_chars = sum(len(w) for w in words)\n",
        "    num_chars_total = len(text)\n",
        "    num_terms = len(text.split())\n",
        "    num_words = len(words.split())\n",
        "    avg_syl = round(float((syllables+0.001))/float(num_words+0.001),4)\n",
        "    num_unique_terms = len(set(words.split()))\n",
        "    \n",
        "    ###Modified FK grade, where avg words per sentence is just num words/1\n",
        "    FKRA = round(float(0.39 * float(num_words)/1.0) + float(11.8 * avg_syl) - 15.59,1)\n",
        "    ##Modified FRE score, where sentence fixed to 1\n",
        "    FRE = round(206.835 - 1.015*(float(num_words)/1.0) - (84.6*float(avg_syl)),2)\n",
        "    \n",
        "    features = [FKRA, FRE,syllables, avg_syl, num_chars, num_terms, num_words,\n",
        "                num_unique_terms]\n",
        "    return features\n",
        "    \n",
        "  "
      ],
      "execution_count": 0,
      "outputs": []
    },
    {
      "cell_type": "code",
      "metadata": {
        "id": "zs1FQXacr5gF",
        "colab_type": "code",
        "colab": {}
      },
      "source": [
        "other_feats_tr=df_train[\"tweet\"].apply(get_other_features)"
      ],
      "execution_count": 0,
      "outputs": []
    },
    {
      "cell_type": "code",
      "metadata": {
        "id": "7MV4pCCHr7ZG",
        "colab_type": "code",
        "colab": {}
      },
      "source": [
        "other_features_names = [\"FKRA\", \"FRE\",\"num_syllables\", \"avg_syl_per_word\", \"num_chars\",\"num_terms\", \"num_words\", \"num_unique_words\"]"
      ],
      "execution_count": 0,
      "outputs": []
    },
    {
      "cell_type": "code",
      "metadata": {
        "id": "shSJIBTnr89N",
        "colab_type": "code",
        "colab": {}
      },
      "source": [
        "foo = lambda x: pd.Series(elem for elem in x)\n",
        "of_counts_tr = other_feats_tr.apply(foo)"
      ],
      "execution_count": 0,
      "outputs": []
    },
    {
      "cell_type": "code",
      "metadata": {
        "colab_type": "code",
        "id": "8N_fFXxtPzIu",
        "colab": {}
      },
      "source": [
        "of_counts_tr.columns=other_features_names"
      ],
      "execution_count": 0,
      "outputs": []
    },
    {
      "cell_type": "code",
      "metadata": {
        "id": "CnkrBFP1sD_1",
        "colab_type": "code",
        "outputId": "b360b97b-e6ab-48c5-862b-7c38d7b562e1",
        "colab": {
          "base_uri": "https://localhost:8080/",
          "height": 1949
        }
      },
      "source": [
        "#Removing unnecessary columns\n",
        "df_train.drop([ \"sent\",\"counts\"], axis=1)"
      ],
      "execution_count": 68,
      "outputs": [
        {
          "output_type": "execute_result",
          "data": {
            "text/html": [
              "<div>\n",
              "<style scoped>\n",
              "    .dataframe tbody tr th:only-of-type {\n",
              "        vertical-align: middle;\n",
              "    }\n",
              "\n",
              "    .dataframe tbody tr th {\n",
              "        vertical-align: top;\n",
              "    }\n",
              "\n",
              "    .dataframe thead th {\n",
              "        text-align: right;\n",
              "    }\n",
              "</style>\n",
              "<table border=\"1\" class=\"dataframe\">\n",
              "  <thead>\n",
              "    <tr style=\"text-align: right;\">\n",
              "      <th></th>\n",
              "      <th>tweet</th>\n",
              "      <th>class</th>\n",
              "      <th>len</th>\n",
              "      <th>word_count</th>\n",
              "      <th>pos</th>\n",
              "      <th>neg</th>\n",
              "      <th>neu</th>\n",
              "    </tr>\n",
              "  </thead>\n",
              "  <tbody>\n",
              "    <tr>\n",
              "      <th>16489</th>\n",
              "      <td>RT @Mitchellharri: Dont be a faggot, cover you...</td>\n",
              "      <td>0</td>\n",
              "      <td>128</td>\n",
              "      <td>24</td>\n",
              "      <td>0.334</td>\n",
              "      <td>0.000</td>\n",
              "      <td>0.666</td>\n",
              "    </tr>\n",
              "    <tr>\n",
              "      <th>24091</th>\n",
              "      <td>ion speak on how flaw niggas and thirsty hoes ...</td>\n",
              "      <td>0</td>\n",
              "      <td>100</td>\n",
              "      <td>18</td>\n",
              "      <td>0.000</td>\n",
              "      <td>0.091</td>\n",
              "      <td>0.909</td>\n",
              "    </tr>\n",
              "    <tr>\n",
              "      <th>15093</th>\n",
              "      <td>RT @EarlyLegend: I don't fuck with these hoes ...</td>\n",
              "      <td>0</td>\n",
              "      <td>101</td>\n",
              "      <td>18</td>\n",
              "      <td>0.373</td>\n",
              "      <td>0.000</td>\n",
              "      <td>0.627</td>\n",
              "    </tr>\n",
              "    <tr>\n",
              "      <th>21578</th>\n",
              "      <td>The leftist/homosexual war on the #Catholic ch...</td>\n",
              "      <td>0</td>\n",
              "      <td>134</td>\n",
              "      <td>20</td>\n",
              "      <td>0.000</td>\n",
              "      <td>0.170</td>\n",
              "      <td>0.830</td>\n",
              "    </tr>\n",
              "    <tr>\n",
              "      <th>10083</th>\n",
              "      <td>I bet you think you a no-chill savage huh. Fuc...</td>\n",
              "      <td>0</td>\n",
              "      <td>68</td>\n",
              "      <td>12</td>\n",
              "      <td>0.000</td>\n",
              "      <td>0.490</td>\n",
              "      <td>0.510</td>\n",
              "    </tr>\n",
              "    <tr>\n",
              "      <th>3869</th>\n",
              "      <td>@L1LTR4P fucking losers wetbacks #SorryNotSorry</td>\n",
              "      <td>0</td>\n",
              "      <td>47</td>\n",
              "      <td>5</td>\n",
              "      <td>0.000</td>\n",
              "      <td>0.480</td>\n",
              "      <td>0.520</td>\n",
              "    </tr>\n",
              "    <tr>\n",
              "      <th>7674</th>\n",
              "      <td>Almost got to see a white boy get beat around ...</td>\n",
              "      <td>0</td>\n",
              "      <td>77</td>\n",
              "      <td>17</td>\n",
              "      <td>0.152</td>\n",
              "      <td>0.242</td>\n",
              "      <td>0.606</td>\n",
              "    </tr>\n",
              "    <tr>\n",
              "      <th>3310</th>\n",
              "      <td>@GrizzboAdams @wyattnuckels haha ight nig calm...</td>\n",
              "      <td>0</td>\n",
              "      <td>53</td>\n",
              "      <td>7</td>\n",
              "      <td>0.515</td>\n",
              "      <td>0.000</td>\n",
              "      <td>0.485</td>\n",
              "    </tr>\n",
              "    <tr>\n",
              "      <th>8041</th>\n",
              "      <td>Bitch ass nigga, be hating on black women... U...</td>\n",
              "      <td>0</td>\n",
              "      <td>66</td>\n",
              "      <td>12</td>\n",
              "      <td>0.000</td>\n",
              "      <td>0.643</td>\n",
              "      <td>0.357</td>\n",
              "    </tr>\n",
              "    <tr>\n",
              "      <th>7548</th>\n",
              "      <td>Al noooo ...... Too late fuckin faggot ! Lmao</td>\n",
              "      <td>0</td>\n",
              "      <td>45</td>\n",
              "      <td>9</td>\n",
              "      <td>0.267</td>\n",
              "      <td>0.322</td>\n",
              "      <td>0.411</td>\n",
              "    </tr>\n",
              "    <tr>\n",
              "      <th>22088</th>\n",
              "      <td>This kid looks like a retard when he tries hid...</td>\n",
              "      <td>0</td>\n",
              "      <td>73</td>\n",
              "      <td>14</td>\n",
              "      <td>0.138</td>\n",
              "      <td>0.309</td>\n",
              "      <td>0.552</td>\n",
              "    </tr>\n",
              "    <tr>\n",
              "      <th>9329</th>\n",
              "      <td>Fucking gook</td>\n",
              "      <td>0</td>\n",
              "      <td>12</td>\n",
              "      <td>2</td>\n",
              "      <td>0.000</td>\n",
              "      <td>0.000</td>\n",
              "      <td>1.000</td>\n",
              "    </tr>\n",
              "    <tr>\n",
              "      <th>19630</th>\n",
              "      <td>RT @markiiejay: You got niggas &amp;amp; i got bit...</td>\n",
              "      <td>0</td>\n",
              "      <td>50</td>\n",
              "      <td>9</td>\n",
              "      <td>0.000</td>\n",
              "      <td>0.512</td>\n",
              "      <td>0.488</td>\n",
              "    </tr>\n",
              "    <tr>\n",
              "      <th>22798</th>\n",
              "      <td>White bus drivers are all white trash. #LosAng...</td>\n",
              "      <td>0</td>\n",
              "      <td>50</td>\n",
              "      <td>8</td>\n",
              "      <td>0.000</td>\n",
              "      <td>0.000</td>\n",
              "      <td>1.000</td>\n",
              "    </tr>\n",
              "    <tr>\n",
              "      <th>24191</th>\n",
              "      <td>looking like a hillbilly and not matching is w...</td>\n",
              "      <td>0</td>\n",
              "      <td>99</td>\n",
              "      <td>15</td>\n",
              "      <td>0.333</td>\n",
              "      <td>0.169</td>\n",
              "      <td>0.498</td>\n",
              "    </tr>\n",
              "    <tr>\n",
              "      <th>4396</th>\n",
              "      <td>@Pecan_B19 @ObeyMy_Realness dryer then them ba...</td>\n",
              "      <td>0</td>\n",
              "      <td>68</td>\n",
              "      <td>11</td>\n",
              "      <td>0.311</td>\n",
              "      <td>0.193</td>\n",
              "      <td>0.497</td>\n",
              "    </tr>\n",
              "    <tr>\n",
              "      <th>18062</th>\n",
              "      <td>RT @WhitesOnly_1: #niggers! http://t.co/Hb3uJa...</td>\n",
              "      <td>0</td>\n",
              "      <td>50</td>\n",
              "      <td>4</td>\n",
              "      <td>0.000</td>\n",
              "      <td>0.000</td>\n",
              "      <td>1.000</td>\n",
              "    </tr>\n",
              "    <tr>\n",
              "      <th>2832</th>\n",
              "      <td>@CheCha__ be gone my nigguh</td>\n",
              "      <td>0</td>\n",
              "      <td>27</td>\n",
              "      <td>5</td>\n",
              "      <td>0.000</td>\n",
              "      <td>0.000</td>\n",
              "      <td>1.000</td>\n",
              "    </tr>\n",
              "    <tr>\n",
              "      <th>4572</th>\n",
              "      <td>@Roscoedash lmao, soft ass nigga trying to act...</td>\n",
              "      <td>0</td>\n",
              "      <td>122</td>\n",
              "      <td>22</td>\n",
              "      <td>0.133</td>\n",
              "      <td>0.289</td>\n",
              "      <td>0.578</td>\n",
              "    </tr>\n",
              "    <tr>\n",
              "      <th>7040</th>\n",
              "      <td>@sizzurp__ @bootyacid @ILIKECATS74 @yoPapi_chu...</td>\n",
              "      <td>0</td>\n",
              "      <td>64</td>\n",
              "      <td>7</td>\n",
              "      <td>0.346</td>\n",
              "      <td>0.339</td>\n",
              "      <td>0.315</td>\n",
              "    </tr>\n",
              "    <tr>\n",
              "      <th>4930</th>\n",
              "      <td>@TheKushZombie Aww y u so mad tho, a successfu...</td>\n",
              "      <td>0</td>\n",
              "      <td>81</td>\n",
              "      <td>15</td>\n",
              "      <td>0.417</td>\n",
              "      <td>0.320</td>\n",
              "      <td>0.263</td>\n",
              "    </tr>\n",
              "    <tr>\n",
              "      <th>16595</th>\n",
              "      <td>RT @NYTMinusContext: kill whitey</td>\n",
              "      <td>0</td>\n",
              "      <td>32</td>\n",
              "      <td>4</td>\n",
              "      <td>0.000</td>\n",
              "      <td>0.610</td>\n",
              "      <td>0.390</td>\n",
              "    </tr>\n",
              "    <tr>\n",
              "      <th>23708</th>\n",
              "      <td>cant trust niggas when it come to bitches</td>\n",
              "      <td>0</td>\n",
              "      <td>41</td>\n",
              "      <td>8</td>\n",
              "      <td>0.149</td>\n",
              "      <td>0.484</td>\n",
              "      <td>0.367</td>\n",
              "    </tr>\n",
              "    <tr>\n",
              "      <th>12587</th>\n",
              "      <td>Lol RT @JayFucknHarris: Youuuuu got niggas but...</td>\n",
              "      <td>0</td>\n",
              "      <td>66</td>\n",
              "      <td>11</td>\n",
              "      <td>0.413</td>\n",
              "      <td>0.115</td>\n",
              "      <td>0.472</td>\n",
              "    </tr>\n",
              "    <tr>\n",
              "      <th>2969</th>\n",
              "      <td>@Darienbaby_xoxo jk I'd fuck a dog before I fu...</td>\n",
              "      <td>0</td>\n",
              "      <td>63</td>\n",
              "      <td>12</td>\n",
              "      <td>0.119</td>\n",
              "      <td>0.440</td>\n",
              "      <td>0.440</td>\n",
              "    </tr>\n",
              "    <tr>\n",
              "      <th>10631</th>\n",
              "      <td>I know righttt RT @dta_87: I hate fat loud bit...</td>\n",
              "      <td>0</td>\n",
              "      <td>50</td>\n",
              "      <td>10</td>\n",
              "      <td>0.000</td>\n",
              "      <td>0.559</td>\n",
              "      <td>0.441</td>\n",
              "    </tr>\n",
              "    <tr>\n",
              "      <th>13722</th>\n",
              "      <td>Oregon losing IN OREGON ahhhahahaha faggots</td>\n",
              "      <td>0</td>\n",
              "      <td>43</td>\n",
              "      <td>6</td>\n",
              "      <td>0.000</td>\n",
              "      <td>0.630</td>\n",
              "      <td>0.370</td>\n",
              "    </tr>\n",
              "    <tr>\n",
              "      <th>4714</th>\n",
              "      <td>@SlimGirl_Probz das calld usen yo brain retard...</td>\n",
              "      <td>0</td>\n",
              "      <td>90</td>\n",
              "      <td>18</td>\n",
              "      <td>0.000</td>\n",
              "      <td>0.347</td>\n",
              "      <td>0.653</td>\n",
              "    </tr>\n",
              "    <tr>\n",
              "      <th>10601</th>\n",
              "      <td>I just wanna slit this mf throat</td>\n",
              "      <td>0</td>\n",
              "      <td>32</td>\n",
              "      <td>7</td>\n",
              "      <td>0.000</td>\n",
              "      <td>0.000</td>\n",
              "      <td>1.000</td>\n",
              "    </tr>\n",
              "    <tr>\n",
              "      <th>4221</th>\n",
              "      <td>@NOT_UR_BRO @niccol3_xo lmao nigga shoulda sai...</td>\n",
              "      <td>0</td>\n",
              "      <td>111</td>\n",
              "      <td>18</td>\n",
              "      <td>0.245</td>\n",
              "      <td>0.161</td>\n",
              "      <td>0.594</td>\n",
              "    </tr>\n",
              "    <tr>\n",
              "      <th>...</th>\n",
              "      <td>...</td>\n",
              "      <td>...</td>\n",
              "      <td>...</td>\n",
              "      <td>...</td>\n",
              "      <td>...</td>\n",
              "      <td>...</td>\n",
              "      <td>...</td>\n",
              "    </tr>\n",
              "    <tr>\n",
              "      <th>22030</th>\n",
              "      <td>This dumb Berk drives in circles through town ...</td>\n",
              "      <td>1</td>\n",
              "      <td>132</td>\n",
              "      <td>18</td>\n",
              "      <td>0.131</td>\n",
              "      <td>0.149</td>\n",
              "      <td>0.721</td>\n",
              "    </tr>\n",
              "    <tr>\n",
              "      <th>2554</th>\n",
              "      <td>@BarbieNixon a moment of silence for the bitch...</td>\n",
              "      <td>1</td>\n",
              "      <td>82</td>\n",
              "      <td>14</td>\n",
              "      <td>0.000</td>\n",
              "      <td>0.241</td>\n",
              "      <td>0.759</td>\n",
              "    </tr>\n",
              "    <tr>\n",
              "      <th>12638</th>\n",
              "      <td>Look at that THOT... pussy popping for usher.</td>\n",
              "      <td>1</td>\n",
              "      <td>45</td>\n",
              "      <td>8</td>\n",
              "      <td>0.000</td>\n",
              "      <td>0.000</td>\n",
              "      <td>1.000</td>\n",
              "    </tr>\n",
              "    <tr>\n",
              "      <th>1330</th>\n",
              "      <td>&amp;#8220;@JalenRose: \"I'm rich......\" (Dave Chap...</td>\n",
              "      <td>1</td>\n",
              "      <td>108</td>\n",
              "      <td>14</td>\n",
              "      <td>0.000</td>\n",
              "      <td>0.226</td>\n",
              "      <td>0.774</td>\n",
              "    </tr>\n",
              "    <tr>\n",
              "      <th>3939</th>\n",
              "      <td>@LittleNamms stick to the court hoe</td>\n",
              "      <td>1</td>\n",
              "      <td>35</td>\n",
              "      <td>6</td>\n",
              "      <td>0.000</td>\n",
              "      <td>0.000</td>\n",
              "      <td>1.000</td>\n",
              "    </tr>\n",
              "    <tr>\n",
              "      <th>21193</th>\n",
              "      <td>Stupid and ain't got hoes #ShmediumProblems</td>\n",
              "      <td>1</td>\n",
              "      <td>43</td>\n",
              "      <td>6</td>\n",
              "      <td>0.000</td>\n",
              "      <td>0.405</td>\n",
              "      <td>0.595</td>\n",
              "    </tr>\n",
              "    <tr>\n",
              "      <th>24212</th>\n",
              "      <td>mickeyblowsyourmind: who wants to be a skype g...</td>\n",
              "      <td>1</td>\n",
              "      <td>131</td>\n",
              "      <td>20</td>\n",
              "      <td>0.000</td>\n",
              "      <td>0.162</td>\n",
              "      <td>0.838</td>\n",
              "    </tr>\n",
              "    <tr>\n",
              "      <th>7649</th>\n",
              "      <td>All theses hoes on me , they so phony &amp;#128534;</td>\n",
              "      <td>1</td>\n",
              "      <td>47</td>\n",
              "      <td>10</td>\n",
              "      <td>0.000</td>\n",
              "      <td>0.000</td>\n",
              "      <td>1.000</td>\n",
              "    </tr>\n",
              "    <tr>\n",
              "      <th>13943</th>\n",
              "      <td>Pussy nicca we ain't friends you ain't gotta @...</td>\n",
              "      <td>1</td>\n",
              "      <td>74</td>\n",
              "      <td>13</td>\n",
              "      <td>0.000</td>\n",
              "      <td>0.206</td>\n",
              "      <td>0.794</td>\n",
              "    </tr>\n",
              "    <tr>\n",
              "      <th>6746</th>\n",
              "      <td>@mza361 I love you and bitches love me.</td>\n",
              "      <td>1</td>\n",
              "      <td>39</td>\n",
              "      <td>8</td>\n",
              "      <td>0.515</td>\n",
              "      <td>0.239</td>\n",
              "      <td>0.245</td>\n",
              "    </tr>\n",
              "    <tr>\n",
              "      <th>5942</th>\n",
              "      <td>@erykadamitio_ @RiRi_Candee why nobody never i...</td>\n",
              "      <td>1</td>\n",
              "      <td>87</td>\n",
              "      <td>13</td>\n",
              "      <td>0.128</td>\n",
              "      <td>0.492</td>\n",
              "      <td>0.380</td>\n",
              "    </tr>\n",
              "    <tr>\n",
              "      <th>20876</th>\n",
              "      <td>Slack jawed yokel husband http://t.co/VE1PWFrz9t</td>\n",
              "      <td>1</td>\n",
              "      <td>48</td>\n",
              "      <td>5</td>\n",
              "      <td>0.000</td>\n",
              "      <td>0.000</td>\n",
              "      <td>1.000</td>\n",
              "    </tr>\n",
              "    <tr>\n",
              "      <th>7394</th>\n",
              "      <td>@zimm16 pussy!!!!!</td>\n",
              "      <td>1</td>\n",
              "      <td>18</td>\n",
              "      <td>2</td>\n",
              "      <td>0.000</td>\n",
              "      <td>0.000</td>\n",
              "      <td>1.000</td>\n",
              "    </tr>\n",
              "    <tr>\n",
              "      <th>18270</th>\n",
              "      <td>RT @_Creamm_: @Victoria_Finae dont mind my ret...</td>\n",
              "      <td>1</td>\n",
              "      <td>64</td>\n",
              "      <td>8</td>\n",
              "      <td>0.300</td>\n",
              "      <td>0.000</td>\n",
              "      <td>0.700</td>\n",
              "    </tr>\n",
              "    <tr>\n",
              "      <th>6450</th>\n",
              "      <td>@kieffer_jason bye bitch</td>\n",
              "      <td>1</td>\n",
              "      <td>24</td>\n",
              "      <td>3</td>\n",
              "      <td>0.000</td>\n",
              "      <td>0.655</td>\n",
              "      <td>0.345</td>\n",
              "    </tr>\n",
              "    <tr>\n",
              "      <th>6212</th>\n",
              "      <td>@jaimescudi_ fucking bitch</td>\n",
              "      <td>1</td>\n",
              "      <td>26</td>\n",
              "      <td>3</td>\n",
              "      <td>0.000</td>\n",
              "      <td>0.672</td>\n",
              "      <td>0.328</td>\n",
              "    </tr>\n",
              "    <tr>\n",
              "      <th>24450</th>\n",
              "      <td>some prude bitch unfollwed me show me ur ugly ...</td>\n",
              "      <td>1</td>\n",
              "      <td>50</td>\n",
              "      <td>10</td>\n",
              "      <td>0.000</td>\n",
              "      <td>0.470</td>\n",
              "      <td>0.530</td>\n",
              "    </tr>\n",
              "    <tr>\n",
              "      <th>13723</th>\n",
              "      <td>Oreo Ice Cream Sandwich http://t.co/RM0KsY99Bc\"</td>\n",
              "      <td>1</td>\n",
              "      <td>47</td>\n",
              "      <td>5</td>\n",
              "      <td>0.000</td>\n",
              "      <td>0.000</td>\n",
              "      <td>1.000</td>\n",
              "    </tr>\n",
              "    <tr>\n",
              "      <th>21408</th>\n",
              "      <td>That nig was a G on that E60 I would have done...</td>\n",
              "      <td>1</td>\n",
              "      <td>61</td>\n",
              "      <td>15</td>\n",
              "      <td>0.000</td>\n",
              "      <td>0.000</td>\n",
              "      <td>1.000</td>\n",
              "    </tr>\n",
              "    <tr>\n",
              "      <th>22256</th>\n",
              "      <td>Translation for the slow he out saving hoes 1 ...</td>\n",
              "      <td>1</td>\n",
              "      <td>127</td>\n",
              "      <td>18</td>\n",
              "      <td>0.000</td>\n",
              "      <td>0.000</td>\n",
              "      <td>1.000</td>\n",
              "    </tr>\n",
              "    <tr>\n",
              "      <th>743</th>\n",
              "      <td>#Natitude? Okay. I'm only going to say it once...</td>\n",
              "      <td>1</td>\n",
              "      <td>78</td>\n",
              "      <td>14</td>\n",
              "      <td>0.128</td>\n",
              "      <td>0.000</td>\n",
              "      <td>0.872</td>\n",
              "    </tr>\n",
              "    <tr>\n",
              "      <th>13079</th>\n",
              "      <td>My mom told me never use the word cunt... ITS ...</td>\n",
              "      <td>1</td>\n",
              "      <td>140</td>\n",
              "      <td>28</td>\n",
              "      <td>0.058</td>\n",
              "      <td>0.756</td>\n",
              "      <td>0.186</td>\n",
              "    </tr>\n",
              "    <tr>\n",
              "      <th>20296</th>\n",
              "      <td>RT @vodkapapixo: \"@Weed_Cloudz: \"6 God\" by Dra...</td>\n",
              "      <td>1</td>\n",
              "      <td>68</td>\n",
              "      <td>11</td>\n",
              "      <td>0.338</td>\n",
              "      <td>0.000</td>\n",
              "      <td>0.662</td>\n",
              "    </tr>\n",
              "    <tr>\n",
              "      <th>18506</th>\n",
              "      <td>RT @_xchaazelle: most of the bitches he fw not...</td>\n",
              "      <td>1</td>\n",
              "      <td>119</td>\n",
              "      <td>21</td>\n",
              "      <td>0.000</td>\n",
              "      <td>0.180</td>\n",
              "      <td>0.820</td>\n",
              "    </tr>\n",
              "    <tr>\n",
              "      <th>9414</th>\n",
              "      <td>Get your weak ass juco highlights off twitter hoe</td>\n",
              "      <td>1</td>\n",
              "      <td>49</td>\n",
              "      <td>9</td>\n",
              "      <td>0.000</td>\n",
              "      <td>0.478</td>\n",
              "      <td>0.522</td>\n",
              "    </tr>\n",
              "    <tr>\n",
              "      <th>14111</th>\n",
              "      <td>RT @AdamWeinstein: Working theory: This \"selec...</td>\n",
              "      <td>1</td>\n",
              "      <td>140</td>\n",
              "      <td>23</td>\n",
              "      <td>0.050</td>\n",
              "      <td>0.139</td>\n",
              "      <td>0.811</td>\n",
              "    </tr>\n",
              "    <tr>\n",
              "      <th>258</th>\n",
              "      <td>\"@The_Realist_Sam: @Madrid2_ yea, I'm on my iP...</td>\n",
              "      <td>1</td>\n",
              "      <td>129</td>\n",
              "      <td>20</td>\n",
              "      <td>0.000</td>\n",
              "      <td>0.226</td>\n",
              "      <td>0.774</td>\n",
              "    </tr>\n",
              "    <tr>\n",
              "      <th>6790</th>\n",
              "      <td>@obamac0re I don't like it peaceful that's bor...</td>\n",
              "      <td>1</td>\n",
              "      <td>139</td>\n",
              "      <td>27</td>\n",
              "      <td>0.000</td>\n",
              "      <td>0.407</td>\n",
              "      <td>0.593</td>\n",
              "    </tr>\n",
              "    <tr>\n",
              "      <th>15251</th>\n",
              "      <td>RT @FriendlyAssh0le: It's annoying as hell whe...</td>\n",
              "      <td>1</td>\n",
              "      <td>146</td>\n",
              "      <td>24</td>\n",
              "      <td>0.170</td>\n",
              "      <td>0.313</td>\n",
              "      <td>0.517</td>\n",
              "    </tr>\n",
              "    <tr>\n",
              "      <th>3067</th>\n",
              "      <td>@Dre_Day200 bitch</td>\n",
              "      <td>1</td>\n",
              "      <td>17</td>\n",
              "      <td>2</td>\n",
              "      <td>0.000</td>\n",
              "      <td>0.792</td>\n",
              "      <td>0.208</td>\n",
              "    </tr>\n",
              "  </tbody>\n",
              "</table>\n",
              "<p>2430 rows × 7 columns</p>\n",
              "</div>"
            ],
            "text/plain": [
              "                                                   tweet  class  len  \\\n",
              "16489  RT @Mitchellharri: Dont be a faggot, cover you...      0  128   \n",
              "24091  ion speak on how flaw niggas and thirsty hoes ...      0  100   \n",
              "15093  RT @EarlyLegend: I don't fuck with these hoes ...      0  101   \n",
              "21578  The leftist/homosexual war on the #Catholic ch...      0  134   \n",
              "10083  I bet you think you a no-chill savage huh. Fuc...      0   68   \n",
              "3869     @L1LTR4P fucking losers wetbacks #SorryNotSorry      0   47   \n",
              "7674   Almost got to see a white boy get beat around ...      0   77   \n",
              "3310   @GrizzboAdams @wyattnuckels haha ight nig calm...      0   53   \n",
              "8041   Bitch ass nigga, be hating on black women... U...      0   66   \n",
              "7548       Al noooo ...... Too late fuckin faggot ! Lmao      0   45   \n",
              "22088  This kid looks like a retard when he tries hid...      0   73   \n",
              "9329                                        Fucking gook      0   12   \n",
              "19630  RT @markiiejay: You got niggas &amp; i got bit...      0   50   \n",
              "22798  White bus drivers are all white trash. #LosAng...      0   50   \n",
              "24191  looking like a hillbilly and not matching is w...      0   99   \n",
              "4396   @Pecan_B19 @ObeyMy_Realness dryer then them ba...      0   68   \n",
              "18062  RT @WhitesOnly_1: #niggers! http://t.co/Hb3uJa...      0   50   \n",
              "2832                         @CheCha__ be gone my nigguh      0   27   \n",
              "4572   @Roscoedash lmao, soft ass nigga trying to act...      0  122   \n",
              "7040   @sizzurp__ @bootyacid @ILIKECATS74 @yoPapi_chu...      0   64   \n",
              "4930   @TheKushZombie Aww y u so mad tho, a successfu...      0   81   \n",
              "16595                   RT @NYTMinusContext: kill whitey      0   32   \n",
              "23708          cant trust niggas when it come to bitches      0   41   \n",
              "12587  Lol RT @JayFucknHarris: Youuuuu got niggas but...      0   66   \n",
              "2969   @Darienbaby_xoxo jk I'd fuck a dog before I fu...      0   63   \n",
              "10631  I know righttt RT @dta_87: I hate fat loud bit...      0   50   \n",
              "13722        Oregon losing IN OREGON ahhhahahaha faggots      0   43   \n",
              "4714   @SlimGirl_Probz das calld usen yo brain retard...      0   90   \n",
              "10601                   I just wanna slit this mf throat      0   32   \n",
              "4221   @NOT_UR_BRO @niccol3_xo lmao nigga shoulda sai...      0  111   \n",
              "...                                                  ...    ...  ...   \n",
              "22030  This dumb Berk drives in circles through town ...      1  132   \n",
              "2554   @BarbieNixon a moment of silence for the bitch...      1   82   \n",
              "12638      Look at that THOT... pussy popping for usher.      1   45   \n",
              "1330   &#8220;@JalenRose: \"I'm rich......\" (Dave Chap...      1  108   \n",
              "3939                 @LittleNamms stick to the court hoe      1   35   \n",
              "21193        Stupid and ain't got hoes #ShmediumProblems      1   43   \n",
              "24212  mickeyblowsyourmind: who wants to be a skype g...      1  131   \n",
              "7649     All theses hoes on me , they so phony &#128534;      1   47   \n",
              "13943  Pussy nicca we ain't friends you ain't gotta @...      1   74   \n",
              "6746             @mza361 I love you and bitches love me.      1   39   \n",
              "5942   @erykadamitio_ @RiRi_Candee why nobody never i...      1   87   \n",
              "20876   Slack jawed yokel husband http://t.co/VE1PWFrz9t      1   48   \n",
              "7394                                  @zimm16 pussy!!!!!      1   18   \n",
              "18270  RT @_Creamm_: @Victoria_Finae dont mind my ret...      1   64   \n",
              "6450                            @kieffer_jason bye bitch      1   24   \n",
              "6212                          @jaimescudi_ fucking bitch      1   26   \n",
              "24450  some prude bitch unfollwed me show me ur ugly ...      1   50   \n",
              "13723    Oreo Ice Cream Sandwich http://t.co/RM0KsY99Bc\"      1   47   \n",
              "21408  That nig was a G on that E60 I would have done...      1   61   \n",
              "22256  Translation for the slow he out saving hoes 1 ...      1  127   \n",
              "743    #Natitude? Okay. I'm only going to say it once...      1   78   \n",
              "13079  My mom told me never use the word cunt... ITS ...      1  140   \n",
              "20296  RT @vodkapapixo: \"@Weed_Cloudz: \"6 God\" by Dra...      1   68   \n",
              "18506  RT @_xchaazelle: most of the bitches he fw not...      1  119   \n",
              "9414   Get your weak ass juco highlights off twitter hoe      1   49   \n",
              "14111  RT @AdamWeinstein: Working theory: This \"selec...      1  140   \n",
              "258    \"@The_Realist_Sam: @Madrid2_ yea, I'm on my iP...      1  129   \n",
              "6790   @obamac0re I don't like it peaceful that's bor...      1  139   \n",
              "15251  RT @FriendlyAssh0le: It's annoying as hell whe...      1  146   \n",
              "3067                                   @Dre_Day200 bitch      1   17   \n",
              "\n",
              "       word_count    pos    neg    neu  \n",
              "16489          24  0.334  0.000  0.666  \n",
              "24091          18  0.000  0.091  0.909  \n",
              "15093          18  0.373  0.000  0.627  \n",
              "21578          20  0.000  0.170  0.830  \n",
              "10083          12  0.000  0.490  0.510  \n",
              "3869            5  0.000  0.480  0.520  \n",
              "7674           17  0.152  0.242  0.606  \n",
              "3310            7  0.515  0.000  0.485  \n",
              "8041           12  0.000  0.643  0.357  \n",
              "7548            9  0.267  0.322  0.411  \n",
              "22088          14  0.138  0.309  0.552  \n",
              "9329            2  0.000  0.000  1.000  \n",
              "19630           9  0.000  0.512  0.488  \n",
              "22798           8  0.000  0.000  1.000  \n",
              "24191          15  0.333  0.169  0.498  \n",
              "4396           11  0.311  0.193  0.497  \n",
              "18062           4  0.000  0.000  1.000  \n",
              "2832            5  0.000  0.000  1.000  \n",
              "4572           22  0.133  0.289  0.578  \n",
              "7040            7  0.346  0.339  0.315  \n",
              "4930           15  0.417  0.320  0.263  \n",
              "16595           4  0.000  0.610  0.390  \n",
              "23708           8  0.149  0.484  0.367  \n",
              "12587          11  0.413  0.115  0.472  \n",
              "2969           12  0.119  0.440  0.440  \n",
              "10631          10  0.000  0.559  0.441  \n",
              "13722           6  0.000  0.630  0.370  \n",
              "4714           18  0.000  0.347  0.653  \n",
              "10601           7  0.000  0.000  1.000  \n",
              "4221           18  0.245  0.161  0.594  \n",
              "...           ...    ...    ...    ...  \n",
              "22030          18  0.131  0.149  0.721  \n",
              "2554           14  0.000  0.241  0.759  \n",
              "12638           8  0.000  0.000  1.000  \n",
              "1330           14  0.000  0.226  0.774  \n",
              "3939            6  0.000  0.000  1.000  \n",
              "21193           6  0.000  0.405  0.595  \n",
              "24212          20  0.000  0.162  0.838  \n",
              "7649           10  0.000  0.000  1.000  \n",
              "13943          13  0.000  0.206  0.794  \n",
              "6746            8  0.515  0.239  0.245  \n",
              "5942           13  0.128  0.492  0.380  \n",
              "20876           5  0.000  0.000  1.000  \n",
              "7394            2  0.000  0.000  1.000  \n",
              "18270           8  0.300  0.000  0.700  \n",
              "6450            3  0.000  0.655  0.345  \n",
              "6212            3  0.000  0.672  0.328  \n",
              "24450          10  0.000  0.470  0.530  \n",
              "13723           5  0.000  0.000  1.000  \n",
              "21408          15  0.000  0.000  1.000  \n",
              "22256          18  0.000  0.000  1.000  \n",
              "743            14  0.128  0.000  0.872  \n",
              "13079          28  0.058  0.756  0.186  \n",
              "20296          11  0.338  0.000  0.662  \n",
              "18506          21  0.000  0.180  0.820  \n",
              "9414            9  0.000  0.478  0.522  \n",
              "14111          23  0.050  0.139  0.811  \n",
              "258            20  0.000  0.226  0.774  \n",
              "6790           27  0.000  0.407  0.593  \n",
              "15251          24  0.170  0.313  0.517  \n",
              "3067            2  0.000  0.792  0.208  \n",
              "\n",
              "[2430 rows x 7 columns]"
            ]
          },
          "metadata": {
            "tags": []
          },
          "execution_count": 68
        }
      ]
    },
    {
      "cell_type": "code",
      "metadata": {
        "id": "ptxy4RLzsETp",
        "colab_type": "code",
        "colab": {}
      },
      "source": [
        "import numpy as np\n",
        "x_train=np.concatenate([pd.DataFrame(tfidf_tr),rev_tr,mention_counts_tr, of_counts_tr],axis=1 )\n"
      ],
      "execution_count": 0,
      "outputs": []
    },
    {
      "cell_type": "code",
      "metadata": {
        "id": "Uu6EMUV2sd5f",
        "colab_type": "code",
        "outputId": "ebb9d54f-de36-4773-ce96-2ec9f09c8fc3",
        "colab": {
          "base_uri": "https://localhost:8080/",
          "height": 139
        }
      },
      "source": [
        "x_train[:10]"
      ],
      "execution_count": 70,
      "outputs": [
        {
          "output_type": "execute_result",
          "data": {
            "text/plain": [
              "array([[ 0.,  0.,  0., ..., 24., 24., 23.],\n",
              "       [ 0.,  0.,  0., ..., 18., 18., 17.],\n",
              "       [ 0.,  0.,  0., ..., 18., 18., 12.],\n",
              "       ...,\n",
              "       [ 0.,  0.,  0., ...,  7.,  5.,  5.],\n",
              "       [ 0.,  0.,  0., ..., 12., 12., 12.],\n",
              "       [ 0.,  0.,  0., ...,  9.,  9.,  9.]])"
            ]
          },
          "metadata": {
            "tags": []
          },
          "execution_count": 70
        }
      ]
    },
    {
      "cell_type": "code",
      "metadata": {
        "id": "ks_VeplBsItf",
        "colab_type": "code",
        "colab": {}
      },
      "source": [
        "df_train['len'] = df_train['tweet'].astype(str).apply(len)\n",
        "df_train['word_count'] = df_train['tweet'].apply(lambda x: len(str(x).split()))"
      ],
      "execution_count": 0,
      "outputs": []
    },
    {
      "cell_type": "code",
      "metadata": {
        "id": "3J71GW_vGVLl",
        "colab_type": "code",
        "colab": {}
      },
      "source": [
        "df_train[\"pos\"]=rev_tr[\"pos\"]"
      ],
      "execution_count": 0,
      "outputs": []
    },
    {
      "cell_type": "code",
      "metadata": {
        "id": "KHEYREa5tB9i",
        "colab_type": "code",
        "colab": {}
      },
      "source": [
        "df_train[\"neg\"]=rev_tr[\"neg\"]\n",
        "df_train[\"neu\"]=rev_tr[\"neu\"]"
      ],
      "execution_count": 0,
      "outputs": []
    },
    {
      "cell_type": "code",
      "metadata": {
        "id": "pVuQyPSKFy67",
        "colab_type": "code",
        "outputId": "d1377622-61d9-4fe1-cfa6-10d68a8d89a4",
        "colab": {
          "base_uri": "https://localhost:8080/",
          "height": 202
        }
      },
      "source": [
        "df_train.head()"
      ],
      "execution_count": 74,
      "outputs": [
        {
          "output_type": "execute_result",
          "data": {
            "text/html": [
              "<div>\n",
              "<style scoped>\n",
              "    .dataframe tbody tr th:only-of-type {\n",
              "        vertical-align: middle;\n",
              "    }\n",
              "\n",
              "    .dataframe tbody tr th {\n",
              "        vertical-align: top;\n",
              "    }\n",
              "\n",
              "    .dataframe thead th {\n",
              "        text-align: right;\n",
              "    }\n",
              "</style>\n",
              "<table border=\"1\" class=\"dataframe\">\n",
              "  <thead>\n",
              "    <tr style=\"text-align: right;\">\n",
              "      <th></th>\n",
              "      <th>tweet</th>\n",
              "      <th>class</th>\n",
              "      <th>counts</th>\n",
              "      <th>len</th>\n",
              "      <th>word_count</th>\n",
              "      <th>pos</th>\n",
              "      <th>neg</th>\n",
              "      <th>neu</th>\n",
              "      <th>sent</th>\n",
              "    </tr>\n",
              "  </thead>\n",
              "  <tbody>\n",
              "    <tr>\n",
              "      <th>16489</th>\n",
              "      <td>RT @Mitchellharri: Dont be a faggot, cover you...</td>\n",
              "      <td>0</td>\n",
              "      <td>(0, 1, 0)</td>\n",
              "      <td>128</td>\n",
              "      <td>24</td>\n",
              "      <td>0.334</td>\n",
              "      <td>0.000</td>\n",
              "      <td>0.666</td>\n",
              "      <td>{'neg': 0.0, 'neu': 0.666, 'pos': 0.334, 'comp...</td>\n",
              "    </tr>\n",
              "    <tr>\n",
              "      <th>24091</th>\n",
              "      <td>ion speak on how flaw niggas and thirsty hoes ...</td>\n",
              "      <td>0</td>\n",
              "      <td>(0, 0, 2)</td>\n",
              "      <td>100</td>\n",
              "      <td>18</td>\n",
              "      <td>0.000</td>\n",
              "      <td>0.091</td>\n",
              "      <td>0.909</td>\n",
              "      <td>{'neg': 0.091, 'neu': 0.909, 'pos': 0.0, 'comp...</td>\n",
              "    </tr>\n",
              "    <tr>\n",
              "      <th>15093</th>\n",
              "      <td>RT @EarlyLegend: I don't fuck with these hoes ...</td>\n",
              "      <td>0</td>\n",
              "      <td>(0, 1, 0)</td>\n",
              "      <td>101</td>\n",
              "      <td>18</td>\n",
              "      <td>0.373</td>\n",
              "      <td>0.000</td>\n",
              "      <td>0.627</td>\n",
              "      <td>{'neg': 0.0, 'neu': 0.627, 'pos': 0.373, 'comp...</td>\n",
              "    </tr>\n",
              "    <tr>\n",
              "      <th>21578</th>\n",
              "      <td>The leftist/homosexual war on the #Catholic ch...</td>\n",
              "      <td>0</td>\n",
              "      <td>(0, 0, 1)</td>\n",
              "      <td>134</td>\n",
              "      <td>20</td>\n",
              "      <td>0.000</td>\n",
              "      <td>0.170</td>\n",
              "      <td>0.830</td>\n",
              "      <td>{'neg': 0.17, 'neu': 0.83, 'pos': 0.0, 'compou...</td>\n",
              "    </tr>\n",
              "    <tr>\n",
              "      <th>10083</th>\n",
              "      <td>I bet you think you a no-chill savage huh. Fuc...</td>\n",
              "      <td>0</td>\n",
              "      <td>(0, 1, 0)</td>\n",
              "      <td>68</td>\n",
              "      <td>12</td>\n",
              "      <td>0.000</td>\n",
              "      <td>0.490</td>\n",
              "      <td>0.510</td>\n",
              "      <td>{'neg': 0.49, 'neu': 0.51, 'pos': 0.0, 'compou...</td>\n",
              "    </tr>\n",
              "  </tbody>\n",
              "</table>\n",
              "</div>"
            ],
            "text/plain": [
              "                                                   tweet  class     counts  \\\n",
              "16489  RT @Mitchellharri: Dont be a faggot, cover you...      0  (0, 1, 0)   \n",
              "24091  ion speak on how flaw niggas and thirsty hoes ...      0  (0, 0, 2)   \n",
              "15093  RT @EarlyLegend: I don't fuck with these hoes ...      0  (0, 1, 0)   \n",
              "21578  The leftist/homosexual war on the #Catholic ch...      0  (0, 0, 1)   \n",
              "10083  I bet you think you a no-chill savage huh. Fuc...      0  (0, 1, 0)   \n",
              "\n",
              "       len  word_count    pos    neg    neu  \\\n",
              "16489  128          24  0.334  0.000  0.666   \n",
              "24091  100          18  0.000  0.091  0.909   \n",
              "15093  101          18  0.373  0.000  0.627   \n",
              "21578  134          20  0.000  0.170  0.830   \n",
              "10083   68          12  0.000  0.490  0.510   \n",
              "\n",
              "                                                    sent  \n",
              "16489  {'neg': 0.0, 'neu': 0.666, 'pos': 0.334, 'comp...  \n",
              "24091  {'neg': 0.091, 'neu': 0.909, 'pos': 0.0, 'comp...  \n",
              "15093  {'neg': 0.0, 'neu': 0.627, 'pos': 0.373, 'comp...  \n",
              "21578  {'neg': 0.17, 'neu': 0.83, 'pos': 0.0, 'compou...  \n",
              "10083  {'neg': 0.49, 'neu': 0.51, 'pos': 0.0, 'compou...  "
            ]
          },
          "metadata": {
            "tags": []
          },
          "execution_count": 74
        }
      ]
    },
    {
      "cell_type": "code",
      "metadata": {
        "id": "fDCIeGLPGp5E",
        "colab_type": "code",
        "colab": {}
      },
      "source": [
        "df_train=df_train.drop([\"sent\"], axis=1)"
      ],
      "execution_count": 0,
      "outputs": []
    },
    {
      "cell_type": "code",
      "metadata": {
        "id": "PK6FRFOeGt_z",
        "colab_type": "code",
        "outputId": "c0c00cf1-88de-479f-f1a3-8724c489c7cb",
        "colab": {
          "base_uri": "https://localhost:8080/",
          "height": 1949
        }
      },
      "source": [
        "df_train.drop([\"counts\"], axis=1)\n",
        "# pd.concat([df_train,pd.DataFrame(x_train)], axis=1)"
      ],
      "execution_count": 76,
      "outputs": [
        {
          "output_type": "execute_result",
          "data": {
            "text/html": [
              "<div>\n",
              "<style scoped>\n",
              "    .dataframe tbody tr th:only-of-type {\n",
              "        vertical-align: middle;\n",
              "    }\n",
              "\n",
              "    .dataframe tbody tr th {\n",
              "        vertical-align: top;\n",
              "    }\n",
              "\n",
              "    .dataframe thead th {\n",
              "        text-align: right;\n",
              "    }\n",
              "</style>\n",
              "<table border=\"1\" class=\"dataframe\">\n",
              "  <thead>\n",
              "    <tr style=\"text-align: right;\">\n",
              "      <th></th>\n",
              "      <th>tweet</th>\n",
              "      <th>class</th>\n",
              "      <th>len</th>\n",
              "      <th>word_count</th>\n",
              "      <th>pos</th>\n",
              "      <th>neg</th>\n",
              "      <th>neu</th>\n",
              "    </tr>\n",
              "  </thead>\n",
              "  <tbody>\n",
              "    <tr>\n",
              "      <th>16489</th>\n",
              "      <td>RT @Mitchellharri: Dont be a faggot, cover you...</td>\n",
              "      <td>0</td>\n",
              "      <td>128</td>\n",
              "      <td>24</td>\n",
              "      <td>0.334</td>\n",
              "      <td>0.000</td>\n",
              "      <td>0.666</td>\n",
              "    </tr>\n",
              "    <tr>\n",
              "      <th>24091</th>\n",
              "      <td>ion speak on how flaw niggas and thirsty hoes ...</td>\n",
              "      <td>0</td>\n",
              "      <td>100</td>\n",
              "      <td>18</td>\n",
              "      <td>0.000</td>\n",
              "      <td>0.091</td>\n",
              "      <td>0.909</td>\n",
              "    </tr>\n",
              "    <tr>\n",
              "      <th>15093</th>\n",
              "      <td>RT @EarlyLegend: I don't fuck with these hoes ...</td>\n",
              "      <td>0</td>\n",
              "      <td>101</td>\n",
              "      <td>18</td>\n",
              "      <td>0.373</td>\n",
              "      <td>0.000</td>\n",
              "      <td>0.627</td>\n",
              "    </tr>\n",
              "    <tr>\n",
              "      <th>21578</th>\n",
              "      <td>The leftist/homosexual war on the #Catholic ch...</td>\n",
              "      <td>0</td>\n",
              "      <td>134</td>\n",
              "      <td>20</td>\n",
              "      <td>0.000</td>\n",
              "      <td>0.170</td>\n",
              "      <td>0.830</td>\n",
              "    </tr>\n",
              "    <tr>\n",
              "      <th>10083</th>\n",
              "      <td>I bet you think you a no-chill savage huh. Fuc...</td>\n",
              "      <td>0</td>\n",
              "      <td>68</td>\n",
              "      <td>12</td>\n",
              "      <td>0.000</td>\n",
              "      <td>0.490</td>\n",
              "      <td>0.510</td>\n",
              "    </tr>\n",
              "    <tr>\n",
              "      <th>3869</th>\n",
              "      <td>@L1LTR4P fucking losers wetbacks #SorryNotSorry</td>\n",
              "      <td>0</td>\n",
              "      <td>47</td>\n",
              "      <td>5</td>\n",
              "      <td>0.000</td>\n",
              "      <td>0.480</td>\n",
              "      <td>0.520</td>\n",
              "    </tr>\n",
              "    <tr>\n",
              "      <th>7674</th>\n",
              "      <td>Almost got to see a white boy get beat around ...</td>\n",
              "      <td>0</td>\n",
              "      <td>77</td>\n",
              "      <td>17</td>\n",
              "      <td>0.152</td>\n",
              "      <td>0.242</td>\n",
              "      <td>0.606</td>\n",
              "    </tr>\n",
              "    <tr>\n",
              "      <th>3310</th>\n",
              "      <td>@GrizzboAdams @wyattnuckels haha ight nig calm...</td>\n",
              "      <td>0</td>\n",
              "      <td>53</td>\n",
              "      <td>7</td>\n",
              "      <td>0.515</td>\n",
              "      <td>0.000</td>\n",
              "      <td>0.485</td>\n",
              "    </tr>\n",
              "    <tr>\n",
              "      <th>8041</th>\n",
              "      <td>Bitch ass nigga, be hating on black women... U...</td>\n",
              "      <td>0</td>\n",
              "      <td>66</td>\n",
              "      <td>12</td>\n",
              "      <td>0.000</td>\n",
              "      <td>0.643</td>\n",
              "      <td>0.357</td>\n",
              "    </tr>\n",
              "    <tr>\n",
              "      <th>7548</th>\n",
              "      <td>Al noooo ...... Too late fuckin faggot ! Lmao</td>\n",
              "      <td>0</td>\n",
              "      <td>45</td>\n",
              "      <td>9</td>\n",
              "      <td>0.267</td>\n",
              "      <td>0.322</td>\n",
              "      <td>0.411</td>\n",
              "    </tr>\n",
              "    <tr>\n",
              "      <th>22088</th>\n",
              "      <td>This kid looks like a retard when he tries hid...</td>\n",
              "      <td>0</td>\n",
              "      <td>73</td>\n",
              "      <td>14</td>\n",
              "      <td>0.138</td>\n",
              "      <td>0.309</td>\n",
              "      <td>0.552</td>\n",
              "    </tr>\n",
              "    <tr>\n",
              "      <th>9329</th>\n",
              "      <td>Fucking gook</td>\n",
              "      <td>0</td>\n",
              "      <td>12</td>\n",
              "      <td>2</td>\n",
              "      <td>0.000</td>\n",
              "      <td>0.000</td>\n",
              "      <td>1.000</td>\n",
              "    </tr>\n",
              "    <tr>\n",
              "      <th>19630</th>\n",
              "      <td>RT @markiiejay: You got niggas &amp;amp; i got bit...</td>\n",
              "      <td>0</td>\n",
              "      <td>50</td>\n",
              "      <td>9</td>\n",
              "      <td>0.000</td>\n",
              "      <td>0.512</td>\n",
              "      <td>0.488</td>\n",
              "    </tr>\n",
              "    <tr>\n",
              "      <th>22798</th>\n",
              "      <td>White bus drivers are all white trash. #LosAng...</td>\n",
              "      <td>0</td>\n",
              "      <td>50</td>\n",
              "      <td>8</td>\n",
              "      <td>0.000</td>\n",
              "      <td>0.000</td>\n",
              "      <td>1.000</td>\n",
              "    </tr>\n",
              "    <tr>\n",
              "      <th>24191</th>\n",
              "      <td>looking like a hillbilly and not matching is w...</td>\n",
              "      <td>0</td>\n",
              "      <td>99</td>\n",
              "      <td>15</td>\n",
              "      <td>0.333</td>\n",
              "      <td>0.169</td>\n",
              "      <td>0.498</td>\n",
              "    </tr>\n",
              "    <tr>\n",
              "      <th>4396</th>\n",
              "      <td>@Pecan_B19 @ObeyMy_Realness dryer then them ba...</td>\n",
              "      <td>0</td>\n",
              "      <td>68</td>\n",
              "      <td>11</td>\n",
              "      <td>0.311</td>\n",
              "      <td>0.193</td>\n",
              "      <td>0.497</td>\n",
              "    </tr>\n",
              "    <tr>\n",
              "      <th>18062</th>\n",
              "      <td>RT @WhitesOnly_1: #niggers! http://t.co/Hb3uJa...</td>\n",
              "      <td>0</td>\n",
              "      <td>50</td>\n",
              "      <td>4</td>\n",
              "      <td>0.000</td>\n",
              "      <td>0.000</td>\n",
              "      <td>1.000</td>\n",
              "    </tr>\n",
              "    <tr>\n",
              "      <th>2832</th>\n",
              "      <td>@CheCha__ be gone my nigguh</td>\n",
              "      <td>0</td>\n",
              "      <td>27</td>\n",
              "      <td>5</td>\n",
              "      <td>0.000</td>\n",
              "      <td>0.000</td>\n",
              "      <td>1.000</td>\n",
              "    </tr>\n",
              "    <tr>\n",
              "      <th>4572</th>\n",
              "      <td>@Roscoedash lmao, soft ass nigga trying to act...</td>\n",
              "      <td>0</td>\n",
              "      <td>122</td>\n",
              "      <td>22</td>\n",
              "      <td>0.133</td>\n",
              "      <td>0.289</td>\n",
              "      <td>0.578</td>\n",
              "    </tr>\n",
              "    <tr>\n",
              "      <th>7040</th>\n",
              "      <td>@sizzurp__ @bootyacid @ILIKECATS74 @yoPapi_chu...</td>\n",
              "      <td>0</td>\n",
              "      <td>64</td>\n",
              "      <td>7</td>\n",
              "      <td>0.346</td>\n",
              "      <td>0.339</td>\n",
              "      <td>0.315</td>\n",
              "    </tr>\n",
              "    <tr>\n",
              "      <th>4930</th>\n",
              "      <td>@TheKushZombie Aww y u so mad tho, a successfu...</td>\n",
              "      <td>0</td>\n",
              "      <td>81</td>\n",
              "      <td>15</td>\n",
              "      <td>0.417</td>\n",
              "      <td>0.320</td>\n",
              "      <td>0.263</td>\n",
              "    </tr>\n",
              "    <tr>\n",
              "      <th>16595</th>\n",
              "      <td>RT @NYTMinusContext: kill whitey</td>\n",
              "      <td>0</td>\n",
              "      <td>32</td>\n",
              "      <td>4</td>\n",
              "      <td>0.000</td>\n",
              "      <td>0.610</td>\n",
              "      <td>0.390</td>\n",
              "    </tr>\n",
              "    <tr>\n",
              "      <th>23708</th>\n",
              "      <td>cant trust niggas when it come to bitches</td>\n",
              "      <td>0</td>\n",
              "      <td>41</td>\n",
              "      <td>8</td>\n",
              "      <td>0.149</td>\n",
              "      <td>0.484</td>\n",
              "      <td>0.367</td>\n",
              "    </tr>\n",
              "    <tr>\n",
              "      <th>12587</th>\n",
              "      <td>Lol RT @JayFucknHarris: Youuuuu got niggas but...</td>\n",
              "      <td>0</td>\n",
              "      <td>66</td>\n",
              "      <td>11</td>\n",
              "      <td>0.413</td>\n",
              "      <td>0.115</td>\n",
              "      <td>0.472</td>\n",
              "    </tr>\n",
              "    <tr>\n",
              "      <th>2969</th>\n",
              "      <td>@Darienbaby_xoxo jk I'd fuck a dog before I fu...</td>\n",
              "      <td>0</td>\n",
              "      <td>63</td>\n",
              "      <td>12</td>\n",
              "      <td>0.119</td>\n",
              "      <td>0.440</td>\n",
              "      <td>0.440</td>\n",
              "    </tr>\n",
              "    <tr>\n",
              "      <th>10631</th>\n",
              "      <td>I know righttt RT @dta_87: I hate fat loud bit...</td>\n",
              "      <td>0</td>\n",
              "      <td>50</td>\n",
              "      <td>10</td>\n",
              "      <td>0.000</td>\n",
              "      <td>0.559</td>\n",
              "      <td>0.441</td>\n",
              "    </tr>\n",
              "    <tr>\n",
              "      <th>13722</th>\n",
              "      <td>Oregon losing IN OREGON ahhhahahaha faggots</td>\n",
              "      <td>0</td>\n",
              "      <td>43</td>\n",
              "      <td>6</td>\n",
              "      <td>0.000</td>\n",
              "      <td>0.630</td>\n",
              "      <td>0.370</td>\n",
              "    </tr>\n",
              "    <tr>\n",
              "      <th>4714</th>\n",
              "      <td>@SlimGirl_Probz das calld usen yo brain retard...</td>\n",
              "      <td>0</td>\n",
              "      <td>90</td>\n",
              "      <td>18</td>\n",
              "      <td>0.000</td>\n",
              "      <td>0.347</td>\n",
              "      <td>0.653</td>\n",
              "    </tr>\n",
              "    <tr>\n",
              "      <th>10601</th>\n",
              "      <td>I just wanna slit this mf throat</td>\n",
              "      <td>0</td>\n",
              "      <td>32</td>\n",
              "      <td>7</td>\n",
              "      <td>0.000</td>\n",
              "      <td>0.000</td>\n",
              "      <td>1.000</td>\n",
              "    </tr>\n",
              "    <tr>\n",
              "      <th>4221</th>\n",
              "      <td>@NOT_UR_BRO @niccol3_xo lmao nigga shoulda sai...</td>\n",
              "      <td>0</td>\n",
              "      <td>111</td>\n",
              "      <td>18</td>\n",
              "      <td>0.245</td>\n",
              "      <td>0.161</td>\n",
              "      <td>0.594</td>\n",
              "    </tr>\n",
              "    <tr>\n",
              "      <th>...</th>\n",
              "      <td>...</td>\n",
              "      <td>...</td>\n",
              "      <td>...</td>\n",
              "      <td>...</td>\n",
              "      <td>...</td>\n",
              "      <td>...</td>\n",
              "      <td>...</td>\n",
              "    </tr>\n",
              "    <tr>\n",
              "      <th>22030</th>\n",
              "      <td>This dumb Berk drives in circles through town ...</td>\n",
              "      <td>1</td>\n",
              "      <td>132</td>\n",
              "      <td>18</td>\n",
              "      <td>0.131</td>\n",
              "      <td>0.149</td>\n",
              "      <td>0.721</td>\n",
              "    </tr>\n",
              "    <tr>\n",
              "      <th>2554</th>\n",
              "      <td>@BarbieNixon a moment of silence for the bitch...</td>\n",
              "      <td>1</td>\n",
              "      <td>82</td>\n",
              "      <td>14</td>\n",
              "      <td>0.000</td>\n",
              "      <td>0.241</td>\n",
              "      <td>0.759</td>\n",
              "    </tr>\n",
              "    <tr>\n",
              "      <th>12638</th>\n",
              "      <td>Look at that THOT... pussy popping for usher.</td>\n",
              "      <td>1</td>\n",
              "      <td>45</td>\n",
              "      <td>8</td>\n",
              "      <td>0.000</td>\n",
              "      <td>0.000</td>\n",
              "      <td>1.000</td>\n",
              "    </tr>\n",
              "    <tr>\n",
              "      <th>1330</th>\n",
              "      <td>&amp;#8220;@JalenRose: \"I'm rich......\" (Dave Chap...</td>\n",
              "      <td>1</td>\n",
              "      <td>108</td>\n",
              "      <td>14</td>\n",
              "      <td>0.000</td>\n",
              "      <td>0.226</td>\n",
              "      <td>0.774</td>\n",
              "    </tr>\n",
              "    <tr>\n",
              "      <th>3939</th>\n",
              "      <td>@LittleNamms stick to the court hoe</td>\n",
              "      <td>1</td>\n",
              "      <td>35</td>\n",
              "      <td>6</td>\n",
              "      <td>0.000</td>\n",
              "      <td>0.000</td>\n",
              "      <td>1.000</td>\n",
              "    </tr>\n",
              "    <tr>\n",
              "      <th>21193</th>\n",
              "      <td>Stupid and ain't got hoes #ShmediumProblems</td>\n",
              "      <td>1</td>\n",
              "      <td>43</td>\n",
              "      <td>6</td>\n",
              "      <td>0.000</td>\n",
              "      <td>0.405</td>\n",
              "      <td>0.595</td>\n",
              "    </tr>\n",
              "    <tr>\n",
              "      <th>24212</th>\n",
              "      <td>mickeyblowsyourmind: who wants to be a skype g...</td>\n",
              "      <td>1</td>\n",
              "      <td>131</td>\n",
              "      <td>20</td>\n",
              "      <td>0.000</td>\n",
              "      <td>0.162</td>\n",
              "      <td>0.838</td>\n",
              "    </tr>\n",
              "    <tr>\n",
              "      <th>7649</th>\n",
              "      <td>All theses hoes on me , they so phony &amp;#128534;</td>\n",
              "      <td>1</td>\n",
              "      <td>47</td>\n",
              "      <td>10</td>\n",
              "      <td>0.000</td>\n",
              "      <td>0.000</td>\n",
              "      <td>1.000</td>\n",
              "    </tr>\n",
              "    <tr>\n",
              "      <th>13943</th>\n",
              "      <td>Pussy nicca we ain't friends you ain't gotta @...</td>\n",
              "      <td>1</td>\n",
              "      <td>74</td>\n",
              "      <td>13</td>\n",
              "      <td>0.000</td>\n",
              "      <td>0.206</td>\n",
              "      <td>0.794</td>\n",
              "    </tr>\n",
              "    <tr>\n",
              "      <th>6746</th>\n",
              "      <td>@mza361 I love you and bitches love me.</td>\n",
              "      <td>1</td>\n",
              "      <td>39</td>\n",
              "      <td>8</td>\n",
              "      <td>0.515</td>\n",
              "      <td>0.239</td>\n",
              "      <td>0.245</td>\n",
              "    </tr>\n",
              "    <tr>\n",
              "      <th>5942</th>\n",
              "      <td>@erykadamitio_ @RiRi_Candee why nobody never i...</td>\n",
              "      <td>1</td>\n",
              "      <td>87</td>\n",
              "      <td>13</td>\n",
              "      <td>0.128</td>\n",
              "      <td>0.492</td>\n",
              "      <td>0.380</td>\n",
              "    </tr>\n",
              "    <tr>\n",
              "      <th>20876</th>\n",
              "      <td>Slack jawed yokel husband http://t.co/VE1PWFrz9t</td>\n",
              "      <td>1</td>\n",
              "      <td>48</td>\n",
              "      <td>5</td>\n",
              "      <td>0.000</td>\n",
              "      <td>0.000</td>\n",
              "      <td>1.000</td>\n",
              "    </tr>\n",
              "    <tr>\n",
              "      <th>7394</th>\n",
              "      <td>@zimm16 pussy!!!!!</td>\n",
              "      <td>1</td>\n",
              "      <td>18</td>\n",
              "      <td>2</td>\n",
              "      <td>0.000</td>\n",
              "      <td>0.000</td>\n",
              "      <td>1.000</td>\n",
              "    </tr>\n",
              "    <tr>\n",
              "      <th>18270</th>\n",
              "      <td>RT @_Creamm_: @Victoria_Finae dont mind my ret...</td>\n",
              "      <td>1</td>\n",
              "      <td>64</td>\n",
              "      <td>8</td>\n",
              "      <td>0.300</td>\n",
              "      <td>0.000</td>\n",
              "      <td>0.700</td>\n",
              "    </tr>\n",
              "    <tr>\n",
              "      <th>6450</th>\n",
              "      <td>@kieffer_jason bye bitch</td>\n",
              "      <td>1</td>\n",
              "      <td>24</td>\n",
              "      <td>3</td>\n",
              "      <td>0.000</td>\n",
              "      <td>0.655</td>\n",
              "      <td>0.345</td>\n",
              "    </tr>\n",
              "    <tr>\n",
              "      <th>6212</th>\n",
              "      <td>@jaimescudi_ fucking bitch</td>\n",
              "      <td>1</td>\n",
              "      <td>26</td>\n",
              "      <td>3</td>\n",
              "      <td>0.000</td>\n",
              "      <td>0.672</td>\n",
              "      <td>0.328</td>\n",
              "    </tr>\n",
              "    <tr>\n",
              "      <th>24450</th>\n",
              "      <td>some prude bitch unfollwed me show me ur ugly ...</td>\n",
              "      <td>1</td>\n",
              "      <td>50</td>\n",
              "      <td>10</td>\n",
              "      <td>0.000</td>\n",
              "      <td>0.470</td>\n",
              "      <td>0.530</td>\n",
              "    </tr>\n",
              "    <tr>\n",
              "      <th>13723</th>\n",
              "      <td>Oreo Ice Cream Sandwich http://t.co/RM0KsY99Bc\"</td>\n",
              "      <td>1</td>\n",
              "      <td>47</td>\n",
              "      <td>5</td>\n",
              "      <td>0.000</td>\n",
              "      <td>0.000</td>\n",
              "      <td>1.000</td>\n",
              "    </tr>\n",
              "    <tr>\n",
              "      <th>21408</th>\n",
              "      <td>That nig was a G on that E60 I would have done...</td>\n",
              "      <td>1</td>\n",
              "      <td>61</td>\n",
              "      <td>15</td>\n",
              "      <td>0.000</td>\n",
              "      <td>0.000</td>\n",
              "      <td>1.000</td>\n",
              "    </tr>\n",
              "    <tr>\n",
              "      <th>22256</th>\n",
              "      <td>Translation for the slow he out saving hoes 1 ...</td>\n",
              "      <td>1</td>\n",
              "      <td>127</td>\n",
              "      <td>18</td>\n",
              "      <td>0.000</td>\n",
              "      <td>0.000</td>\n",
              "      <td>1.000</td>\n",
              "    </tr>\n",
              "    <tr>\n",
              "      <th>743</th>\n",
              "      <td>#Natitude? Okay. I'm only going to say it once...</td>\n",
              "      <td>1</td>\n",
              "      <td>78</td>\n",
              "      <td>14</td>\n",
              "      <td>0.128</td>\n",
              "      <td>0.000</td>\n",
              "      <td>0.872</td>\n",
              "    </tr>\n",
              "    <tr>\n",
              "      <th>13079</th>\n",
              "      <td>My mom told me never use the word cunt... ITS ...</td>\n",
              "      <td>1</td>\n",
              "      <td>140</td>\n",
              "      <td>28</td>\n",
              "      <td>0.058</td>\n",
              "      <td>0.756</td>\n",
              "      <td>0.186</td>\n",
              "    </tr>\n",
              "    <tr>\n",
              "      <th>20296</th>\n",
              "      <td>RT @vodkapapixo: \"@Weed_Cloudz: \"6 God\" by Dra...</td>\n",
              "      <td>1</td>\n",
              "      <td>68</td>\n",
              "      <td>11</td>\n",
              "      <td>0.338</td>\n",
              "      <td>0.000</td>\n",
              "      <td>0.662</td>\n",
              "    </tr>\n",
              "    <tr>\n",
              "      <th>18506</th>\n",
              "      <td>RT @_xchaazelle: most of the bitches he fw not...</td>\n",
              "      <td>1</td>\n",
              "      <td>119</td>\n",
              "      <td>21</td>\n",
              "      <td>0.000</td>\n",
              "      <td>0.180</td>\n",
              "      <td>0.820</td>\n",
              "    </tr>\n",
              "    <tr>\n",
              "      <th>9414</th>\n",
              "      <td>Get your weak ass juco highlights off twitter hoe</td>\n",
              "      <td>1</td>\n",
              "      <td>49</td>\n",
              "      <td>9</td>\n",
              "      <td>0.000</td>\n",
              "      <td>0.478</td>\n",
              "      <td>0.522</td>\n",
              "    </tr>\n",
              "    <tr>\n",
              "      <th>14111</th>\n",
              "      <td>RT @AdamWeinstein: Working theory: This \"selec...</td>\n",
              "      <td>1</td>\n",
              "      <td>140</td>\n",
              "      <td>23</td>\n",
              "      <td>0.050</td>\n",
              "      <td>0.139</td>\n",
              "      <td>0.811</td>\n",
              "    </tr>\n",
              "    <tr>\n",
              "      <th>258</th>\n",
              "      <td>\"@The_Realist_Sam: @Madrid2_ yea, I'm on my iP...</td>\n",
              "      <td>1</td>\n",
              "      <td>129</td>\n",
              "      <td>20</td>\n",
              "      <td>0.000</td>\n",
              "      <td>0.226</td>\n",
              "      <td>0.774</td>\n",
              "    </tr>\n",
              "    <tr>\n",
              "      <th>6790</th>\n",
              "      <td>@obamac0re I don't like it peaceful that's bor...</td>\n",
              "      <td>1</td>\n",
              "      <td>139</td>\n",
              "      <td>27</td>\n",
              "      <td>0.000</td>\n",
              "      <td>0.407</td>\n",
              "      <td>0.593</td>\n",
              "    </tr>\n",
              "    <tr>\n",
              "      <th>15251</th>\n",
              "      <td>RT @FriendlyAssh0le: It's annoying as hell whe...</td>\n",
              "      <td>1</td>\n",
              "      <td>146</td>\n",
              "      <td>24</td>\n",
              "      <td>0.170</td>\n",
              "      <td>0.313</td>\n",
              "      <td>0.517</td>\n",
              "    </tr>\n",
              "    <tr>\n",
              "      <th>3067</th>\n",
              "      <td>@Dre_Day200 bitch</td>\n",
              "      <td>1</td>\n",
              "      <td>17</td>\n",
              "      <td>2</td>\n",
              "      <td>0.000</td>\n",
              "      <td>0.792</td>\n",
              "      <td>0.208</td>\n",
              "    </tr>\n",
              "  </tbody>\n",
              "</table>\n",
              "<p>2430 rows × 7 columns</p>\n",
              "</div>"
            ],
            "text/plain": [
              "                                                   tweet  class  len  \\\n",
              "16489  RT @Mitchellharri: Dont be a faggot, cover you...      0  128   \n",
              "24091  ion speak on how flaw niggas and thirsty hoes ...      0  100   \n",
              "15093  RT @EarlyLegend: I don't fuck with these hoes ...      0  101   \n",
              "21578  The leftist/homosexual war on the #Catholic ch...      0  134   \n",
              "10083  I bet you think you a no-chill savage huh. Fuc...      0   68   \n",
              "3869     @L1LTR4P fucking losers wetbacks #SorryNotSorry      0   47   \n",
              "7674   Almost got to see a white boy get beat around ...      0   77   \n",
              "3310   @GrizzboAdams @wyattnuckels haha ight nig calm...      0   53   \n",
              "8041   Bitch ass nigga, be hating on black women... U...      0   66   \n",
              "7548       Al noooo ...... Too late fuckin faggot ! Lmao      0   45   \n",
              "22088  This kid looks like a retard when he tries hid...      0   73   \n",
              "9329                                        Fucking gook      0   12   \n",
              "19630  RT @markiiejay: You got niggas &amp; i got bit...      0   50   \n",
              "22798  White bus drivers are all white trash. #LosAng...      0   50   \n",
              "24191  looking like a hillbilly and not matching is w...      0   99   \n",
              "4396   @Pecan_B19 @ObeyMy_Realness dryer then them ba...      0   68   \n",
              "18062  RT @WhitesOnly_1: #niggers! http://t.co/Hb3uJa...      0   50   \n",
              "2832                         @CheCha__ be gone my nigguh      0   27   \n",
              "4572   @Roscoedash lmao, soft ass nigga trying to act...      0  122   \n",
              "7040   @sizzurp__ @bootyacid @ILIKECATS74 @yoPapi_chu...      0   64   \n",
              "4930   @TheKushZombie Aww y u so mad tho, a successfu...      0   81   \n",
              "16595                   RT @NYTMinusContext: kill whitey      0   32   \n",
              "23708          cant trust niggas when it come to bitches      0   41   \n",
              "12587  Lol RT @JayFucknHarris: Youuuuu got niggas but...      0   66   \n",
              "2969   @Darienbaby_xoxo jk I'd fuck a dog before I fu...      0   63   \n",
              "10631  I know righttt RT @dta_87: I hate fat loud bit...      0   50   \n",
              "13722        Oregon losing IN OREGON ahhhahahaha faggots      0   43   \n",
              "4714   @SlimGirl_Probz das calld usen yo brain retard...      0   90   \n",
              "10601                   I just wanna slit this mf throat      0   32   \n",
              "4221   @NOT_UR_BRO @niccol3_xo lmao nigga shoulda sai...      0  111   \n",
              "...                                                  ...    ...  ...   \n",
              "22030  This dumb Berk drives in circles through town ...      1  132   \n",
              "2554   @BarbieNixon a moment of silence for the bitch...      1   82   \n",
              "12638      Look at that THOT... pussy popping for usher.      1   45   \n",
              "1330   &#8220;@JalenRose: \"I'm rich......\" (Dave Chap...      1  108   \n",
              "3939                 @LittleNamms stick to the court hoe      1   35   \n",
              "21193        Stupid and ain't got hoes #ShmediumProblems      1   43   \n",
              "24212  mickeyblowsyourmind: who wants to be a skype g...      1  131   \n",
              "7649     All theses hoes on me , they so phony &#128534;      1   47   \n",
              "13943  Pussy nicca we ain't friends you ain't gotta @...      1   74   \n",
              "6746             @mza361 I love you and bitches love me.      1   39   \n",
              "5942   @erykadamitio_ @RiRi_Candee why nobody never i...      1   87   \n",
              "20876   Slack jawed yokel husband http://t.co/VE1PWFrz9t      1   48   \n",
              "7394                                  @zimm16 pussy!!!!!      1   18   \n",
              "18270  RT @_Creamm_: @Victoria_Finae dont mind my ret...      1   64   \n",
              "6450                            @kieffer_jason bye bitch      1   24   \n",
              "6212                          @jaimescudi_ fucking bitch      1   26   \n",
              "24450  some prude bitch unfollwed me show me ur ugly ...      1   50   \n",
              "13723    Oreo Ice Cream Sandwich http://t.co/RM0KsY99Bc\"      1   47   \n",
              "21408  That nig was a G on that E60 I would have done...      1   61   \n",
              "22256  Translation for the slow he out saving hoes 1 ...      1  127   \n",
              "743    #Natitude? Okay. I'm only going to say it once...      1   78   \n",
              "13079  My mom told me never use the word cunt... ITS ...      1  140   \n",
              "20296  RT @vodkapapixo: \"@Weed_Cloudz: \"6 God\" by Dra...      1   68   \n",
              "18506  RT @_xchaazelle: most of the bitches he fw not...      1  119   \n",
              "9414   Get your weak ass juco highlights off twitter hoe      1   49   \n",
              "14111  RT @AdamWeinstein: Working theory: This \"selec...      1  140   \n",
              "258    \"@The_Realist_Sam: @Madrid2_ yea, I'm on my iP...      1  129   \n",
              "6790   @obamac0re I don't like it peaceful that's bor...      1  139   \n",
              "15251  RT @FriendlyAssh0le: It's annoying as hell whe...      1  146   \n",
              "3067                                   @Dre_Day200 bitch      1   17   \n",
              "\n",
              "       word_count    pos    neg    neu  \n",
              "16489          24  0.334  0.000  0.666  \n",
              "24091          18  0.000  0.091  0.909  \n",
              "15093          18  0.373  0.000  0.627  \n",
              "21578          20  0.000  0.170  0.830  \n",
              "10083          12  0.000  0.490  0.510  \n",
              "3869            5  0.000  0.480  0.520  \n",
              "7674           17  0.152  0.242  0.606  \n",
              "3310            7  0.515  0.000  0.485  \n",
              "8041           12  0.000  0.643  0.357  \n",
              "7548            9  0.267  0.322  0.411  \n",
              "22088          14  0.138  0.309  0.552  \n",
              "9329            2  0.000  0.000  1.000  \n",
              "19630           9  0.000  0.512  0.488  \n",
              "22798           8  0.000  0.000  1.000  \n",
              "24191          15  0.333  0.169  0.498  \n",
              "4396           11  0.311  0.193  0.497  \n",
              "18062           4  0.000  0.000  1.000  \n",
              "2832            5  0.000  0.000  1.000  \n",
              "4572           22  0.133  0.289  0.578  \n",
              "7040            7  0.346  0.339  0.315  \n",
              "4930           15  0.417  0.320  0.263  \n",
              "16595           4  0.000  0.610  0.390  \n",
              "23708           8  0.149  0.484  0.367  \n",
              "12587          11  0.413  0.115  0.472  \n",
              "2969           12  0.119  0.440  0.440  \n",
              "10631          10  0.000  0.559  0.441  \n",
              "13722           6  0.000  0.630  0.370  \n",
              "4714           18  0.000  0.347  0.653  \n",
              "10601           7  0.000  0.000  1.000  \n",
              "4221           18  0.245  0.161  0.594  \n",
              "...           ...    ...    ...    ...  \n",
              "22030          18  0.131  0.149  0.721  \n",
              "2554           14  0.000  0.241  0.759  \n",
              "12638           8  0.000  0.000  1.000  \n",
              "1330           14  0.000  0.226  0.774  \n",
              "3939            6  0.000  0.000  1.000  \n",
              "21193           6  0.000  0.405  0.595  \n",
              "24212          20  0.000  0.162  0.838  \n",
              "7649           10  0.000  0.000  1.000  \n",
              "13943          13  0.000  0.206  0.794  \n",
              "6746            8  0.515  0.239  0.245  \n",
              "5942           13  0.128  0.492  0.380  \n",
              "20876           5  0.000  0.000  1.000  \n",
              "7394            2  0.000  0.000  1.000  \n",
              "18270           8  0.300  0.000  0.700  \n",
              "6450            3  0.000  0.655  0.345  \n",
              "6212            3  0.000  0.672  0.328  \n",
              "24450          10  0.000  0.470  0.530  \n",
              "13723           5  0.000  0.000  1.000  \n",
              "21408          15  0.000  0.000  1.000  \n",
              "22256          18  0.000  0.000  1.000  \n",
              "743            14  0.128  0.000  0.872  \n",
              "13079          28  0.058  0.756  0.186  \n",
              "20296          11  0.338  0.000  0.662  \n",
              "18506          21  0.000  0.180  0.820  \n",
              "9414            9  0.000  0.478  0.522  \n",
              "14111          23  0.050  0.139  0.811  \n",
              "258            20  0.000  0.226  0.774  \n",
              "6790           27  0.000  0.407  0.593  \n",
              "15251          24  0.170  0.313  0.517  \n",
              "3067            2  0.000  0.792  0.208  \n",
              "\n",
              "[2430 rows x 7 columns]"
            ]
          },
          "metadata": {
            "tags": []
          },
          "execution_count": 76
        }
      ]
    },
    {
      "cell_type": "code",
      "metadata": {
        "id": "Og5xDNsCPOo7",
        "colab_type": "code",
        "outputId": "6cb5a0b4-004c-49b7-b3ce-01b7bb98c9cf",
        "colab": {
          "base_uri": "https://localhost:8080/",
          "height": 299
        }
      },
      "source": [
        "df_train['pos'].plot(\n",
        "    kind='hist',\n",
        "    bins=50,\n",
        "#     xTitle='polarity',\n",
        "#     linecolor='black',\n",
        "#     yTitle='count',\n",
        "    title='Sentiment Polarity Distribution')"
      ],
      "execution_count": 77,
      "outputs": [
        {
          "output_type": "execute_result",
          "data": {
            "text/plain": [
              "<matplotlib.axes._subplots.AxesSubplot at 0x7f3dd06f31d0>"
            ]
          },
          "metadata": {
            "tags": []
          },
          "execution_count": 77
        },
        {
          "output_type": "display_data",
          "data": {
            "image/png": "[encoded data removed]",
            "text/plain": [
              "<Figure size 432x288 with 1 Axes>"
            ]
          },
          "metadata": {
            "tags": []
          }
        }
      ]
    },
    {
      "cell_type": "code",
      "metadata": {
        "id": "N7VfGn9XNrve",
        "colab_type": "code",
        "outputId": "a96fc45a-200c-452d-ca10-b5f4d88f57d9",
        "colab": {
          "base_uri": "https://localhost:8080/",
          "height": 356
        }
      },
      "source": [
        "import matplotlib.pyplot as plt \n",
        "plt.hist(df_train[\"pos\"]) \n",
        "    \n",
        "  "
      ],
      "execution_count": 78,
      "outputs": [
        {
          "output_type": "execute_result",
          "data": {
            "text/plain": [
              "(array([1431.,  332.,  306.,  178.,  101.,   44.,   20.,   12.,    4.,\n",
              "           2.]),\n",
              " array([0.    , 0.0733, 0.1466, 0.2199, 0.2932, 0.3665, 0.4398, 0.5131,\n",
              "        0.5864, 0.6597, 0.733 ]),\n",
              " <a list of 10 Patch objects>)"
            ]
          },
          "metadata": {
            "tags": []
          },
          "execution_count": 78
        },
        {
          "output_type": "display_data",
          "data": {
            "image/png": "[encoded data removed]",
            "text/plain": [
              "<Figure size 432x288 with 1 Axes>"
            ]
          },
          "metadata": {
            "tags": []
          }
        }
      ]
    },
    {
      "cell_type": "code",
      "metadata": {
        "id": "R7AKAvnhQsE_",
        "colab_type": "code",
        "outputId": "b1bd078c-8923-4160-e79b-2c31888f6402",
        "colab": {
          "base_uri": "https://localhost:8080/",
          "height": 269
        }
      },
      "source": [
        "import matplotlib.pyplot as plt \n",
        "\n",
        "plt.hist(df_train.loc[df_train['class'] == 0][\"neg\"]) \n",
        "plt.hist(df_train.loc[df_train['class'] == 1][\"neg\"]) \n",
        "plt.show()"
      ],
      "execution_count": 79,
      "outputs": [
        {
          "output_type": "display_data",
          "data": {
            "image/png": "[encoded data removed]",
            "text/plain": [
              "<Figure size 432x288 with 1 Axes>"
            ]
          },
          "metadata": {
            "tags": []
          }
        }
      ]
    },
    {
      "cell_type": "code",
      "metadata": {
        "id": "bAGcXoLkTRRV",
        "colab_type": "code",
        "outputId": "5af93dd2-d7f6-4fae-e1b9-b66bdc7d50a5",
        "colab": {
          "base_uri": "https://localhost:8080/",
          "height": 271
        }
      },
      "source": [
        "plt.hist(df_train.loc[df_train['class'] == 0][\"pos\"], alpha=0.5) \n",
        "plt.hist(df_train.loc[df_train['class'] == 1][\"pos\"],alpha=0.5) \n",
        "plt.show()"
      ],
      "execution_count": 80,
      "outputs": [
        {
          "output_type": "display_data",
          "data": {
            "image/png": "[encoded data removed]",
            "text/plain": [
              "<Figure size 432x288 with 1 Axes>"
            ]
          },
          "metadata": {
            "tags": []
          }
        }
      ]
    },
    {
      "cell_type": "code",
      "metadata": {
        "id": "BhVjTEGCTkZr",
        "colab_type": "code",
        "outputId": "be562e7f-d400-4b06-b3e8-4443565c6f1c",
        "colab": {
          "base_uri": "https://localhost:8080/",
          "height": 339
        }
      },
      "source": [
        "plt.hist(df_train['class']) "
      ],
      "execution_count": 81,
      "outputs": [
        {
          "output_type": "execute_result",
          "data": {
            "text/plain": [
              "(array([1430.,    0.,    0.,    0.,    0.,    0.,    0.,    0.,    0.,\n",
              "        1000.]),\n",
              " array([0. , 0.1, 0.2, 0.3, 0.4, 0.5, 0.6, 0.7, 0.8, 0.9, 1. ]),\n",
              " <a list of 10 Patch objects>)"
            ]
          },
          "metadata": {
            "tags": []
          },
          "execution_count": 81
        },
        {
          "output_type": "display_data",
          "data": {
            "image/png": "[encoded data removed]",
            "text/plain": [
              "<Figure size 432x288 with 1 Axes>"
            ]
          },
          "metadata": {
            "tags": []
          }
        }
      ]
    },
    {
      "cell_type": "code",
      "metadata": {
        "id": "jVah1mR_RhCe",
        "colab_type": "code",
        "outputId": "0bbe59cd-4b51-481d-9344-a94ebfe6a19c",
        "colab": {
          "base_uri": "https://localhost:8080/",
          "height": 269
        }
      },
      "source": [
        "plt.hist(df_train.loc[df_train['class'] == 1][\"len\"],alpha=0.7) \n",
        "plt.hist(df_train.loc[df_train['class'] == 0][\"len\"],alpha=0.5) \n",
        "plt.show()"
      ],
      "execution_count": 83,
      "outputs": [
        {
          "output_type": "display_data",
          "data": {
            "image/png": "[encoded data removed]",
            "text/plain": [
              "<Figure size 432x288 with 1 Axes>"
            ]
          },
          "metadata": {
            "tags": []
          }
        }
      ]
    },
    {
      "cell_type": "code",
      "metadata": {
        "id": "4BHHDkviU-5X",
        "colab_type": "code",
        "colab": {}
      },
      "source": [
        "def get_top_n_words(corpus, n=None):\n",
        "    vec = CountVectorizer().fit(corpus)\n",
        "    bag_of_words = vec.transform(corpus)\n",
        "    sum_words = bag_of_words.sum(axis=0) \n",
        "    words_freq = [(word, sum_words[0, idx]) for word, idx in vec.vocabulary_.items()]\n",
        "    words_freq =sorted(words_freq, key = lambda x: x[1], reverse=True)\n",
        "    return words_freq[:n]\n",
        "\n"
      ],
      "execution_count": 0,
      "outputs": []
    },
    {
      "cell_type": "code",
      "metadata": {
        "id": "xXmHTgC9foXA",
        "colab_type": "code",
        "outputId": "8db4dfd7-4c63-467a-a97d-d39d42962d11",
        "colab": {
          "base_uri": "https://localhost:8080/",
          "height": 687
        }
      },
      "source": [
        "temp_df=df_train.loc[df_train['class'] == 1][\"tweet\"]\n",
        "common_words = get_top_n_words(temp_df, 20)\n",
        "for word, freq in common_words:\n",
        "    print(word, freq)  \n",
        "df1 = pd.DataFrame(common_words, columns = ['tweet' , 'count'])\n",
        "df1.groupby('tweet').sum()['count'].sort_values(ascending=False).plot(\n",
        "    kind='bar', title='Top 20 words in review before removing stop words')\n"
      ],
      "execution_count": 85,
      "outputs": [
        {
          "output_type": "stream",
          "text": [
            "bitch 346\n",
            "rt 333\n",
            "the 309\n",
            "you 260\n",
            "to 242\n",
            "and 172\n",
            "that 159\n",
            "my 156\n",
            "bitches 132\n",
            "in 126\n",
            "is 122\n",
            "co 119\n",
            "http 115\n",
            "of 113\n",
            "on 110\n",
            "it 106\n",
            "hoes 104\n",
            "me 103\n",
            "for 102\n",
            "128514 101\n"
          ],
          "name": "stdout"
        },
        {
          "output_type": "execute_result",
          "data": {
            "text/plain": [
              "<matplotlib.axes._subplots.AxesSubplot at 0x7f3dccfcadd8>"
            ]
          },
          "metadata": {
            "tags": []
          },
          "execution_count": 85
        },
        {
          "output_type": "display_data",
          "data": {
            "image/png": "[encoded data removed]",
            "text/plain": [
              "<Figure size 432x288 with 1 Axes>"
            ]
          },
          "metadata": {
            "tags": []
          }
        }
      ]
    },
    {
      "cell_type": "code",
      "metadata": {
        "id": "2uk5jFbdWf97",
        "colab_type": "code",
        "outputId": "63c34b2b-8e83-4d91-d3dd-ab2f7db52be2",
        "colab": {
          "base_uri": "https://localhost:8080/",
          "height": 683
        }
      },
      "source": [
        "temp_df=df_train.loc[df_train['class'] == 0][\"tweet\"]\n",
        "common_words = get_top_n_words(temp_df, 20)\n",
        "for word, freq in common_words:\n",
        "    print(word, freq)  \n",
        "df1 = pd.DataFrame(common_words, columns = ['tweet' , 'count'])\n",
        "df1.groupby('tweet').sum()['count'].sort_values(ascending=False).plot(\n",
        "    kind='bar', title='Top 20 words in review before removing stop words')\n"
      ],
      "execution_count": 86,
      "outputs": [
        {
          "output_type": "stream",
          "text": [
            "you 505\n",
            "the 388\n",
            "rt 328\n",
            "to 323\n",
            "and 234\n",
            "bitch 209\n",
            "is 205\n",
            "that 196\n",
            "faggot 191\n",
            "like 169\n",
            "in 163\n",
            "of 153\n",
            "my 145\n",
            "nigga 140\n",
            "ass 138\n",
            "be 131\n",
            "white 127\n",
            "me 127\n",
            "all 126\n",
            "co 126\n"
          ],
          "name": "stdout"
        },
        {
          "output_type": "execute_result",
          "data": {
            "text/plain": [
              "<matplotlib.axes._subplots.AxesSubplot at 0x7f3dd14deb00>"
            ]
          },
          "metadata": {
            "tags": []
          },
          "execution_count": 86
        },
        {
          "output_type": "display_data",
          "data": {
            "image/png": "[encoded data removed]",
            "text/plain": [
              "<Figure size 432x288 with 1 Axes>"
            ]
          },
          "metadata": {
            "tags": []
          }
        }
      ]
    },
    {
      "cell_type": "code",
      "metadata": {
        "id": "dN_36OFDVi9Q",
        "colab_type": "code",
        "colab": {}
      },
      "source": [
        "def get_top_n_words(corpus, n=None):\n",
        "    vec = CountVectorizer(stop_words = 'english').fit(corpus)\n",
        "    bag_of_words = vec.transform(corpus)\n",
        "    sum_words = bag_of_words.sum(axis=0) \n",
        "    words_freq = [(word, sum_words[0, idx]) for word, idx in vec.vocabulary_.items()]\n",
        "    words_freq =sorted(words_freq, key = lambda x: x[1], reverse=True)\n",
        "    return words_freq[:n]\n"
      ],
      "execution_count": 0,
      "outputs": []
    },
    {
      "cell_type": "code",
      "metadata": {
        "id": "Z-0OOvp2fwiW",
        "colab_type": "code",
        "outputId": "4eaa1705-5842-4ee1-d505-504f6be1b734",
        "colab": {
          "base_uri": "https://localhost:8080/",
          "height": 687
        }
      },
      "source": [
        "temp_df=df_train.loc[df_train['class'] == 0][\"tweet\"]\n",
        "common_words = get_top_n_words(temp_df, 20)\n",
        "for word, freq in common_words:\n",
        "    print(word, freq)  \n",
        "df1 = pd.DataFrame(common_words, columns = ['tweet' , 'count'])\n",
        "df1.groupby('tweet').sum()['count'].sort_values(ascending=False).plot(\n",
        "    kind='bar', title='Top 20 words in review before removing stop words')\n"
      ],
      "execution_count": 88,
      "outputs": [
        {
          "output_type": "stream",
          "text": [
            "rt 328\n",
            "bitch 209\n",
            "faggot 191\n",
            "like 169\n",
            "nigga 140\n",
            "ass 138\n",
            "white 127\n",
            "fuck 121\n",
            "http 117\n",
            "trash 113\n",
            "nigger 112\n",
            "128514 96\n",
            "fucking 95\n",
            "don 77\n",
            "niggas 76\n",
            "fag 76\n",
            "just 75\n",
            "8221 66\n",
            "8220 64\n",
            "faggots 62\n"
          ],
          "name": "stdout"
        },
        {
          "output_type": "execute_result",
          "data": {
            "text/plain": [
              "<matplotlib.axes._subplots.AxesSubplot at 0x7f3dcfc88a90>"
            ]
          },
          "metadata": {
            "tags": []
          },
          "execution_count": 88
        },
        {
          "output_type": "display_data",
          "data": {
            "image/png": "[encoded data removed]",
            "text/plain": [
              "<Figure size 432x288 with 1 Axes>"
            ]
          },
          "metadata": {
            "tags": []
          }
        }
      ]
    },
    {
      "cell_type": "code",
      "metadata": {
        "id": "Wy6pciWLV5-s",
        "colab_type": "code",
        "outputId": "5d88c570-bed4-4159-d349-839f2660550a",
        "colab": {
          "base_uri": "https://localhost:8080/",
          "height": 687
        }
      },
      "source": [
        "temp_df=df_train.loc[df_train['class'] == 1][\"tweet\"]\n",
        "common_words = get_top_n_words(temp_df, 20)\n",
        "for word, freq in common_words:\n",
        "    print(word, freq)  \n",
        "df1 = pd.DataFrame(common_words, columns = ['tweet' , 'count'])\n",
        "df1.groupby('tweet').sum()['count'].sort_values(ascending=False).plot(\n",
        "    kind='bar', title='Top 20 words in review before removing stop words')\n"
      ],
      "execution_count": 89,
      "outputs": [
        {
          "output_type": "stream",
          "text": [
            "bitch 346\n",
            "rt 333\n",
            "bitches 132\n",
            "http 115\n",
            "hoes 104\n",
            "128514 101\n",
            "like 98\n",
            "hoe 84\n",
            "pussy 79\n",
            "got 70\n",
            "8220 66\n",
            "ass 64\n",
            "don 64\n",
            "128175 64\n",
            "just 62\n",
            "fuck 62\n",
            "8221 62\n",
            "8230 60\n",
            "shit 55\n",
            "amp 48\n"
          ],
          "name": "stdout"
        },
        {
          "output_type": "execute_result",
          "data": {
            "text/plain": [
              "<matplotlib.axes._subplots.AxesSubplot at 0x7f3dd094dc18>"
            ]
          },
          "metadata": {
            "tags": []
          },
          "execution_count": 89
        },
        {
          "output_type": "display_data",
          "data": {
            "image/png": "[encoded data removed]",
            "text/plain": [
              "<Figure size 432x288 with 1 Axes>"
            ]
          },
          "metadata": {
            "tags": []
          }
        }
      ]
    },
    {
      "cell_type": "markdown",
      "metadata": {
        "id": "4m4cyzbPW_u6",
        "colab_type": "text"
      },
      "source": [
        "##Bigrams"
      ]
    },
    {
      "cell_type": "code",
      "metadata": {
        "id": "C68DR809XARu",
        "colab_type": "code",
        "colab": {}
      },
      "source": [
        "def get_top_n_words(corpus, n=None):\n",
        "    vec = CountVectorizer(ngram_range=(2, 2), stop_words = 'english').fit(corpus)\n",
        "    bag_of_words = vec.transform(corpus)\n",
        "    sum_words = bag_of_words.sum(axis=0) \n",
        "    words_freq = [(word, sum_words[0, idx]) for word, idx in vec.vocabulary_.items()]\n",
        "    words_freq =sorted(words_freq, key = lambda x: x[1], reverse=True)\n",
        "    return words_freq[:n]"
      ],
      "execution_count": 0,
      "outputs": []
    },
    {
      "cell_type": "code",
      "metadata": {
        "id": "hV7_duD6XGDI",
        "colab_type": "code",
        "outputId": "996e7985-66ac-439f-9afc-8c9a467a5649",
        "colab": {
          "base_uri": "https://localhost:8080/",
          "height": 729
        }
      },
      "source": [
        "temp_df=df_train.loc[df_train['class'] == 0][\"tweet\"]\n",
        "common_words = get_top_n_words(temp_df, 20)\n",
        "for word, freq in common_words:\n",
        "    print(word, freq)  \n",
        "df1 = pd.DataFrame(common_words, columns = ['tweet' , 'count'])\n",
        "df1.groupby('tweet').sum()['count'].sort_values(ascending=False).plot(\n",
        "    kind='bar', title='Top 20 words in review before removing stop words')\n"
      ],
      "execution_count": 91,
      "outputs": [
        {
          "output_type": "stream",
          "text": [
            "white trash 62\n",
            "128514 128514 49\n",
            "ass nigga 23\n",
            "look like 17\n",
            "bitch ass 15\n",
            "fucking faggot 11\n",
            "faggot ass 10\n",
            "bitch nigga 10\n",
            "looks like 9\n",
            "white people 8\n",
            "nigga bitch 8\n",
            "ass niggas 8\n",
            "fuck bitch 8\n",
            "don like 8\n",
            "happy birthday 8\n",
            "like bitch 7\n",
            "128514 128557 7\n",
            "just like 7\n",
            "black people 7\n",
            "http 8230 7\n"
          ],
          "name": "stdout"
        },
        {
          "output_type": "execute_result",
          "data": {
            "text/plain": [
              "<matplotlib.axes._subplots.AxesSubplot at 0x7f3dcfd22518>"
            ]
          },
          "metadata": {
            "tags": []
          },
          "execution_count": 91
        },
        {
          "output_type": "display_data",
          "data": {
            "image/png": "[encoded data removed]",
            "text/plain": [
              "<Figure size 432x288 with 1 Axes>"
            ]
          },
          "metadata": {
            "tags": []
          }
        }
      ]
    },
    {
      "cell_type": "code",
      "metadata": {
        "id": "AyhZ0NypZ2it",
        "colab_type": "code",
        "outputId": "a522a731-76a6-45f9-dda0-b61a5ab3df42",
        "colab": {
          "base_uri": "https://localhost:8080/",
          "height": 729
        }
      },
      "source": [
        "temp_df=df_train.loc[df_train['class'] == 1][\"tweet\"]\n",
        "common_words = get_top_n_words(temp_df, 20)\n",
        "for word, freq in common_words:\n",
        "    print(word, freq)  \n",
        "df1 = pd.DataFrame(common_words, columns = ['tweet' , 'count'])\n",
        "df1.groupby('tweet').sum()['count'].sort_values(ascending=False).plot(\n",
        "    kind='bar', title='Top 20 words in review before removing stop words')\n"
      ],
      "execution_count": 92,
      "outputs": [
        {
          "output_type": "stream",
          "text": [
            "128175 128175 57\n",
            "128514 128514 49\n",
            "12288 12288 35\n",
            "cunt cunt 14\n",
            "bitch ass 11\n",
            "fuck bitch 10\n",
            "look like 9\n",
            "ass bitch 8\n",
            "like bitch 8\n",
            "bad bitches 8\n",
            "yo bitch 7\n",
            "bitch lol 7\n",
            "eat pussy 7\n",
            "bad bitch 7\n",
            "bitch got 7\n",
            "bitch just 6\n",
            "hoes ain 6\n",
            "bitch bitch 6\n",
            "128514 128557 6\n",
            "http 8230 6\n"
          ],
          "name": "stdout"
        },
        {
          "output_type": "execute_result",
          "data": {
            "text/plain": [
              "<matplotlib.axes._subplots.AxesSubplot at 0x7f3dcfcc84a8>"
            ]
          },
          "metadata": {
            "tags": []
          },
          "execution_count": 92
        },
        {
          "output_type": "display_data",
          "data": {
            "image/png": "[encoded data removed]",
            "text/plain": [
              "<Figure size 432x288 with 1 Axes>"
            ]
          },
          "metadata": {
            "tags": []
          }
        }
      ]
    },
    {
      "cell_type": "code",
      "metadata": {
        "id": "F4c9yK5aXJtJ",
        "colab_type": "code",
        "colab": {}
      },
      "source": [
        ""
      ],
      "execution_count": 0,
      "outputs": []
    },
    {
      "cell_type": "markdown",
      "metadata": {
        "id": "XhpgIkVFXaUd",
        "colab_type": "text"
      },
      "source": [
        "#Trigrams"
      ]
    },
    {
      "cell_type": "code",
      "metadata": {
        "id": "2SnF90HbXbQF",
        "colab_type": "code",
        "colab": {}
      },
      "source": [
        "def get_top_n_words(corpus, n=None):\n",
        "    vec = CountVectorizer(ngram_range=(3, 3), stop_words = 'english').fit(corpus)\n",
        "    bag_of_words = vec.transform(corpus)\n",
        "    sum_words = bag_of_words.sum(axis=0) \n",
        "    words_freq = [(word, sum_words[0, idx]) for word, idx in vec.vocabulary_.items()]\n",
        "    words_freq =sorted(words_freq, key = lambda x: x[1], reverse=True)\n",
        "    return words_freq[:n]\n",
        "\n",
        "\n",
        "  "
      ],
      "execution_count": 0,
      "outputs": []
    },
    {
      "cell_type": "code",
      "metadata": {
        "id": "U8lYGC4KXeBK",
        "colab_type": "code",
        "outputId": "144b8bea-92e5-4bf9-f98f-ade69a960868",
        "colab": {
          "base_uri": "https://localhost:8080/",
          "height": 825
        }
      },
      "source": [
        "temp_df=df_train.loc[df_train['class'] == 0][\"tweet\"]\n",
        "common_words = get_top_n_words(temp_df, 20)\n",
        "for word, freq in common_words:\n",
        "    print(word, freq)  \n",
        "df1 = pd.DataFrame(common_words, columns = ['tweet' , 'count'])\n",
        "df1.groupby('tweet').sum()['count'].sort_values(ascending=False).plot(\n",
        "    kind='bar', title='Top 20 words in review before removing stop words')\n"
      ],
      "execution_count": 94,
      "outputs": [
        {
          "output_type": "stream",
          "text": [
            "128514 128514 128514 23\n",
            "bitch ass nigga 7\n",
            "nigga nigga nigga 4\n",
            "got niggas amp 3\n",
            "uncle tom ass 3\n",
            "creepy ass cracker 3\n",
            "pussy ass nigga 3\n",
            "da colored folk 3\n",
            "softestmuffin _tee13 torahblaze 3\n",
            "happy birthday faggot 3\n",
            "means white trash 3\n",
            "127850 127850 127850 3\n",
            "128079 128079 128079 3\n",
            "128077 128077 128077 3\n",
            "128557 128557 128557 3\n",
            "niggas amp got 2\n",
            "amp got bitches 2\n",
            "sizzurp__ bootyacid ilikecats74 2\n",
            "bootyacid ilikecats74 yopapi_chulo 2\n",
            "128514 128514 bitch 2\n"
          ],
          "name": "stdout"
        },
        {
          "output_type": "execute_result",
          "data": {
            "text/plain": [
              "<matplotlib.axes._subplots.AxesSubplot at 0x7f3dcfccb4a8>"
            ]
          },
          "metadata": {
            "tags": []
          },
          "execution_count": 94
        },
        {
          "output_type": "display_data",
          "data": {
            "image/png": "[encoded data removed]",
            "text/plain": [
              "<Figure size 432x288 with 1 Axes>"
            ]
          },
          "metadata": {
            "tags": []
          }
        }
      ]
    },
    {
      "cell_type": "code",
      "metadata": {
        "id": "Io2hhY-aXgLm",
        "colab_type": "code",
        "outputId": "89a0dc1f-b3d0-474a-cc51-7215bd3a5551",
        "colab": {
          "base_uri": "https://localhost:8080/",
          "height": 771
        }
      },
      "source": [
        "temp_df=df_train.loc[df_train['class'] == 1][\"tweet\"]\n",
        "common_words = get_top_n_words(temp_df, 20)\n",
        "for word, freq in common_words:\n",
        "    print(word, freq)  \n",
        "df1 = pd.DataFrame(common_words, columns = ['tweet' , 'count'])\n",
        "df1.groupby('tweet').sum()['count'].sort_values(ascending=False).plot(\n",
        "    kind='bar', title='Top 20 words in review before removing stop words')\n"
      ],
      "execution_count": 95,
      "outputs": [
        {
          "output_type": "stream",
          "text": [
            "128175 128175 128175 55\n",
            "12288 12288 12288 32\n",
            "128514 128514 128514 26\n",
            "cunt cunt cunt 13\n",
            "128525 128525 128525 3\n",
            "hate ing bus 3\n",
            "128543 128543 128543 3\n",
            "bitch bitch bitch 3\n",
            "got hoes got 3\n",
            "hoes got hoes 3\n",
            "hoe 128514 128514 3\n",
            "bitches love beyonce 2\n",
            "don trust hoes 2\n",
            "hoes ain loyal 2\n",
            "128056 9749 65039 2\n",
            "hurts like bitch 2\n",
            "big booty bitches 2\n",
            "use word cunt 2\n",
            "love bad bitches 2\n",
            "playing flappy bird 2\n"
          ],
          "name": "stdout"
        },
        {
          "output_type": "execute_result",
          "data": {
            "text/plain": [
              "<matplotlib.axes._subplots.AxesSubplot at 0x7f3dcd0d4898>"
            ]
          },
          "metadata": {
            "tags": []
          },
          "execution_count": 95
        },
        {
          "output_type": "display_data",
          "data": {
            "image/png": "[encoded data removed]",
            "text/plain": [
              "<Figure size 432x288 with 1 Axes>"
            ]
          },
          "metadata": {
            "tags": []
          }
        }
      ]
    },
    {
      "cell_type": "markdown",
      "metadata": {
        "id": "IncPBiOdXpCC",
        "colab_type": "text"
      },
      "source": [
        "#POS tags"
      ]
    },
    {
      "cell_type": "code",
      "metadata": {
        "id": "WuAw69yMXiIW",
        "colab_type": "code",
        "outputId": "c0f24cb6-9dc1-498a-9016-00f7b7f6a773",
        "colab": {
          "base_uri": "https://localhost:8080/",
          "height": 191
        }
      },
      "source": [
        "!pip install TextBlob\n",
        "nltk.download('punkt')\n",
        "nltk.download('averaged_perceptron_tagger')\n",
        "  "
      ],
      "execution_count": 96,
      "outputs": [
        {
          "output_type": "stream",
          "text": [
            "Requirement already satisfied: TextBlob in /usr/local/lib/python3.6/dist-packages (0.15.3)\n",
            "Requirement already satisfied: nltk>=3.1 in /usr/local/lib/python3.6/dist-packages (from TextBlob) (3.2.5)\n",
            "Requirement already satisfied: six in /usr/local/lib/python3.6/dist-packages (from nltk>=3.1->TextBlob) (1.12.0)\n",
            "[nltk_data] Downloading package punkt to /root/nltk_data...\n",
            "[nltk_data]   Package punkt is already up-to-date!\n",
            "[nltk_data] Downloading package averaged_perceptron_tagger to\n",
            "[nltk_data]     /root/nltk_data...\n",
            "[nltk_data]   Package averaged_perceptron_tagger is already up-to-\n",
            "[nltk_data]       date!\n"
          ],
          "name": "stdout"
        },
        {
          "output_type": "execute_result",
          "data": {
            "text/plain": [
              "True"
            ]
          },
          "metadata": {
            "tags": []
          },
          "execution_count": 96
        }
      ]
    },
    {
      "cell_type": "code",
      "metadata": {
        "id": "4E-q6NRrXudn",
        "colab_type": "code",
        "colab": {}
      },
      "source": [
        "import textblob\n",
        "from textblob import TextBlob"
      ],
      "execution_count": 0,
      "outputs": []
    },
    {
      "cell_type": "code",
      "metadata": {
        "id": "wA9PU_eNXpx4",
        "colab_type": "code",
        "outputId": "5e6e11c3-b37a-47c6-8cbd-c03703d2506a",
        "colab": {
          "base_uri": "https://localhost:8080/",
          "height": 315
        }
      },
      "source": [
        "blob = TextBlob(str(df_train['tweet']))\n",
        "pos_df = pd.DataFrame(blob.tags, columns = ['word' , 'pos'])\n",
        "pos_df = pos_df.pos.value_counts()[:20]\n",
        "pos_df.plot(\n",
        "    kind='bar',\n",
        "    title='Top 20 Part-of-speech tagging for review corpus')\n"
      ],
      "execution_count": 98,
      "outputs": [
        {
          "output_type": "execute_result",
          "data": {
            "text/plain": [
              "<matplotlib.axes._subplots.AxesSubplot at 0x7f3dcaeb5a90>"
            ]
          },
          "metadata": {
            "tags": []
          },
          "execution_count": 98
        },
        {
          "output_type": "display_data",
          "data": {
            "image/png": "[encoded data removed]",
            "text/plain": [
              "<Figure size 432x288 with 1 Axes>"
            ]
          },
          "metadata": {
            "tags": []
          }
        }
      ]
    },
    {
      "cell_type": "code",
      "metadata": {
        "id": "w1KqmMjJX7gx",
        "colab_type": "code",
        "outputId": "dd06b706-27e2-44ae-f5bc-60ddcbe4be93",
        "colab": {
          "base_uri": "https://localhost:8080/",
          "height": 271
        }
      },
      "source": [
        "from matplotlib import pyplot\n",
        "\n",
        "y = df_train.loc[df_train['class'] == 0, 'pos']\n",
        "z = df_train.loc[df_train['class'] == 1, 'pos']\n",
        "\n",
        "pyplot.hist(z,  label='z', alpha=0.5)\n",
        "pyplot.hist(y,  label='y', alpha=0.5)\n",
        "pyplot.legend(loc='upper right')\n",
        "pyplot.show()"
      ],
      "execution_count": 100,
      "outputs": [
        {
          "output_type": "display_data",
          "data": {
            "image/png": "[encoded data removed]",
            "text/plain": [
              "<Figure size 432x288 with 1 Axes>"
            ]
          },
          "metadata": {
            "tags": []
          }
        }
      ]
    },
    {
      "cell_type": "code",
      "metadata": {
        "id": "XMxh2phlZBuc",
        "colab_type": "code",
        "outputId": "6c05b3cb-bf80-4eec-cdeb-7e5323d39593",
        "colab": {
          "base_uri": "https://localhost:8080/",
          "height": 269
        }
      },
      "source": [
        "from matplotlib import pyplot\n",
        "\n",
        "y = df_train.loc[df_train['class'] == 0, 'neg']\n",
        "z = df_train.loc[df_train['class'] == 1, 'neg']\n",
        "\n",
        "\n",
        "pyplot.hist(y,  label='y')\n",
        "pyplot.hist(z,  label='z')\n",
        "pyplot.legend(loc='upper right')\n",
        "pyplot.show()"
      ],
      "execution_count": 102,
      "outputs": [
        {
          "output_type": "display_data",
          "data": {
            "image/png": "[encoded data removed]",
            "text/plain": [
              "<Figure size 432x288 with 1 Axes>"
            ]
          },
          "metadata": {
            "tags": []
          }
        }
      ]
    },
    {
      "cell_type": "code",
      "metadata": {
        "id": "t-6sO9MVZqEk",
        "colab_type": "code",
        "outputId": "7de98cb2-2d9e-40ac-fc37-2cbf00289d5f",
        "colab": {
          "base_uri": "https://localhost:8080/",
          "height": 269
        }
      },
      "source": [
        "from matplotlib import pyplot\n",
        "\n",
        "y = df_train.loc[df_train['class'] == 0, 'neu']\n",
        "z = df_train.loc[df_train['class'] == 1, 'neu']\n",
        "\n",
        "\n",
        "pyplot.hist(y,  label='y')\n",
        "pyplot.hist(z,  label='z')\n",
        "pyplot.legend(loc='upper right')\n",
        "pyplot.show()"
      ],
      "execution_count": 103,
      "outputs": [
        {
          "output_type": "display_data",
          "data": {
            "image/png": "[encoded data removed]",
            "text/plain": [
              "<Figure size 432x288 with 1 Axes>"
            ]
          },
          "metadata": {
            "tags": []
          }
        }
      ]
    },
    {
      "cell_type": "code",
      "metadata": {
        "id": "ST9FIYinap2N",
        "colab_type": "code",
        "outputId": "0d19c4b6-a395-4c05-9e07-0524060430bb",
        "colab": {
          "base_uri": "https://localhost:8080/",
          "height": 459
        }
      },
      "source": [
        "import numpy as np\n",
        "import pandas as pd\n",
        "import seaborn as sns\n",
        "import matplotlib.pyplot as plt\n",
        "\n",
        "df=df_train[[\"class\",\"pos\"]]\n",
        "sns.jointplot(x=\"class\", y=\"pos\", data=df)"
      ],
      "execution_count": 104,
      "outputs": [
        {
          "output_type": "execute_result",
          "data": {
            "text/plain": [
              "<seaborn.axisgrid.JointGrid at 0x7f3dcabf8ef0>"
            ]
          },
          "metadata": {
            "tags": []
          },
          "execution_count": 104
        },
        {
          "output_type": "display_data",
          "data": {
            "image/png": "[encoded data removed]",
            "text/plain": [
              "<Figure size 432x432 with 3 Axes>"
            ]
          },
          "metadata": {
            "tags": []
          }
        }
      ]
    },
    {
      "cell_type": "code",
      "metadata": {
        "id": "DzUNWgtmcOgL",
        "colab_type": "code",
        "outputId": "84a37da1-a0e4-49cf-a213-fe0ad14edd1e",
        "colab": {
          "base_uri": "https://localhost:8080/",
          "height": 459
        }
      },
      "source": [
        "df=df_train[[\"class\",\"neg\"]]\n",
        "sns.jointplot(x=\"class\", y=\"neg\", data=df)"
      ],
      "execution_count": 105,
      "outputs": [
        {
          "output_type": "execute_result",
          "data": {
            "text/plain": [
              "<seaborn.axisgrid.JointGrid at 0x7f3dc9fc3198>"
            ]
          },
          "metadata": {
            "tags": []
          },
          "execution_count": 105
        },
        {
          "output_type": "display_data",
          "data": {
            "image/png": "[encoded data removed]",
            "text/plain": [
              "<Figure size 432x432 with 3 Axes>"
            ]
          },
          "metadata": {
            "tags": []
          }
        }
      ]
    },
    {
      "cell_type": "code",
      "metadata": {
        "colab_type": "code",
        "id": "dhjJkuY1dB8j",
        "outputId": "2e395e79-0ca3-46d3-b4a5-7933a6f46b1e",
        "colab": {
          "base_uri": "https://localhost:8080/",
          "height": 459
        }
      },
      "source": [
        "df=df_train[[\"class\",\"neu\"]]\n",
        "sns.jointplot(x=\"class\", y=\"neu\", data=df)"
      ],
      "execution_count": 106,
      "outputs": [
        {
          "output_type": "execute_result",
          "data": {
            "text/plain": [
              "<seaborn.axisgrid.JointGrid at 0x7f3dc9e3aa20>"
            ]
          },
          "metadata": {
            "tags": []
          },
          "execution_count": 106
        },
        {
          "output_type": "display_data",
          "data": {
            "image/png": "[encoded data removed]",
            "text/plain": [
              "<Figure size 432x432 with 3 Axes>"
            ]
          },
          "metadata": {
            "tags": []
          }
        }
      ]
    }
  ]
}