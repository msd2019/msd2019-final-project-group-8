{
 "cells": [
  {
   "cell_type": "code",
   "execution_count": 1,
   "metadata": {
    "colab": {},
    "colab_type": "code",
    "id": "_1ki86DaRVLa"
   },
   "outputs": [],
   "source": [
    "import pandas as pd"
   ]
  },
  {
   "cell_type": "code",
   "execution_count": 2,
   "metadata": {
    "colab": {},
    "colab_type": "code",
    "id": "hlMuOnSbu087"
   },
   "outputs": [],
   "source": [
    "import numpy as np"
   ]
  },
  {
   "cell_type": "code",
   "execution_count": 3,
   "metadata": {
    "colab": {
     "base_uri": "https://localhost:8080/",
     "height": 124
    },
    "colab_type": "code",
    "id": "aa8OgM7Ou2aD",
    "outputId": "9f9008ea-ce69-4af2-a29d-b4674b79eba4"
   },
   "outputs": [
    {
     "name": "stdout",
     "output_type": "stream",
     "text": [
      "Requirement already satisfied: vaderSentiment in /Users/ankitpeshin/anaconda2/envs/aml/lib/python3.6/site-packages (3.2.1)\r\n"
     ]
    }
   ],
   "source": [
    "!pip install vaderSentiment"
   ]
  },
  {
   "cell_type": "code",
   "execution_count": 432,
   "metadata": {
    "colab": {},
    "colab_type": "code",
    "id": "hegsHcg9u392"
   },
   "outputs": [],
   "source": [
    "from sklearn.feature_extraction.text import CountVectorizer\n",
    "from sklearn.model_selection import train_test_split\n",
    "from sklearn.pipeline import make_pipeline\n",
    "from sklearn.linear_model import LogisticRegression\n",
    "from sklearn.model_selection import cross_val_score\n",
    "from sklearn.model_selection import GridSearchCV\n",
    "from sklearn.feature_extraction.text import TfidfVectorizer, TfidfTransformer\n",
    "import nltk\n",
    "import gensim\n",
    "from nltk.tokenize import sent_tokenize, word_tokenize \n",
    "from vaderSentiment.vaderSentiment import SentimentIntensityAnalyzer\n",
    "from scipy.sparse import hstack\n",
    "from sklearn.metrics import average_precision_score\n",
    "from sklearn.metrics import roc_auc_score\n",
    "from nltk import word_tokenize,sent_tokenize\n",
    "from gensim import corpora\n",
    "from sklearn.pipeline import Pipeline\n",
    "from sklearn.model_selection import cross_val_predict\n",
    "import matplotlib.pyplot as plt\n"
   ]
  },
  {
   "cell_type": "code",
   "execution_count": 450,
   "metadata": {
    "colab": {},
    "colab_type": "code",
    "id": "uVNqjc-ku6gb"
   },
   "outputs": [],
   "source": [
    "#df_train = pd.read_csv(\"data/reddit_200k_train.csv\",encoding=\"iso-8859-1\")[[\"body\",\"REMOVED\"]]\n",
    "df_train = pd.read_csv(\"labeled_data.csv\")[[\"tweet\",\"class\"]]\n",
    "\n",
    "df_train.loc[df_train['class'] == 2, 'class'] = 1"
   ]
  },
  {
   "cell_type": "code",
   "execution_count": 451,
   "metadata": {
    "colab": {},
    "colab_type": "code",
    "id": "30yUb0GLu8RL"
   },
   "outputs": [],
   "source": [
    "df_test = pd.read_csv(\"comments.csv\")[[\"comments\"]]\n",
    "# df_test = pd.read_csv(\"data/reddit_200k_test.csv\",encoding=\"iso-8859-1\")[[\"body\",\"REMOVED\"]]"
   ]
  },
  {
   "cell_type": "code",
   "execution_count": 452,
   "metadata": {
    "colab": {
     "base_uri": "https://localhost:8080/",
     "height": 202
    },
    "colab_type": "code",
    "id": "kQCg7uAXu9-m",
    "outputId": "08169bba-1634-4e70-ed29-c7e0c8b7c55d"
   },
   "outputs": [
    {
     "data": {
      "text/html": [
       "<div>\n",
       "<style scoped>\n",
       "    .dataframe tbody tr th:only-of-type {\n",
       "        vertical-align: middle;\n",
       "    }\n",
       "\n",
       "    .dataframe tbody tr th {\n",
       "        vertical-align: top;\n",
       "    }\n",
       "\n",
       "    .dataframe thead th {\n",
       "        text-align: right;\n",
       "    }\n",
       "</style>\n",
       "<table border=\"1\" class=\"dataframe\">\n",
       "  <thead>\n",
       "    <tr style=\"text-align: right;\">\n",
       "      <th></th>\n",
       "      <th>tweet</th>\n",
       "      <th>class</th>\n",
       "    </tr>\n",
       "  </thead>\n",
       "  <tbody>\n",
       "    <tr>\n",
       "      <th>0</th>\n",
       "      <td>!!! RT @mayasolovely: As a woman you shouldn't...</td>\n",
       "      <td>1</td>\n",
       "    </tr>\n",
       "    <tr>\n",
       "      <th>1</th>\n",
       "      <td>!!!!! RT @mleew17: boy dats cold...tyga dwn ba...</td>\n",
       "      <td>1</td>\n",
       "    </tr>\n",
       "    <tr>\n",
       "      <th>2</th>\n",
       "      <td>!!!!!!! RT @UrKindOfBrand Dawg!!!! RT @80sbaby...</td>\n",
       "      <td>1</td>\n",
       "    </tr>\n",
       "    <tr>\n",
       "      <th>3</th>\n",
       "      <td>!!!!!!!!! RT @C_G_Anderson: @viva_based she lo...</td>\n",
       "      <td>1</td>\n",
       "    </tr>\n",
       "    <tr>\n",
       "      <th>4</th>\n",
       "      <td>!!!!!!!!!!!!! RT @ShenikaRoberts: The shit you...</td>\n",
       "      <td>1</td>\n",
       "    </tr>\n",
       "  </tbody>\n",
       "</table>\n",
       "</div>"
      ],
      "text/plain": [
       "                                               tweet  class\n",
       "0  !!! RT @mayasolovely: As a woman you shouldn't...      1\n",
       "1  !!!!! RT @mleew17: boy dats cold...tyga dwn ba...      1\n",
       "2  !!!!!!! RT @UrKindOfBrand Dawg!!!! RT @80sbaby...      1\n",
       "3  !!!!!!!!! RT @C_G_Anderson: @viva_based she lo...      1\n",
       "4  !!!!!!!!!!!!! RT @ShenikaRoberts: The shit you...      1"
      ]
     },
     "execution_count": 452,
     "metadata": {},
     "output_type": "execute_result"
    }
   ],
   "source": [
    "df_train.head()\n"
   ]
  },
  {
   "cell_type": "code",
   "execution_count": 453,
   "metadata": {
    "colab": {
     "base_uri": "https://localhost:8080/",
     "height": 202
    },
    "colab_type": "code",
    "id": "95P2Ean4u_ze",
    "outputId": "a3a3a434-ff46-42fe-e196-4c31e7a6c415"
   },
   "outputs": [
    {
     "data": {
      "text/html": [
       "<div>\n",
       "<style scoped>\n",
       "    .dataframe tbody tr th:only-of-type {\n",
       "        vertical-align: middle;\n",
       "    }\n",
       "\n",
       "    .dataframe tbody tr th {\n",
       "        vertical-align: top;\n",
       "    }\n",
       "\n",
       "    .dataframe thead th {\n",
       "        text-align: right;\n",
       "    }\n",
       "</style>\n",
       "<table border=\"1\" class=\"dataframe\">\n",
       "  <thead>\n",
       "    <tr style=\"text-align: right;\">\n",
       "      <th></th>\n",
       "      <th>comments</th>\n",
       "    </tr>\n",
       "  </thead>\n",
       "  <tbody>\n",
       "    <tr>\n",
       "      <th>0</th>\n",
       "      <td>Let me quess these are like the creators that ...</td>\n",
       "    </tr>\n",
       "    <tr>\n",
       "      <th>1</th>\n",
       "      <td>this is an example. here's a really random num...</td>\n",
       "    </tr>\n",
       "    <tr>\n",
       "      <th>2</th>\n",
       "      <td>YouTube: lets make a list of the most popular ...</td>\n",
       "    </tr>\n",
       "    <tr>\n",
       "      <th>3</th>\n",
       "      <td>Now I get it this is why I have been getting s...</td>\n",
       "    </tr>\n",
       "    <tr>\n",
       "      <th>4</th>\n",
       "      <td>ThIs iS ThWaSh</td>\n",
       "    </tr>\n",
       "  </tbody>\n",
       "</table>\n",
       "</div>"
      ],
      "text/plain": [
       "                                            comments\n",
       "0  Let me quess these are like the creators that ...\n",
       "1  this is an example. here's a really random num...\n",
       "2  YouTube: lets make a list of the most popular ...\n",
       "3  Now I get it this is why I have been getting s...\n",
       "4                                     ThIs iS ThWaSh"
      ]
     },
     "execution_count": 453,
     "metadata": {},
     "output_type": "execute_result"
    }
   ],
   "source": [
    "df_test.head()"
   ]
  },
  {
   "cell_type": "code",
   "execution_count": 454,
   "metadata": {
    "colab": {
     "base_uri": "https://localhost:8080/",
     "height": 35
    },
    "colab_type": "code",
    "id": "WIvrCqm7vBSy",
    "outputId": "6e00fbd0-5381-4985-abcc-8ce57cd01c01"
   },
   "outputs": [
    {
     "data": {
      "text/plain": [
       "2430"
      ]
     },
     "execution_count": 454,
     "metadata": {},
     "output_type": "execute_result"
    }
   ],
   "source": [
    "X_train = df_train[df_train['class']==0][\"tweet\"]\n",
    "X__train = df_train[df_train['class']==1][\"tweet\"][:1000]\n",
    "X_train = X_train.append(X__train)\n",
    "y_train = df_train[df_train['class']==0][\"class\"]\n",
    "y_train = y_train.append(df_train[df_train['class']==1][\"class\"][:1000])\n",
    "\n",
    "len(X_train)"
   ]
  },
  {
   "cell_type": "code",
   "execution_count": 455,
   "metadata": {
    "colab": {
     "base_uri": "https://localhost:8080/",
     "height": 35
    },
    "colab_type": "code",
    "id": "4pYhf1IKvMKl",
    "outputId": "f128fa13-ef83-4786-d85d-830f793828e5"
   },
   "outputs": [
    {
     "data": {
      "text/plain": [
       "2430"
      ]
     },
     "execution_count": 455,
     "metadata": {},
     "output_type": "execute_result"
    }
   ],
   "source": [
    "len(y_train)"
   ]
  },
  {
   "cell_type": "code",
   "execution_count": 457,
   "metadata": {
    "colab": {},
    "colab_type": "code",
    "id": "KnC30pL0vNfE"
   },
   "outputs": [],
   "source": [
    "#X_test = df_test[\"comments\"]"
   ]
  },
  {
   "cell_type": "markdown",
   "metadata": {
    "colab_type": "text",
    "id": "0LdKty67vRGS"
   },
   "source": [
    "##Baseline model"
   ]
  },
  {
   "cell_type": "code",
   "execution_count": 458,
   "metadata": {
    "colab": {
     "base_uri": "https://localhost:8080/",
     "height": 280
    },
    "colab_type": "code",
    "id": "QmSjWYwovQaZ",
    "outputId": "fb207d83-3a0b-4a11-8747-2b432df52df8"
   },
   "outputs": [
    {
     "name": "stdout",
     "output_type": "stream",
     "text": [
      "Cross val score on baseline model\n"
     ]
    },
    {
     "name": "stderr",
     "output_type": "stream",
     "text": [
      "/Users/ankitpeshin/anaconda2/envs/aml/lib/python3.6/site-packages/sklearn/linear_model/sag.py:334: ConvergenceWarning: The max_iter was reached which means the coef_ did not converge\n",
      "  \"the coef_ did not converge\", ConvergenceWarning)\n",
      "/Users/ankitpeshin/anaconda2/envs/aml/lib/python3.6/site-packages/sklearn/linear_model/sag.py:334: ConvergenceWarning: The max_iter was reached which means the coef_ did not converge\n",
      "  \"the coef_ did not converge\", ConvergenceWarning)\n",
      "/Users/ankitpeshin/anaconda2/envs/aml/lib/python3.6/site-packages/sklearn/linear_model/sag.py:334: ConvergenceWarning: The max_iter was reached which means the coef_ did not converge\n",
      "  \"the coef_ did not converge\", ConvergenceWarning)\n",
      "/Users/ankitpeshin/anaconda2/envs/aml/lib/python3.6/site-packages/sklearn/linear_model/sag.py:334: ConvergenceWarning: The max_iter was reached which means the coef_ did not converge\n",
      "  \"the coef_ did not converge\", ConvergenceWarning)\n"
     ]
    },
    {
     "name": "stdout",
     "output_type": "stream",
     "text": [
      "0.8547884615384616\n"
     ]
    },
    {
     "name": "stderr",
     "output_type": "stream",
     "text": [
      "/Users/ankitpeshin/anaconda2/envs/aml/lib/python3.6/site-packages/sklearn/linear_model/sag.py:334: ConvergenceWarning: The max_iter was reached which means the coef_ did not converge\n",
      "  \"the coef_ did not converge\", ConvergenceWarning)\n",
      "/Users/ankitpeshin/anaconda2/envs/aml/lib/python3.6/site-packages/sklearn/linear_model/sag.py:334: ConvergenceWarning: The max_iter was reached which means the coef_ did not converge\n",
      "  \"the coef_ did not converge\", ConvergenceWarning)\n"
     ]
    }
   ],
   "source": [
    "pipe  =  make_pipeline(CountVectorizer(),LogisticRegression(solver=\"sag\"))\n",
    "print(\"Cross val score on baseline model\")\n",
    "pipe.fit(X_train,y_train)\n",
    "print(np.mean(cross_val_score(pipe,X_train,y_train,cv=5,scoring=\"roc_auc\")))"
   ]
  },
  {
   "cell_type": "markdown",
   "metadata": {
    "colab_type": "text",
    "id": "_7CO-FUPvbwV"
   },
   "source": [
    "##Re-implementing the paper"
   ]
  },
  {
   "cell_type": "markdown",
   "metadata": {
    "colab_type": "text",
    "id": "b6YM7zSGv44u"
   },
   "source": [
    "1. Lowercase\n",
    "2. Stem\n",
    "3. bigram, unigram, trigram features, weighted by its tfidf\n",
    "4. POS tag\n",
    "5. FK Grade level\n",
    "6. FK reading ease score\n",
    "7. sentiment scores\n",
    "\n",
    "8. binary indicators for: hashtags, mentions, retweets, urls\n",
    "9. count indicatiors for :hashtags, mentions, retweets, urls\n",
    "10. number of characters\n",
    "11. numbers of words\n",
    "12. number of syllables\n",
    "\n"
   ]
  },
  {
   "cell_type": "code",
   "execution_count": 459,
   "metadata": {
    "colab": {
     "base_uri": "https://localhost:8080/",
     "height": 52
    },
    "colab_type": "code",
    "id": "H_0b2hH3Q2oZ",
    "outputId": "ba420a2d-0d87-448f-cfae-aa1dd1012bc2"
   },
   "outputs": [
    {
     "name": "stderr",
     "output_type": "stream",
     "text": [
      "[nltk_data] Downloading package stopwords to\n",
      "[nltk_data]     /Users/ankitpeshin/nltk_data...\n",
      "[nltk_data]   Package stopwords is already up-to-date!\n"
     ]
    }
   ],
   "source": [
    "nltk.download(\"stopwords\")\n",
    "from nltk.stem.porter import *"
   ]
  },
  {
   "cell_type": "code",
   "execution_count": 460,
   "metadata": {
    "colab": {},
    "colab_type": "code",
    "id": "1P0chojPvYqx"
   },
   "outputs": [],
   "source": [
    "stopwords=stopwords = nltk.corpus.stopwords.words(\"english\")\n",
    "\n",
    "other_exclusions = [\"#ff\", \"ff\", \"rt\",\"RT\"]\n",
    "stopwords.extend(other_exclusions)\n",
    "\n",
    "stemmer = PorterStemmer()\n",
    "\n",
    "def preprocess(text_string):\n",
    "    \n",
    "    #Lowercase string\n",
    "    text_string=text_string.lower()\n",
    "    space_pattern = '\\s+'\n",
    "    giant_url_regex = ('http[s]?://(?:[a-zA-Z]|[0-9]|[$-_@.&+]|'\n",
    "        '[!*\\(\\),]|(?:%[0-9a-fA-F][0-9a-fA-F]))+')\n",
    "    mention_regex = '@[\\w\\-]+'\n",
    "    hashtag_regex = '#[\\w\\-]+'\n",
    "    parsed_text = re.sub(space_pattern, ' ', text_string)\n",
    "    parsed_text = re.sub(giant_url_regex, 'URLHERE', parsed_text)\n",
    "    parsed_text = re.sub(mention_regex, 'MENTIONHERE', parsed_text)\n",
    "    parsed_text = re.sub(hashtag_regex, 'HASHTAGHERE', parsed_text)\n",
    "    \n",
    "    #Stem it\n",
    "    tweet = \" \".join(re.split(\"[^a-zA-Z]*\", parsed_text)).strip()\n",
    "    tokens = [stemmer.stem(t) for t in tweet.split()]\n",
    "    return tokens\n",
    "  \n",
    "  \n",
    "def pos_tag_seq(tokens):\n",
    "    tags = nltk.pos_tag(tokens)\n",
    "    tag_list = [x[1] for x in tags]\n",
    "    tag_str = \" \".join(tag_list)\n",
    "    return tag_str\n",
    "  \n",
    "  "
   ]
  },
  {
   "cell_type": "code",
   "execution_count": 306,
   "metadata": {
    "colab": {},
    "colab_type": "code",
    "id": "BIwfyzsh9dEO"
   },
   "outputs": [],
   "source": [
    "def join_sent(l):\n",
    "  return \" \".join(l)"
   ]
  },
  {
   "cell_type": "code",
   "execution_count": 461,
   "metadata": {
    "colab": {},
    "colab_type": "code",
    "id": "5jKGjGcaTYI3"
   },
   "outputs": [],
   "source": [
    "df_train=pd.DataFrame(X_train)"
   ]
  },
  {
   "cell_type": "code",
   "execution_count": 462,
   "metadata": {
    "colab": {},
    "colab_type": "code",
    "id": "hVkColl0Ti5-"
   },
   "outputs": [],
   "source": [
    "df_train.columns=[\"tweet\"]"
   ]
  },
  {
   "cell_type": "code",
   "execution_count": 463,
   "metadata": {
    "colab": {
     "base_uri": "https://localhost:8080/",
     "height": 202
    },
    "colab_type": "code",
    "id": "XBtZY8XbTqXU",
    "outputId": "cf4148d2-69b0-4d71-e12c-4749e8a8a67f"
   },
   "outputs": [
    {
     "data": {
      "text/html": [
       "<div>\n",
       "<style scoped>\n",
       "    .dataframe tbody tr th:only-of-type {\n",
       "        vertical-align: middle;\n",
       "    }\n",
       "\n",
       "    .dataframe tbody tr th {\n",
       "        vertical-align: top;\n",
       "    }\n",
       "\n",
       "    .dataframe thead th {\n",
       "        text-align: right;\n",
       "    }\n",
       "</style>\n",
       "<table border=\"1\" class=\"dataframe\">\n",
       "  <thead>\n",
       "    <tr style=\"text-align: right;\">\n",
       "      <th></th>\n",
       "      <th>tweet</th>\n",
       "    </tr>\n",
       "  </thead>\n",
       "  <tbody>\n",
       "    <tr>\n",
       "      <th>85</th>\n",
       "      <td>\"@Blackman38Tide: @WhaleLookyHere @HowdyDowdy1...</td>\n",
       "    </tr>\n",
       "    <tr>\n",
       "      <th>89</th>\n",
       "      <td>\"@CB_Baby24: @white_thunduh alsarabsss\" hes a ...</td>\n",
       "    </tr>\n",
       "    <tr>\n",
       "      <th>110</th>\n",
       "      <td>\"@DevilGrimz: @VigxRArts you're fucking gay, b...</td>\n",
       "    </tr>\n",
       "    <tr>\n",
       "      <th>184</th>\n",
       "      <td>\"@MarkRoundtreeJr: LMFAOOOO I HATE BLACK PEOPL...</td>\n",
       "    </tr>\n",
       "    <tr>\n",
       "      <th>202</th>\n",
       "      <td>\"@NoChillPaz: \"At least I'm not a nigger\" http...</td>\n",
       "    </tr>\n",
       "  </tbody>\n",
       "</table>\n",
       "</div>"
      ],
      "text/plain": [
       "                                                 tweet\n",
       "85   \"@Blackman38Tide: @WhaleLookyHere @HowdyDowdy1...\n",
       "89   \"@CB_Baby24: @white_thunduh alsarabsss\" hes a ...\n",
       "110  \"@DevilGrimz: @VigxRArts you're fucking gay, b...\n",
       "184  \"@MarkRoundtreeJr: LMFAOOOO I HATE BLACK PEOPL...\n",
       "202  \"@NoChillPaz: \"At least I'm not a nigger\" http..."
      ]
     },
     "execution_count": 463,
     "metadata": {},
     "output_type": "execute_result"
    }
   ],
   "source": [
    "df_train.head()"
   ]
  },
  {
   "cell_type": "code",
   "execution_count": 464,
   "metadata": {
    "colab": {
     "base_uri": "https://localhost:8080/",
     "height": 52
    },
    "colab_type": "code",
    "id": "mfiVVPJEQqPu",
    "outputId": "455519b9-ade9-45a0-8592-f5055eb4fbfc"
   },
   "outputs": [
    {
     "name": "stderr",
     "output_type": "stream",
     "text": [
      "/Users/ankitpeshin/anaconda2/envs/aml/lib/python3.6/re.py:212: FutureWarning: split() requires a non-empty pattern match.\n",
      "  return _compile(pattern, flags).split(string, maxsplit)\n"
     ]
    }
   ],
   "source": [
    "s_train=df_train['tweet'].apply(preprocess)"
   ]
  },
  {
   "cell_type": "code",
   "execution_count": 465,
   "metadata": {
    "colab": {},
    "colab_type": "code",
    "id": "TUI-yrgjAVXb"
   },
   "outputs": [],
   "source": [
    "s_tr=s_train.apply(join_sent)"
   ]
  },
  {
   "cell_type": "code",
   "execution_count": 466,
   "metadata": {
    "colab": {
     "base_uri": "https://localhost:8080/",
     "height": 69
    },
    "colab_type": "code",
    "id": "ontO83dNTWqp",
    "outputId": "72bb33cd-4054-4112-a2ad-1bdada5295fb"
   },
   "outputs": [
    {
     "name": "stderr",
     "output_type": "stream",
     "text": [
      "[nltk_data] Downloading package averaged_perceptron_tagger to\n",
      "[nltk_data]     /Users/ankitpeshin/nltk_data...\n",
      "[nltk_data]   Package averaged_perceptron_tagger is already up-to-\n",
      "[nltk_data]       date!\n"
     ]
    }
   ],
   "source": [
    "nltk.download('averaged_perceptron_tagger')\n",
    "t_tr=s_train.apply(pos_tag_seq)"
   ]
  },
  {
   "cell_type": "code",
   "execution_count": 467,
   "metadata": {
    "colab": {},
    "colab_type": "code",
    "id": "fU316-WsTNwT"
   },
   "outputs": [],
   "source": [
    "vectorizer = TfidfVectorizer(\n",
    "    preprocessor=None,\n",
    "    lowercase=False,\n",
    "    ngram_range=(1, 3),\n",
    "    use_idf=True,\n",
    "    smooth_idf=False,\n",
    "    norm=None,\n",
    "    stop_words=stopwords,\n",
    "    decode_error='replace',\n",
    "    max_features=10000,\n",
    "    min_df=5,\n",
    "    max_df=0.75\n",
    "    )"
   ]
  },
  {
   "cell_type": "code",
   "execution_count": 468,
   "metadata": {
    "colab": {},
    "colab_type": "code",
    "id": "-UdkR9MG-_Vc"
   },
   "outputs": [],
   "source": [
    "pos_vectorizer = TfidfVectorizer(\n",
    "    tokenizer=None,\n",
    "    lowercase=False,\n",
    "    preprocessor=None,\n",
    "    ngram_range=(1, 3),\n",
    "    stop_words=None,\n",
    "    use_idf=False,\n",
    "    smooth_idf=False,\n",
    "    norm=None,\n",
    "    decode_error='replace',\n",
    "    max_features=5000,\n",
    "    min_df=5,\n",
    "    max_df=0.75,\n",
    "    )"
   ]
  },
  {
   "cell_type": "code",
   "execution_count": 469,
   "metadata": {
    "colab": {},
    "colab_type": "code",
    "id": "GjIbAPqGZ6sR"
   },
   "outputs": [],
   "source": [
    "tfidf_tr = vectorizer.fit_transform(s_tr).toarray()\n",
    "\n",
    "vocab = {v:i for i, v in enumerate(vectorizer.get_feature_names())}\n",
    "idf_vals = vectorizer.idf_\n",
    "idf_dict = {i:idf_vals[i] for i in vocab.values()}"
   ]
  },
  {
   "cell_type": "code",
   "execution_count": 470,
   "metadata": {
    "colab": {},
    "colab_type": "code",
    "id": "6ElfB-H5A4eh"
   },
   "outputs": [],
   "source": [
    "pos_tr = pos_vectorizer.fit_transform(t_tr).toarray()\n",
    "\n",
    "pos_vocab = {v:i for i, v in enumerate(pos_vectorizer.get_feature_names())}"
   ]
  },
  {
   "cell_type": "code",
   "execution_count": 471,
   "metadata": {
    "colab": {},
    "colab_type": "code",
    "id": "kTxPJAbQBBwj"
   },
   "outputs": [],
   "source": [
    "from vaderSentiment.vaderSentiment import SentimentIntensityAnalyzer as VS\n",
    "sentiment_analyzer = VS()\n"
   ]
  },
  {
   "cell_type": "code",
   "execution_count": 472,
   "metadata": {
    "colab": {},
    "colab_type": "code",
    "id": "FH9l_ymsBVsi"
   },
   "outputs": [],
   "source": [
    "def get_sentiment(text):\n",
    "  sentiment = sentiment_analyzer.polarity_scores(text)\n",
    "  return sentiment\n",
    "\n",
    "#   return sentiment[\"neg\"], sentiment[\"pos\"], sentiment[\"neu\"]"
   ]
  },
  {
   "cell_type": "code",
   "execution_count": 473,
   "metadata": {
    "colab": {},
    "colab_type": "code",
    "id": "xkes6ZUlBdun"
   },
   "outputs": [],
   "source": [
    "df_train[\"sent\"]=df_train[\"tweet\"].apply(get_sentiment) "
   ]
  },
  {
   "cell_type": "code",
   "execution_count": 474,
   "metadata": {
    "colab": {
     "base_uri": "https://localhost:8080/",
     "height": 202
    },
    "colab_type": "code",
    "id": "CGdJcLFjFdi2",
    "outputId": "1b8adfe1-5dc4-40e0-a797-00f304833e65"
   },
   "outputs": [
    {
     "data": {
      "text/html": [
       "<div>\n",
       "<style scoped>\n",
       "    .dataframe tbody tr th:only-of-type {\n",
       "        vertical-align: middle;\n",
       "    }\n",
       "\n",
       "    .dataframe tbody tr th {\n",
       "        vertical-align: top;\n",
       "    }\n",
       "\n",
       "    .dataframe thead th {\n",
       "        text-align: right;\n",
       "    }\n",
       "</style>\n",
       "<table border=\"1\" class=\"dataframe\">\n",
       "  <thead>\n",
       "    <tr style=\"text-align: right;\">\n",
       "      <th></th>\n",
       "      <th>tweet</th>\n",
       "      <th>sent</th>\n",
       "    </tr>\n",
       "  </thead>\n",
       "  <tbody>\n",
       "    <tr>\n",
       "      <th>85</th>\n",
       "      <td>\"@Blackman38Tide: @WhaleLookyHere @HowdyDowdy1...</td>\n",
       "      <td>{'neg': 0.0, 'neu': 1.0, 'pos': 0.0, 'compound...</td>\n",
       "    </tr>\n",
       "    <tr>\n",
       "      <th>89</th>\n",
       "      <td>\"@CB_Baby24: @white_thunduh alsarabsss\" hes a ...</td>\n",
       "      <td>{'neg': 0.187, 'neu': 0.813, 'pos': 0.0, 'comp...</td>\n",
       "    </tr>\n",
       "    <tr>\n",
       "      <th>110</th>\n",
       "      <td>\"@DevilGrimz: @VigxRArts you're fucking gay, b...</td>\n",
       "      <td>{'neg': 0.0, 'neu': 1.0, 'pos': 0.0, 'compound...</td>\n",
       "    </tr>\n",
       "    <tr>\n",
       "      <th>184</th>\n",
       "      <td>\"@MarkRoundtreeJr: LMFAOOOO I HATE BLACK PEOPL...</td>\n",
       "      <td>{'neg': 0.254, 'neu': 0.746, 'pos': 0.0, 'comp...</td>\n",
       "    </tr>\n",
       "    <tr>\n",
       "      <th>202</th>\n",
       "      <td>\"@NoChillPaz: \"At least I'm not a nigger\" http...</td>\n",
       "      <td>{'neg': 0.232, 'neu': 0.488, 'pos': 0.28, 'com...</td>\n",
       "    </tr>\n",
       "  </tbody>\n",
       "</table>\n",
       "</div>"
      ],
      "text/plain": [
       "                                                 tweet  \\\n",
       "85   \"@Blackman38Tide: @WhaleLookyHere @HowdyDowdy1...   \n",
       "89   \"@CB_Baby24: @white_thunduh alsarabsss\" hes a ...   \n",
       "110  \"@DevilGrimz: @VigxRArts you're fucking gay, b...   \n",
       "184  \"@MarkRoundtreeJr: LMFAOOOO I HATE BLACK PEOPL...   \n",
       "202  \"@NoChillPaz: \"At least I'm not a nigger\" http...   \n",
       "\n",
       "                                                  sent  \n",
       "85   {'neg': 0.0, 'neu': 1.0, 'pos': 0.0, 'compound...  \n",
       "89   {'neg': 0.187, 'neu': 0.813, 'pos': 0.0, 'comp...  \n",
       "110  {'neg': 0.0, 'neu': 1.0, 'pos': 0.0, 'compound...  \n",
       "184  {'neg': 0.254, 'neu': 0.746, 'pos': 0.0, 'comp...  \n",
       "202  {'neg': 0.232, 'neu': 0.488, 'pos': 0.28, 'com...  "
      ]
     },
     "execution_count": 474,
     "metadata": {},
     "output_type": "execute_result"
    }
   ],
   "source": [
    "df_train.head()"
   ]
  },
  {
   "cell_type": "code",
   "execution_count": 475,
   "metadata": {
    "colab": {},
    "colab_type": "code",
    "id": "P6OWYD3IGfEb"
   },
   "outputs": [],
   "source": [
    "foo_tr = lambda x: pd.Series([x[\"pos\"],x[\"neg\"],x[\"neu\"]])\n",
    "rev_tr = df_train['sent'].apply(foo_tr)\n"
   ]
  },
  {
   "cell_type": "code",
   "execution_count": 476,
   "metadata": {
    "colab": {},
    "colab_type": "code",
    "id": "zK52xDCsHGo8"
   },
   "outputs": [],
   "source": [
    "rev_tr.columns=[\"pos\",\"neg\",\"neu\"]"
   ]
  },
  {
   "cell_type": "code",
   "execution_count": 477,
   "metadata": {
    "colab": {
     "base_uri": "https://localhost:8080/",
     "height": 202
    },
    "colab_type": "code",
    "id": "COsKHAimHIxF",
    "outputId": "a04e7f68-6757-4d1f-aead-987bdb63c985"
   },
   "outputs": [
    {
     "data": {
      "text/html": [
       "<div>\n",
       "<style scoped>\n",
       "    .dataframe tbody tr th:only-of-type {\n",
       "        vertical-align: middle;\n",
       "    }\n",
       "\n",
       "    .dataframe tbody tr th {\n",
       "        vertical-align: top;\n",
       "    }\n",
       "\n",
       "    .dataframe thead th {\n",
       "        text-align: right;\n",
       "    }\n",
       "</style>\n",
       "<table border=\"1\" class=\"dataframe\">\n",
       "  <thead>\n",
       "    <tr style=\"text-align: right;\">\n",
       "      <th></th>\n",
       "      <th>pos</th>\n",
       "      <th>neg</th>\n",
       "      <th>neu</th>\n",
       "    </tr>\n",
       "  </thead>\n",
       "  <tbody>\n",
       "    <tr>\n",
       "      <th>85</th>\n",
       "      <td>0.00</td>\n",
       "      <td>0.000</td>\n",
       "      <td>1.000</td>\n",
       "    </tr>\n",
       "    <tr>\n",
       "      <th>89</th>\n",
       "      <td>0.00</td>\n",
       "      <td>0.187</td>\n",
       "      <td>0.813</td>\n",
       "    </tr>\n",
       "    <tr>\n",
       "      <th>110</th>\n",
       "      <td>0.00</td>\n",
       "      <td>0.000</td>\n",
       "      <td>1.000</td>\n",
       "    </tr>\n",
       "    <tr>\n",
       "      <th>184</th>\n",
       "      <td>0.00</td>\n",
       "      <td>0.254</td>\n",
       "      <td>0.746</td>\n",
       "    </tr>\n",
       "    <tr>\n",
       "      <th>202</th>\n",
       "      <td>0.28</td>\n",
       "      <td>0.232</td>\n",
       "      <td>0.488</td>\n",
       "    </tr>\n",
       "  </tbody>\n",
       "</table>\n",
       "</div>"
      ],
      "text/plain": [
       "      pos    neg    neu\n",
       "85   0.00  0.000  1.000\n",
       "89   0.00  0.187  0.813\n",
       "110  0.00  0.000  1.000\n",
       "184  0.00  0.254  0.746\n",
       "202  0.28  0.232  0.488"
      ]
     },
     "execution_count": 477,
     "metadata": {},
     "output_type": "execute_result"
    }
   ],
   "source": [
    "rev_tr.head()"
   ]
  },
  {
   "cell_type": "markdown",
   "metadata": {
    "colab_type": "text",
    "id": "cYafNXGvIIVt"
   },
   "source": [
    "##Binary count for URL https mentions etc "
   ]
  },
  {
   "cell_type": "code",
   "execution_count": 478,
   "metadata": {
    "colab": {},
    "colab_type": "code",
    "id": "ck29bhNNIMwy"
   },
   "outputs": [],
   "source": [
    "def return_cont(parsed_text):\n",
    "  return(parsed_text.count('urlher'),parsed_text.count('mentionher'),parsed_text.count('hashtagher'))"
   ]
  },
  {
   "cell_type": "code",
   "execution_count": 479,
   "metadata": {
    "colab": {},
    "colab_type": "code",
    "id": "oWSXyarzIb_P"
   },
   "outputs": [],
   "source": [
    "df_train[\"counts\"]=s_tr.apply(return_cont) "
   ]
  },
  {
   "cell_type": "code",
   "execution_count": 480,
   "metadata": {
    "colab": {
     "base_uri": "https://localhost:8080/",
     "height": 121
    },
    "colab_type": "code",
    "id": "YLa-ctKSJOYT",
    "outputId": "af2b7a5f-13ca-45d1-e45c-92fd59bb7ab5"
   },
   "outputs": [
    {
     "data": {
      "text/plain": [
       "85     (0, 3, 0)\n",
       "89     (0, 2, 0)\n",
       "110    (1, 2, 1)\n",
       "184    (1, 1, 0)\n",
       "202    (1, 1, 0)\n",
       "Name: counts, dtype: object"
      ]
     },
     "execution_count": 480,
     "metadata": {},
     "output_type": "execute_result"
    }
   ],
   "source": [
    "df_train[\"counts\"].head()"
   ]
  },
  {
   "cell_type": "code",
   "execution_count": 481,
   "metadata": {
    "colab": {},
    "colab_type": "code",
    "id": "Ak7gCgImJQlS"
   },
   "outputs": [],
   "source": [
    "foo = lambda x: pd.Series([x[0],x[1],x[2]])\n",
    "mention_counts_tr = df_train['counts'].apply(foo)\n"
   ]
  },
  {
   "cell_type": "code",
   "execution_count": 482,
   "metadata": {
    "colab": {
     "base_uri": "https://localhost:8080/",
     "height": 202
    },
    "colab_type": "code",
    "id": "f_cIuZXbJuIA",
    "outputId": "a157b0c0-d34f-4d96-b78f-1c2c7c9d8886"
   },
   "outputs": [
    {
     "data": {
      "text/html": [
       "<div>\n",
       "<style scoped>\n",
       "    .dataframe tbody tr th:only-of-type {\n",
       "        vertical-align: middle;\n",
       "    }\n",
       "\n",
       "    .dataframe tbody tr th {\n",
       "        vertical-align: top;\n",
       "    }\n",
       "\n",
       "    .dataframe thead th {\n",
       "        text-align: right;\n",
       "    }\n",
       "</style>\n",
       "<table border=\"1\" class=\"dataframe\">\n",
       "  <thead>\n",
       "    <tr style=\"text-align: right;\">\n",
       "      <th></th>\n",
       "      <th>0</th>\n",
       "      <th>1</th>\n",
       "      <th>2</th>\n",
       "    </tr>\n",
       "  </thead>\n",
       "  <tbody>\n",
       "    <tr>\n",
       "      <th>85</th>\n",
       "      <td>0</td>\n",
       "      <td>3</td>\n",
       "      <td>0</td>\n",
       "    </tr>\n",
       "    <tr>\n",
       "      <th>89</th>\n",
       "      <td>0</td>\n",
       "      <td>2</td>\n",
       "      <td>0</td>\n",
       "    </tr>\n",
       "    <tr>\n",
       "      <th>110</th>\n",
       "      <td>1</td>\n",
       "      <td>2</td>\n",
       "      <td>1</td>\n",
       "    </tr>\n",
       "    <tr>\n",
       "      <th>184</th>\n",
       "      <td>1</td>\n",
       "      <td>1</td>\n",
       "      <td>0</td>\n",
       "    </tr>\n",
       "    <tr>\n",
       "      <th>202</th>\n",
       "      <td>1</td>\n",
       "      <td>1</td>\n",
       "      <td>0</td>\n",
       "    </tr>\n",
       "  </tbody>\n",
       "</table>\n",
       "</div>"
      ],
      "text/plain": [
       "     0  1  2\n",
       "85   0  3  0\n",
       "89   0  2  0\n",
       "110  1  2  1\n",
       "184  1  1  0\n",
       "202  1  1  0"
      ]
     },
     "execution_count": 482,
     "metadata": {},
     "output_type": "execute_result"
    }
   ],
   "source": [
    "mention_counts_tr.head()"
   ]
  },
  {
   "cell_type": "markdown",
   "metadata": {
    "colab_type": "text",
    "id": "mSIJb-4oJx0-"
   },
   "source": [
    "##FKRA and Flesch and number of syllables etc"
   ]
  },
  {
   "cell_type": "code",
   "execution_count": 483,
   "metadata": {
    "colab": {
     "base_uri": "https://localhost:8080/",
     "height": 193
    },
    "colab_type": "code",
    "id": "yxCy5UqgObNJ",
    "outputId": "db54ca0f-8592-4747-d27b-41ee99ebb8d7"
   },
   "outputs": [
    {
     "name": "stdout",
     "output_type": "stream",
     "text": [
      "Requirement already satisfied: textstat in /Users/ankitpeshin/anaconda2/envs/aml/lib/python3.6/site-packages (0.5.6)\r\n",
      "Requirement already satisfied: repoze.lru in /Users/ankitpeshin/anaconda2/envs/aml/lib/python3.6/site-packages (from textstat) (0.7)\r\n",
      "Requirement already satisfied: pyphen in /Users/ankitpeshin/anaconda2/envs/aml/lib/python3.6/site-packages (from textstat) (0.9.5)\r\n"
     ]
    }
   ],
   "source": [
    "!pip install textstat\n",
    "from textstat.textstat import *"
   ]
  },
  {
   "cell_type": "code",
   "execution_count": 484,
   "metadata": {
    "colab": {},
    "colab_type": "code",
    "id": "H1LY6enHJwdr"
   },
   "outputs": [],
   "source": [
    "def get_other_features(text):\n",
    "    space_pattern = '\\s+'\n",
    "    giant_url_regex = ('http[s]?://(?:[a-zA-Z]|[0-9]|[$-_@.&+]|'\n",
    "        '[!*\\(\\),]|(?:%[0-9a-fA-F][0-9a-fA-F]))+')\n",
    "    mention_regex = '@[\\w\\-]+'\n",
    "    parsed_text = re.sub(space_pattern, ' ', text)\n",
    "    parsed_text = re.sub(giant_url_regex, '', parsed_text)\n",
    "    words = re.sub(mention_regex, '', parsed_text)\n",
    "    \n",
    "    syllables = textstat.syllable_count(words)\n",
    "    num_chars = sum(len(w) for w in words)\n",
    "    num_chars_total = len(text)\n",
    "    num_terms = len(text.split())\n",
    "    num_words = len(words.split())\n",
    "    avg_syl = round(float((syllables+0.001))/float(num_words+0.001),4)\n",
    "    num_unique_terms = len(set(words.split()))\n",
    "    \n",
    "    ###Modified FK grade, where avg words per sentence is just num words/1\n",
    "    FKRA = round(float(0.39 * float(num_words)/1.0) + float(11.8 * avg_syl) - 15.59,1)\n",
    "    ##Modified FRE score, where sentence fixed to 1\n",
    "    FRE = round(206.835 - 1.015*(float(num_words)/1.0) - (84.6*float(avg_syl)),2)\n",
    "    \n",
    "    features = [FKRA, FRE,syllables, avg_syl, num_chars, num_terms, num_words,\n",
    "                num_unique_terms]\n",
    "    return features\n",
    "    \n",
    "  "
   ]
  },
  {
   "cell_type": "code",
   "execution_count": 485,
   "metadata": {
    "colab": {},
    "colab_type": "code",
    "id": "Lq_5yJArONvX"
   },
   "outputs": [],
   "source": [
    "other_feats_tr=df_train[\"tweet\"].apply(get_other_features)"
   ]
  },
  {
   "cell_type": "code",
   "execution_count": 486,
   "metadata": {
    "colab": {
     "base_uri": "https://localhost:8080/",
     "height": 121
    },
    "colab_type": "code",
    "id": "2jUZJA9-OSgq",
    "outputId": "8c5f86c5-4414-4489-c578-40c06eb5ed83"
   },
   "outputs": [
    {
     "data": {
      "text/plain": [
       "85         [9.2, 34.62, 6, 1.9997, 18, 5, 3, 3]\n",
       "89        [6.8, 67.76, 18, 1.5, 59, 13, 12, 10]\n",
       "110    [9.1, 49.55, 19, 1.7272, 76, 13, 11, 11]\n",
       "184    [5.2, 84.46, 19, 1.2666, 78, 15, 15, 15]\n",
       "202        [2.3, 94.3, 11, 1.2222, 38, 9, 9, 9]\n",
       "Name: tweet, dtype: object"
      ]
     },
     "execution_count": 486,
     "metadata": {},
     "output_type": "execute_result"
    }
   ],
   "source": [
    "other_feats_tr.head()"
   ]
  },
  {
   "cell_type": "code",
   "execution_count": 487,
   "metadata": {
    "colab": {},
    "colab_type": "code",
    "id": "H-gNv_dIO1d2"
   },
   "outputs": [],
   "source": [
    "other_features_names = [\"FKRA\", \"FRE\",\"num_syllables\", \"avg_syl_per_word\", \"num_chars\",\"num_terms\", \"num_words\", \"num_unique_words\"]"
   ]
  },
  {
   "cell_type": "code",
   "execution_count": 488,
   "metadata": {
    "colab": {},
    "colab_type": "code",
    "id": "G3VYN6oeWU6H"
   },
   "outputs": [],
   "source": [
    "foo = lambda x: pd.Series(elem for elem in x)\n",
    "of_counts_tr = other_feats_tr.apply(foo)"
   ]
  },
  {
   "cell_type": "code",
   "execution_count": 489,
   "metadata": {
    "colab": {
     "base_uri": "https://localhost:8080/",
     "height": 202
    },
    "colab_type": "code",
    "id": "Rz-96sBOWlgK",
    "outputId": "fda81f58-2bdb-42be-fe0d-595da65ef118"
   },
   "outputs": [
    {
     "data": {
      "text/html": [
       "<div>\n",
       "<style scoped>\n",
       "    .dataframe tbody tr th:only-of-type {\n",
       "        vertical-align: middle;\n",
       "    }\n",
       "\n",
       "    .dataframe tbody tr th {\n",
       "        vertical-align: top;\n",
       "    }\n",
       "\n",
       "    .dataframe thead th {\n",
       "        text-align: right;\n",
       "    }\n",
       "</style>\n",
       "<table border=\"1\" class=\"dataframe\">\n",
       "  <thead>\n",
       "    <tr style=\"text-align: right;\">\n",
       "      <th></th>\n",
       "      <th>0</th>\n",
       "      <th>1</th>\n",
       "      <th>2</th>\n",
       "      <th>3</th>\n",
       "      <th>4</th>\n",
       "      <th>5</th>\n",
       "      <th>6</th>\n",
       "      <th>7</th>\n",
       "    </tr>\n",
       "  </thead>\n",
       "  <tbody>\n",
       "    <tr>\n",
       "      <th>85</th>\n",
       "      <td>9.2</td>\n",
       "      <td>34.62</td>\n",
       "      <td>6.0</td>\n",
       "      <td>1.9997</td>\n",
       "      <td>18.0</td>\n",
       "      <td>5.0</td>\n",
       "      <td>3.0</td>\n",
       "      <td>3.0</td>\n",
       "    </tr>\n",
       "    <tr>\n",
       "      <th>89</th>\n",
       "      <td>6.8</td>\n",
       "      <td>67.76</td>\n",
       "      <td>18.0</td>\n",
       "      <td>1.5000</td>\n",
       "      <td>59.0</td>\n",
       "      <td>13.0</td>\n",
       "      <td>12.0</td>\n",
       "      <td>10.0</td>\n",
       "    </tr>\n",
       "    <tr>\n",
       "      <th>110</th>\n",
       "      <td>9.1</td>\n",
       "      <td>49.55</td>\n",
       "      <td>19.0</td>\n",
       "      <td>1.7272</td>\n",
       "      <td>76.0</td>\n",
       "      <td>13.0</td>\n",
       "      <td>11.0</td>\n",
       "      <td>11.0</td>\n",
       "    </tr>\n",
       "    <tr>\n",
       "      <th>184</th>\n",
       "      <td>5.2</td>\n",
       "      <td>84.46</td>\n",
       "      <td>19.0</td>\n",
       "      <td>1.2666</td>\n",
       "      <td>78.0</td>\n",
       "      <td>15.0</td>\n",
       "      <td>15.0</td>\n",
       "      <td>15.0</td>\n",
       "    </tr>\n",
       "    <tr>\n",
       "      <th>202</th>\n",
       "      <td>2.3</td>\n",
       "      <td>94.30</td>\n",
       "      <td>11.0</td>\n",
       "      <td>1.2222</td>\n",
       "      <td>38.0</td>\n",
       "      <td>9.0</td>\n",
       "      <td>9.0</td>\n",
       "      <td>9.0</td>\n",
       "    </tr>\n",
       "  </tbody>\n",
       "</table>\n",
       "</div>"
      ],
      "text/plain": [
       "       0      1     2       3     4     5     6     7\n",
       "85   9.2  34.62   6.0  1.9997  18.0   5.0   3.0   3.0\n",
       "89   6.8  67.76  18.0  1.5000  59.0  13.0  12.0  10.0\n",
       "110  9.1  49.55  19.0  1.7272  76.0  13.0  11.0  11.0\n",
       "184  5.2  84.46  19.0  1.2666  78.0  15.0  15.0  15.0\n",
       "202  2.3  94.30  11.0  1.2222  38.0   9.0   9.0   9.0"
      ]
     },
     "execution_count": 489,
     "metadata": {},
     "output_type": "execute_result"
    }
   ],
   "source": [
    "of_counts_tr.head()"
   ]
  },
  {
   "cell_type": "code",
   "execution_count": 491,
   "metadata": {
    "colab": {},
    "colab_type": "code",
    "id": "8N_fFXxtPzIu"
   },
   "outputs": [],
   "source": [
    "of_counts_tr.columns=other_features_names"
   ]
  },
  {
   "cell_type": "code",
   "execution_count": 361,
   "metadata": {
    "colab": {
     "base_uri": "https://localhost:8080/",
     "height": 202
    },
    "colab_type": "code",
    "id": "yp8nF10nWDxv",
    "outputId": "75de33a6-a1e4-477f-fccc-597bf174c4b3"
   },
   "outputs": [
    {
     "data": {
      "text/html": [
       "<div>\n",
       "<style scoped>\n",
       "    .dataframe tbody tr th:only-of-type {\n",
       "        vertical-align: middle;\n",
       "    }\n",
       "\n",
       "    .dataframe tbody tr th {\n",
       "        vertical-align: top;\n",
       "    }\n",
       "\n",
       "    .dataframe thead th {\n",
       "        text-align: right;\n",
       "    }\n",
       "</style>\n",
       "<table border=\"1\" class=\"dataframe\">\n",
       "  <thead>\n",
       "    <tr style=\"text-align: right;\">\n",
       "      <th></th>\n",
       "      <th>FKRA</th>\n",
       "      <th>FRE</th>\n",
       "      <th>num_syllables</th>\n",
       "      <th>avg_syl_per_word</th>\n",
       "      <th>num_chars</th>\n",
       "      <th>num_terms</th>\n",
       "      <th>num_words</th>\n",
       "      <th>num_unique_words</th>\n",
       "    </tr>\n",
       "  </thead>\n",
       "  <tbody>\n",
       "    <tr>\n",
       "      <th>16448</th>\n",
       "      <td>8.3</td>\n",
       "      <td>76.82</td>\n",
       "      <td>29.0</td>\n",
       "      <td>1.2609</td>\n",
       "      <td>119.0</td>\n",
       "      <td>23.0</td>\n",
       "      <td>23.0</td>\n",
       "      <td>20.0</td>\n",
       "    </tr>\n",
       "    <tr>\n",
       "      <th>23858</th>\n",
       "      <td>0.1</td>\n",
       "      <td>112.09</td>\n",
       "      <td>10.0</td>\n",
       "      <td>1.0000</td>\n",
       "      <td>38.0</td>\n",
       "      <td>10.0</td>\n",
       "      <td>10.0</td>\n",
       "      <td>10.0</td>\n",
       "    </tr>\n",
       "    <tr>\n",
       "      <th>316</th>\n",
       "      <td>2.5</td>\n",
       "      <td>95.17</td>\n",
       "      <td>12.0</td>\n",
       "      <td>1.2000</td>\n",
       "      <td>50.0</td>\n",
       "      <td>10.0</td>\n",
       "      <td>10.0</td>\n",
       "      <td>9.0</td>\n",
       "    </tr>\n",
       "    <tr>\n",
       "      <th>999</th>\n",
       "      <td>2.3</td>\n",
       "      <td>92.97</td>\n",
       "      <td>10.0</td>\n",
       "      <td>1.2500</td>\n",
       "      <td>85.0</td>\n",
       "      <td>9.0</td>\n",
       "      <td>8.0</td>\n",
       "      <td>8.0</td>\n",
       "    </tr>\n",
       "    <tr>\n",
       "      <th>7137</th>\n",
       "      <td>8.0</td>\n",
       "      <td>71.78</td>\n",
       "      <td>26.0</td>\n",
       "      <td>1.3684</td>\n",
       "      <td>96.0</td>\n",
       "      <td>20.0</td>\n",
       "      <td>19.0</td>\n",
       "      <td>18.0</td>\n",
       "    </tr>\n",
       "  </tbody>\n",
       "</table>\n",
       "</div>"
      ],
      "text/plain": [
       "       FKRA     FRE  num_syllables  avg_syl_per_word  num_chars  num_terms  \\\n",
       "16448   8.3   76.82           29.0            1.2609      119.0       23.0   \n",
       "23858   0.1  112.09           10.0            1.0000       38.0       10.0   \n",
       "316     2.5   95.17           12.0            1.2000       50.0       10.0   \n",
       "999     2.3   92.97           10.0            1.2500       85.0        9.0   \n",
       "7137    8.0   71.78           26.0            1.3684       96.0       20.0   \n",
       "\n",
       "       num_words  num_unique_words  \n",
       "16448       23.0              20.0  \n",
       "23858       10.0              10.0  \n",
       "316         10.0               9.0  \n",
       "999          8.0               8.0  \n",
       "7137        19.0              18.0  "
      ]
     },
     "execution_count": 361,
     "metadata": {},
     "output_type": "execute_result"
    }
   ],
   "source": [
    "of_counts_tr.head()"
   ]
  },
  {
   "cell_type": "code",
   "execution_count": 492,
   "metadata": {
    "colab": {
     "base_uri": "https://localhost:8080/",
     "height": 1949
    },
    "colab_type": "code",
    "id": "OLdSjcJ7P9SH",
    "outputId": "6fd9e7fb-2b0b-4399-b65b-af4bae4fc0a4"
   },
   "outputs": [
    {
     "data": {
      "text/html": [
       "<div>\n",
       "<style scoped>\n",
       "    .dataframe tbody tr th:only-of-type {\n",
       "        vertical-align: middle;\n",
       "    }\n",
       "\n",
       "    .dataframe tbody tr th {\n",
       "        vertical-align: top;\n",
       "    }\n",
       "\n",
       "    .dataframe thead th {\n",
       "        text-align: right;\n",
       "    }\n",
       "</style>\n",
       "<table border=\"1\" class=\"dataframe\">\n",
       "  <thead>\n",
       "    <tr style=\"text-align: right;\">\n",
       "      <th></th>\n",
       "      <th>tweet</th>\n",
       "    </tr>\n",
       "  </thead>\n",
       "  <tbody>\n",
       "    <tr>\n",
       "      <th>85</th>\n",
       "      <td>\"@Blackman38Tide: @WhaleLookyHere @HowdyDowdy1...</td>\n",
       "    </tr>\n",
       "    <tr>\n",
       "      <th>89</th>\n",
       "      <td>\"@CB_Baby24: @white_thunduh alsarabsss\" hes a ...</td>\n",
       "    </tr>\n",
       "    <tr>\n",
       "      <th>110</th>\n",
       "      <td>\"@DevilGrimz: @VigxRArts you're fucking gay, b...</td>\n",
       "    </tr>\n",
       "    <tr>\n",
       "      <th>184</th>\n",
       "      <td>\"@MarkRoundtreeJr: LMFAOOOO I HATE BLACK PEOPL...</td>\n",
       "    </tr>\n",
       "    <tr>\n",
       "      <th>202</th>\n",
       "      <td>\"@NoChillPaz: \"At least I'm not a nigger\" http...</td>\n",
       "    </tr>\n",
       "    <tr>\n",
       "      <th>204</th>\n",
       "      <td>\"@NotoriousBM95: @_WhitePonyJr_ Ariza is a sna...</td>\n",
       "    </tr>\n",
       "    <tr>\n",
       "      <th>219</th>\n",
       "      <td>\"@RTNBA: Drakes new shoes that will be release...</td>\n",
       "    </tr>\n",
       "    <tr>\n",
       "      <th>260</th>\n",
       "      <td>\"@TheoMaxximus: #GerrysHalloweenParty http://t...</td>\n",
       "    </tr>\n",
       "    <tr>\n",
       "      <th>312</th>\n",
       "      <td>\"@ashlingwilde: @ItsNotAdam is bored supposed ...</td>\n",
       "    </tr>\n",
       "    <tr>\n",
       "      <th>315</th>\n",
       "      <td>\"@bigbootybishopp: @white_thunduh lassen cc , ...</td>\n",
       "    </tr>\n",
       "    <tr>\n",
       "      <th>349</th>\n",
       "      <td>\"@jayswaggkillah: Jackies a retard #blondeprob...</td>\n",
       "    </tr>\n",
       "    <tr>\n",
       "      <th>352</th>\n",
       "      <td>\"@jgabsss: Stacey Dash won &amp;#128166; http://t....</td>\n",
       "    </tr>\n",
       "    <tr>\n",
       "      <th>437</th>\n",
       "      <td>\"Don't worry about the nigga you see, worry ab...</td>\n",
       "    </tr>\n",
       "    <tr>\n",
       "      <th>459</th>\n",
       "      <td>\"Hey go look at that video of the man that fou...</td>\n",
       "    </tr>\n",
       "    <tr>\n",
       "      <th>519</th>\n",
       "      <td>\"Let's kill cracker babies!\". WTF did I just h...</td>\n",
       "    </tr>\n",
       "    <tr>\n",
       "      <th>526</th>\n",
       "      <td>\"My grandma used to call me a porch monkey all...</td>\n",
       "    </tr>\n",
       "    <tr>\n",
       "      <th>531</th>\n",
       "      <td>\"Nah its You @NoMeek_JustMilz: &amp;#128514;&amp;#1285...</td>\n",
       "    </tr>\n",
       "    <tr>\n",
       "      <th>540</th>\n",
       "      <td>\"Our people\". Now is the time for the Aryan ra...</td>\n",
       "    </tr>\n",
       "    <tr>\n",
       "      <th>565</th>\n",
       "      <td>\"These sour apple bitter bitches, I'm not fuck...</td>\n",
       "    </tr>\n",
       "    <tr>\n",
       "      <th>582</th>\n",
       "      <td>\"We hate niggers, we hate faggots and we hate ...</td>\n",
       "    </tr>\n",
       "    <tr>\n",
       "      <th>583</th>\n",
       "      <td>\"We're out here, and we're queer!\"\\n\" 2, 4, 6,...</td>\n",
       "    </tr>\n",
       "    <tr>\n",
       "      <th>587</th>\n",
       "      <td>\"Who the fuck you callin jiggaboo, nigga?!\"</td>\n",
       "    </tr>\n",
       "    <tr>\n",
       "      <th>588</th>\n",
       "      <td>\"Why people think gay marriage is okay is beyo...</td>\n",
       "    </tr>\n",
       "    <tr>\n",
       "      <th>603</th>\n",
       "      <td>\"You ain't gunna do shit spear chucker\"</td>\n",
       "    </tr>\n",
       "    <tr>\n",
       "      <th>614</th>\n",
       "      <td>\"You ol trout mouth ass bitch\" \\nDEEEEAAAADD</td>\n",
       "    </tr>\n",
       "    <tr>\n",
       "      <th>625</th>\n",
       "      <td>\"ayo i even kill handicapped and crippled bitc...</td>\n",
       "    </tr>\n",
       "    <tr>\n",
       "      <th>635</th>\n",
       "      <td>\"fuck you you pussy ass hater go suck a dick a...</td>\n",
       "    </tr>\n",
       "    <tr>\n",
       "      <th>646</th>\n",
       "      <td>\"on my way to fuck your bitch in the name of T...</td>\n",
       "    </tr>\n",
       "    <tr>\n",
       "      <th>647</th>\n",
       "      <td>\"poor whitey\" http://t.co/3UkKeyznz8</td>\n",
       "    </tr>\n",
       "    <tr>\n",
       "      <th>663</th>\n",
       "      <td>#AZmonsoon lot of rain, too bad it wasn't enou...</td>\n",
       "    </tr>\n",
       "    <tr>\n",
       "      <th>...</th>\n",
       "      <td>...</td>\n",
       "    </tr>\n",
       "    <tr>\n",
       "      <th>1027</th>\n",
       "      <td>&amp;#128543; &amp;#8220;@DubPeeWorld: So the new wave...</td>\n",
       "    </tr>\n",
       "    <tr>\n",
       "      <th>1028</th>\n",
       "      <td>&amp;#128553; cunt</td>\n",
       "    </tr>\n",
       "    <tr>\n",
       "      <th>1029</th>\n",
       "      <td>&amp;#128553; monkey mad</td>\n",
       "    </tr>\n",
       "    <tr>\n",
       "      <th>1030</th>\n",
       "      <td>&amp;#128553;&amp;#128514; RT @willieBEAMINN: @_VinChi...</td>\n",
       "    </tr>\n",
       "    <tr>\n",
       "      <th>1031</th>\n",
       "      <td>&amp;#128553;&amp;#128553;&amp;#128514; damn roaches got d...</td>\n",
       "    </tr>\n",
       "    <tr>\n",
       "      <th>1032</th>\n",
       "      <td>&amp;#128553;&amp;#128553;&amp;#128514;&amp;#128557;&amp;#128557; ...</td>\n",
       "    </tr>\n",
       "    <tr>\n",
       "      <th>1033</th>\n",
       "      <td>&amp;#128553;&amp;#128557; RT @Freegeezy17: My Co work...</td>\n",
       "    </tr>\n",
       "    <tr>\n",
       "      <th>1034</th>\n",
       "      <td>&amp;#128553;&amp;#128557; RT @KingHov1313: Fox8 got d...</td>\n",
       "    </tr>\n",
       "    <tr>\n",
       "      <th>1035</th>\n",
       "      <td>&amp;#128555;&amp;#128555;&amp;#128555;&amp;#128555;&amp;#128555;&amp;...</td>\n",
       "    </tr>\n",
       "    <tr>\n",
       "      <th>1036</th>\n",
       "      <td>&amp;#128555;ugly bitches get no love</td>\n",
       "    </tr>\n",
       "    <tr>\n",
       "      <th>1037</th>\n",
       "      <td>&amp;#128557; RT @KingHov1313: I be thinkin Errbod...</td>\n",
       "    </tr>\n",
       "    <tr>\n",
       "      <th>1038</th>\n",
       "      <td>&amp;#128557; RT @That_Mclovin: &amp;#8220;Yass bitch ...</td>\n",
       "    </tr>\n",
       "    <tr>\n",
       "      <th>1039</th>\n",
       "      <td>&amp;#128557; RT @TrashAssTweets: When you wake up...</td>\n",
       "    </tr>\n",
       "    <tr>\n",
       "      <th>1040</th>\n",
       "      <td>&amp;#128557; RT @red_daddy17: But wait if he got ...</td>\n",
       "    </tr>\n",
       "    <tr>\n",
       "      <th>1041</th>\n",
       "      <td>&amp;#128557;&amp;#128557; &amp;#8220;@_____AL: Y'all be t...</td>\n",
       "    </tr>\n",
       "    <tr>\n",
       "      <th>1042</th>\n",
       "      <td>&amp;#128557;&amp;#128557; RT @KingHorseDick: Welp RT ...</td>\n",
       "    </tr>\n",
       "    <tr>\n",
       "      <th>1043</th>\n",
       "      <td>&amp;#128557;&amp;#128557; RT @KingHov1313: Niggaz get...</td>\n",
       "    </tr>\n",
       "    <tr>\n",
       "      <th>1044</th>\n",
       "      <td>&amp;#128557;&amp;#128557;&amp;#128557; Foh RT @MizzCreme:...</td>\n",
       "    </tr>\n",
       "    <tr>\n",
       "      <th>1045</th>\n",
       "      <td>&amp;#128557;&amp;#128557;&amp;#128557; RT @EsckmoTrent: I...</td>\n",
       "    </tr>\n",
       "    <tr>\n",
       "      <th>1046</th>\n",
       "      <td>&amp;#128557;&amp;#128557;&amp;#128557; RT @VineForTheByrd...</td>\n",
       "    </tr>\n",
       "    <tr>\n",
       "      <th>1047</th>\n",
       "      <td>&amp;#128557;&amp;#128557;&amp;#128557; RT @tryna_be_famou...</td>\n",
       "    </tr>\n",
       "    <tr>\n",
       "      <th>1048</th>\n",
       "      <td>&amp;#128557;&amp;#128557;&amp;#128557;&amp;#128530; RT @KingH...</td>\n",
       "    </tr>\n",
       "    <tr>\n",
       "      <th>1049</th>\n",
       "      <td>&amp;#128557;&amp;#128557;&amp;#128557;&amp;#128557;&amp;#128557;&amp;...</td>\n",
       "    </tr>\n",
       "    <tr>\n",
       "      <th>1050</th>\n",
       "      <td>&amp;#128561;that bitch is from Moreno Valley........</td>\n",
       "    </tr>\n",
       "    <tr>\n",
       "      <th>1052</th>\n",
       "      <td>&amp;#128563; RT @Pr3ttyN33: &amp;#8220;@11wdNICK: I t...</td>\n",
       "    </tr>\n",
       "    <tr>\n",
       "      <th>1053</th>\n",
       "      <td>&amp;#128563; RT @UBoyRock17: &amp;#128557;&amp;#128557;&amp;#...</td>\n",
       "    </tr>\n",
       "    <tr>\n",
       "      <th>1054</th>\n",
       "      <td>&amp;#128563; RT @ariluvsall: Niccas y'all need li...</td>\n",
       "    </tr>\n",
       "    <tr>\n",
       "      <th>1055</th>\n",
       "      <td>&amp;#128563;&amp;#128563;&amp;#128563; RT @winterlove___:...</td>\n",
       "    </tr>\n",
       "    <tr>\n",
       "      <th>1056</th>\n",
       "      <td>&amp;#128563;Oh this bitch Midy must be crazy http...</td>\n",
       "    </tr>\n",
       "    <tr>\n",
       "      <th>1057</th>\n",
       "      <td>&amp;#128563;well damn.. RT @JackTheJokster: When ...</td>\n",
       "    </tr>\n",
       "  </tbody>\n",
       "</table>\n",
       "<p>2430 rows × 1 columns</p>\n",
       "</div>"
      ],
      "text/plain": [
       "                                                  tweet\n",
       "85    \"@Blackman38Tide: @WhaleLookyHere @HowdyDowdy1...\n",
       "89    \"@CB_Baby24: @white_thunduh alsarabsss\" hes a ...\n",
       "110   \"@DevilGrimz: @VigxRArts you're fucking gay, b...\n",
       "184   \"@MarkRoundtreeJr: LMFAOOOO I HATE BLACK PEOPL...\n",
       "202   \"@NoChillPaz: \"At least I'm not a nigger\" http...\n",
       "204   \"@NotoriousBM95: @_WhitePonyJr_ Ariza is a sna...\n",
       "219   \"@RTNBA: Drakes new shoes that will be release...\n",
       "260   \"@TheoMaxximus: #GerrysHalloweenParty http://t...\n",
       "312   \"@ashlingwilde: @ItsNotAdam is bored supposed ...\n",
       "315   \"@bigbootybishopp: @white_thunduh lassen cc , ...\n",
       "349   \"@jayswaggkillah: Jackies a retard #blondeprob...\n",
       "352   \"@jgabsss: Stacey Dash won &#128166; http://t....\n",
       "437   \"Don't worry about the nigga you see, worry ab...\n",
       "459   \"Hey go look at that video of the man that fou...\n",
       "519   \"Let's kill cracker babies!\". WTF did I just h...\n",
       "526   \"My grandma used to call me a porch monkey all...\n",
       "531   \"Nah its You @NoMeek_JustMilz: &#128514;&#1285...\n",
       "540   \"Our people\". Now is the time for the Aryan ra...\n",
       "565   \"These sour apple bitter bitches, I'm not fuck...\n",
       "582   \"We hate niggers, we hate faggots and we hate ...\n",
       "583   \"We're out here, and we're queer!\"\\n\" 2, 4, 6,...\n",
       "587         \"Who the fuck you callin jiggaboo, nigga?!\"\n",
       "588   \"Why people think gay marriage is okay is beyo...\n",
       "603             \"You ain't gunna do shit spear chucker\"\n",
       "614        \"You ol trout mouth ass bitch\" \\nDEEEEAAAADD\n",
       "625   \"ayo i even kill handicapped and crippled bitc...\n",
       "635   \"fuck you you pussy ass hater go suck a dick a...\n",
       "646   \"on my way to fuck your bitch in the name of T...\n",
       "647                \"poor whitey\" http://t.co/3UkKeyznz8\n",
       "663   #AZmonsoon lot of rain, too bad it wasn't enou...\n",
       "...                                                 ...\n",
       "1027  &#128543; &#8220;@DubPeeWorld: So the new wave...\n",
       "1028                                     &#128553; cunt\n",
       "1029                               &#128553; monkey mad\n",
       "1030  &#128553;&#128514; RT @willieBEAMINN: @_VinChi...\n",
       "1031  &#128553;&#128553;&#128514; damn roaches got d...\n",
       "1032  &#128553;&#128553;&#128514;&#128557;&#128557; ...\n",
       "1033  &#128553;&#128557; RT @Freegeezy17: My Co work...\n",
       "1034  &#128553;&#128557; RT @KingHov1313: Fox8 got d...\n",
       "1035  &#128555;&#128555;&#128555;&#128555;&#128555;&...\n",
       "1036                  &#128555;ugly bitches get no love\n",
       "1037  &#128557; RT @KingHov1313: I be thinkin Errbod...\n",
       "1038  &#128557; RT @That_Mclovin: &#8220;Yass bitch ...\n",
       "1039  &#128557; RT @TrashAssTweets: When you wake up...\n",
       "1040  &#128557; RT @red_daddy17: But wait if he got ...\n",
       "1041  &#128557;&#128557; &#8220;@_____AL: Y'all be t...\n",
       "1042  &#128557;&#128557; RT @KingHorseDick: Welp RT ...\n",
       "1043  &#128557;&#128557; RT @KingHov1313: Niggaz get...\n",
       "1044  &#128557;&#128557;&#128557; Foh RT @MizzCreme:...\n",
       "1045  &#128557;&#128557;&#128557; RT @EsckmoTrent: I...\n",
       "1046  &#128557;&#128557;&#128557; RT @VineForTheByrd...\n",
       "1047  &#128557;&#128557;&#128557; RT @tryna_be_famou...\n",
       "1048  &#128557;&#128557;&#128557;&#128530; RT @KingH...\n",
       "1049  &#128557;&#128557;&#128557;&#128557;&#128557;&...\n",
       "1050  &#128561;that bitch is from Moreno Valley........\n",
       "1052  &#128563; RT @Pr3ttyN33: &#8220;@11wdNICK: I t...\n",
       "1053  &#128563; RT @UBoyRock17: &#128557;&#128557;&#...\n",
       "1054  &#128563; RT @ariluvsall: Niccas y'all need li...\n",
       "1055  &#128563;&#128563;&#128563; RT @winterlove___:...\n",
       "1056  &#128563;Oh this bitch Midy must be crazy http...\n",
       "1057  &#128563;well damn.. RT @JackTheJokster: When ...\n",
       "\n",
       "[2430 rows x 1 columns]"
      ]
     },
     "execution_count": 492,
     "metadata": {},
     "output_type": "execute_result"
    }
   ],
   "source": [
    "df_train.drop([ \"sent\",\"counts\"], axis=1)"
   ]
  },
  {
   "cell_type": "code",
   "execution_count": 493,
   "metadata": {
    "colab": {
     "base_uri": "https://localhost:8080/",
     "height": 104
    },
    "colab_type": "code",
    "id": "tG1DiBDIhXVR",
    "outputId": "598e4b53-6907-40a9-eaef-e5240a942dba"
   },
   "outputs": [
    {
     "name": "stdout",
     "output_type": "stream",
     "text": [
      "2430\n",
      "2430\n",
      "2430\n",
      "2430\n",
      "2430\n"
     ]
    }
   ],
   "source": [
    "for elem in [pd.DataFrame(tfidf_tr),pd.DataFrame(pos_tr),rev_tr,mention_counts_tr, of_counts_tr]:\n",
    "  print(len(elem))\n"
   ]
  },
  {
   "cell_type": "code",
   "execution_count": 494,
   "metadata": {
    "colab": {},
    "colab_type": "code",
    "id": "ccGVS6tvQG8F"
   },
   "outputs": [],
   "source": [
    "# x_train=np.column_stack([tfidf,pos,rev,mention_counts, other_feats])\n",
    "x_train=np.concatenate([pd.DataFrame(tfidf_tr),pd.DataFrame(pos_tr),rev_tr,mention_counts_tr, of_counts_tr],axis=1 )\n",
    "\n",
    "\n",
    "x_train, x_test, y_train, y_test = train_test_split(x_train, y_train, test_size=0.2)\n"
   ]
  },
  {
   "cell_type": "code",
   "execution_count": 495,
   "metadata": {
    "colab": {
     "base_uri": "https://localhost:8080/",
     "height": 35
    },
    "colab_type": "code",
    "id": "wrsf_AxTSp4l",
    "outputId": "c8898c0b-5de7-4931-9642-c6b0c4bd1fce"
   },
   "outputs": [
    {
     "name": "stdout",
     "output_type": "stream",
     "text": [
      "1944\n"
     ]
    }
   ],
   "source": [
    "print(len(x_train))"
   ]
  },
  {
   "cell_type": "code",
   "execution_count": 499,
   "metadata": {
    "colab": {
     "base_uri": "https://localhost:8080/",
     "height": 35
    },
    "colab_type": "code",
    "id": "A3HW9J25V4iJ",
    "outputId": "e33feba9-5d21-45ae-e522-722a3d7cbe2b"
   },
   "outputs": [
    {
     "name": "stdout",
     "output_type": "stream",
     "text": [
      "1944\n"
     ]
    }
   ],
   "source": [
    "print(len(y_train))"
   ]
  },
  {
   "cell_type": "code",
   "execution_count": 500,
   "metadata": {
    "colab": {},
    "colab_type": "code",
    "id": "TuytNTWiXxTN"
   },
   "outputs": [],
   "source": [
    "param_grid = {\"logisticregression__C\": [100,10,1,0.1,0.01],}\n",
    "grid = GridSearchCV(make_pipeline(LogisticRegression(solver=\"sag\"),memory=\"cache_folder\"),param_grid=param_grid, cv=5, scoring=\"roc_auc\")\n"
   ]
  },
  {
   "cell_type": "code",
   "execution_count": 501,
   "metadata": {
    "colab": {
     "base_uri": "https://localhost:8080/",
     "height": 1112
    },
    "colab_type": "code",
    "id": "xHSQeSrIW-Bs",
    "outputId": "d8b44f29-c7e9-4cca-8aa5-9757f28302c8"
   },
   "outputs": [
    {
     "name": "stderr",
     "output_type": "stream",
     "text": [
      "/Users/ankitpeshin/anaconda2/envs/aml/lib/python3.6/site-packages/sklearn/linear_model/sag.py:334: ConvergenceWarning: The max_iter was reached which means the coef_ did not converge\n",
      "  \"the coef_ did not converge\", ConvergenceWarning)\n",
      "/Users/ankitpeshin/anaconda2/envs/aml/lib/python3.6/site-packages/sklearn/linear_model/sag.py:334: ConvergenceWarning: The max_iter was reached which means the coef_ did not converge\n",
      "  \"the coef_ did not converge\", ConvergenceWarning)\n",
      "/Users/ankitpeshin/anaconda2/envs/aml/lib/python3.6/site-packages/sklearn/linear_model/sag.py:334: ConvergenceWarning: The max_iter was reached which means the coef_ did not converge\n",
      "  \"the coef_ did not converge\", ConvergenceWarning)\n",
      "/Users/ankitpeshin/anaconda2/envs/aml/lib/python3.6/site-packages/sklearn/linear_model/sag.py:334: ConvergenceWarning: The max_iter was reached which means the coef_ did not converge\n",
      "  \"the coef_ did not converge\", ConvergenceWarning)\n",
      "/Users/ankitpeshin/anaconda2/envs/aml/lib/python3.6/site-packages/sklearn/linear_model/sag.py:334: ConvergenceWarning: The max_iter was reached which means the coef_ did not converge\n",
      "  \"the coef_ did not converge\", ConvergenceWarning)\n",
      "/Users/ankitpeshin/anaconda2/envs/aml/lib/python3.6/site-packages/sklearn/linear_model/sag.py:334: ConvergenceWarning: The max_iter was reached which means the coef_ did not converge\n",
      "  \"the coef_ did not converge\", ConvergenceWarning)\n",
      "/Users/ankitpeshin/anaconda2/envs/aml/lib/python3.6/site-packages/sklearn/linear_model/sag.py:334: ConvergenceWarning: The max_iter was reached which means the coef_ did not converge\n",
      "  \"the coef_ did not converge\", ConvergenceWarning)\n",
      "/Users/ankitpeshin/anaconda2/envs/aml/lib/python3.6/site-packages/sklearn/linear_model/sag.py:334: ConvergenceWarning: The max_iter was reached which means the coef_ did not converge\n",
      "  \"the coef_ did not converge\", ConvergenceWarning)\n",
      "/Users/ankitpeshin/anaconda2/envs/aml/lib/python3.6/site-packages/sklearn/linear_model/sag.py:334: ConvergenceWarning: The max_iter was reached which means the coef_ did not converge\n",
      "  \"the coef_ did not converge\", ConvergenceWarning)\n",
      "/Users/ankitpeshin/anaconda2/envs/aml/lib/python3.6/site-packages/sklearn/linear_model/sag.py:334: ConvergenceWarning: The max_iter was reached which means the coef_ did not converge\n",
      "  \"the coef_ did not converge\", ConvergenceWarning)\n",
      "/Users/ankitpeshin/anaconda2/envs/aml/lib/python3.6/site-packages/sklearn/linear_model/sag.py:334: ConvergenceWarning: The max_iter was reached which means the coef_ did not converge\n",
      "  \"the coef_ did not converge\", ConvergenceWarning)\n",
      "/Users/ankitpeshin/anaconda2/envs/aml/lib/python3.6/site-packages/sklearn/linear_model/sag.py:334: ConvergenceWarning: The max_iter was reached which means the coef_ did not converge\n",
      "  \"the coef_ did not converge\", ConvergenceWarning)\n",
      "/Users/ankitpeshin/anaconda2/envs/aml/lib/python3.6/site-packages/sklearn/linear_model/sag.py:334: ConvergenceWarning: The max_iter was reached which means the coef_ did not converge\n",
      "  \"the coef_ did not converge\", ConvergenceWarning)\n",
      "/Users/ankitpeshin/anaconda2/envs/aml/lib/python3.6/site-packages/sklearn/linear_model/sag.py:334: ConvergenceWarning: The max_iter was reached which means the coef_ did not converge\n",
      "  \"the coef_ did not converge\", ConvergenceWarning)\n",
      "/Users/ankitpeshin/anaconda2/envs/aml/lib/python3.6/site-packages/sklearn/linear_model/sag.py:334: ConvergenceWarning: The max_iter was reached which means the coef_ did not converge\n",
      "  \"the coef_ did not converge\", ConvergenceWarning)\n",
      "/Users/ankitpeshin/anaconda2/envs/aml/lib/python3.6/site-packages/sklearn/linear_model/sag.py:334: ConvergenceWarning: The max_iter was reached which means the coef_ did not converge\n",
      "  \"the coef_ did not converge\", ConvergenceWarning)\n",
      "/Users/ankitpeshin/anaconda2/envs/aml/lib/python3.6/site-packages/sklearn/linear_model/sag.py:334: ConvergenceWarning: The max_iter was reached which means the coef_ did not converge\n",
      "  \"the coef_ did not converge\", ConvergenceWarning)\n",
      "/Users/ankitpeshin/anaconda2/envs/aml/lib/python3.6/site-packages/sklearn/linear_model/sag.py:334: ConvergenceWarning: The max_iter was reached which means the coef_ did not converge\n",
      "  \"the coef_ did not converge\", ConvergenceWarning)\n",
      "/Users/ankitpeshin/anaconda2/envs/aml/lib/python3.6/site-packages/sklearn/linear_model/sag.py:334: ConvergenceWarning: The max_iter was reached which means the coef_ did not converge\n",
      "  \"the coef_ did not converge\", ConvergenceWarning)\n",
      "/Users/ankitpeshin/anaconda2/envs/aml/lib/python3.6/site-packages/sklearn/linear_model/sag.py:334: ConvergenceWarning: The max_iter was reached which means the coef_ did not converge\n",
      "  \"the coef_ did not converge\", ConvergenceWarning)\n",
      "/Users/ankitpeshin/anaconda2/envs/aml/lib/python3.6/site-packages/sklearn/linear_model/sag.py:334: ConvergenceWarning: The max_iter was reached which means the coef_ did not converge\n",
      "  \"the coef_ did not converge\", ConvergenceWarning)\n",
      "/Users/ankitpeshin/anaconda2/envs/aml/lib/python3.6/site-packages/sklearn/linear_model/sag.py:334: ConvergenceWarning: The max_iter was reached which means the coef_ did not converge\n",
      "  \"the coef_ did not converge\", ConvergenceWarning)\n",
      "/Users/ankitpeshin/anaconda2/envs/aml/lib/python3.6/site-packages/sklearn/linear_model/sag.py:334: ConvergenceWarning: The max_iter was reached which means the coef_ did not converge\n",
      "  \"the coef_ did not converge\", ConvergenceWarning)\n",
      "/Users/ankitpeshin/anaconda2/envs/aml/lib/python3.6/site-packages/sklearn/linear_model/sag.py:334: ConvergenceWarning: The max_iter was reached which means the coef_ did not converge\n",
      "  \"the coef_ did not converge\", ConvergenceWarning)\n",
      "/Users/ankitpeshin/anaconda2/envs/aml/lib/python3.6/site-packages/sklearn/linear_model/sag.py:334: ConvergenceWarning: The max_iter was reached which means the coef_ did not converge\n",
      "  \"the coef_ did not converge\", ConvergenceWarning)\n",
      "/Users/ankitpeshin/anaconda2/envs/aml/lib/python3.6/site-packages/sklearn/linear_model/sag.py:334: ConvergenceWarning: The max_iter was reached which means the coef_ did not converge\n",
      "  \"the coef_ did not converge\", ConvergenceWarning)\n"
     ]
    },
    {
     "data": {
      "text/plain": [
       "GridSearchCV(cv=5, error_score='raise-deprecating',\n",
       "       estimator=Pipeline(memory='cache_folder',\n",
       "     steps=[('logisticregression', LogisticRegression(C=1.0, class_weight=None, dual=False, fit_intercept=True,\n",
       "          intercept_scaling=1, max_iter=100, multi_class='warn',\n",
       "          n_jobs=None, penalty='l2', random_state=None, solver='sag',\n",
       "          tol=0.0001, verbose=0, warm_start=False))]),\n",
       "       fit_params=None, iid='warn', n_jobs=None,\n",
       "       param_grid={'logisticregression__C': [100, 10, 1, 0.1, 0.01]},\n",
       "       pre_dispatch='2*n_jobs', refit=True, return_train_score='warn',\n",
       "       scoring='roc_auc', verbose=0)"
      ]
     },
     "execution_count": 501,
     "metadata": {},
     "output_type": "execute_result"
    }
   ],
   "source": [
    "grid.fit(x_train, y_train)"
   ]
  },
  {
   "cell_type": "code",
   "execution_count": 502,
   "metadata": {
    "colab": {
     "base_uri": "https://localhost:8080/",
     "height": 35
    },
    "colab_type": "code",
    "id": "LFlWaeDjXI4-",
    "outputId": "6695d6e5-6e01-40f6-e3e7-6af298a45df0"
   },
   "outputs": [
    {
     "data": {
      "text/plain": [
       "0.8834181593181153"
      ]
     },
     "execution_count": 502,
     "metadata": {},
     "output_type": "execute_result"
    }
   ],
   "source": [
    "grid.best_score_"
   ]
  },
  {
   "cell_type": "code",
   "execution_count": 503,
   "metadata": {
    "colab": {
     "base_uri": "https://localhost:8080/",
     "height": 783
    },
    "colab_type": "code",
    "id": "Bw2BK3idkUOu",
    "outputId": "7dce03ee-f345-4ffe-c6b7-ef927be665e1"
   },
   "outputs": [
    {
     "name": "stderr",
     "output_type": "stream",
     "text": [
      "/Users/ankitpeshin/anaconda2/envs/aml/lib/python3.6/site-packages/sklearn/utils/deprecation.py:125: FutureWarning: You are accessing a training score ('split0_train_score'), which will not be available by default any more in 0.21. If you need training scores, please set return_train_score=True\n",
      "  warnings.warn(*warn_args, **warn_kwargs)\n",
      "/Users/ankitpeshin/anaconda2/envs/aml/lib/python3.6/site-packages/sklearn/utils/deprecation.py:125: FutureWarning: You are accessing a training score ('split1_train_score'), which will not be available by default any more in 0.21. If you need training scores, please set return_train_score=True\n",
      "  warnings.warn(*warn_args, **warn_kwargs)\n",
      "/Users/ankitpeshin/anaconda2/envs/aml/lib/python3.6/site-packages/sklearn/utils/deprecation.py:125: FutureWarning: You are accessing a training score ('split2_train_score'), which will not be available by default any more in 0.21. If you need training scores, please set return_train_score=True\n",
      "  warnings.warn(*warn_args, **warn_kwargs)\n",
      "/Users/ankitpeshin/anaconda2/envs/aml/lib/python3.6/site-packages/sklearn/utils/deprecation.py:125: FutureWarning: You are accessing a training score ('split3_train_score'), which will not be available by default any more in 0.21. If you need training scores, please set return_train_score=True\n",
      "  warnings.warn(*warn_args, **warn_kwargs)\n",
      "/Users/ankitpeshin/anaconda2/envs/aml/lib/python3.6/site-packages/sklearn/utils/deprecation.py:125: FutureWarning: You are accessing a training score ('split4_train_score'), which will not be available by default any more in 0.21. If you need training scores, please set return_train_score=True\n",
      "  warnings.warn(*warn_args, **warn_kwargs)\n",
      "/Users/ankitpeshin/anaconda2/envs/aml/lib/python3.6/site-packages/sklearn/utils/deprecation.py:125: FutureWarning: You are accessing a training score ('mean_train_score'), which will not be available by default any more in 0.21. If you need training scores, please set return_train_score=True\n",
      "  warnings.warn(*warn_args, **warn_kwargs)\n",
      "/Users/ankitpeshin/anaconda2/envs/aml/lib/python3.6/site-packages/sklearn/utils/deprecation.py:125: FutureWarning: You are accessing a training score ('std_train_score'), which will not be available by default any more in 0.21. If you need training scores, please set return_train_score=True\n",
      "  warnings.warn(*warn_args, **warn_kwargs)\n"
     ]
    },
    {
     "data": {
      "text/plain": [
       "{'mean_fit_time': array([2.16524444, 2.06829972, 1.97672482, 1.9708775 , 2.00960221]),\n",
       " 'std_fit_time': array([0.02475087, 0.04959867, 0.01641614, 0.02279882, 0.03616357]),\n",
       " 'mean_score_time': array([0.00231876, 0.00185647, 0.00178199, 0.00178285, 0.00183835]),\n",
       " 'std_score_time': array([5.37526086e-04, 1.06457951e-04, 2.37134336e-05, 1.70280946e-05,\n",
       "        1.34951706e-04]),\n",
       " 'param_logisticregression__C': masked_array(data=[100, 10, 1, 0.1, 0.01],\n",
       "              mask=[False, False, False, False, False],\n",
       "        fill_value='?',\n",
       "             dtype=object),\n",
       " 'params': [{'logisticregression__C': 100},\n",
       "  {'logisticregression__C': 10},\n",
       "  {'logisticregression__C': 1},\n",
       "  {'logisticregression__C': 0.1},\n",
       "  {'logisticregression__C': 0.01}],\n",
       " 'split0_test_score': array([0.86661198, 0.86691277, 0.86683074, 0.86669401, 0.86445174]),\n",
       " 'split1_test_score': array([0.891277  , 0.89042931, 0.8910309 , 0.89094887, 0.88802297]),\n",
       " 'split2_test_score': array([0.90147662, 0.90196883, 0.90185945, 0.90172272, 0.90030079]),\n",
       " 'split3_test_score': array([0.89026524, 0.88977304, 0.89012852, 0.88977304, 0.88772218]),\n",
       " 'split4_test_score': array([0.86741882, 0.86711613, 0.86719868, 0.86667584, 0.86541002]),\n",
       " 'mean_test_score': array([0.88341816, 0.88324831, 0.883418  , 0.88317138, 0.88118965]),\n",
       " 'std_test_score': array([0.01395006, 0.01393933, 0.0140079 , 0.0140829 , 0.01402586]),\n",
       " 'rank_test_score': array([1, 3, 2, 4, 5], dtype=int32),\n",
       " 'split0_train_score': array([0.96091921, 0.96095515, 0.96083362, 0.96050154, 0.95586957]),\n",
       " 'split1_train_score': array([0.9518076 , 0.9518367 , 0.95175967, 0.95141903, 0.947405  ]),\n",
       " 'split2_train_score': array([0.95227148, 0.95213112, 0.95216193, 0.95181445, 0.94735022]),\n",
       " 'split3_train_score': array([0.95072236, 0.95070524, 0.95072064, 0.95029442, 0.94632489]),\n",
       " 'split4_train_score': array([0.9546264 , 0.95459906, 0.95447771, 0.95423332, 0.9501316 ]),\n",
       " 'mean_train_score': array([0.95406941, 0.95404545, 0.95399072, 0.95365255, 0.94941625]),\n",
       " 'std_train_score': array([0.00365461, 0.00368105, 0.00363532, 0.0036576 , 0.00346488])}"
      ]
     },
     "execution_count": 503,
     "metadata": {},
     "output_type": "execute_result"
    }
   ],
   "source": [
    "grid.cv_results_"
   ]
  },
  {
   "cell_type": "code",
   "execution_count": 504,
   "metadata": {
    "colab": {
     "base_uri": "https://localhost:8080/",
     "height": 35
    },
    "colab_type": "code",
    "id": "AvfyEiJ-jU_-",
    "outputId": "b8130eaa-81b3-4247-f74c-e9922486bf1f"
   },
   "outputs": [
    {
     "data": {
      "text/plain": [
       "{'logisticregression__C': 100}"
      ]
     },
     "execution_count": 504,
     "metadata": {},
     "output_type": "execute_result"
    }
   ],
   "source": [
    "grid.best_params_"
   ]
  },
  {
   "cell_type": "markdown",
   "metadata": {},
   "source": [
    "## Evaluating Model Performance"
   ]
  },
  {
   "cell_type": "code",
   "execution_count": 539,
   "metadata": {
    "colab": {},
    "colab_type": "code",
    "id": "UEQQ0qlfoEAc"
   },
   "outputs": [],
   "source": [
    "from sklearn.feature_selection import SelectFromModel\n",
    "from sklearn.linear_model import LogisticRegression\n",
    "from sklearn.feature_selection import SelectFromModel\n",
    "from sklearn.metrics import classification_report\n",
    "from sklearn.svm import LinearSVC,SVC\n"
   ]
  },
  {
   "cell_type": "markdown",
   "metadata": {},
   "source": [
    "### In-Sample Predictive Performance"
   ]
  },
  {
   "cell_type": "code",
   "execution_count": 620,
   "metadata": {
    "colab": {
     "base_uri": "https://localhost:8080/",
     "height": 107
    },
    "colab_type": "code",
    "id": "W0FHdh_sjZ2L",
    "outputId": "edcde5ea-dfda-4990-c5ff-73c5aa100bac"
   },
   "outputs": [
    {
     "name": "stderr",
     "output_type": "stream",
     "text": [
      "/Users/ankitpeshin/anaconda2/envs/aml/lib/python3.6/site-packages/sklearn/linear_model/logistic.py:433: FutureWarning: Default solver will be changed to 'lbfgs' in 0.22. Specify a solver to silence this warning.\n",
      "  FutureWarning)\n"
     ]
    }
   ],
   "source": [
    "select = SelectFromModel(LogisticRegression(class_weight='balanced',penalty=\"l1\",C=10))\n",
    "X_ = select.fit_transform(x_train,y_train)\n",
    "model = SVC(class_weight='balanced',C=0.01, kernel='linear',probability=True).fit(X_, y_train)\n"
   ]
  },
  {
   "cell_type": "code",
   "execution_count": 621,
   "metadata": {
    "colab": {},
    "colab_type": "code",
    "id": "RxO7iIE2n9n_"
   },
   "outputs": [],
   "source": [
    "y_preds = model.predict(X_)"
   ]
  },
  {
   "cell_type": "code",
   "execution_count": 622,
   "metadata": {
    "colab": {},
    "colab_type": "code",
    "id": "5ByEwRtcoViU"
   },
   "outputs": [],
   "source": [
    "report = classification_report( y_preds, y_train )"
   ]
  },
  {
   "cell_type": "code",
   "execution_count": 623,
   "metadata": {
    "colab": {
     "base_uri": "https://localhost:8080/",
     "height": 173
    },
    "colab_type": "code",
    "id": "b9JFaSo2X3bT",
    "outputId": "adf53784-42f6-4a67-d02c-ca2e47b429f5"
   },
   "outputs": [
    {
     "name": "stdout",
     "output_type": "stream",
     "text": [
      "              precision    recall  f1-score   support\n",
      "\n",
      "           0       0.91      0.97      0.94      1078\n",
      "           1       0.95      0.88      0.91       866\n",
      "\n",
      "   micro avg       0.93      0.93      0.93      1944\n",
      "   macro avg       0.93      0.92      0.92      1944\n",
      "weighted avg       0.93      0.93      0.93      1944\n",
      "\n"
     ]
    }
   ],
   "source": [
    "print(report)"
   ]
  },
  {
   "cell_type": "code",
   "execution_count": 624,
   "metadata": {},
   "outputs": [
    {
     "data": {
      "image/png": "[encoded data removed]",
      "text/plain": [
       "<Figure size 432x288 with 1 Axes>"
      ]
     },
     "metadata": {
      "needs_background": "light"
     },
     "output_type": "display_data"
    }
   ],
   "source": [
    "clf = Pipeline(steps=[('classifier', SVC(class_weight='balanced',C=0.01, kernel='linear',probability=True))])\n",
    "clf.fit(x_train,y_train)\n",
    "\n",
    "proba = cross_val_predict(clf, x_train,y_train, cv=5, method='predict_proba')\n",
    "from sklearn import metrics\n",
    "\n",
    "fpr, tpr, _ = metrics.roc_curve(y_train,  proba[::,1])\n",
    "auc = metrics.roc_auc_score(y_train, proba[::,1])\n",
    "plt.plot(fpr,tpr,label=\"data 1, auc=\"+str(auc))\n",
    "plt.legend(loc=4)\n",
    "plt.title('Model ROC curve')\n",
    "plt.show()"
   ]
  },
  {
   "cell_type": "code",
   "execution_count": 625,
   "metadata": {},
   "outputs": [
    {
     "name": "stderr",
     "output_type": "stream",
     "text": [
      "/Users/ankitpeshin/anaconda2/envs/aml/lib/python3.6/site-packages/sklearn/metrics/classification.py:1143: UndefinedMetricWarning: Precision and F-score are ill-defined and being set to 0.0 in labels with no predicted samples.\n",
      "  'precision', 'predicted', average, warn_for)\n"
     ]
    },
    {
     "data": {
      "text/plain": [
       "<matplotlib.legend.Legend at 0x122fe1ef0>"
      ]
     },
     "execution_count": 625,
     "metadata": {},
     "output_type": "execute_result"
    },
    {
     "data": {
      "image/png": "[encoded data removed]",
      "text/plain": [
       "<Figure size 432x288 with 1 Axes>"
      ]
     },
     "metadata": {
      "needs_background": "light"
     },
     "output_type": "display_data"
    }
   ],
   "source": [
    "from sklearn.metrics import precision_recall_fscore_support as score\n",
    "\n",
    "thresh_range = list(np.arange(0,1,0.1))\n",
    "p_list = list()\n",
    "r_list = list()\n",
    "f_list = list()\n",
    "for threshold in thresh_range:\n",
    "    y_preds = np.where(model.predict_proba(X_)[:,1] > threshold, 1, 0)\n",
    "    precision,recall,fscore,support=score(y_train,y_preds,average='macro')\n",
    "    p_list.append(precision)\n",
    "    r_list.append(recall)\n",
    "    f_list.append(fscore)\n",
    "plt.plot(thresh_range,p_list,label='precision')\n",
    "plt.plot(thresh_range,r_list,label='recall')\n",
    "plt.plot(thresh_range,f_list,label='fscore')\n",
    "plt.title('Precision, Recall and F-score wrt threshold')\n",
    "plt.legend()\n"
   ]
  },
  {
   "cell_type": "markdown",
   "metadata": {},
   "source": [
    "### Out-of-sample Predictive Performance"
   ]
  },
  {
   "cell_type": "code",
   "execution_count": 626,
   "metadata": {},
   "outputs": [],
   "source": [
    "\n",
    "model = SVC(kernel='linear',class_weight='balanced',C=0.01,probability=True).fit(x_train, y_train)\n",
    "\n",
    "y_preds = model.predict(x_test)\n",
    "report = classification_report( y_test, y_preds )"
   ]
  },
  {
   "cell_type": "code",
   "execution_count": 627,
   "metadata": {},
   "outputs": [
    {
     "name": "stdout",
     "output_type": "stream",
     "text": [
      "              precision    recall  f1-score   support\n",
      "\n",
      "           0       0.86      0.81      0.84       280\n",
      "           1       0.76      0.83      0.79       206\n",
      "\n",
      "   micro avg       0.82      0.82      0.82       486\n",
      "   macro avg       0.81      0.82      0.81       486\n",
      "weighted avg       0.82      0.82      0.82       486\n",
      "\n"
     ]
    }
   ],
   "source": [
    "print(report)"
   ]
  },
  {
   "cell_type": "code",
   "execution_count": 609,
   "metadata": {},
   "outputs": [
    {
     "data": {
      "image/png": "[encoded data removed]",
      "text/plain": [
       "<Figure size 432x288 with 1 Axes>"
      ]
     },
     "metadata": {
      "needs_background": "light"
     },
     "output_type": "display_data"
    }
   ],
   "source": [
    "from sklearn.pipeline import Pipeline\n",
    "from sklearn.model_selection import cross_val_predict\n",
    "import matplotlib.pyplot as plt\n",
    "\n",
    "clf = Pipeline(steps=[('classifier', SVC(class_weight='balanced',C=0.01, kernel='linear',probability=True))])\n",
    "clf.fit(x_train,y_train)\n",
    "\n",
    "proba = cross_val_predict(clf, x_test,y_test, cv=5, method='predict_proba')\n",
    "from sklearn import metrics\n",
    "\n",
    "fpr, tpr, _ = metrics.roc_curve(y_test,  proba[::,1])\n",
    "auc = metrics.roc_auc_score(y_test, proba[::,1])\n",
    "plt.plot(fpr,tpr,label=\"data 1, auc=\"+str(auc))\n",
    "plt.legend(loc=4)\n",
    "plt.title('Model ROC curve')\n",
    "plt.show()"
   ]
  },
  {
   "cell_type": "markdown",
   "metadata": {},
   "source": [
    "The AUC falls from 0.878 for in-sample to 0.843 for out-of-sample."
   ]
  },
  {
   "cell_type": "code",
   "execution_count": 628,
   "metadata": {},
   "outputs": [
    {
     "name": "stderr",
     "output_type": "stream",
     "text": [
      "/Users/ankitpeshin/anaconda2/envs/aml/lib/python3.6/site-packages/sklearn/metrics/classification.py:1143: UndefinedMetricWarning: Precision and F-score are ill-defined and being set to 0.0 in labels with no predicted samples.\n",
      "  'precision', 'predicted', average, warn_for)\n"
     ]
    },
    {
     "data": {
      "text/plain": [
       "<matplotlib.legend.Legend at 0x122bdb5c0>"
      ]
     },
     "execution_count": 628,
     "metadata": {},
     "output_type": "execute_result"
    },
    {
     "data": {
      "image/png": "[encoded data removed]",
      "text/plain": [
       "<Figure size 432x288 with 1 Axes>"
      ]
     },
     "metadata": {
      "needs_background": "light"
     },
     "output_type": "display_data"
    }
   ],
   "source": [
    "from sklearn.metrics import precision_recall_fscore_support as score\n",
    "\n",
    "thresh_range = list(np.arange(0,1,0.1))\n",
    "p_list = list()\n",
    "r_list = list()\n",
    "f_list = list()\n",
    "for threshold in thresh_range:\n",
    "    y_preds = np.where(model.predict_proba(x_test)[:,1] > threshold, 1, 0)\n",
    "    precision,recall,fscore,support=score(y_test,y_preds,average='macro')\n",
    "    p_list.append(precision)\n",
    "    r_list.append(recall)\n",
    "    f_list.append(fscore)\n",
    "plt.plot(thresh_range,p_list,label='precision')\n",
    "plt.plot(thresh_range,r_list,label='recall')\n",
    "plt.plot(thresh_range,f_list,label='fscore')\n",
    "plt.title('Precision, Recall and F-score wrt threshold')\n",
    "plt.legend()\n"
   ]
  },
  {
   "cell_type": "markdown",
   "metadata": {},
   "source": [
    "### Effects of Statistical Significance on Predictive Power"
   ]
  },
  {
   "cell_type": "code",
   "execution_count": null,
   "metadata": {},
   "outputs": [],
   "source": [
    "import statsmodels.formula.api as sm\n",
    "def backwardElimination(x, Y, sl, columns):\n",
    "    numVars = len(x[0])\n",
    "    for i in range(0, numVars):\n",
    "        regressor_OLS = sm.OLS(Y, x).fit()\n",
    "        maxVar = max(regressor_OLS.pvalues)\n",
    "        if maxVar > sl:\n",
    "            for j in range(0, numVars - i):\n",
    "                if (regressor_OLS.pvalues[j].astype(float) == maxVar):\n",
    "                    x = np.delete(x, j, 1)\n",
    "                    columns = np.delete(columns, j)\n",
    "                    \n",
    "    regressor_OLS.summary()\n",
    "    return x, columns\n",
    "SL = 0.05\n",
    "data_modeled, selected_columns = backwardElimination(x_train, y_train, SL, range(x_train.shape[1]))\n"
   ]
  },
  {
   "cell_type": "code",
   "execution_count": 639,
   "metadata": {},
   "outputs": [
    {
     "data": {
      "text/plain": [
       "(1944, 2033)"
      ]
     },
     "execution_count": 639,
     "metadata": {},
     "output_type": "execute_result"
    }
   ],
   "source": [
    "x_train[.shape]"
   ]
  },
  {
   "cell_type": "code",
   "execution_count": 152,
   "metadata": {
    "colab": {
     "base_uri": "https://localhost:8080/",
     "height": 689
    },
    "colab_type": "code",
    "id": "isrs4fFwoZKa",
    "outputId": "ca5dc218-fd15-410b-d37c-a15a168c10d5"
   },
   "outputs": [
    {
     "name": "stdout",
     "output_type": "stream",
     "text": [
      "                 A            B\n",
      "count  2430.000000  2430.000000\n",
      "mean      0.411523     0.411934\n",
      "std       0.492211     0.492285\n",
      "min       0.000000     0.000000\n",
      "25%       0.000000     0.000000\n",
      "50%       0.000000     0.000000\n",
      "75%       1.000000     1.000000\n",
      "max       1.000000     1.000000\n"
     ]
    },
    {
     "data": {
      "image/png": "[encoded data removed]",
      "text/plain": [
       "<Figure size 432x288 with 1 Axes>"
      ]
     },
     "metadata": {
      "needs_background": "light"
     },
     "output_type": "display_data"
    },
    {
     "data": {
      "image/png": "[encoded data removed]",
      "text/plain": [
       "<Figure size 432x288 with 2 Axes>"
      ]
     },
     "metadata": {
      "needs_background": "light"
     },
     "output_type": "display_data"
    }
   ],
   "source": [
    "from pandas import read_csv\n",
    "from matplotlib import pyplot\n",
    "import pandas as pd\n",
    "# load results file\n",
    "results = pd.DataFrame()\n",
    "results['A'] = y\n",
    "results['B'] = y_preds\n",
    "# descriptive stats\n",
    "print(results.describe())\n",
    "# box and whisker plot\n",
    "results.boxplot()\n",
    "pyplot.show()\n",
    "# histogram\n",
    "results.hist()\n",
    "pyplot.show()"
   ]
  },
  {
   "cell_type": "code",
   "execution_count": 155,
   "metadata": {
    "colab": {
     "base_uri": "https://localhost:8080/",
     "height": 52
    },
    "colab_type": "code",
    "id": "qI742pGAV47x",
    "outputId": "977e4786-d8ac-42db-a562-63bb31f89dae"
   },
   "outputs": [
    {
     "name": "stdout",
     "output_type": "stream",
     "text": [
      "-0.029140578637050166 0.9767536694548906\n",
      "Samples are likely drawn from the same distributions (fail to reject H0)\n"
     ]
    }
   ],
   "source": [
    "from scipy.stats import ttest_ind\n",
    "value, pvalue = ttest_ind(y, y_preds, equal_var=True)\n",
    "print(value, pvalue)\n",
    "if pvalue > 0.05:\n",
    "\tprint('Samples are likely drawn from the same distributions (fail to reject H0)')\n",
    "else:\n",
    "\tprint('Samples are likely drawn from different distributions (reject H0)')"
   ]
  }
 ],
 "metadata": {
  "colab": {
   "collapsed_sections": [],
   "name": "Replicating MSD.ipynb",
   "provenance": [],
   "toc_visible": true,
   "version": "0.3.2"
  },
  "kernelspec": {
   "display_name": "Python 3",
   "language": "python",
   "name": "python3"
  },
  "language_info": {
   "codemirror_mode": {
    "name": "ipython",
    "version": 3
   },
   "file_extension": ".py",
   "mimetype": "text/x-python",
   "name": "python",
   "nbconvert_exporter": "python",
   "pygments_lexer": "ipython3",
   "version": "3.6.8"
  }
 },
 "nbformat": 4,
 "nbformat_minor": 1
}
