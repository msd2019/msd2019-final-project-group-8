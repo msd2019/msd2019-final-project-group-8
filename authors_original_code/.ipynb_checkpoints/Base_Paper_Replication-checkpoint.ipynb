{
 "cells": [
  {
   "cell_type": "code",
   "execution_count": 1,
   "metadata": {
    "colab": {},
    "colab_type": "code",
    "id": "_1ki86DaRVLa"
   },
   "outputs": [],
   "source": [
    "import pandas as pd"
   ]
  },
  {
   "cell_type": "code",
   "execution_count": 2,
   "metadata": {
    "colab": {},
    "colab_type": "code",
    "id": "hlMuOnSbu087"
   },
   "outputs": [],
   "source": [
    "import numpy as np"
   ]
  },
  {
   "cell_type": "code",
   "execution_count": 3,
   "metadata": {
    "colab": {
     "base_uri": "https://localhost:8080/",
     "height": 124
    },
    "colab_type": "code",
    "id": "aa8OgM7Ou2aD",
    "outputId": "9f9008ea-ce69-4af2-a29d-b4674b79eba4"
   },
   "outputs": [
    {
     "name": "stdout",
     "output_type": "stream",
     "text": [
      "Requirement already satisfied: vaderSentiment in /Users/ankitpeshin/anaconda2/envs/aml/lib/python3.6/site-packages (3.2.1)\r\n"
     ]
    }
   ],
   "source": [
    "!pip install vaderSentiment"
   ]
  },
  {
   "cell_type": "code",
   "execution_count": 80,
   "metadata": {
    "colab": {},
    "colab_type": "code",
    "id": "hegsHcg9u392"
   },
   "outputs": [],
   "source": [
    "from sklearn.feature_extraction.text import CountVectorizer\n",
    "from sklearn.model_selection import train_test_split\n",
    "from sklearn.pipeline import make_pipeline\n",
    "from sklearn.linear_model import LogisticRegression\n",
    "from sklearn.model_selection import cross_val_score\n",
    "from sklearn.model_selection import GridSearchCV\n",
    "from sklearn.feature_extraction.text import TfidfVectorizer, TfidfTransformer\n",
    "import nltk\n",
    "import gensim\n",
    "from nltk.tokenize import sent_tokenize, word_tokenize \n",
    "from vaderSentiment.vaderSentiment import SentimentIntensityAnalyzer\n",
    "from scipy.sparse import hstack\n",
    "from sklearn.metrics import average_precision_score\n",
    "from sklearn.metrics import roc_auc_score\n",
    "from nltk import word_tokenize,sent_tokenize\n",
    "from gensim import corpora\n",
    "from sklearn.pipeline import Pipeline\n",
    "from sklearn.model_selection import cross_val_predict\n",
    "import matplotlib.pyplot as plt\n"
   ]
  },
  {
   "cell_type": "code",
   "execution_count": 81,
   "metadata": {
    "colab": {},
    "colab_type": "code",
    "id": "uVNqjc-ku6gb"
   },
   "outputs": [],
   "source": [
    "df_train = pd.read_csv(\"../data/labeled_data.csv\")[[\"tweet\",\"class\"]]\n",
    "\n",
    "df_train.loc[df_train['class'] == 2, 'class'] = 1"
   ]
  },
  {
   "cell_type": "code",
   "execution_count": 82,
   "metadata": {
    "colab": {
     "base_uri": "https://localhost:8080/",
     "height": 202
    },
    "colab_type": "code",
    "id": "kQCg7uAXu9-m",
    "outputId": "08169bba-1634-4e70-ed29-c7e0c8b7c55d"
   },
   "outputs": [
    {
     "data": {
      "text/html": [
       "<div>\n",
       "<style scoped>\n",
       "    .dataframe tbody tr th:only-of-type {\n",
       "        vertical-align: middle;\n",
       "    }\n",
       "\n",
       "    .dataframe tbody tr th {\n",
       "        vertical-align: top;\n",
       "    }\n",
       "\n",
       "    .dataframe thead th {\n",
       "        text-align: right;\n",
       "    }\n",
       "</style>\n",
       "<table border=\"1\" class=\"dataframe\">\n",
       "  <thead>\n",
       "    <tr style=\"text-align: right;\">\n",
       "      <th></th>\n",
       "      <th>tweet</th>\n",
       "      <th>class</th>\n",
       "    </tr>\n",
       "  </thead>\n",
       "  <tbody>\n",
       "    <tr>\n",
       "      <th>0</th>\n",
       "      <td>!!! RT @mayasolovely: As a woman you shouldn't...</td>\n",
       "      <td>1</td>\n",
       "    </tr>\n",
       "    <tr>\n",
       "      <th>1</th>\n",
       "      <td>!!!!! RT @mleew17: boy dats cold...tyga dwn ba...</td>\n",
       "      <td>1</td>\n",
       "    </tr>\n",
       "    <tr>\n",
       "      <th>2</th>\n",
       "      <td>!!!!!!! RT @UrKindOfBrand Dawg!!!! RT @80sbaby...</td>\n",
       "      <td>1</td>\n",
       "    </tr>\n",
       "    <tr>\n",
       "      <th>3</th>\n",
       "      <td>!!!!!!!!! RT @C_G_Anderson: @viva_based she lo...</td>\n",
       "      <td>1</td>\n",
       "    </tr>\n",
       "    <tr>\n",
       "      <th>4</th>\n",
       "      <td>!!!!!!!!!!!!! RT @ShenikaRoberts: The shit you...</td>\n",
       "      <td>1</td>\n",
       "    </tr>\n",
       "  </tbody>\n",
       "</table>\n",
       "</div>"
      ],
      "text/plain": [
       "                                               tweet  class\n",
       "0  !!! RT @mayasolovely: As a woman you shouldn't...      1\n",
       "1  !!!!! RT @mleew17: boy dats cold...tyga dwn ba...      1\n",
       "2  !!!!!!! RT @UrKindOfBrand Dawg!!!! RT @80sbaby...      1\n",
       "3  !!!!!!!!! RT @C_G_Anderson: @viva_based she lo...      1\n",
       "4  !!!!!!!!!!!!! RT @ShenikaRoberts: The shit you...      1"
      ]
     },
     "execution_count": 82,
     "metadata": {},
     "output_type": "execute_result"
    }
   ],
   "source": [
    "df_train.head()\n"
   ]
  },
  {
   "cell_type": "code",
   "execution_count": 83,
   "metadata": {
    "colab": {
     "base_uri": "https://localhost:8080/",
     "height": 35
    },
    "colab_type": "code",
    "id": "WIvrCqm7vBSy",
    "outputId": "6e00fbd0-5381-4985-abcc-8ce57cd01c01"
   },
   "outputs": [
    {
     "data": {
      "text/plain": [
       "2430"
      ]
     },
     "execution_count": 83,
     "metadata": {},
     "output_type": "execute_result"
    }
   ],
   "source": [
    "X_train = df_train[df_train['class']==0][\"tweet\"]\n",
    "X__train = df_train[df_train['class']==1][\"tweet\"][:1000]\n",
    "X_train = X_train.append(X__train)\n",
    "y_train = df_train[df_train['class']==0][\"class\"]\n",
    "y_train = y_train.append(df_train[df_train['class']==1][\"class\"][:1000])\n",
    "\n",
    "len(X_train)"
   ]
  },
  {
   "cell_type": "code",
   "execution_count": 84,
   "metadata": {
    "colab": {
     "base_uri": "https://localhost:8080/",
     "height": 35
    },
    "colab_type": "code",
    "id": "4pYhf1IKvMKl",
    "outputId": "f128fa13-ef83-4786-d85d-830f793828e5"
   },
   "outputs": [
    {
     "data": {
      "text/plain": [
       "2430"
      ]
     },
     "execution_count": 84,
     "metadata": {},
     "output_type": "execute_result"
    }
   ],
   "source": [
    "len(y_train)"
   ]
  },
  {
   "cell_type": "markdown",
   "metadata": {
    "colab_type": "text",
    "id": "0LdKty67vRGS"
   },
   "source": [
    "##Baseline model"
   ]
  },
  {
   "cell_type": "code",
   "execution_count": 20,
   "metadata": {
    "colab": {
     "base_uri": "https://localhost:8080/",
     "height": 280
    },
    "colab_type": "code",
    "id": "QmSjWYwovQaZ",
    "outputId": "fb207d83-3a0b-4a11-8747-2b432df52df8"
   },
   "outputs": [
    {
     "name": "stdout",
     "output_type": "stream",
     "text": [
      "Cross val score on baseline model\n"
     ]
    },
    {
     "name": "stderr",
     "output_type": "stream",
     "text": [
      "/Users/ankitpeshin/anaconda2/envs/aml/lib/python3.6/site-packages/sklearn/linear_model/sag.py:334: ConvergenceWarning: The max_iter was reached which means the coef_ did not converge\n",
      "  \"the coef_ did not converge\", ConvergenceWarning)\n",
      "/Users/ankitpeshin/anaconda2/envs/aml/lib/python3.6/site-packages/sklearn/linear_model/sag.py:334: ConvergenceWarning: The max_iter was reached which means the coef_ did not converge\n",
      "  \"the coef_ did not converge\", ConvergenceWarning)\n",
      "/Users/ankitpeshin/anaconda2/envs/aml/lib/python3.6/site-packages/sklearn/linear_model/sag.py:334: ConvergenceWarning: The max_iter was reached which means the coef_ did not converge\n",
      "  \"the coef_ did not converge\", ConvergenceWarning)\n",
      "/Users/ankitpeshin/anaconda2/envs/aml/lib/python3.6/site-packages/sklearn/linear_model/sag.py:334: ConvergenceWarning: The max_iter was reached which means the coef_ did not converge\n",
      "  \"the coef_ did not converge\", ConvergenceWarning)\n"
     ]
    },
    {
     "name": "stdout",
     "output_type": "stream",
     "text": [
      "0.8548793706293706\n"
     ]
    },
    {
     "name": "stderr",
     "output_type": "stream",
     "text": [
      "/Users/ankitpeshin/anaconda2/envs/aml/lib/python3.6/site-packages/sklearn/linear_model/sag.py:334: ConvergenceWarning: The max_iter was reached which means the coef_ did not converge\n",
      "  \"the coef_ did not converge\", ConvergenceWarning)\n",
      "/Users/ankitpeshin/anaconda2/envs/aml/lib/python3.6/site-packages/sklearn/linear_model/sag.py:334: ConvergenceWarning: The max_iter was reached which means the coef_ did not converge\n",
      "  \"the coef_ did not converge\", ConvergenceWarning)\n"
     ]
    }
   ],
   "source": [
    "pipe  =  make_pipeline(CountVectorizer(),LogisticRegression(solver=\"sag\"))\n",
    "print(\"Cross val score on baseline model\")\n",
    "pipe.fit(X_train,y_train)\n",
    "print(np.mean(cross_val_score(pipe,X_train,y_train,cv=5,scoring=\"roc_auc\")))"
   ]
  },
  {
   "cell_type": "markdown",
   "metadata": {
    "colab_type": "text",
    "id": "_7CO-FUPvbwV"
   },
   "source": [
    "##Re-implementing the paper"
   ]
  },
  {
   "cell_type": "markdown",
   "metadata": {
    "colab_type": "text",
    "id": "b6YM7zSGv44u"
   },
   "source": [
    "1. Lowercase\n",
    "2. Stem\n",
    "3. bigram, unigram, trigram features, weighted by its tfidf\n",
    "4. POS tag\n",
    "5. FK Grade level\n",
    "6. FK reading ease score\n",
    "7. sentiment scores\n",
    "\n",
    "8. binary indicators for: hashtags, mentions, retweets, urls\n",
    "9. count indicatiors for :hashtags, mentions, retweets, urls\n",
    "10. number of characters\n",
    "11. numbers of words\n",
    "12. number of syllables\n",
    "\n"
   ]
  },
  {
   "cell_type": "code",
   "execution_count": 21,
   "metadata": {
    "colab": {
     "base_uri": "https://localhost:8080/",
     "height": 52
    },
    "colab_type": "code",
    "id": "H_0b2hH3Q2oZ",
    "outputId": "ba420a2d-0d87-448f-cfae-aa1dd1012bc2"
   },
   "outputs": [
    {
     "name": "stderr",
     "output_type": "stream",
     "text": [
      "[nltk_data] Downloading package stopwords to\n",
      "[nltk_data]     /Users/ankitpeshin/nltk_data...\n",
      "[nltk_data]   Package stopwords is already up-to-date!\n"
     ]
    }
   ],
   "source": [
    "nltk.download(\"stopwords\")\n",
    "from nltk.stem.porter import *"
   ]
  },
  {
   "cell_type": "code",
   "execution_count": 22,
   "metadata": {
    "colab": {},
    "colab_type": "code",
    "id": "1P0chojPvYqx"
   },
   "outputs": [],
   "source": [
    "stopwords=stopwords = nltk.corpus.stopwords.words(\"english\")\n",
    "\n",
    "other_exclusions = [\"#ff\", \"ff\", \"rt\",\"RT\"]\n",
    "stopwords.extend(other_exclusions)\n",
    "\n",
    "stemmer = PorterStemmer()\n",
    "\n",
    "def preprocess(text_string):\n",
    "    \n",
    "    #Lowercase string\n",
    "    text_string=text_string.lower()\n",
    "    space_pattern = '\\s+'\n",
    "    giant_url_regex = ('http[s]?://(?:[a-zA-Z]|[0-9]|[$-_@.&+]|'\n",
    "        '[!*\\(\\),]|(?:%[0-9a-fA-F][0-9a-fA-F]))+')\n",
    "    mention_regex = '@[\\w\\-]+'\n",
    "    hashtag_regex = '#[\\w\\-]+'\n",
    "    parsed_text = re.sub(space_pattern, ' ', text_string)\n",
    "    parsed_text = re.sub(giant_url_regex, 'URLHERE', parsed_text)\n",
    "    parsed_text = re.sub(mention_regex, 'MENTIONHERE', parsed_text)\n",
    "    parsed_text = re.sub(hashtag_regex, 'HASHTAGHERE', parsed_text)\n",
    "    \n",
    "    #Stem it\n",
    "    tweet = \" \".join(re.split(\"[^a-zA-Z]*\", parsed_text)).strip()\n",
    "    tokens = [stemmer.stem(t) for t in tweet.split()]\n",
    "    return tokens\n",
    "  \n",
    "  \n",
    "def pos_tag_seq(tokens):\n",
    "    tags = nltk.pos_tag(tokens)\n",
    "    tag_list = [x[1] for x in tags]\n",
    "    tag_str = \" \".join(tag_list)\n",
    "    return tag_str\n",
    "  \n",
    "  "
   ]
  },
  {
   "cell_type": "code",
   "execution_count": 23,
   "metadata": {
    "colab": {},
    "colab_type": "code",
    "id": "BIwfyzsh9dEO"
   },
   "outputs": [],
   "source": [
    "def join_sent(l):\n",
    "  return \" \".join(l)"
   ]
  },
  {
   "cell_type": "code",
   "execution_count": 24,
   "metadata": {
    "colab": {},
    "colab_type": "code",
    "id": "5jKGjGcaTYI3"
   },
   "outputs": [],
   "source": [
    "df_train=pd.DataFrame(X_train)"
   ]
  },
  {
   "cell_type": "code",
   "execution_count": 25,
   "metadata": {
    "colab": {},
    "colab_type": "code",
    "id": "hVkColl0Ti5-"
   },
   "outputs": [],
   "source": [
    "df_train.columns=[\"tweet\"]"
   ]
  },
  {
   "cell_type": "code",
   "execution_count": 26,
   "metadata": {
    "colab": {
     "base_uri": "https://localhost:8080/",
     "height": 202
    },
    "colab_type": "code",
    "id": "XBtZY8XbTqXU",
    "outputId": "cf4148d2-69b0-4d71-e12c-4749e8a8a67f"
   },
   "outputs": [
    {
     "data": {
      "text/html": [
       "<div>\n",
       "<style scoped>\n",
       "    .dataframe tbody tr th:only-of-type {\n",
       "        vertical-align: middle;\n",
       "    }\n",
       "\n",
       "    .dataframe tbody tr th {\n",
       "        vertical-align: top;\n",
       "    }\n",
       "\n",
       "    .dataframe thead th {\n",
       "        text-align: right;\n",
       "    }\n",
       "</style>\n",
       "<table border=\"1\" class=\"dataframe\">\n",
       "  <thead>\n",
       "    <tr style=\"text-align: right;\">\n",
       "      <th></th>\n",
       "      <th>tweet</th>\n",
       "    </tr>\n",
       "  </thead>\n",
       "  <tbody>\n",
       "    <tr>\n",
       "      <th>85</th>\n",
       "      <td>\"@Blackman38Tide: @WhaleLookyHere @HowdyDowdy1...</td>\n",
       "    </tr>\n",
       "    <tr>\n",
       "      <th>89</th>\n",
       "      <td>\"@CB_Baby24: @white_thunduh alsarabsss\" hes a ...</td>\n",
       "    </tr>\n",
       "    <tr>\n",
       "      <th>110</th>\n",
       "      <td>\"@DevilGrimz: @VigxRArts you're fucking gay, b...</td>\n",
       "    </tr>\n",
       "    <tr>\n",
       "      <th>184</th>\n",
       "      <td>\"@MarkRoundtreeJr: LMFAOOOO I HATE BLACK PEOPL...</td>\n",
       "    </tr>\n",
       "    <tr>\n",
       "      <th>202</th>\n",
       "      <td>\"@NoChillPaz: \"At least I'm not a nigger\" http...</td>\n",
       "    </tr>\n",
       "  </tbody>\n",
       "</table>\n",
       "</div>"
      ],
      "text/plain": [
       "                                                 tweet\n",
       "85   \"@Blackman38Tide: @WhaleLookyHere @HowdyDowdy1...\n",
       "89   \"@CB_Baby24: @white_thunduh alsarabsss\" hes a ...\n",
       "110  \"@DevilGrimz: @VigxRArts you're fucking gay, b...\n",
       "184  \"@MarkRoundtreeJr: LMFAOOOO I HATE BLACK PEOPL...\n",
       "202  \"@NoChillPaz: \"At least I'm not a nigger\" http..."
      ]
     },
     "execution_count": 26,
     "metadata": {},
     "output_type": "execute_result"
    }
   ],
   "source": [
    "df_train.head()"
   ]
  },
  {
   "cell_type": "code",
   "execution_count": 27,
   "metadata": {
    "colab": {
     "base_uri": "https://localhost:8080/",
     "height": 52
    },
    "colab_type": "code",
    "id": "mfiVVPJEQqPu",
    "outputId": "455519b9-ade9-45a0-8592-f5055eb4fbfc"
   },
   "outputs": [
    {
     "name": "stderr",
     "output_type": "stream",
     "text": [
      "/Users/ankitpeshin/anaconda2/envs/aml/lib/python3.6/re.py:212: FutureWarning: split() requires a non-empty pattern match.\n",
      "  return _compile(pattern, flags).split(string, maxsplit)\n"
     ]
    }
   ],
   "source": [
    "s_train=df_train['tweet'].apply(preprocess)"
   ]
  },
  {
   "cell_type": "code",
   "execution_count": 28,
   "metadata": {
    "colab": {},
    "colab_type": "code",
    "id": "TUI-yrgjAVXb"
   },
   "outputs": [],
   "source": [
    "s_tr=s_train.apply(join_sent)"
   ]
  },
  {
   "cell_type": "code",
   "execution_count": 29,
   "metadata": {
    "colab": {
     "base_uri": "https://localhost:8080/",
     "height": 69
    },
    "colab_type": "code",
    "id": "ontO83dNTWqp",
    "outputId": "72bb33cd-4054-4112-a2ad-1bdada5295fb"
   },
   "outputs": [
    {
     "name": "stderr",
     "output_type": "stream",
     "text": [
      "[nltk_data] Downloading package averaged_perceptron_tagger to\n",
      "[nltk_data]     /Users/ankitpeshin/nltk_data...\n",
      "[nltk_data]   Package averaged_perceptron_tagger is already up-to-\n",
      "[nltk_data]       date!\n"
     ]
    }
   ],
   "source": [
    "nltk.download('averaged_perceptron_tagger')\n",
    "t_tr=s_train.apply(pos_tag_seq)"
   ]
  },
  {
   "cell_type": "code",
   "execution_count": 30,
   "metadata": {
    "colab": {},
    "colab_type": "code",
    "id": "fU316-WsTNwT"
   },
   "outputs": [],
   "source": [
    "vectorizer = TfidfVectorizer(\n",
    "    preprocessor=None,\n",
    "    lowercase=False,\n",
    "    ngram_range=(1, 3),\n",
    "    use_idf=True,\n",
    "    smooth_idf=False,\n",
    "    norm=None,\n",
    "    stop_words=stopwords,\n",
    "    decode_error='replace',\n",
    "    max_features=10000,\n",
    "    min_df=5,\n",
    "    max_df=0.75\n",
    "    )"
   ]
  },
  {
   "cell_type": "code",
   "execution_count": 31,
   "metadata": {
    "colab": {},
    "colab_type": "code",
    "id": "-UdkR9MG-_Vc"
   },
   "outputs": [],
   "source": [
    "pos_vectorizer = TfidfVectorizer(\n",
    "    tokenizer=None,\n",
    "    lowercase=False,\n",
    "    preprocessor=None,\n",
    "    ngram_range=(1, 3),\n",
    "    stop_words=None,\n",
    "    use_idf=False,\n",
    "    smooth_idf=False,\n",
    "    norm=None,\n",
    "    decode_error='replace',\n",
    "    max_features=5000,\n",
    "    min_df=5,\n",
    "    max_df=0.75,\n",
    "    )"
   ]
  },
  {
   "cell_type": "code",
   "execution_count": 32,
   "metadata": {
    "colab": {},
    "colab_type": "code",
    "id": "GjIbAPqGZ6sR"
   },
   "outputs": [],
   "source": [
    "tfidf_tr = vectorizer.fit_transform(s_tr).toarray()\n",
    "\n",
    "vocab = {v:i for i, v in enumerate(vectorizer.get_feature_names())}\n",
    "idf_vals = vectorizer.idf_\n",
    "idf_dict = {i:idf_vals[i] for i in vocab.values()}"
   ]
  },
  {
   "cell_type": "code",
   "execution_count": 33,
   "metadata": {
    "colab": {},
    "colab_type": "code",
    "id": "6ElfB-H5A4eh"
   },
   "outputs": [],
   "source": [
    "pos_tr = pos_vectorizer.fit_transform(t_tr).toarray()\n",
    "\n",
    "pos_vocab = {v:i for i, v in enumerate(pos_vectorizer.get_feature_names())}"
   ]
  },
  {
   "cell_type": "code",
   "execution_count": 34,
   "metadata": {
    "colab": {},
    "colab_type": "code",
    "id": "kTxPJAbQBBwj"
   },
   "outputs": [],
   "source": [
    "from vaderSentiment.vaderSentiment import SentimentIntensityAnalyzer as VS\n",
    "sentiment_analyzer = VS()\n"
   ]
  },
  {
   "cell_type": "code",
   "execution_count": 35,
   "metadata": {
    "colab": {},
    "colab_type": "code",
    "id": "FH9l_ymsBVsi"
   },
   "outputs": [],
   "source": [
    "def get_sentiment(text):\n",
    "  sentiment = sentiment_analyzer.polarity_scores(text)\n",
    "  return sentiment\n",
    "\n",
    "#   return sentiment[\"neg\"], sentiment[\"pos\"], sentiment[\"neu\"]"
   ]
  },
  {
   "cell_type": "code",
   "execution_count": 36,
   "metadata": {
    "colab": {},
    "colab_type": "code",
    "id": "xkes6ZUlBdun"
   },
   "outputs": [],
   "source": [
    "df_train[\"sent\"]=df_train[\"tweet\"].apply(get_sentiment) "
   ]
  },
  {
   "cell_type": "code",
   "execution_count": 37,
   "metadata": {
    "colab": {
     "base_uri": "https://localhost:8080/",
     "height": 202
    },
    "colab_type": "code",
    "id": "CGdJcLFjFdi2",
    "outputId": "1b8adfe1-5dc4-40e0-a797-00f304833e65"
   },
   "outputs": [
    {
     "data": {
      "text/html": [
       "<div>\n",
       "<style scoped>\n",
       "    .dataframe tbody tr th:only-of-type {\n",
       "        vertical-align: middle;\n",
       "    }\n",
       "\n",
       "    .dataframe tbody tr th {\n",
       "        vertical-align: top;\n",
       "    }\n",
       "\n",
       "    .dataframe thead th {\n",
       "        text-align: right;\n",
       "    }\n",
       "</style>\n",
       "<table border=\"1\" class=\"dataframe\">\n",
       "  <thead>\n",
       "    <tr style=\"text-align: right;\">\n",
       "      <th></th>\n",
       "      <th>tweet</th>\n",
       "      <th>sent</th>\n",
       "    </tr>\n",
       "  </thead>\n",
       "  <tbody>\n",
       "    <tr>\n",
       "      <th>85</th>\n",
       "      <td>\"@Blackman38Tide: @WhaleLookyHere @HowdyDowdy1...</td>\n",
       "      <td>{'neg': 0.0, 'neu': 1.0, 'pos': 0.0, 'compound...</td>\n",
       "    </tr>\n",
       "    <tr>\n",
       "      <th>89</th>\n",
       "      <td>\"@CB_Baby24: @white_thunduh alsarabsss\" hes a ...</td>\n",
       "      <td>{'neg': 0.187, 'neu': 0.813, 'pos': 0.0, 'comp...</td>\n",
       "    </tr>\n",
       "    <tr>\n",
       "      <th>110</th>\n",
       "      <td>\"@DevilGrimz: @VigxRArts you're fucking gay, b...</td>\n",
       "      <td>{'neg': 0.0, 'neu': 1.0, 'pos': 0.0, 'compound...</td>\n",
       "    </tr>\n",
       "    <tr>\n",
       "      <th>184</th>\n",
       "      <td>\"@MarkRoundtreeJr: LMFAOOOO I HATE BLACK PEOPL...</td>\n",
       "      <td>{'neg': 0.254, 'neu': 0.746, 'pos': 0.0, 'comp...</td>\n",
       "    </tr>\n",
       "    <tr>\n",
       "      <th>202</th>\n",
       "      <td>\"@NoChillPaz: \"At least I'm not a nigger\" http...</td>\n",
       "      <td>{'neg': 0.232, 'neu': 0.488, 'pos': 0.28, 'com...</td>\n",
       "    </tr>\n",
       "  </tbody>\n",
       "</table>\n",
       "</div>"
      ],
      "text/plain": [
       "                                                 tweet  \\\n",
       "85   \"@Blackman38Tide: @WhaleLookyHere @HowdyDowdy1...   \n",
       "89   \"@CB_Baby24: @white_thunduh alsarabsss\" hes a ...   \n",
       "110  \"@DevilGrimz: @VigxRArts you're fucking gay, b...   \n",
       "184  \"@MarkRoundtreeJr: LMFAOOOO I HATE BLACK PEOPL...   \n",
       "202  \"@NoChillPaz: \"At least I'm not a nigger\" http...   \n",
       "\n",
       "                                                  sent  \n",
       "85   {'neg': 0.0, 'neu': 1.0, 'pos': 0.0, 'compound...  \n",
       "89   {'neg': 0.187, 'neu': 0.813, 'pos': 0.0, 'comp...  \n",
       "110  {'neg': 0.0, 'neu': 1.0, 'pos': 0.0, 'compound...  \n",
       "184  {'neg': 0.254, 'neu': 0.746, 'pos': 0.0, 'comp...  \n",
       "202  {'neg': 0.232, 'neu': 0.488, 'pos': 0.28, 'com...  "
      ]
     },
     "execution_count": 37,
     "metadata": {},
     "output_type": "execute_result"
    }
   ],
   "source": [
    "df_train.head()"
   ]
  },
  {
   "cell_type": "code",
   "execution_count": 38,
   "metadata": {
    "colab": {},
    "colab_type": "code",
    "id": "P6OWYD3IGfEb"
   },
   "outputs": [],
   "source": [
    "foo_tr = lambda x: pd.Series([x[\"pos\"],x[\"neg\"],x[\"neu\"]])\n",
    "rev_tr = df_train['sent'].apply(foo_tr)\n"
   ]
  },
  {
   "cell_type": "code",
   "execution_count": 39,
   "metadata": {
    "colab": {},
    "colab_type": "code",
    "id": "zK52xDCsHGo8"
   },
   "outputs": [],
   "source": [
    "rev_tr.columns=[\"pos\",\"neg\",\"neu\"]"
   ]
  },
  {
   "cell_type": "code",
   "execution_count": 40,
   "metadata": {
    "colab": {
     "base_uri": "https://localhost:8080/",
     "height": 202
    },
    "colab_type": "code",
    "id": "COsKHAimHIxF",
    "outputId": "a04e7f68-6757-4d1f-aead-987bdb63c985"
   },
   "outputs": [
    {
     "data": {
      "text/html": [
       "<div>\n",
       "<style scoped>\n",
       "    .dataframe tbody tr th:only-of-type {\n",
       "        vertical-align: middle;\n",
       "    }\n",
       "\n",
       "    .dataframe tbody tr th {\n",
       "        vertical-align: top;\n",
       "    }\n",
       "\n",
       "    .dataframe thead th {\n",
       "        text-align: right;\n",
       "    }\n",
       "</style>\n",
       "<table border=\"1\" class=\"dataframe\">\n",
       "  <thead>\n",
       "    <tr style=\"text-align: right;\">\n",
       "      <th></th>\n",
       "      <th>pos</th>\n",
       "      <th>neg</th>\n",
       "      <th>neu</th>\n",
       "    </tr>\n",
       "  </thead>\n",
       "  <tbody>\n",
       "    <tr>\n",
       "      <th>85</th>\n",
       "      <td>0.00</td>\n",
       "      <td>0.000</td>\n",
       "      <td>1.000</td>\n",
       "    </tr>\n",
       "    <tr>\n",
       "      <th>89</th>\n",
       "      <td>0.00</td>\n",
       "      <td>0.187</td>\n",
       "      <td>0.813</td>\n",
       "    </tr>\n",
       "    <tr>\n",
       "      <th>110</th>\n",
       "      <td>0.00</td>\n",
       "      <td>0.000</td>\n",
       "      <td>1.000</td>\n",
       "    </tr>\n",
       "    <tr>\n",
       "      <th>184</th>\n",
       "      <td>0.00</td>\n",
       "      <td>0.254</td>\n",
       "      <td>0.746</td>\n",
       "    </tr>\n",
       "    <tr>\n",
       "      <th>202</th>\n",
       "      <td>0.28</td>\n",
       "      <td>0.232</td>\n",
       "      <td>0.488</td>\n",
       "    </tr>\n",
       "  </tbody>\n",
       "</table>\n",
       "</div>"
      ],
      "text/plain": [
       "      pos    neg    neu\n",
       "85   0.00  0.000  1.000\n",
       "89   0.00  0.187  0.813\n",
       "110  0.00  0.000  1.000\n",
       "184  0.00  0.254  0.746\n",
       "202  0.28  0.232  0.488"
      ]
     },
     "execution_count": 40,
     "metadata": {},
     "output_type": "execute_result"
    }
   ],
   "source": [
    "rev_tr.head()"
   ]
  },
  {
   "cell_type": "markdown",
   "metadata": {
    "colab_type": "text",
    "id": "cYafNXGvIIVt"
   },
   "source": [
    "##Binary count for URL https mentions etc "
   ]
  },
  {
   "cell_type": "code",
   "execution_count": 41,
   "metadata": {
    "colab": {},
    "colab_type": "code",
    "id": "ck29bhNNIMwy"
   },
   "outputs": [],
   "source": [
    "def return_cont(parsed_text):\n",
    "  return(parsed_text.count('urlher'),parsed_text.count('mentionher'),parsed_text.count('hashtagher'))"
   ]
  },
  {
   "cell_type": "code",
   "execution_count": 42,
   "metadata": {
    "colab": {},
    "colab_type": "code",
    "id": "oWSXyarzIb_P"
   },
   "outputs": [],
   "source": [
    "df_train[\"counts\"]=s_tr.apply(return_cont) "
   ]
  },
  {
   "cell_type": "code",
   "execution_count": 43,
   "metadata": {
    "colab": {
     "base_uri": "https://localhost:8080/",
     "height": 121
    },
    "colab_type": "code",
    "id": "YLa-ctKSJOYT",
    "outputId": "af2b7a5f-13ca-45d1-e45c-92fd59bb7ab5"
   },
   "outputs": [
    {
     "data": {
      "text/plain": [
       "85     (0, 3, 0)\n",
       "89     (0, 2, 0)\n",
       "110    (1, 2, 1)\n",
       "184    (1, 1, 0)\n",
       "202    (1, 1, 0)\n",
       "Name: counts, dtype: object"
      ]
     },
     "execution_count": 43,
     "metadata": {},
     "output_type": "execute_result"
    }
   ],
   "source": [
    "df_train[\"counts\"].head()"
   ]
  },
  {
   "cell_type": "code",
   "execution_count": 44,
   "metadata": {
    "colab": {},
    "colab_type": "code",
    "id": "Ak7gCgImJQlS"
   },
   "outputs": [],
   "source": [
    "foo = lambda x: pd.Series([x[0],x[1],x[2]])\n",
    "mention_counts_tr = df_train['counts'].apply(foo)\n"
   ]
  },
  {
   "cell_type": "code",
   "execution_count": 45,
   "metadata": {
    "colab": {
     "base_uri": "https://localhost:8080/",
     "height": 202
    },
    "colab_type": "code",
    "id": "f_cIuZXbJuIA",
    "outputId": "a157b0c0-d34f-4d96-b78f-1c2c7c9d8886"
   },
   "outputs": [
    {
     "data": {
      "text/html": [
       "<div>\n",
       "<style scoped>\n",
       "    .dataframe tbody tr th:only-of-type {\n",
       "        vertical-align: middle;\n",
       "    }\n",
       "\n",
       "    .dataframe tbody tr th {\n",
       "        vertical-align: top;\n",
       "    }\n",
       "\n",
       "    .dataframe thead th {\n",
       "        text-align: right;\n",
       "    }\n",
       "</style>\n",
       "<table border=\"1\" class=\"dataframe\">\n",
       "  <thead>\n",
       "    <tr style=\"text-align: right;\">\n",
       "      <th></th>\n",
       "      <th>0</th>\n",
       "      <th>1</th>\n",
       "      <th>2</th>\n",
       "    </tr>\n",
       "  </thead>\n",
       "  <tbody>\n",
       "    <tr>\n",
       "      <th>85</th>\n",
       "      <td>0</td>\n",
       "      <td>3</td>\n",
       "      <td>0</td>\n",
       "    </tr>\n",
       "    <tr>\n",
       "      <th>89</th>\n",
       "      <td>0</td>\n",
       "      <td>2</td>\n",
       "      <td>0</td>\n",
       "    </tr>\n",
       "    <tr>\n",
       "      <th>110</th>\n",
       "      <td>1</td>\n",
       "      <td>2</td>\n",
       "      <td>1</td>\n",
       "    </tr>\n",
       "    <tr>\n",
       "      <th>184</th>\n",
       "      <td>1</td>\n",
       "      <td>1</td>\n",
       "      <td>0</td>\n",
       "    </tr>\n",
       "    <tr>\n",
       "      <th>202</th>\n",
       "      <td>1</td>\n",
       "      <td>1</td>\n",
       "      <td>0</td>\n",
       "    </tr>\n",
       "  </tbody>\n",
       "</table>\n",
       "</div>"
      ],
      "text/plain": [
       "     0  1  2\n",
       "85   0  3  0\n",
       "89   0  2  0\n",
       "110  1  2  1\n",
       "184  1  1  0\n",
       "202  1  1  0"
      ]
     },
     "execution_count": 45,
     "metadata": {},
     "output_type": "execute_result"
    }
   ],
   "source": [
    "mention_counts_tr.head()"
   ]
  },
  {
   "cell_type": "markdown",
   "metadata": {
    "colab_type": "text",
    "id": "mSIJb-4oJx0-"
   },
   "source": [
    "##FKRA and Flesch and number of syllables etc"
   ]
  },
  {
   "cell_type": "code",
   "execution_count": 46,
   "metadata": {
    "colab": {
     "base_uri": "https://localhost:8080/",
     "height": 193
    },
    "colab_type": "code",
    "id": "yxCy5UqgObNJ",
    "outputId": "db54ca0f-8592-4747-d27b-41ee99ebb8d7"
   },
   "outputs": [
    {
     "name": "stdout",
     "output_type": "stream",
     "text": [
      "Requirement already satisfied: textstat in /Users/ankitpeshin/anaconda2/envs/aml/lib/python3.6/site-packages (0.5.6)\r\n",
      "Requirement already satisfied: pyphen in /Users/ankitpeshin/anaconda2/envs/aml/lib/python3.6/site-packages (from textstat) (0.9.5)\r\n",
      "Requirement already satisfied: repoze.lru in /Users/ankitpeshin/anaconda2/envs/aml/lib/python3.6/site-packages (from textstat) (0.7)\r\n"
     ]
    }
   ],
   "source": [
    "!pip install textstat\n",
    "from textstat.textstat import *"
   ]
  },
  {
   "cell_type": "code",
   "execution_count": 47,
   "metadata": {
    "colab": {},
    "colab_type": "code",
    "id": "H1LY6enHJwdr"
   },
   "outputs": [],
   "source": [
    "def get_other_features(text):\n",
    "    space_pattern = '\\s+'\n",
    "    giant_url_regex = ('http[s]?://(?:[a-zA-Z]|[0-9]|[$-_@.&+]|'\n",
    "        '[!*\\(\\),]|(?:%[0-9a-fA-F][0-9a-fA-F]))+')\n",
    "    mention_regex = '@[\\w\\-]+'\n",
    "    parsed_text = re.sub(space_pattern, ' ', text)\n",
    "    parsed_text = re.sub(giant_url_regex, '', parsed_text)\n",
    "    words = re.sub(mention_regex, '', parsed_text)\n",
    "    \n",
    "    syllables = textstat.syllable_count(words)\n",
    "    num_chars = sum(len(w) for w in words)\n",
    "    num_chars_total = len(text)\n",
    "    num_terms = len(text.split())\n",
    "    num_words = len(words.split())\n",
    "    avg_syl = round(float((syllables+0.001))/float(num_words+0.001),4)\n",
    "    num_unique_terms = len(set(words.split()))\n",
    "    \n",
    "    ###Modified FK grade, where avg words per sentence is just num words/1\n",
    "    FKRA = round(float(0.39 * float(num_words)/1.0) + float(11.8 * avg_syl) - 15.59,1)\n",
    "    ##Modified FRE score, where sentence fixed to 1\n",
    "    FRE = round(206.835 - 1.015*(float(num_words)/1.0) - (84.6*float(avg_syl)),2)\n",
    "    \n",
    "    features = [FKRA, FRE,syllables, avg_syl, num_chars, num_terms, num_words,\n",
    "                num_unique_terms]\n",
    "    return features\n",
    "    \n",
    "  "
   ]
  },
  {
   "cell_type": "code",
   "execution_count": 48,
   "metadata": {
    "colab": {},
    "colab_type": "code",
    "id": "Lq_5yJArONvX"
   },
   "outputs": [],
   "source": [
    "other_feats_tr=df_train[\"tweet\"].apply(get_other_features)"
   ]
  },
  {
   "cell_type": "code",
   "execution_count": 49,
   "metadata": {
    "colab": {
     "base_uri": "https://localhost:8080/",
     "height": 121
    },
    "colab_type": "code",
    "id": "2jUZJA9-OSgq",
    "outputId": "8c5f86c5-4414-4489-c578-40c06eb5ed83"
   },
   "outputs": [
    {
     "data": {
      "text/plain": [
       "85         [9.2, 34.62, 6, 1.9997, 18, 5, 3, 3]\n",
       "89        [6.8, 67.76, 18, 1.5, 59, 13, 12, 10]\n",
       "110    [9.1, 49.55, 19, 1.7272, 76, 13, 11, 11]\n",
       "184    [5.2, 84.46, 19, 1.2666, 78, 15, 15, 15]\n",
       "202        [2.3, 94.3, 11, 1.2222, 38, 9, 9, 9]\n",
       "Name: tweet, dtype: object"
      ]
     },
     "execution_count": 49,
     "metadata": {},
     "output_type": "execute_result"
    }
   ],
   "source": [
    "other_feats_tr.head()"
   ]
  },
  {
   "cell_type": "code",
   "execution_count": 50,
   "metadata": {
    "colab": {},
    "colab_type": "code",
    "id": "H-gNv_dIO1d2"
   },
   "outputs": [],
   "source": [
    "other_features_names = [\"FKRA\", \"FRE\",\"num_syllables\", \"avg_syl_per_word\", \"num_chars\",\"num_terms\", \"num_words\", \"num_unique_words\"]"
   ]
  },
  {
   "cell_type": "code",
   "execution_count": 51,
   "metadata": {
    "colab": {},
    "colab_type": "code",
    "id": "G3VYN6oeWU6H"
   },
   "outputs": [],
   "source": [
    "foo = lambda x: pd.Series(elem for elem in x)\n",
    "of_counts_tr = other_feats_tr.apply(foo)"
   ]
  },
  {
   "cell_type": "code",
   "execution_count": 52,
   "metadata": {
    "colab": {
     "base_uri": "https://localhost:8080/",
     "height": 202
    },
    "colab_type": "code",
    "id": "Rz-96sBOWlgK",
    "outputId": "fda81f58-2bdb-42be-fe0d-595da65ef118"
   },
   "outputs": [
    {
     "data": {
      "text/html": [
       "<div>\n",
       "<style scoped>\n",
       "    .dataframe tbody tr th:only-of-type {\n",
       "        vertical-align: middle;\n",
       "    }\n",
       "\n",
       "    .dataframe tbody tr th {\n",
       "        vertical-align: top;\n",
       "    }\n",
       "\n",
       "    .dataframe thead th {\n",
       "        text-align: right;\n",
       "    }\n",
       "</style>\n",
       "<table border=\"1\" class=\"dataframe\">\n",
       "  <thead>\n",
       "    <tr style=\"text-align: right;\">\n",
       "      <th></th>\n",
       "      <th>0</th>\n",
       "      <th>1</th>\n",
       "      <th>2</th>\n",
       "      <th>3</th>\n",
       "      <th>4</th>\n",
       "      <th>5</th>\n",
       "      <th>6</th>\n",
       "      <th>7</th>\n",
       "    </tr>\n",
       "  </thead>\n",
       "  <tbody>\n",
       "    <tr>\n",
       "      <th>85</th>\n",
       "      <td>9.2</td>\n",
       "      <td>34.62</td>\n",
       "      <td>6.0</td>\n",
       "      <td>1.9997</td>\n",
       "      <td>18.0</td>\n",
       "      <td>5.0</td>\n",
       "      <td>3.0</td>\n",
       "      <td>3.0</td>\n",
       "    </tr>\n",
       "    <tr>\n",
       "      <th>89</th>\n",
       "      <td>6.8</td>\n",
       "      <td>67.76</td>\n",
       "      <td>18.0</td>\n",
       "      <td>1.5000</td>\n",
       "      <td>59.0</td>\n",
       "      <td>13.0</td>\n",
       "      <td>12.0</td>\n",
       "      <td>10.0</td>\n",
       "    </tr>\n",
       "    <tr>\n",
       "      <th>110</th>\n",
       "      <td>9.1</td>\n",
       "      <td>49.55</td>\n",
       "      <td>19.0</td>\n",
       "      <td>1.7272</td>\n",
       "      <td>76.0</td>\n",
       "      <td>13.0</td>\n",
       "      <td>11.0</td>\n",
       "      <td>11.0</td>\n",
       "    </tr>\n",
       "    <tr>\n",
       "      <th>184</th>\n",
       "      <td>5.2</td>\n",
       "      <td>84.46</td>\n",
       "      <td>19.0</td>\n",
       "      <td>1.2666</td>\n",
       "      <td>78.0</td>\n",
       "      <td>15.0</td>\n",
       "      <td>15.0</td>\n",
       "      <td>15.0</td>\n",
       "    </tr>\n",
       "    <tr>\n",
       "      <th>202</th>\n",
       "      <td>2.3</td>\n",
       "      <td>94.30</td>\n",
       "      <td>11.0</td>\n",
       "      <td>1.2222</td>\n",
       "      <td>38.0</td>\n",
       "      <td>9.0</td>\n",
       "      <td>9.0</td>\n",
       "      <td>9.0</td>\n",
       "    </tr>\n",
       "  </tbody>\n",
       "</table>\n",
       "</div>"
      ],
      "text/plain": [
       "       0      1     2       3     4     5     6     7\n",
       "85   9.2  34.62   6.0  1.9997  18.0   5.0   3.0   3.0\n",
       "89   6.8  67.76  18.0  1.5000  59.0  13.0  12.0  10.0\n",
       "110  9.1  49.55  19.0  1.7272  76.0  13.0  11.0  11.0\n",
       "184  5.2  84.46  19.0  1.2666  78.0  15.0  15.0  15.0\n",
       "202  2.3  94.30  11.0  1.2222  38.0   9.0   9.0   9.0"
      ]
     },
     "execution_count": 52,
     "metadata": {},
     "output_type": "execute_result"
    }
   ],
   "source": [
    "of_counts_tr.head()"
   ]
  },
  {
   "cell_type": "code",
   "execution_count": 53,
   "metadata": {
    "colab": {},
    "colab_type": "code",
    "id": "8N_fFXxtPzIu"
   },
   "outputs": [],
   "source": [
    "of_counts_tr.columns=other_features_names"
   ]
  },
  {
   "cell_type": "code",
   "execution_count": 54,
   "metadata": {
    "colab": {
     "base_uri": "https://localhost:8080/",
     "height": 202
    },
    "colab_type": "code",
    "id": "yp8nF10nWDxv",
    "outputId": "75de33a6-a1e4-477f-fccc-597bf174c4b3"
   },
   "outputs": [
    {
     "data": {
      "text/html": [
       "<div>\n",
       "<style scoped>\n",
       "    .dataframe tbody tr th:only-of-type {\n",
       "        vertical-align: middle;\n",
       "    }\n",
       "\n",
       "    .dataframe tbody tr th {\n",
       "        vertical-align: top;\n",
       "    }\n",
       "\n",
       "    .dataframe thead th {\n",
       "        text-align: right;\n",
       "    }\n",
       "</style>\n",
       "<table border=\"1\" class=\"dataframe\">\n",
       "  <thead>\n",
       "    <tr style=\"text-align: right;\">\n",
       "      <th></th>\n",
       "      <th>FKRA</th>\n",
       "      <th>FRE</th>\n",
       "      <th>num_syllables</th>\n",
       "      <th>avg_syl_per_word</th>\n",
       "      <th>num_chars</th>\n",
       "      <th>num_terms</th>\n",
       "      <th>num_words</th>\n",
       "      <th>num_unique_words</th>\n",
       "    </tr>\n",
       "  </thead>\n",
       "  <tbody>\n",
       "    <tr>\n",
       "      <th>85</th>\n",
       "      <td>9.2</td>\n",
       "      <td>34.62</td>\n",
       "      <td>6.0</td>\n",
       "      <td>1.9997</td>\n",
       "      <td>18.0</td>\n",
       "      <td>5.0</td>\n",
       "      <td>3.0</td>\n",
       "      <td>3.0</td>\n",
       "    </tr>\n",
       "    <tr>\n",
       "      <th>89</th>\n",
       "      <td>6.8</td>\n",
       "      <td>67.76</td>\n",
       "      <td>18.0</td>\n",
       "      <td>1.5000</td>\n",
       "      <td>59.0</td>\n",
       "      <td>13.0</td>\n",
       "      <td>12.0</td>\n",
       "      <td>10.0</td>\n",
       "    </tr>\n",
       "    <tr>\n",
       "      <th>110</th>\n",
       "      <td>9.1</td>\n",
       "      <td>49.55</td>\n",
       "      <td>19.0</td>\n",
       "      <td>1.7272</td>\n",
       "      <td>76.0</td>\n",
       "      <td>13.0</td>\n",
       "      <td>11.0</td>\n",
       "      <td>11.0</td>\n",
       "    </tr>\n",
       "    <tr>\n",
       "      <th>184</th>\n",
       "      <td>5.2</td>\n",
       "      <td>84.46</td>\n",
       "      <td>19.0</td>\n",
       "      <td>1.2666</td>\n",
       "      <td>78.0</td>\n",
       "      <td>15.0</td>\n",
       "      <td>15.0</td>\n",
       "      <td>15.0</td>\n",
       "    </tr>\n",
       "    <tr>\n",
       "      <th>202</th>\n",
       "      <td>2.3</td>\n",
       "      <td>94.30</td>\n",
       "      <td>11.0</td>\n",
       "      <td>1.2222</td>\n",
       "      <td>38.0</td>\n",
       "      <td>9.0</td>\n",
       "      <td>9.0</td>\n",
       "      <td>9.0</td>\n",
       "    </tr>\n",
       "  </tbody>\n",
       "</table>\n",
       "</div>"
      ],
      "text/plain": [
       "     FKRA    FRE  num_syllables  avg_syl_per_word  num_chars  num_terms  \\\n",
       "85    9.2  34.62            6.0            1.9997       18.0        5.0   \n",
       "89    6.8  67.76           18.0            1.5000       59.0       13.0   \n",
       "110   9.1  49.55           19.0            1.7272       76.0       13.0   \n",
       "184   5.2  84.46           19.0            1.2666       78.0       15.0   \n",
       "202   2.3  94.30           11.0            1.2222       38.0        9.0   \n",
       "\n",
       "     num_words  num_unique_words  \n",
       "85         3.0               3.0  \n",
       "89        12.0              10.0  \n",
       "110       11.0              11.0  \n",
       "184       15.0              15.0  \n",
       "202        9.0               9.0  "
      ]
     },
     "execution_count": 54,
     "metadata": {},
     "output_type": "execute_result"
    }
   ],
   "source": [
    "of_counts_tr.head()"
   ]
  },
  {
   "cell_type": "code",
   "execution_count": 55,
   "metadata": {
    "colab": {
     "base_uri": "https://localhost:8080/",
     "height": 1949
    },
    "colab_type": "code",
    "id": "OLdSjcJ7P9SH",
    "outputId": "6fd9e7fb-2b0b-4399-b65b-af4bae4fc0a4"
   },
   "outputs": [
    {
     "data": {
      "text/html": [
       "<div>\n",
       "<style scoped>\n",
       "    .dataframe tbody tr th:only-of-type {\n",
       "        vertical-align: middle;\n",
       "    }\n",
       "\n",
       "    .dataframe tbody tr th {\n",
       "        vertical-align: top;\n",
       "    }\n",
       "\n",
       "    .dataframe thead th {\n",
       "        text-align: right;\n",
       "    }\n",
       "</style>\n",
       "<table border=\"1\" class=\"dataframe\">\n",
       "  <thead>\n",
       "    <tr style=\"text-align: right;\">\n",
       "      <th></th>\n",
       "      <th>tweet</th>\n",
       "    </tr>\n",
       "  </thead>\n",
       "  <tbody>\n",
       "    <tr>\n",
       "      <th>85</th>\n",
       "      <td>\"@Blackman38Tide: @WhaleLookyHere @HowdyDowdy1...</td>\n",
       "    </tr>\n",
       "    <tr>\n",
       "      <th>89</th>\n",
       "      <td>\"@CB_Baby24: @white_thunduh alsarabsss\" hes a ...</td>\n",
       "    </tr>\n",
       "    <tr>\n",
       "      <th>110</th>\n",
       "      <td>\"@DevilGrimz: @VigxRArts you're fucking gay, b...</td>\n",
       "    </tr>\n",
       "    <tr>\n",
       "      <th>184</th>\n",
       "      <td>\"@MarkRoundtreeJr: LMFAOOOO I HATE BLACK PEOPL...</td>\n",
       "    </tr>\n",
       "    <tr>\n",
       "      <th>202</th>\n",
       "      <td>\"@NoChillPaz: \"At least I'm not a nigger\" http...</td>\n",
       "    </tr>\n",
       "    <tr>\n",
       "      <th>204</th>\n",
       "      <td>\"@NotoriousBM95: @_WhitePonyJr_ Ariza is a sna...</td>\n",
       "    </tr>\n",
       "    <tr>\n",
       "      <th>219</th>\n",
       "      <td>\"@RTNBA: Drakes new shoes that will be release...</td>\n",
       "    </tr>\n",
       "    <tr>\n",
       "      <th>260</th>\n",
       "      <td>\"@TheoMaxximus: #GerrysHalloweenParty http://t...</td>\n",
       "    </tr>\n",
       "    <tr>\n",
       "      <th>312</th>\n",
       "      <td>\"@ashlingwilde: @ItsNotAdam is bored supposed ...</td>\n",
       "    </tr>\n",
       "    <tr>\n",
       "      <th>315</th>\n",
       "      <td>\"@bigbootybishopp: @white_thunduh lassen cc , ...</td>\n",
       "    </tr>\n",
       "    <tr>\n",
       "      <th>349</th>\n",
       "      <td>\"@jayswaggkillah: Jackies a retard #blondeprob...</td>\n",
       "    </tr>\n",
       "    <tr>\n",
       "      <th>352</th>\n",
       "      <td>\"@jgabsss: Stacey Dash won &amp;#128166; http://t....</td>\n",
       "    </tr>\n",
       "    <tr>\n",
       "      <th>437</th>\n",
       "      <td>\"Don't worry about the nigga you see, worry ab...</td>\n",
       "    </tr>\n",
       "    <tr>\n",
       "      <th>459</th>\n",
       "      <td>\"Hey go look at that video of the man that fou...</td>\n",
       "    </tr>\n",
       "    <tr>\n",
       "      <th>519</th>\n",
       "      <td>\"Let's kill cracker babies!\". WTF did I just h...</td>\n",
       "    </tr>\n",
       "    <tr>\n",
       "      <th>526</th>\n",
       "      <td>\"My grandma used to call me a porch monkey all...</td>\n",
       "    </tr>\n",
       "    <tr>\n",
       "      <th>531</th>\n",
       "      <td>\"Nah its You @NoMeek_JustMilz: &amp;#128514;&amp;#1285...</td>\n",
       "    </tr>\n",
       "    <tr>\n",
       "      <th>540</th>\n",
       "      <td>\"Our people\". Now is the time for the Aryan ra...</td>\n",
       "    </tr>\n",
       "    <tr>\n",
       "      <th>565</th>\n",
       "      <td>\"These sour apple bitter bitches, I'm not fuck...</td>\n",
       "    </tr>\n",
       "    <tr>\n",
       "      <th>582</th>\n",
       "      <td>\"We hate niggers, we hate faggots and we hate ...</td>\n",
       "    </tr>\n",
       "    <tr>\n",
       "      <th>583</th>\n",
       "      <td>\"We're out here, and we're queer!\"\\n\" 2, 4, 6,...</td>\n",
       "    </tr>\n",
       "    <tr>\n",
       "      <th>587</th>\n",
       "      <td>\"Who the fuck you callin jiggaboo, nigga?!\"</td>\n",
       "    </tr>\n",
       "    <tr>\n",
       "      <th>588</th>\n",
       "      <td>\"Why people think gay marriage is okay is beyo...</td>\n",
       "    </tr>\n",
       "    <tr>\n",
       "      <th>603</th>\n",
       "      <td>\"You ain't gunna do shit spear chucker\"</td>\n",
       "    </tr>\n",
       "    <tr>\n",
       "      <th>614</th>\n",
       "      <td>\"You ol trout mouth ass bitch\" \\nDEEEEAAAADD</td>\n",
       "    </tr>\n",
       "    <tr>\n",
       "      <th>625</th>\n",
       "      <td>\"ayo i even kill handicapped and crippled bitc...</td>\n",
       "    </tr>\n",
       "    <tr>\n",
       "      <th>635</th>\n",
       "      <td>\"fuck you you pussy ass hater go suck a dick a...</td>\n",
       "    </tr>\n",
       "    <tr>\n",
       "      <th>646</th>\n",
       "      <td>\"on my way to fuck your bitch in the name of T...</td>\n",
       "    </tr>\n",
       "    <tr>\n",
       "      <th>647</th>\n",
       "      <td>\"poor whitey\" http://t.co/3UkKeyznz8</td>\n",
       "    </tr>\n",
       "    <tr>\n",
       "      <th>663</th>\n",
       "      <td>#AZmonsoon lot of rain, too bad it wasn't enou...</td>\n",
       "    </tr>\n",
       "    <tr>\n",
       "      <th>...</th>\n",
       "      <td>...</td>\n",
       "    </tr>\n",
       "    <tr>\n",
       "      <th>1027</th>\n",
       "      <td>&amp;#128543; &amp;#8220;@DubPeeWorld: So the new wave...</td>\n",
       "    </tr>\n",
       "    <tr>\n",
       "      <th>1028</th>\n",
       "      <td>&amp;#128553; cunt</td>\n",
       "    </tr>\n",
       "    <tr>\n",
       "      <th>1029</th>\n",
       "      <td>&amp;#128553; monkey mad</td>\n",
       "    </tr>\n",
       "    <tr>\n",
       "      <th>1030</th>\n",
       "      <td>&amp;#128553;&amp;#128514; RT @willieBEAMINN: @_VinChi...</td>\n",
       "    </tr>\n",
       "    <tr>\n",
       "      <th>1031</th>\n",
       "      <td>&amp;#128553;&amp;#128553;&amp;#128514; damn roaches got d...</td>\n",
       "    </tr>\n",
       "    <tr>\n",
       "      <th>1032</th>\n",
       "      <td>&amp;#128553;&amp;#128553;&amp;#128514;&amp;#128557;&amp;#128557; ...</td>\n",
       "    </tr>\n",
       "    <tr>\n",
       "      <th>1033</th>\n",
       "      <td>&amp;#128553;&amp;#128557; RT @Freegeezy17: My Co work...</td>\n",
       "    </tr>\n",
       "    <tr>\n",
       "      <th>1034</th>\n",
       "      <td>&amp;#128553;&amp;#128557; RT @KingHov1313: Fox8 got d...</td>\n",
       "    </tr>\n",
       "    <tr>\n",
       "      <th>1035</th>\n",
       "      <td>&amp;#128555;&amp;#128555;&amp;#128555;&amp;#128555;&amp;#128555;&amp;...</td>\n",
       "    </tr>\n",
       "    <tr>\n",
       "      <th>1036</th>\n",
       "      <td>&amp;#128555;ugly bitches get no love</td>\n",
       "    </tr>\n",
       "    <tr>\n",
       "      <th>1037</th>\n",
       "      <td>&amp;#128557; RT @KingHov1313: I be thinkin Errbod...</td>\n",
       "    </tr>\n",
       "    <tr>\n",
       "      <th>1038</th>\n",
       "      <td>&amp;#128557; RT @That_Mclovin: &amp;#8220;Yass bitch ...</td>\n",
       "    </tr>\n",
       "    <tr>\n",
       "      <th>1039</th>\n",
       "      <td>&amp;#128557; RT @TrashAssTweets: When you wake up...</td>\n",
       "    </tr>\n",
       "    <tr>\n",
       "      <th>1040</th>\n",
       "      <td>&amp;#128557; RT @red_daddy17: But wait if he got ...</td>\n",
       "    </tr>\n",
       "    <tr>\n",
       "      <th>1041</th>\n",
       "      <td>&amp;#128557;&amp;#128557; &amp;#8220;@_____AL: Y'all be t...</td>\n",
       "    </tr>\n",
       "    <tr>\n",
       "      <th>1042</th>\n",
       "      <td>&amp;#128557;&amp;#128557; RT @KingHorseDick: Welp RT ...</td>\n",
       "    </tr>\n",
       "    <tr>\n",
       "      <th>1043</th>\n",
       "      <td>&amp;#128557;&amp;#128557; RT @KingHov1313: Niggaz get...</td>\n",
       "    </tr>\n",
       "    <tr>\n",
       "      <th>1044</th>\n",
       "      <td>&amp;#128557;&amp;#128557;&amp;#128557; Foh RT @MizzCreme:...</td>\n",
       "    </tr>\n",
       "    <tr>\n",
       "      <th>1045</th>\n",
       "      <td>&amp;#128557;&amp;#128557;&amp;#128557; RT @EsckmoTrent: I...</td>\n",
       "    </tr>\n",
       "    <tr>\n",
       "      <th>1046</th>\n",
       "      <td>&amp;#128557;&amp;#128557;&amp;#128557; RT @VineForTheByrd...</td>\n",
       "    </tr>\n",
       "    <tr>\n",
       "      <th>1047</th>\n",
       "      <td>&amp;#128557;&amp;#128557;&amp;#128557; RT @tryna_be_famou...</td>\n",
       "    </tr>\n",
       "    <tr>\n",
       "      <th>1048</th>\n",
       "      <td>&amp;#128557;&amp;#128557;&amp;#128557;&amp;#128530; RT @KingH...</td>\n",
       "    </tr>\n",
       "    <tr>\n",
       "      <th>1049</th>\n",
       "      <td>&amp;#128557;&amp;#128557;&amp;#128557;&amp;#128557;&amp;#128557;&amp;...</td>\n",
       "    </tr>\n",
       "    <tr>\n",
       "      <th>1050</th>\n",
       "      <td>&amp;#128561;that bitch is from Moreno Valley........</td>\n",
       "    </tr>\n",
       "    <tr>\n",
       "      <th>1052</th>\n",
       "      <td>&amp;#128563; RT @Pr3ttyN33: &amp;#8220;@11wdNICK: I t...</td>\n",
       "    </tr>\n",
       "    <tr>\n",
       "      <th>1053</th>\n",
       "      <td>&amp;#128563; RT @UBoyRock17: &amp;#128557;&amp;#128557;&amp;#...</td>\n",
       "    </tr>\n",
       "    <tr>\n",
       "      <th>1054</th>\n",
       "      <td>&amp;#128563; RT @ariluvsall: Niccas y'all need li...</td>\n",
       "    </tr>\n",
       "    <tr>\n",
       "      <th>1055</th>\n",
       "      <td>&amp;#128563;&amp;#128563;&amp;#128563; RT @winterlove___:...</td>\n",
       "    </tr>\n",
       "    <tr>\n",
       "      <th>1056</th>\n",
       "      <td>&amp;#128563;Oh this bitch Midy must be crazy http...</td>\n",
       "    </tr>\n",
       "    <tr>\n",
       "      <th>1057</th>\n",
       "      <td>&amp;#128563;well damn.. RT @JackTheJokster: When ...</td>\n",
       "    </tr>\n",
       "  </tbody>\n",
       "</table>\n",
       "<p>2430 rows × 1 columns</p>\n",
       "</div>"
      ],
      "text/plain": [
       "                                                  tweet\n",
       "85    \"@Blackman38Tide: @WhaleLookyHere @HowdyDowdy1...\n",
       "89    \"@CB_Baby24: @white_thunduh alsarabsss\" hes a ...\n",
       "110   \"@DevilGrimz: @VigxRArts you're fucking gay, b...\n",
       "184   \"@MarkRoundtreeJr: LMFAOOOO I HATE BLACK PEOPL...\n",
       "202   \"@NoChillPaz: \"At least I'm not a nigger\" http...\n",
       "204   \"@NotoriousBM95: @_WhitePonyJr_ Ariza is a sna...\n",
       "219   \"@RTNBA: Drakes new shoes that will be release...\n",
       "260   \"@TheoMaxximus: #GerrysHalloweenParty http://t...\n",
       "312   \"@ashlingwilde: @ItsNotAdam is bored supposed ...\n",
       "315   \"@bigbootybishopp: @white_thunduh lassen cc , ...\n",
       "349   \"@jayswaggkillah: Jackies a retard #blondeprob...\n",
       "352   \"@jgabsss: Stacey Dash won &#128166; http://t....\n",
       "437   \"Don't worry about the nigga you see, worry ab...\n",
       "459   \"Hey go look at that video of the man that fou...\n",
       "519   \"Let's kill cracker babies!\". WTF did I just h...\n",
       "526   \"My grandma used to call me a porch monkey all...\n",
       "531   \"Nah its You @NoMeek_JustMilz: &#128514;&#1285...\n",
       "540   \"Our people\". Now is the time for the Aryan ra...\n",
       "565   \"These sour apple bitter bitches, I'm not fuck...\n",
       "582   \"We hate niggers, we hate faggots and we hate ...\n",
       "583   \"We're out here, and we're queer!\"\\n\" 2, 4, 6,...\n",
       "587         \"Who the fuck you callin jiggaboo, nigga?!\"\n",
       "588   \"Why people think gay marriage is okay is beyo...\n",
       "603             \"You ain't gunna do shit spear chucker\"\n",
       "614        \"You ol trout mouth ass bitch\" \\nDEEEEAAAADD\n",
       "625   \"ayo i even kill handicapped and crippled bitc...\n",
       "635   \"fuck you you pussy ass hater go suck a dick a...\n",
       "646   \"on my way to fuck your bitch in the name of T...\n",
       "647                \"poor whitey\" http://t.co/3UkKeyznz8\n",
       "663   #AZmonsoon lot of rain, too bad it wasn't enou...\n",
       "...                                                 ...\n",
       "1027  &#128543; &#8220;@DubPeeWorld: So the new wave...\n",
       "1028                                     &#128553; cunt\n",
       "1029                               &#128553; monkey mad\n",
       "1030  &#128553;&#128514; RT @willieBEAMINN: @_VinChi...\n",
       "1031  &#128553;&#128553;&#128514; damn roaches got d...\n",
       "1032  &#128553;&#128553;&#128514;&#128557;&#128557; ...\n",
       "1033  &#128553;&#128557; RT @Freegeezy17: My Co work...\n",
       "1034  &#128553;&#128557; RT @KingHov1313: Fox8 got d...\n",
       "1035  &#128555;&#128555;&#128555;&#128555;&#128555;&...\n",
       "1036                  &#128555;ugly bitches get no love\n",
       "1037  &#128557; RT @KingHov1313: I be thinkin Errbod...\n",
       "1038  &#128557; RT @That_Mclovin: &#8220;Yass bitch ...\n",
       "1039  &#128557; RT @TrashAssTweets: When you wake up...\n",
       "1040  &#128557; RT @red_daddy17: But wait if he got ...\n",
       "1041  &#128557;&#128557; &#8220;@_____AL: Y'all be t...\n",
       "1042  &#128557;&#128557; RT @KingHorseDick: Welp RT ...\n",
       "1043  &#128557;&#128557; RT @KingHov1313: Niggaz get...\n",
       "1044  &#128557;&#128557;&#128557; Foh RT @MizzCreme:...\n",
       "1045  &#128557;&#128557;&#128557; RT @EsckmoTrent: I...\n",
       "1046  &#128557;&#128557;&#128557; RT @VineForTheByrd...\n",
       "1047  &#128557;&#128557;&#128557; RT @tryna_be_famou...\n",
       "1048  &#128557;&#128557;&#128557;&#128530; RT @KingH...\n",
       "1049  &#128557;&#128557;&#128557;&#128557;&#128557;&...\n",
       "1050  &#128561;that bitch is from Moreno Valley........\n",
       "1052  &#128563; RT @Pr3ttyN33: &#8220;@11wdNICK: I t...\n",
       "1053  &#128563; RT @UBoyRock17: &#128557;&#128557;&#...\n",
       "1054  &#128563; RT @ariluvsall: Niccas y'all need li...\n",
       "1055  &#128563;&#128563;&#128563; RT @winterlove___:...\n",
       "1056  &#128563;Oh this bitch Midy must be crazy http...\n",
       "1057  &#128563;well damn.. RT @JackTheJokster: When ...\n",
       "\n",
       "[2430 rows x 1 columns]"
      ]
     },
     "execution_count": 55,
     "metadata": {},
     "output_type": "execute_result"
    }
   ],
   "source": [
    "df_train.drop([ \"sent\",\"counts\"], axis=1)"
   ]
  },
  {
   "cell_type": "code",
   "execution_count": 56,
   "metadata": {
    "colab": {
     "base_uri": "https://localhost:8080/",
     "height": 104
    },
    "colab_type": "code",
    "id": "tG1DiBDIhXVR",
    "outputId": "598e4b53-6907-40a9-eaef-e5240a942dba"
   },
   "outputs": [
    {
     "name": "stdout",
     "output_type": "stream",
     "text": [
      "2430\n",
      "2430\n",
      "2430\n",
      "2430\n",
      "2430\n"
     ]
    }
   ],
   "source": [
    "for elem in [pd.DataFrame(tfidf_tr),pd.DataFrame(pos_tr),rev_tr,mention_counts_tr, of_counts_tr]:\n",
    "  print(len(elem))\n"
   ]
  },
  {
   "cell_type": "code",
   "execution_count": 85,
   "metadata": {
    "colab": {},
    "colab_type": "code",
    "id": "ccGVS6tvQG8F"
   },
   "outputs": [],
   "source": [
    "# x_train=np.column_stack([tfidf,pos,rev,mention_counts, other_feats])\n",
    "x_train=np.concatenate([pd.DataFrame(tfidf_tr),pd.DataFrame(pos_tr),rev_tr,mention_counts_tr, of_counts_tr],axis=1 )\n",
    "\n",
    "\n",
    "x_train, x_test, y_train, y_test = train_test_split(x_train, y_train, test_size=0.2)\n"
   ]
  },
  {
   "cell_type": "code",
   "execution_count": 86,
   "metadata": {
    "colab": {
     "base_uri": "https://localhost:8080/",
     "height": 35
    },
    "colab_type": "code",
    "id": "wrsf_AxTSp4l",
    "outputId": "c8898c0b-5de7-4931-9642-c6b0c4bd1fce"
   },
   "outputs": [
    {
     "name": "stdout",
     "output_type": "stream",
     "text": [
      "1944\n"
     ]
    }
   ],
   "source": [
    "print(len(x_train))"
   ]
  },
  {
   "cell_type": "code",
   "execution_count": 87,
   "metadata": {
    "colab": {
     "base_uri": "https://localhost:8080/",
     "height": 35
    },
    "colab_type": "code",
    "id": "A3HW9J25V4iJ",
    "outputId": "e33feba9-5d21-45ae-e522-722a3d7cbe2b"
   },
   "outputs": [
    {
     "name": "stdout",
     "output_type": "stream",
     "text": [
      "1944\n"
     ]
    }
   ],
   "source": [
    "print(len(y_train))"
   ]
  },
  {
   "cell_type": "code",
   "execution_count": 60,
   "metadata": {
    "colab": {},
    "colab_type": "code",
    "id": "TuytNTWiXxTN"
   },
   "outputs": [],
   "source": [
    "param_grid = {\"logisticregression__C\": [100,10,1,0.1,0.01],}\n",
    "grid = GridSearchCV(make_pipeline(LogisticRegression(solver=\"sag\"),memory=\"cache_folder\"),param_grid=param_grid, cv=5, scoring=\"roc_auc\")\n"
   ]
  },
  {
   "cell_type": "code",
   "execution_count": 61,
   "metadata": {
    "colab": {
     "base_uri": "https://localhost:8080/",
     "height": 1112
    },
    "colab_type": "code",
    "id": "xHSQeSrIW-Bs",
    "outputId": "d8b44f29-c7e9-4cca-8aa5-9757f28302c8"
   },
   "outputs": [
    {
     "name": "stderr",
     "output_type": "stream",
     "text": [
      "/Users/ankitpeshin/anaconda2/envs/aml/lib/python3.6/site-packages/sklearn/linear_model/sag.py:334: ConvergenceWarning: The max_iter was reached which means the coef_ did not converge\n",
      "  \"the coef_ did not converge\", ConvergenceWarning)\n",
      "/Users/ankitpeshin/anaconda2/envs/aml/lib/python3.6/site-packages/sklearn/linear_model/sag.py:334: ConvergenceWarning: The max_iter was reached which means the coef_ did not converge\n",
      "  \"the coef_ did not converge\", ConvergenceWarning)\n",
      "/Users/ankitpeshin/anaconda2/envs/aml/lib/python3.6/site-packages/sklearn/linear_model/sag.py:334: ConvergenceWarning: The max_iter was reached which means the coef_ did not converge\n",
      "  \"the coef_ did not converge\", ConvergenceWarning)\n",
      "/Users/ankitpeshin/anaconda2/envs/aml/lib/python3.6/site-packages/sklearn/linear_model/sag.py:334: ConvergenceWarning: The max_iter was reached which means the coef_ did not converge\n",
      "  \"the coef_ did not converge\", ConvergenceWarning)\n",
      "/Users/ankitpeshin/anaconda2/envs/aml/lib/python3.6/site-packages/sklearn/linear_model/sag.py:334: ConvergenceWarning: The max_iter was reached which means the coef_ did not converge\n",
      "  \"the coef_ did not converge\", ConvergenceWarning)\n",
      "/Users/ankitpeshin/anaconda2/envs/aml/lib/python3.6/site-packages/sklearn/linear_model/sag.py:334: ConvergenceWarning: The max_iter was reached which means the coef_ did not converge\n",
      "  \"the coef_ did not converge\", ConvergenceWarning)\n",
      "/Users/ankitpeshin/anaconda2/envs/aml/lib/python3.6/site-packages/sklearn/linear_model/sag.py:334: ConvergenceWarning: The max_iter was reached which means the coef_ did not converge\n",
      "  \"the coef_ did not converge\", ConvergenceWarning)\n",
      "/Users/ankitpeshin/anaconda2/envs/aml/lib/python3.6/site-packages/sklearn/linear_model/sag.py:334: ConvergenceWarning: The max_iter was reached which means the coef_ did not converge\n",
      "  \"the coef_ did not converge\", ConvergenceWarning)\n",
      "/Users/ankitpeshin/anaconda2/envs/aml/lib/python3.6/site-packages/sklearn/linear_model/sag.py:334: ConvergenceWarning: The max_iter was reached which means the coef_ did not converge\n",
      "  \"the coef_ did not converge\", ConvergenceWarning)\n",
      "/Users/ankitpeshin/anaconda2/envs/aml/lib/python3.6/site-packages/sklearn/linear_model/sag.py:334: ConvergenceWarning: The max_iter was reached which means the coef_ did not converge\n",
      "  \"the coef_ did not converge\", ConvergenceWarning)\n",
      "/Users/ankitpeshin/anaconda2/envs/aml/lib/python3.6/site-packages/sklearn/linear_model/sag.py:334: ConvergenceWarning: The max_iter was reached which means the coef_ did not converge\n",
      "  \"the coef_ did not converge\", ConvergenceWarning)\n",
      "/Users/ankitpeshin/anaconda2/envs/aml/lib/python3.6/site-packages/sklearn/linear_model/sag.py:334: ConvergenceWarning: The max_iter was reached which means the coef_ did not converge\n",
      "  \"the coef_ did not converge\", ConvergenceWarning)\n",
      "/Users/ankitpeshin/anaconda2/envs/aml/lib/python3.6/site-packages/sklearn/linear_model/sag.py:334: ConvergenceWarning: The max_iter was reached which means the coef_ did not converge\n",
      "  \"the coef_ did not converge\", ConvergenceWarning)\n",
      "/Users/ankitpeshin/anaconda2/envs/aml/lib/python3.6/site-packages/sklearn/linear_model/sag.py:334: ConvergenceWarning: The max_iter was reached which means the coef_ did not converge\n",
      "  \"the coef_ did not converge\", ConvergenceWarning)\n",
      "/Users/ankitpeshin/anaconda2/envs/aml/lib/python3.6/site-packages/sklearn/linear_model/sag.py:334: ConvergenceWarning: The max_iter was reached which means the coef_ did not converge\n",
      "  \"the coef_ did not converge\", ConvergenceWarning)\n",
      "/Users/ankitpeshin/anaconda2/envs/aml/lib/python3.6/site-packages/sklearn/linear_model/sag.py:334: ConvergenceWarning: The max_iter was reached which means the coef_ did not converge\n",
      "  \"the coef_ did not converge\", ConvergenceWarning)\n",
      "/Users/ankitpeshin/anaconda2/envs/aml/lib/python3.6/site-packages/sklearn/linear_model/sag.py:334: ConvergenceWarning: The max_iter was reached which means the coef_ did not converge\n",
      "  \"the coef_ did not converge\", ConvergenceWarning)\n",
      "/Users/ankitpeshin/anaconda2/envs/aml/lib/python3.6/site-packages/sklearn/linear_model/sag.py:334: ConvergenceWarning: The max_iter was reached which means the coef_ did not converge\n",
      "  \"the coef_ did not converge\", ConvergenceWarning)\n",
      "/Users/ankitpeshin/anaconda2/envs/aml/lib/python3.6/site-packages/sklearn/linear_model/sag.py:334: ConvergenceWarning: The max_iter was reached which means the coef_ did not converge\n",
      "  \"the coef_ did not converge\", ConvergenceWarning)\n",
      "/Users/ankitpeshin/anaconda2/envs/aml/lib/python3.6/site-packages/sklearn/linear_model/sag.py:334: ConvergenceWarning: The max_iter was reached which means the coef_ did not converge\n",
      "  \"the coef_ did not converge\", ConvergenceWarning)\n",
      "/Users/ankitpeshin/anaconda2/envs/aml/lib/python3.6/site-packages/sklearn/linear_model/sag.py:334: ConvergenceWarning: The max_iter was reached which means the coef_ did not converge\n",
      "  \"the coef_ did not converge\", ConvergenceWarning)\n",
      "/Users/ankitpeshin/anaconda2/envs/aml/lib/python3.6/site-packages/sklearn/linear_model/sag.py:334: ConvergenceWarning: The max_iter was reached which means the coef_ did not converge\n",
      "  \"the coef_ did not converge\", ConvergenceWarning)\n",
      "/Users/ankitpeshin/anaconda2/envs/aml/lib/python3.6/site-packages/sklearn/linear_model/sag.py:334: ConvergenceWarning: The max_iter was reached which means the coef_ did not converge\n",
      "  \"the coef_ did not converge\", ConvergenceWarning)\n",
      "/Users/ankitpeshin/anaconda2/envs/aml/lib/python3.6/site-packages/sklearn/linear_model/sag.py:334: ConvergenceWarning: The max_iter was reached which means the coef_ did not converge\n",
      "  \"the coef_ did not converge\", ConvergenceWarning)\n",
      "/Users/ankitpeshin/anaconda2/envs/aml/lib/python3.6/site-packages/sklearn/linear_model/sag.py:334: ConvergenceWarning: The max_iter was reached which means the coef_ did not converge\n",
      "  \"the coef_ did not converge\", ConvergenceWarning)\n",
      "/Users/ankitpeshin/anaconda2/envs/aml/lib/python3.6/site-packages/sklearn/linear_model/sag.py:334: ConvergenceWarning: The max_iter was reached which means the coef_ did not converge\n",
      "  \"the coef_ did not converge\", ConvergenceWarning)\n"
     ]
    },
    {
     "data": {
      "text/plain": [
       "GridSearchCV(cv=5, error_score='raise-deprecating',\n",
       "       estimator=Pipeline(memory='cache_folder',\n",
       "     steps=[('logisticregression', LogisticRegression(C=1.0, class_weight=None, dual=False, fit_intercept=True,\n",
       "          intercept_scaling=1, max_iter=100, multi_class='warn',\n",
       "          n_jobs=None, penalty='l2', random_state=None, solver='sag',\n",
       "          tol=0.0001, verbose=0, warm_start=False))]),\n",
       "       fit_params=None, iid='warn', n_jobs=None,\n",
       "       param_grid={'logisticregression__C': [100, 10, 1, 0.1, 0.01]},\n",
       "       pre_dispatch='2*n_jobs', refit=True, return_train_score='warn',\n",
       "       scoring='roc_auc', verbose=0)"
      ]
     },
     "execution_count": 61,
     "metadata": {},
     "output_type": "execute_result"
    }
   ],
   "source": [
    "grid.fit(x_train, y_train)"
   ]
  },
  {
   "cell_type": "code",
   "execution_count": 62,
   "metadata": {
    "colab": {
     "base_uri": "https://localhost:8080/",
     "height": 35
    },
    "colab_type": "code",
    "id": "LFlWaeDjXI4-",
    "outputId": "6695d6e5-6e01-40f6-e3e7-6af298a45df0"
   },
   "outputs": [
    {
     "data": {
      "text/plain": [
       "0.8872078043089882"
      ]
     },
     "execution_count": 62,
     "metadata": {},
     "output_type": "execute_result"
    }
   ],
   "source": [
    "grid.best_score_"
   ]
  },
  {
   "cell_type": "code",
   "execution_count": 63,
   "metadata": {
    "colab": {
     "base_uri": "https://localhost:8080/",
     "height": 783
    },
    "colab_type": "code",
    "id": "Bw2BK3idkUOu",
    "outputId": "7dce03ee-f345-4ffe-c6b7-ef927be665e1"
   },
   "outputs": [
    {
     "name": "stderr",
     "output_type": "stream",
     "text": [
      "/Users/ankitpeshin/anaconda2/envs/aml/lib/python3.6/site-packages/sklearn/utils/deprecation.py:125: FutureWarning: You are accessing a training score ('split0_train_score'), which will not be available by default any more in 0.21. If you need training scores, please set return_train_score=True\n",
      "  warnings.warn(*warn_args, **warn_kwargs)\n",
      "/Users/ankitpeshin/anaconda2/envs/aml/lib/python3.6/site-packages/sklearn/utils/deprecation.py:125: FutureWarning: You are accessing a training score ('split1_train_score'), which will not be available by default any more in 0.21. If you need training scores, please set return_train_score=True\n",
      "  warnings.warn(*warn_args, **warn_kwargs)\n",
      "/Users/ankitpeshin/anaconda2/envs/aml/lib/python3.6/site-packages/sklearn/utils/deprecation.py:125: FutureWarning: You are accessing a training score ('split2_train_score'), which will not be available by default any more in 0.21. If you need training scores, please set return_train_score=True\n",
      "  warnings.warn(*warn_args, **warn_kwargs)\n",
      "/Users/ankitpeshin/anaconda2/envs/aml/lib/python3.6/site-packages/sklearn/utils/deprecation.py:125: FutureWarning: You are accessing a training score ('split3_train_score'), which will not be available by default any more in 0.21. If you need training scores, please set return_train_score=True\n",
      "  warnings.warn(*warn_args, **warn_kwargs)\n",
      "/Users/ankitpeshin/anaconda2/envs/aml/lib/python3.6/site-packages/sklearn/utils/deprecation.py:125: FutureWarning: You are accessing a training score ('split4_train_score'), which will not be available by default any more in 0.21. If you need training scores, please set return_train_score=True\n",
      "  warnings.warn(*warn_args, **warn_kwargs)\n",
      "/Users/ankitpeshin/anaconda2/envs/aml/lib/python3.6/site-packages/sklearn/utils/deprecation.py:125: FutureWarning: You are accessing a training score ('mean_train_score'), which will not be available by default any more in 0.21. If you need training scores, please set return_train_score=True\n",
      "  warnings.warn(*warn_args, **warn_kwargs)\n",
      "/Users/ankitpeshin/anaconda2/envs/aml/lib/python3.6/site-packages/sklearn/utils/deprecation.py:125: FutureWarning: You are accessing a training score ('std_train_score'), which will not be available by default any more in 0.21. If you need training scores, please set return_train_score=True\n",
      "  warnings.warn(*warn_args, **warn_kwargs)\n"
     ]
    },
    {
     "data": {
      "text/plain": [
       "{'mean_fit_time': array([3.09123259, 2.62944183, 2.77978692, 2.51133776, 2.80759144]),\n",
       " 'std_fit_time': array([0.52430068, 0.15701865, 0.72007294, 0.23866098, 0.14979511]),\n",
       " 'mean_score_time': array([0.00305047, 0.00243516, 0.00221386, 0.00235043, 0.00231457]),\n",
       " 'std_score_time': array([0.00134944, 0.00027968, 0.00018668, 0.0001367 , 0.00030969]),\n",
       " 'param_logisticregression__C': masked_array(data=[100, 10, 1, 0.1, 0.01],\n",
       "              mask=[False, False, False, False, False],\n",
       "        fill_value='?',\n",
       "             dtype=object),\n",
       " 'params': [{'logisticregression__C': 100},\n",
       "  {'logisticregression__C': 10},\n",
       "  {'logisticregression__C': 1},\n",
       "  {'logisticregression__C': 0.1},\n",
       "  {'logisticregression__C': 0.01}],\n",
       " 'split0_test_score': array([0.87919628, 0.87900569, 0.87892401, 0.87889678, 0.87867897]),\n",
       " 'split1_test_score': array([0.91019962, 0.91017227, 0.91011758, 0.91006289, 0.90637134]),\n",
       " 'split2_test_score': array([0.87703035, 0.87722177, 0.8773038 , 0.87713973, 0.87569046]),\n",
       " 'split3_test_score': array([0.88428729, 0.88450743, 0.88478261, 0.88425977, 0.88321409]),\n",
       " 'split4_test_score': array([0.88478261, 0.88503027, 0.8849202 , 0.88464502, 0.88211337]),\n",
       " 'mean_test_score': array([0.8870978 , 0.88718577, 0.8872078 , 0.88699929, 0.88521291]),\n",
       " 'std_test_score': array([0.01192672, 0.01189032, 0.01185911, 0.01190242, 0.010909  ]),\n",
       " 'rank_test_score': array([3, 2, 1, 4, 5], dtype=int32),\n",
       " 'split0_train_score': array([0.95577596, 0.9557931 , 0.95576567, 0.95541078, 0.95160643]),\n",
       " 'split1_train_score': array([0.94880924, 0.94886405, 0.94883151, 0.94828177, 0.94395579]),\n",
       " 'split2_train_score': array([0.95730022, 0.95732591, 0.95730364, 0.95679158, 0.95268653]),\n",
       " 'split3_train_score': array([0.95311498, 0.95292347, 0.9530483 , 0.95267212, 0.94861457]),\n",
       " 'split4_train_score': array([0.96164559, 0.96170544, 0.9615943 , 0.96132926, 0.95625262]),\n",
       " 'mean_train_score': array([0.9553292 , 0.95532239, 0.95530868, 0.9548971 , 0.95062319]),\n",
       " 'std_train_score': array([0.00427537, 0.00429986, 0.00426054, 0.00433449, 0.00413288])}"
      ]
     },
     "execution_count": 63,
     "metadata": {},
     "output_type": "execute_result"
    }
   ],
   "source": [
    "grid.cv_results_"
   ]
  },
  {
   "cell_type": "code",
   "execution_count": 64,
   "metadata": {
    "colab": {
     "base_uri": "https://localhost:8080/",
     "height": 35
    },
    "colab_type": "code",
    "id": "AvfyEiJ-jU_-",
    "outputId": "b8130eaa-81b3-4247-f74c-e9922486bf1f"
   },
   "outputs": [
    {
     "data": {
      "text/plain": [
       "{'logisticregression__C': 1}"
      ]
     },
     "execution_count": 64,
     "metadata": {},
     "output_type": "execute_result"
    }
   ],
   "source": [
    "grid.best_params_"
   ]
  },
  {
   "cell_type": "markdown",
   "metadata": {},
   "source": [
    "## Evaluating Model Performance\n",
    "\n",
    "\n",
    "\n",
    "**This section is divided into the following major parts :**\n",
    "- In-sample predictive performance\n",
    "- Out-of-sample predictive performance\n",
    "- Effects of statistical significance on Predictive Power\n",
    "\n",
    "Detailed explanations of the above parts follow."
   ]
  },
  {
   "cell_type": "code",
   "execution_count": 65,
   "metadata": {
    "colab": {},
    "colab_type": "code",
    "id": "UEQQ0qlfoEAc"
   },
   "outputs": [],
   "source": [
    "from sklearn.feature_selection import SelectFromModel\n",
    "from sklearn.linear_model import LogisticRegression\n",
    "from sklearn.feature_selection import SelectFromModel\n",
    "from sklearn.metrics import classification_report\n",
    "from sklearn.svm import LinearSVC,SVC\n"
   ]
  },
  {
   "cell_type": "markdown",
   "metadata": {},
   "source": [
    "### In-Sample Predictive Performance"
   ]
  },
  {
   "cell_type": "markdown",
   "metadata": {},
   "source": [
    "We are interested in the training accuracy here, in other words the model is tested on data sampled from within the training set.\n",
    "\n",
    "Logistic Regression is used here to obtain the best performing features using the \"SelectFromModel\" function and the Linear SVC model is trained and tested for performance."
   ]
  },
  {
   "cell_type": "code",
   "execution_count": 106,
   "metadata": {
    "colab": {
     "base_uri": "https://localhost:8080/",
     "height": 107
    },
    "colab_type": "code",
    "id": "W0FHdh_sjZ2L",
    "outputId": "edcde5ea-dfda-4990-c5ff-73c5aa100bac"
   },
   "outputs": [
    {
     "name": "stderr",
     "output_type": "stream",
     "text": [
      "/Users/ankitpeshin/anaconda2/envs/aml/lib/python3.6/site-packages/sklearn/linear_model/logistic.py:433: FutureWarning: Default solver will be changed to 'lbfgs' in 0.22. Specify a solver to silence this warning.\n",
      "  FutureWarning)\n"
     ]
    }
   ],
   "source": [
    "select = SelectFromModel(LogisticRegression(class_weight='balanced',penalty=\"l1\",C=10))\n",
    "X_ = select.fit_transform(x_train,y_train)\n",
    "model = SVC(class_weight='balanced',C=0.01, kernel='linear',probability=True).fit(X_, y_train)\n"
   ]
  },
  {
   "cell_type": "code",
   "execution_count": 107,
   "metadata": {
    "colab": {},
    "colab_type": "code",
    "id": "RxO7iIE2n9n_"
   },
   "outputs": [],
   "source": [
    "y_preds = model.predict(X_)"
   ]
  },
  {
   "cell_type": "code",
   "execution_count": 108,
   "metadata": {
    "colab": {},
    "colab_type": "code",
    "id": "5ByEwRtcoViU"
   },
   "outputs": [],
   "source": [
    "report = classification_report( y_preds, y_train )"
   ]
  },
  {
   "cell_type": "code",
   "execution_count": 109,
   "metadata": {
    "colab": {
     "base_uri": "https://localhost:8080/",
     "height": 173
    },
    "colab_type": "code",
    "id": "b9JFaSo2X3bT",
    "outputId": "adf53784-42f6-4a67-d02c-ca2e47b429f5"
   },
   "outputs": [
    {
     "name": "stdout",
     "output_type": "stream",
     "text": [
      "              precision    recall  f1-score   support\n",
      "\n",
      "           0       0.91      0.97      0.94      1074\n",
      "           1       0.96      0.88      0.92       870\n",
      "\n",
      "   micro avg       0.93      0.93      0.93      1944\n",
      "   macro avg       0.93      0.92      0.93      1944\n",
      "weighted avg       0.93      0.93      0.93      1944\n",
      "\n"
     ]
    }
   ],
   "source": [
    "print(report)"
   ]
  },
  {
   "cell_type": "markdown",
   "metadata": {},
   "source": [
    "We achieve a pretty decent precision of 0.93 (weighted average). The model was trained on balanced classes so there isn't much variation in the class 0 and class 1 values.\n",
    "\n",
    "Similarly a recall of 0.93 and an f1-score of 0.93 was obtained when weighted by class. We will now plot the ROC curve and calculate the AUC."
   ]
  },
  {
   "cell_type": "code",
   "execution_count": 92,
   "metadata": {},
   "outputs": [
    {
     "data": {
      "image/png": "[encoded data removed]",
      "text/plain": [
       "<Figure size 432x288 with 1 Axes>"
      ]
     },
     "metadata": {
      "needs_background": "light"
     },
     "output_type": "display_data"
    }
   ],
   "source": [
    "clf = Pipeline(steps=[('classifier', SVC(class_weight='balanced',C=0.01, kernel='linear',probability=True))])\n",
    "clf.fit(x_train,y_train)\n",
    "\n",
    "proba = cross_val_predict(clf, x_train,y_train, cv=5, method='predict_proba')\n",
    "from sklearn import metrics\n",
    "\n",
    "fpr, tpr, _ = metrics.roc_curve(y_train,  proba[::,1])\n",
    "auc = metrics.roc_auc_score(y_train, proba[::,1])\n",
    "plt.plot(fpr,tpr,label=\"data 1, auc=\"+str(auc))\n",
    "plt.legend(loc=4)\n",
    "plt.title('Model ROC curve')\n",
    "plt.show()"
   ]
  },
  {
   "cell_type": "markdown",
   "metadata": {},
   "source": [
    "The ROC curve shows promising results, and an AUC of 0.87 was obtained. To give context, a model that randomly guessed the class (50-50 chance) would give a straight line ROC curve with an AUC of 0.5. The model performs significantly better.\n",
    "\n",
    "We will now investigate the these metrics (precision, recall and f1-scores) at the various threshold values ranging from 0 to 1."
   ]
  },
  {
   "cell_type": "code",
   "execution_count": 115,
   "metadata": {},
   "outputs": [
    {
     "name": "stderr",
     "output_type": "stream",
     "text": [
      "/Users/ankitpeshin/anaconda2/envs/aml/lib/python3.6/site-packages/sklearn/metrics/classification.py:1143: UndefinedMetricWarning: Precision and F-score are ill-defined and being set to 0.0 in labels with no predicted samples.\n",
      "  'precision', 'predicted', average, warn_for)\n"
     ]
    },
    {
     "data": {
      "text/plain": [
       "<matplotlib.legend.Legend at 0x128850588>"
      ]
     },
     "execution_count": 115,
     "metadata": {},
     "output_type": "execute_result"
    },
    {
     "data": {
      "image/png": "[encoded data removed]",
      "text/plain": [
       "<Figure size 432x288 with 1 Axes>"
      ]
     },
     "metadata": {
      "needs_background": "light"
     },
     "output_type": "display_data"
    }
   ],
   "source": [
    "from sklearn.metrics import precision_recall_fscore_support as score\n",
    "\n",
    "thresh_range = list(np.arange(0,1,0.1))\n",
    "p_list = list()\n",
    "r_list = list()\n",
    "f_list = list()\n",
    "for threshold in thresh_range:\n",
    "    y_preds = np.where(model.predict_proba(X_)[:,1] > threshold, 1, 0)\n",
    "    precision,recall,fscore,support=score(y_train,y_preds,average='macro')\n",
    "    p_list.append(precision)\n",
    "    r_list.append(recall)\n",
    "    f_list.append(fscore)\n",
    "plt.plot(thresh_range,p_list,label='precision')\n",
    "plt.plot(thresh_range,r_list,label='recall')\n",
    "plt.plot(thresh_range,f_list,label='fscore')\n",
    "plt.xlabel('Threshold probability (0-1)')\n",
    "plt.ylabel('Metric values (0-1)')\n",
    "plt.title('Precision, Recall and F-score wrt threshold')\n",
    "plt.legend()\n"
   ]
  },
  {
   "cell_type": "markdown",
   "metadata": {},
   "source": [
    "The above curves demonstrate the best threshold values for our metrics. For this model we obtain an optimum threshold in the (0.4,0.6) range as seen from the above plot. The precision and recall tend to follow very similar trends. Would be interesting to see the precision vs recall curve."
   ]
  },
  {
   "cell_type": "code",
   "execution_count": 94,
   "metadata": {},
   "outputs": [
    {
     "data": {
      "text/plain": [
       "Text(0, 0.5, 'Precision (0-1)')"
      ]
     },
     "execution_count": 94,
     "metadata": {},
     "output_type": "execute_result"
    },
    {
     "data": {
      "image/png": "[encoded data removed]",
      "text/plain": [
       "<Figure size 432x288 with 1 Axes>"
      ]
     },
     "metadata": {
      "needs_background": "light"
     },
     "output_type": "display_data"
    }
   ],
   "source": [
    "plt.plot(p_list,r_list)\n",
    "plt.title('Precision vs Recall curve for Linear SVC')\n",
    "plt.xlabel('Recall (0-1)')\n",
    "plt.ylabel('Precision (0-1)')\n"
   ]
  },
  {
   "cell_type": "markdown",
   "metadata": {},
   "source": [
    "Interesting many-one, non-bijective curve. Both metrics peak at the same time, and at a little less than 1.\n",
    "\n",
    "This concludes the In-sample performance evaluation. Now we will use a test dataset that isn't in-sample and see the difference in results."
   ]
  },
  {
   "cell_type": "markdown",
   "metadata": {},
   "source": [
    "### Out-of-sample Predictive Performance"
   ]
  },
  {
   "cell_type": "markdown",
   "metadata": {},
   "source": [
    "Here we use new unseen data to test our model. We expect a decline in performance, but this will also give us a peak into how generalizable the proposed Linear SVC model is."
   ]
  },
  {
   "cell_type": "code",
   "execution_count": 116,
   "metadata": {},
   "outputs": [],
   "source": [
    "\n",
    "model = SVC(kernel='linear',class_weight='balanced',C=0.01,probability=True).fit(x_train, y_train)\n",
    "\n",
    "y_preds = model.predict(x_test)\n",
    "report = classification_report( y_test, y_preds )"
   ]
  },
  {
   "cell_type": "code",
   "execution_count": 117,
   "metadata": {},
   "outputs": [
    {
     "name": "stdout",
     "output_type": "stream",
     "text": [
      "              precision    recall  f1-score   support\n",
      "\n",
      "           0       0.85      0.84      0.85       284\n",
      "           1       0.78      0.79      0.79       202\n",
      "\n",
      "   micro avg       0.82      0.82      0.82       486\n",
      "   macro avg       0.82      0.82      0.82       486\n",
      "weighted avg       0.82      0.82      0.82       486\n",
      "\n"
     ]
    }
   ],
   "source": [
    "print(report)"
   ]
  },
  {
   "cell_type": "markdown",
   "metadata": {},
   "source": [
    "There is a 0.08 reduction across the weighted score of the three metrics. The values drop from 0.93 to 0.82. This was expected, and the ~10% reduction in the scores on unseen data shows that the model is generalizable and wasn't overfitting the training data."
   ]
  },
  {
   "cell_type": "markdown",
   "metadata": {},
   "source": [
    "Let us now plot the roc curve for the out-sample case and compare it to our previous in-sample performance. One would expect a minor decline in AUC, which would be in line with the marginal performance metric decline we have seen above."
   ]
  },
  {
   "cell_type": "code",
   "execution_count": 102,
   "metadata": {},
   "outputs": [
    {
     "data": {
      "image/png": "[encoded data removed]",
      "text/plain": [
       "<Figure size 432x288 with 1 Axes>"
      ]
     },
     "metadata": {
      "needs_background": "light"
     },
     "output_type": "display_data"
    }
   ],
   "source": [
    "from sklearn.pipeline import Pipeline\n",
    "from sklearn.model_selection import cross_val_predict\n",
    "import matplotlib.pyplot as plt\n",
    "\n",
    "clf = Pipeline(steps=[('classifier', SVC(class_weight='balanced',C=0.01, kernel='linear',probability=True))])\n",
    "clf.fit(x_train,y_train)\n",
    "\n",
    "proba = cross_val_predict(clf, x_test,y_test, cv=5, method='predict_proba')\n",
    "probb = cross_val_predict(clf, x_train,y_train, cv=5, method='predict_proba')\n",
    "from sklearn import metrics\n",
    "\n",
    "fpra, tpra, _ = metrics.roc_curve(y_test,  proba[::,1])\n",
    "auca = metrics.roc_auc_score(y_test, proba[::,1])\n",
    "fprb, tprb, _ = metrics.roc_curve(y_train,  probb[::,1])\n",
    "aucb = metrics.roc_auc_score(y_train, probb[::,1])\n",
    "\n",
    "plt.plot(fpra,tpra,label=\"out-of-sample, auc=\"+str(auca))\n",
    "plt.plot(fprb,tprb,label=\"in-sample, auc=\"+str(aucb))\n",
    "\n",
    "plt.legend(loc=4)\n",
    "plt.title('AUC-ROC for In-sample and Out-of-sample')\n",
    "plt.show()"
   ]
  },
  {
   "cell_type": "markdown",
   "metadata": {},
   "source": [
    "The AUC falls from 0.87 for in-sample to 0.82 for out-of-sample. The difference is clear from the ROC curves."
   ]
  },
  {
   "cell_type": "code",
   "execution_count": 118,
   "metadata": {},
   "outputs": [
    {
     "name": "stderr",
     "output_type": "stream",
     "text": [
      "/Users/ankitpeshin/anaconda2/envs/aml/lib/python3.6/site-packages/sklearn/metrics/classification.py:1143: UndefinedMetricWarning: Precision and F-score are ill-defined and being set to 0.0 in labels with no predicted samples.\n",
      "  'precision', 'predicted', average, warn_for)\n"
     ]
    },
    {
     "data": {
      "text/plain": [
       "<matplotlib.legend.Legend at 0x12897cef0>"
      ]
     },
     "execution_count": 118,
     "metadata": {},
     "output_type": "execute_result"
    },
    {
     "data": {
      "image/png": "[encoded data removed]",
      "text/plain": [
       "<Figure size 432x288 with 1 Axes>"
      ]
     },
     "metadata": {
      "needs_background": "light"
     },
     "output_type": "display_data"
    }
   ],
   "source": [
    "from sklearn.metrics import precision_recall_fscore_support as score\n",
    "\n",
    "thresh_range = list(np.arange(0,1,0.1))\n",
    "p_list = list()\n",
    "r_list = list()\n",
    "f_list = list()\n",
    "for threshold in thresh_range:\n",
    "    y_preds = np.where(model.predict_proba(x_test)[:,1] > threshold, 1, 0)\n",
    "    precision,recall,fscore,support=score(y_test,y_preds,average='macro')\n",
    "    p_list.append(precision)\n",
    "    r_list.append(recall)\n",
    "    f_list.append(fscore)\n",
    "plt.plot(thresh_range,p_list,label='precision')\n",
    "plt.plot(thresh_range,r_list,label='recall')\n",
    "plt.plot(thresh_range,f_list,label='fscore')\n",
    "\n",
    "plt.xlabel('Threshold probability (0-1)')\n",
    "plt.ylabel('Metric values (0-1)')\n",
    "plt.title('Precision, Recall and F-score wrt threshold')\n",
    "plt.legend()\n"
   ]
  },
  {
   "cell_type": "markdown",
   "metadata": {},
   "source": [
    "We see a similar plot as in-sample, though the maxima seems to have shifted to a lower threshold."
   ]
  },
  {
   "cell_type": "markdown",
   "metadata": {},
   "source": [
    "The precision and recall tend to follow very similar trends. Would be interesting to see the precision vs recall curve."
   ]
  },
  {
   "cell_type": "code",
   "execution_count": 104,
   "metadata": {},
   "outputs": [
    {
     "data": {
      "text/plain": [
       "Text(0, 0.5, 'Precision (0-1)')"
      ]
     },
     "execution_count": 104,
     "metadata": {},
     "output_type": "execute_result"
    },
    {
     "data": {
      "image/png": "[encoded data removed]",
      "text/plain": [
       "<Figure size 432x288 with 1 Axes>"
      ]
     },
     "metadata": {
      "needs_background": "light"
     },
     "output_type": "display_data"
    }
   ],
   "source": [
    "plt.plot(p_list,r_list)\n",
    "plt.title('Precision vs Recall curve for Linear SVC')\n",
    "plt.xlabel('Recall (0-1)')\n",
    "plt.ylabel('Precision (0-1)')\n"
   ]
  },
  {
   "cell_type": "markdown",
   "metadata": {},
   "source": [
    "As before, many-one, non-bijective curve. Both metrics peak at around the same time, with two marked differences from the corresponding in-sample plot.\n",
    " - The maximum observed for out-sample is of lower value than in-sample.\n",
    " \n",
    " - While they do peak around the same time, the spread is more (i.e both don't peak at exactly the same time as was the case with in-sample, rather the peak shows a greater spread as seen above).\n",
    "\n",
    "This concludes the out-of-sample performance evaluation. Now we will use a test dataset that isn't in-sample and see the difference in results.\n",
    "\n"
   ]
  },
  {
   "cell_type": "markdown",
   "metadata": {},
   "source": [
    "### Effects of Statistical Significance on Predictive Power"
   ]
  },
  {
   "cell_type": "markdown",
   "metadata": {},
   "source": [
    "The following section investigates the effect of statistical significance of a variable on its prediction power. On second thought, 'Effect' might not be the appropriate term here, since that implies causation. Let us investigate the correlation of statistical significance of features with their predictive powers.\n",
    "\n",
    "This is achieved by implementing a 'backward elimination' function, that assumes all features are significant and the eliminates those that are found to have p-values higher than 5% Level of significance.\n",
    "\n",
    "An issue encountered was the painfully slow runtime, so we take a short-cut here. Let us select 500 features at random (of the 2303 total features). Empricial evidence during the course of this project suggests that we get back less than 10% of the features we created on this dataset.\n",
    "\n",
    "We apply the backward elimination function to obtained a reduced feature set. The the model constructed on the 500 features, and another one constructed on the stat-significant feature subset obtained are evaluated."
   ]
  },
  {
   "cell_type": "code",
   "execution_count": 119,
   "metadata": {},
   "outputs": [],
   "source": [
    "import statsmodels.formula.api as sm\n",
    "def backwardElimination(x, Y, sl,columns):\n",
    "    numVars = len(x[0])\n",
    "    for i in range(0, numVars):\n",
    "        regressor_OLS = sm.OLS(Y, x).fit()\n",
    "        maxVar = max(regressor_OLS.pvalues)\n",
    "        if maxVar > sl:\n",
    "            for j in range(0, numVars - i):\n",
    "                if (regressor_OLS.pvalues[j].astype(float) == maxVar):\n",
    "                    x = np.delete(x, j, 1)\n",
    "                    columns = np.delete(columns, j)\n",
    "                    \n",
    "    regressor_OLS.summary()\n",
    "    return x,columns\n",
    "SL = 0.05"
   ]
  },
  {
   "cell_type": "code",
   "execution_count": 120,
   "metadata": {},
   "outputs": [],
   "source": [
    "from random import sample \n",
    "  \n",
    "# Prints list of random items of given length \n",
    "tot_features = list(range(2033))\n",
    "subset = sample(tot_features,500)\n",
    "dm,col = backwardElimination(x_train[:,subset], y_train, SL,np.arange(500))"
   ]
  },
  {
   "cell_type": "code",
   "execution_count": 123,
   "metadata": {},
   "outputs": [
    {
     "name": "stdout",
     "output_type": "stream",
     "text": [
      "The number of statistically significant features from the 500 :  68\n"
     ]
    }
   ],
   "source": [
    "print('The number of statistically significant features from the 500 : ',len(col))"
   ]
  },
  {
   "cell_type": "code",
   "execution_count": 692,
   "metadata": {},
   "outputs": [],
   "source": [
    "model = SVC(kernel='linear',class_weight='balanced',C=0.01,probability=True).fit(x_train, y_train)\n",
    "\n",
    "y_preds = model.predict(x_test)\n",
    "report = classification_report( y_test, y_preds )"
   ]
  },
  {
   "cell_type": "code",
   "execution_count": 693,
   "metadata": {},
   "outputs": [
    {
     "name": "stdout",
     "output_type": "stream",
     "text": [
      "              precision    recall  f1-score   support\n",
      "\n",
      "           0       0.86      0.81      0.84       280\n",
      "           1       0.76      0.83      0.79       206\n",
      "\n",
      "   micro avg       0.82      0.82      0.82       486\n",
      "   macro avg       0.81      0.82      0.81       486\n",
      "weighted avg       0.82      0.82      0.82       486\n",
      "\n"
     ]
    }
   ],
   "source": [
    "print(report)"
   ]
  },
  {
   "cell_type": "code",
   "execution_count": 696,
   "metadata": {},
   "outputs": [
    {
     "data": {
      "image/png": "[encoded data removed]",
      "text/plain": [
       "<Figure size 432x288 with 1 Axes>"
      ]
     },
     "metadata": {
      "needs_background": "light"
     },
     "output_type": "display_data"
    }
   ],
   "source": [
    "from sklearn.pipeline import Pipeline\n",
    "from sklearn.model_selection import cross_val_predict\n",
    "import matplotlib.pyplot as plt\n",
    "\n",
    "clf = Pipeline(steps=[('classifier', SVC(class_weight='balanced',C=0.01, kernel='linear',probability=True))])\n",
    "clf.fit(x_train,y_train)\n",
    "\n",
    "proba = cross_val_predict(clf, x_test,y_test, cv=5, method='predict_proba')\n",
    "from sklearn import metrics\n",
    "\n",
    "fpr, tpr, _ = metrics.roc_curve(y_test,  proba[::,1])\n",
    "auc = metrics.roc_auc_score(y_test, proba[::,1])\n",
    "plt.plot(fpr,tpr,label=\"data 1, auc=\"+str(auc))\n",
    "plt.legend(loc=4)\n",
    "plt.title('Model ROC curve')\n",
    "plt.show()"
   ]
  },
  {
   "cell_type": "markdown",
   "metadata": {},
   "source": [
    "The above analysis has been performed for the data with 500 randomly selected features. \n",
    "\n",
    "We can see that it gives us a reasonable 0.84 AUC value and the precision,recall and f1 are 0.82.\n",
    "\n",
    "It would now be interesting to compare this to the results for a model that takes just the statistically significant features from these 500. We saw that 68 features qualified with p-values less than the 5% level of significance."
   ]
  },
  {
   "cell_type": "code",
   "execution_count": 124,
   "metadata": {},
   "outputs": [],
   "source": [
    "model = SVC(kernel='linear',class_weight='balanced',C=0.01,probability=True).fit(x_train[:,col], y_train)\n",
    "\n",
    "y_preds = model.predict(x_test[:,col])\n",
    "report = classification_report( y_test, y_preds )"
   ]
  },
  {
   "cell_type": "code",
   "execution_count": 125,
   "metadata": {},
   "outputs": [
    {
     "name": "stdout",
     "output_type": "stream",
     "text": [
      "              precision    recall  f1-score   support\n",
      "\n",
      "           0       0.69      0.68      0.68       284\n",
      "           1       0.56      0.58      0.57       202\n",
      "\n",
      "   micro avg       0.64      0.64      0.64       486\n",
      "   macro avg       0.63      0.63      0.63       486\n",
      "weighted avg       0.64      0.64      0.64       486\n",
      "\n"
     ]
    }
   ],
   "source": [
    "print(report)"
   ]
  },
  {
   "cell_type": "code",
   "execution_count": 131,
   "metadata": {},
   "outputs": [
    {
     "data": {
      "image/png": "[encoded data removed]",
      "text/plain": [
       "<Figure size 432x288 with 1 Axes>"
      ]
     },
     "metadata": {
      "needs_background": "light"
     },
     "output_type": "display_data"
    }
   ],
   "source": [
    "from sklearn.pipeline import Pipeline\n",
    "from sklearn.model_selection import cross_val_predict\n",
    "import matplotlib.pyplot as plt\n",
    "\n",
    "clf1 = Pipeline(steps=[('classifier', SVC(class_weight='balanced',C=0.01, kernel='linear',probability=True))])\n",
    "clf1.fit(x_train[:,~col],y_train)\n",
    "\n",
    "clf2 = Pipeline(steps=[('classifier', SVC(class_weight='balanced',C=0.01, kernel='linear',probability=True))])\n",
    "clf2.fit(x_train[:,col],y_train)\n",
    "\n",
    "clf3 = Pipeline(steps=[('classifier', SVC(class_weight='balanced',C=0.01, kernel='linear',probability=True))])\n",
    "clf3.fit(x_train,y_train)\n",
    "\n",
    "\n",
    "\n",
    "proba = cross_val_predict(clf1, x_test[:,~col],y_test, cv=5, method='predict_proba')\n",
    "probb = cross_val_predict(clf2, x_test[:,col],y_test, cv=5, method='predict_proba')\n",
    "probc = cross_val_predict(clf3, x_test,y_test, cv=5, method='predict_proba')\n",
    "\n",
    "from sklearn import metrics\n",
    "\n",
    "fpra, tpra, _ = metrics.roc_curve(y_test,  proba[::,1])\n",
    "auca = metrics.roc_auc_score(y_test, proba[::,1])\n",
    "\n",
    "fprb, tprb, _ = metrics.roc_curve(y_test,  probb[::,1])\n",
    "aucb = metrics.roc_auc_score(y_test, probb[::,1])\n",
    "\n",
    "fprc, tprc, _ = metrics.roc_curve(y_test,  probc[::,1])\n",
    "aucc = metrics.roc_auc_score(y_test, probc[::,1])\n",
    "\n",
    "plt.plot(fpra,tpra,label=\"Non-significant, auc=\"+str(auca))\n",
    "plt.plot(fprb,tprb,label=\"Statistically significant, auc=\"+str(aucb))\n",
    "plt.plot(fprc,tprc,label=\"All 500 features, auc=\"+str(aucc))\n",
    "\n",
    "plt.legend(loc=4)\n",
    "plt.title('Comparing ROC curves for Non-significant vs Stat-Significant vs All features.')\n",
    "plt.show()"
   ]
  },
  {
   "cell_type": "markdown",
   "metadata": {},
   "source": [
    "This is an interesting result, the performance for just the statistically significant features (68 in number) is 0.62, which is better than the 0.45 AUC result for the non-significant features (432 in number). Infact random guessing would give better results than the model trained on just the non-significant features.\n",
    "\n",
    "The result taking all 500 features is the best performer by a margin. Model using the significant features alone is clearly overfitting."
   ]
  },
  {
   "cell_type": "code",
   "execution_count": 152,
   "metadata": {
    "colab": {
     "base_uri": "https://localhost:8080/",
     "height": 689
    },
    "colab_type": "code",
    "id": "isrs4fFwoZKa",
    "outputId": "ca5dc218-fd15-410b-d37c-a15a168c10d5"
   },
   "outputs": [
    {
     "name": "stdout",
     "output_type": "stream",
     "text": [
      "                 A            B\n",
      "count  2430.000000  2430.000000\n",
      "mean      0.411523     0.411934\n",
      "std       0.492211     0.492285\n",
      "min       0.000000     0.000000\n",
      "25%       0.000000     0.000000\n",
      "50%       0.000000     0.000000\n",
      "75%       1.000000     1.000000\n",
      "max       1.000000     1.000000\n"
     ]
    },
    {
     "data": {
      "image/png": "[encoded data removed]",
      "text/plain": [
       "<Figure size 432x288 with 1 Axes>"
      ]
     },
     "metadata": {
      "needs_background": "light"
     },
     "output_type": "display_data"
    },
    {
     "data": {
      "image/png": "[encoded data removed]",
      "text/plain": [
       "<Figure size 432x288 with 2 Axes>"
      ]
     },
     "metadata": {
      "needs_background": "light"
     },
     "output_type": "display_data"
    }
   ],
   "source": [
    "from pandas import read_csv\n",
    "from matplotlib import pyplot\n",
    "import pandas as pd\n",
    "# load results file\n",
    "results = pd.DataFrame()\n",
    "results['A'] = y\n",
    "results['B'] = y_preds\n",
    "# descriptive stats\n",
    "print(results.describe())\n",
    "# box and whisker plot\n",
    "results.boxplot()\n",
    "pyplot.show()\n",
    "# histogram\n",
    "results.hist()\n",
    "pyplot.show()"
   ]
  },
  {
   "cell_type": "code",
   "execution_count": 155,
   "metadata": {
    "colab": {
     "base_uri": "https://localhost:8080/",
     "height": 52
    },
    "colab_type": "code",
    "id": "qI742pGAV47x",
    "outputId": "977e4786-d8ac-42db-a562-63bb31f89dae"
   },
   "outputs": [
    {
     "name": "stdout",
     "output_type": "stream",
     "text": [
      "-0.029140578637050166 0.9767536694548906\n",
      "Samples are likely drawn from the same distributions (fail to reject H0)\n"
     ]
    }
   ],
   "source": [
    "from scipy.stats import ttest_ind\n",
    "value, pvalue = ttest_ind(y, y_preds, equal_var=True)\n",
    "print(value, pvalue)\n",
    "if pvalue > 0.05:\n",
    "\tprint('Samples are likely drawn from the same distributions (fail to reject H0)')\n",
    "else:\n",
    "\tprint('Samples are likely drawn from different distributions (reject H0)')"
   ]
  }
 ],
 "metadata": {
  "colab": {
   "collapsed_sections": [],
   "name": "Replicating MSD.ipynb",
   "provenance": [],
   "toc_visible": true,
   "version": "0.3.2"
  },
  "kernelspec": {
   "display_name": "Python 3",
   "language": "python",
   "name": "python3"
  },
  "language_info": {
   "codemirror_mode": {
    "name": "ipython",
    "version": 3
   },
   "file_extension": ".py",
   "mimetype": "text/x-python",
   "name": "python",
   "nbconvert_exporter": "python",
   "pygments_lexer": "ipython3",
   "version": "3.6.8"
  }
 },
 "nbformat": 4,
 "nbformat_minor": 1
}
